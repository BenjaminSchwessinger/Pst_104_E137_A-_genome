{
 "cells": [
  {
   "cell_type": "markdown",
   "metadata": {},
   "source": [
    "This notebook is aimed at looking into the alleles a bit more in terms of variations of the different gene categories (BUSCOs, candidate effectors and such).\n",
    "\n",
    "The input is based on the following ideas:\n",
    "\n",
    "* alleles are based on proteinortho -synteny flag\n",
    "* non-allelic inter-haplome paralogs are genes that cluster on the protein level but are not allelic. These are called ->  non_allelic 'orthologs'  in this notebook as edits to the test were only done after the analysis. Orthologs was not a good term in this case.\n",
    "* singeltons are genes without a clustered protein in the other haplotype phase blocks\n",
    "* single haplotype genes are genes that have no gene to genome blast hit e_value = 1e-2 and are not in a homozygous region.\n",
    "\n",
    "\n",
    "This notebook was only designed for the purpose of analyzing the Pst-104E genome. No gurantees it works in any other situtation. It will have spelling errors due to the lack of autocorrection.\n",
    "\n",
    "For interal reference only:\n",
    "Final analysis is based on Pst_104E_v12_missing_allele_QC_v03.ipynb and Pst_104E_v12_defining_alleles_v03.ipynb in folder \n",
    "/home/benjamin/genome_assembly/PST79/FALCON/p_assemblies/v9_1/Pst_104E_v12/allele_analysis/no_alleles_proteinortho_graph516_QC_Qcov80_PctID70_evalue01 and alleles_proteinortho_graph516\n"
   ]
  },
  {
   "cell_type": "code",
   "execution_count": 1,
   "metadata": {
    "collapsed": true
   },
   "outputs": [],
   "source": [
    "%matplotlib inline"
   ]
  },
  {
   "cell_type": "code",
   "execution_count": 2,
   "metadata": {},
   "outputs": [
    {
     "name": "stderr",
     "output_type": "stream",
     "text": [
      "/home/benjamin/anaconda3/lib/python3.5/site-packages/Bio/SearchIO/__init__.py:211: BiopythonExperimentalWarning: Bio.SearchIO is an experimental submodule which may undergo significant changes prior to its future official release.\n",
      "  BiopythonExperimentalWarning)\n"
     ]
    }
   ],
   "source": [
    "import pandas as pd\n",
    "import os\n",
    "import re\n",
    "from Bio import SeqIO\n",
    "from Bio import SeqUtils\n",
    "import pysam\n",
    "from Bio.SeqRecord import SeqRecord\n",
    "from pybedtools import BedTool\n",
    "import numpy as np\n",
    "import pybedtools\n",
    "import time\n",
    "import matplotlib.pyplot as plt\n",
    "import sys\n",
    "import subprocess\n",
    "import shutil\n",
    "from Bio.Seq import Seq\n",
    "import pysam\n",
    "from Bio import SearchIO\n",
    "import json\n",
    "import glob\n",
    "import scipy.stats as stats\n",
    "import statsmodels as sms\n",
    "import statsmodels.sandbox.stats.multicomp\n",
    "import distance\n",
    "import seaborn as sns\n",
    "from pybedtools import BedTool"
   ]
  },
  {
   "cell_type": "code",
   "execution_count": 3,
   "metadata": {
    "collapsed": true
   },
   "outputs": [],
   "source": [
    "pwh_set = []\n",
    "def pwh_filter (q_contig, pwh_set=pwh_set):\n",
    "    '''Checks if contig belongs to the primary with haplotig set.'''\n",
    "    if q_contig in pwh_set:\n",
    "        return True\n",
    "    else:\n",
    "        return False"
   ]
  },
  {
   "cell_type": "code",
   "execution_count": 4,
   "metadata": {
    "collapsed": true
   },
   "outputs": [],
   "source": [
    "def on_primary_contig (q_contig):\n",
    "    '''Quick function that checks if query is on primary contig or not'''\n",
    "    if q_contig.startswith('hcontig'):\n",
    "        return False\n",
    "    elif q_contig.startswith('pcontig'):\n",
    "        return True\n",
    "    else:\n",
    "        print('Contig annotation needs to start with hcontig or pcontig')"
   ]
  },
  {
   "cell_type": "code",
   "execution_count": 5,
   "metadata": {
    "collapsed": true
   },
   "outputs": [],
   "source": [
    "###make a function out of the 5' and 3' prime distance\n",
    "def _5_to_3_df(ref_bed_fn, query_bed_fn, io=False ):\n",
    "    \"\"\"Takes two bed6 filenames and returns dataframe with 5' and 3' distances.\"\"\"\n",
    "    from pybedtools import BedTool\n",
    "    ref = BedTool(ref_bed_fn)\n",
    "    query = BedTool(query_bed_fn)\n",
    "\n",
    "    sub_3 = ref.closest(query ,io=io,  N=True, iu=True, D='a' ).to_dataframe()\n",
    "    sub_3.rename(columns={12:'3_distance', 3:'query', 9:'3_target', 0:'contig'}, \\\n",
    "                 inplace=True)\n",
    "    sub_5 = ref.closest(query,\\\n",
    "                                io=io,N=True, id=True, D='a' ).to_dataframe()\n",
    "    sub_5.rename(columns={12:'5_distance', 3:'query', 9:'5_target', 0:'contig'}, inplace=True)\n",
    "\n",
    "    #merging them\n",
    "    sub_merged = sub_3.merge(sub_5, on=['query', 'contig'])\n",
    "\n",
    "    #needs to be fixed to take boundaries into account\n",
    "    #remove genes on the edges\n",
    "    sub_merged = sub_merged [((sub_merged['5_target'] != '.') & (sub_merged['3_target'] != '.') )  ]\n",
    "    sub_merged['5_distance'] = sub_merged['5_distance'].apply(lambda x: np.absolute(x))\n",
    "    return sub_merged"
   ]
  },
  {
   "cell_type": "code",
   "execution_count": 6,
   "metadata": {
    "collapsed": true
   },
   "outputs": [],
   "source": [
    "#define a function that subsets a dataframe to the inner quantil residual columnwise\n",
    "def quant_cut_df(dataframe):\n",
    "    nn_df = dataframe.copy()\n",
    "    iqr_df_low = nn_df.apply(lambda x: x.quantile(0.25) - 1.5*(x.quantile(0.75) - x.quantile(0.25)) )\n",
    "    iqr_df_low.name ='low'\n",
    "    iqr_df_high = nn_df.apply(lambda x: x.quantile(0.75) + 1.5*(x.quantile(0.75) - x.quantile(0.25)) )\n",
    "    iqr_df_high.name = 'high'\n",
    "\n",
    "    iqr_df = pd.concat([iqr_df_low, iqr_df_high], axis=1).T\n",
    "\n",
    "    iqr_nn_df = nn_df.apply(lambda x: x[(x > iqr_df.loc['low', x.name]) & (x  < iqr_df.loc['high', x.name])], axis=0)\n",
    "    return iqr_nn_df \n"
   ]
  },
  {
   "cell_type": "code",
   "execution_count": 7,
   "metadata": {
    "collapsed": true
   },
   "outputs": [],
   "source": [
    "def len_per_gene(gene_list, gg_fasta):\n",
    "    '''Returns the len per gene in the list plus the len\n",
    "    for all genes in the genome from using gg_fasta genome gene fasta.'''\n",
    "    GC_list_genes = []\n",
    "    GC_list_genome = []\n",
    "    for x in SeqIO.parse(gg_fasta, 'fasta'):\n",
    "        GC_list_genome.append(len(x.seq))\n",
    "        if x.id.replace('TU', 'model') in gene_list:\n",
    "            GC_list_genes.append(len(x.seq))\n",
    "    return GC_list_genes, GC_list_genome\n",
    "\n",
    "def GC_per_gene(gene_list, gg_fasta):\n",
    "    '''Returns the GC content per gene in the list plus the GC content\n",
    "    for all genes in the genome from using gg_fasta genome gene fasta.'''\n",
    "    GC_list_genes = []\n",
    "    GC_list_genome = []\n",
    "    for x in SeqIO.parse(gg_fasta, 'fasta'):\n",
    "        GC_list_genome.append(SeqUtils.GC(x.seq))\n",
    "        if x.id.replace('TU', 'model') in gene_list:\n",
    "            GC_list_genes.append(SeqUtils.GC(x.seq))\n",
    "    return GC_list_genes, GC_list_genome\n",
    "\n",
    "def return_gene_fasta_paml(gene_list, gg_fasta):\n",
    "    '''Returns the fasta of gene in list as SeqIO object '''\n",
    "    genes_fasta = []\n",
    "    for x in SeqIO.parse(gg_fasta, 'fasta'):\n",
    "        if x.id.replace('TU', 'model') in gene_list:\n",
    "            x.id = x.id.replace('TU', 'model')\n",
    "            genes_fasta.append(x)\n",
    "    return genes_fasta\n",
    "\n",
    "def return_gene_fasta(gene_list, gg_fasta):\n",
    "    '''Returns the fasta of gene in list as SeqIO object '''\n",
    "    genes_fasta = []\n",
    "    for x in SeqIO.parse(gg_fasta, 'fasta'):\n",
    "        if x.id.replace('TU', 'model') in gene_list:\n",
    "            genes_fasta.append(x)\n",
    "    return genes_fasta\n",
    "\n",
    "def return_contig_fasta(contig_list, gg_fasta):\n",
    "    '''Returns the fasta of contig in list as SeqIO object '''\n",
    "    contig_fasta = []\n",
    "    for x in SeqIO.parse(gg_fasta, 'fasta'):\n",
    "        if x.id in contig_list:\n",
    "            contig_fasta.append(x)\n",
    "    return contig_fasta"
   ]
  },
  {
   "cell_type": "code",
   "execution_count": 8,
   "metadata": {
    "collapsed": true
   },
   "outputs": [],
   "source": [
    "#make this a function\n",
    "gene_list_per_contig_dict = {}\n",
    "def does_have_neighbour(input_gene_list, gene_list_per_contig_dict=gene_list_per_contig_dict):\n",
    "    '''Return a list of True/False indicating if the respective element of the entry list has \n",
    "    a neighbour present in the same list.\n",
    "    It also requires a dictionary of the ordered gene list per contig.'''\n",
    "    #get the index of all shg_genes in the ordered gene list\n",
    "    ordered_gl_index_dict = {}\n",
    "    #initiat the empty list for the dict\n",
    "    for key in gene_list_per_contig_dict.keys():\n",
    "        ordered_gl_index_dict[key] = []\n",
    "    #now populate those for the genes we have, adding indexes of each in in the list per contig\n",
    "    for y in input_gene_list:\n",
    "        contig = re.findall(r'[ph]contig[^.]*', y)[0]\n",
    "        #get the index of the gene specific for the contig\n",
    "        _index = gene_list_per_contig_dict[contig].index(y.replace('model', 'TU'))\n",
    "        #append it to the specfic contig list\n",
    "        ordered_gl_index_dict[contig].append(_index)\n",
    "    have_neighbours = []\n",
    "    #now loop over the list dictonary and see if each list contains an index+-1\n",
    "    for key in ordered_gl_index_dict.keys():\n",
    "        subset_gene_index_list = ordered_gl_index_dict[key]\n",
    "        for y in subset_gene_index_list:\n",
    "            if y+1 in subset_gene_index_list or y-1 in subset_gene_index_list:\n",
    "                have_neighbours.append(True)\n",
    "            else:\n",
    "                have_neighbours.append(False)\n",
    "    return have_neighbours"
   ]
  },
  {
   "cell_type": "code",
   "execution_count": 9,
   "metadata": {
    "collapsed": true
   },
   "outputs": [],
   "source": [
    "def elements_with_overlap(gene_list, all_gene_bed_fn, feature_bed_fn):\n",
    "    \"\"\"The takes a list of genes/proteins and checks which of those overlap with\n",
    "    a feature in the feature bed.\n",
    "    Returns the number of elements with overlap and\n",
    "    number of tested overlaps.\"\"\"\n",
    "    from pybedtools import BedTool\n",
    "    tmp_gene_df = pd.read_csv(all_gene_bed_fn, header=None, sep='\\t')\n",
    "    #now subset the tmp_gene_df and save to file\n",
    "    tmp_fn = all_gene_bed_fn.replace('bed','bed_tmp')\n",
    "    #fix gene list\n",
    "    new_gene_list = []\n",
    "    for x in gene_list:\n",
    "        if 'model' in x:\n",
    "            new_gene_list.append(x.replace('model', 'TU'))\n",
    "        elif 'TU' in x:\n",
    "            new_gene_list.append(x)\n",
    "        \n",
    "    tmp_gene_df[tmp_gene_df[3].isin(new_gene_list)]\\\n",
    "                .to_csv(tmp_fn, header =None, sep='\\t', index=None)\n",
    "    tmp_gene_bed = BedTool(tmp_fn)\n",
    "    feature_bed = BedTool(feature_bed_fn)\n",
    "    tmp_bed = tmp_gene_bed.intersect(feature_bed,c=True)\n",
    "    total_querries = len(tmp_bed)\n",
    "    querries_w_overlap = tmp_bed.to_dataframe().iloc[:, -1].sum()\n",
    "    #n = 0\n",
    "    return querries_w_overlap, total_querries"
   ]
  },
  {
   "cell_type": "code",
   "execution_count": 10,
   "metadata": {
    "collapsed": true
   },
   "outputs": [],
   "source": [
    "#Define the PATH\n",
    "BASE_AA_PATH = '/home/benjamin/genome_assembly/PST79/FALCON/p_assemblies/v9_1/Pst_104E_v12'\n",
    "BASE_A_PATH = '/home/benjamin/genome_assembly/PST79/FALCON/p_assemblies/v9_1/032017_assembly'\n",
    "BLAST_RESULT_PATH = os.path.join(BASE_AA_PATH,'allele_analysis' )\n",
    "ALLELE_PATH =os.path.join(BASE_AA_PATH ,'allele_analysis/alleles_proteinortho_graph516')\n",
    "ALLELE_QC_PATH = os.path.join(BASE_AA_PATH, 'allele_analysis', \\\n",
    "                              'no_alleles_proteinortho_graph516_QC_Qcov80_PctID70_evalue01')\n",
    "LIST_PATH = os.path.join(BASE_AA_PATH, 'enrichment_analysis', 'lists')\n",
    "POST_ALLELE_PATH = os.path.join(BASE_AA_PATH, 'post_allele_analysis')\n",
    "OUT_PATH = os.path.join(POST_ALLELE_PATH, 'proteinortho_graph516_QC_Qcov80_PctID70_evalue01')\n",
    "OUT_FOLDER_FIG = '/home/benjamin/genome_assembly/PST79/FALCON/p_assemblies/v9_1/Pst_104E_v12/enrichment_analysis/figures'\n",
    "if not os.path.exists(POST_ALLELE_PATH):\n",
    "    os.mkdir(POST_ALLELE_PATH)\n",
    "if not os.path.exists(OUT_PATH):\n",
    "    os.mkdir(OUT_PATH)\n",
    "ph_gene_fasta = os.path.join(BASE_A_PATH , 'Pst_104E_v12_ph_ctg.anno.gene.fa')\n",
    "ph_cds_fasta = os.path.join(BASE_A_PATH, 'Pst_104E_v12_ph_ctg.anno.CDS.fa')\n",
    "ph_protein_fasta = os.path.join(BASE_A_PATH, 'Pst_104E_v12_ph_ctg.anno.protein.fa')"
   ]
  },
  {
   "cell_type": "code",
   "execution_count": 11,
   "metadata": {
    "collapsed": true
   },
   "outputs": [],
   "source": [
    "#get all the alleles in as they are not filtered by QCov and PctID but simply taken straight from the \n",
    "# proteinortho\n",
    "allele_header = ['p_gene', 'h_gene']\n",
    "a_overlap_df = pd.read_csv(os.path.join(ALLELE_PATH, \\\n",
    "                    'Pst_104E_v12_p_ctg.h_contig_overlap.alleles'), sep='\\t', header = None,\\\n",
    "                           names=allele_header)\n",
    "a_overlap_df['Linkage'] = 'h_contig_overlap'\n",
    "a_no_roverlap_df = pd.read_csv(os.path.join(ALLELE_PATH, \\\n",
    "                    'Pst_104E_v12_p_ctg.no_respective_h_contig_overlap.alleles'), sep='\\t', header = None,\\\n",
    "                           names=allele_header)\n",
    "a_no_roverlap_df['Linkage'] = 'no_r_overlap'\n",
    "a_no_soverlap_df = pd.read_csv(os.path.join(ALLELE_PATH, \\\n",
    "                    'Pst_104E_v12_p_ctg.no_specific_h_contig_overlap.alleles'), sep='\\t', header = None,\\\n",
    "                           names=allele_header)\n",
    "a_no_soverlap_df['Linkage'] = 'no_s_overlap'\n",
    "allele_df = pd.concat([a_overlap_df, a_no_roverlap_df, a_no_soverlap_df], axis=0)"
   ]
  },
  {
   "cell_type": "code",
   "execution_count": 12,
   "metadata": {
    "collapsed": true
   },
   "outputs": [],
   "source": [
    "feature_fn_dict = {}\n",
    "feature_fn_dict['genes'] = os.path.join(LIST_PATH, 'Pst_104E_v12_p_all.gene.bed' )\n",
    "feature_fn_dict['effector'] = os.path.join(LIST_PATH, 'Pst_104E_v12_p_effector.gene.bed' )\n",
    "feature_fn_dict['busco'] = os.path.join(LIST_PATH, 'Pst_104E_v12_p_busco.gene.bed' )\n",
    "feature_fn_dict['haustoria'] = os.path.join(LIST_PATH, 'Pst_104E_v12_cluster_8.gene.bed' )\n",
    "feature_fn_dict['no_be'] = os.path.join(LIST_PATH, 'Pst_104E_v12_p_non_busco_non_effector.gene.bed')\n",
    "feature_fn_dict['no_effector'] =os.path.join(LIST_PATH, 'Pst_104E_v12_p_noeffector.gene.bed')\n",
    "feature_fn_dict['no_busco'] = os.path.join(LIST_PATH, 'Pst_104E_v12_p_non_busco.gene.bed')\n",
    "feature_fn_dict['TE_g400'] = os.path.join(LIST_PATH,\\\n",
    "                                'Pst_104E_v12_p_ctg.REPET.sorted.g400_superfamily.bed' )\n",
    "feature_fn_dict['TE_g1000'] = os.path.join(LIST_PATH,\\\n",
    "                                'Pst_104E_v12_p_ctg.REPET.sorted.g1000_superfamily.bed' )\n",
    "feature_bed_dict = {}\n",
    "for key, value in feature_fn_dict.items():\n",
    "    feature_bed_dict[key] = BedTool(value)"
   ]
  },
  {
   "cell_type": "code",
   "execution_count": 19,
   "metadata": {
    "collapsed": true
   },
   "outputs": [],
   "source": [
    "#copy over allele files to OUTPATH\n",
    "os.chdir(ALLELE_PATH)\n",
    "!cp Pst_104E_v12_p_ctg.h_contig_overlap.alleles {OUT_PATH}/.\n",
    "!cp Pst_104E_v12_p_ctg.no_respective_h_contig_overlap.alleles {OUT_PATH}/.\n",
    "!cp Pst_104E_v12_p_ctg.no_specific_h_contig_overlap.alleles {OUT_PATH}/. \n",
    "!cat Pst_104E_v12_p_ctg.h_contig_overlap.alleles Pst_104E_v12_p_ctg.no_respective_h_contig_overlap.alleles Pst_104E_v12_p_ctg.no_specific_h_contig_overlap.alleles > {OUT_PATH}/Pst_104E_v12_p_ctg.all.alleles"
   ]
  },
  {
   "cell_type": "code",
   "execution_count": 20,
   "metadata": {},
   "outputs": [
    {
     "name": "stderr",
     "output_type": "stream",
     "text": [
      "/home/benjamin/anaconda3/lib/python3.5/site-packages/IPython/core/interactiveshell.py:2698: DtypeWarning: Columns (2,3,4,5,6,7,8,9,10,11,13) have mixed types. Specify dtype option on import or set low_memory=False.\n",
      "  interactivity=interactivity, compiler=compiler, result=result)\n"
     ]
    }
   ],
   "source": [
    "#get the blast dataframe and the QC dataframe\n",
    "allele_blast_df = pd.read_csv(os.path.join(BLAST_RESULT_PATH, 'Pst_104E_v12_p_ctg.Pst_104E_v12_h_ctg.0.001.blastp.outfmt6.allele_analysis'), sep='\\t')\n",
    "allele_QC_df = pd.read_csv(os.path.join(ALLELE_QC_PATH, 'Pst_104E_v12_ph_ctg.no_alleles_QC.Qcov80.PctID70.df'), sep='\\t')"
   ]
  },
  {
   "cell_type": "code",
   "execution_count": 21,
   "metadata": {},
   "outputs": [
    {
     "name": "stderr",
     "output_type": "stream",
     "text": [
      "/home/benjamin/anaconda3/lib/python3.5/site-packages/IPython/core/interactiveshell.py:2698: DtypeWarning: Columns (2,3,4,5,6,7,8,9,10,11,13) have mixed types. Specify dtype option on import or set low_memory=False.\n",
      "  interactivity=interactivity, compiler=compiler, result=result)\n"
     ]
    }
   ],
   "source": [
    "#now filter out all the genes that already have alleles based on the protein ortho results\n",
    "#this does not care about the 'abirary' cut offs for coverage and PctID\n",
    "allele_QC_df = pd.read_csv(os.path.join(ALLELE_QC_PATH, 'Pst_104E_v12_ph_ctg.no_alleles_QC.Qcov80.PctID70.df'), sep='\\t')\n",
    "allele_QC_df = allele_QC_df[~((allele_QC_df.Query.isin(allele_df.p_gene))|(allele_QC_df.Query.isin(allele_df.h_gene)))].copy()\n"
   ]
  },
  {
   "cell_type": "code",
   "execution_count": 22,
   "metadata": {},
   "outputs": [
    {
     "data": {
      "text/plain": [
       "True"
      ]
     },
     "execution_count": 22,
     "metadata": {},
     "output_type": "execute_result"
    }
   ],
   "source": [
    "#quick check if all the numbers of genes add up\n",
    "len(allele_df.p_gene.unique())+ len(allele_df.h_gene.unique())+len(allele_QC_df.Query.unique()) == 30249"
   ]
  },
  {
   "cell_type": "code",
   "execution_count": 23,
   "metadata": {
    "collapsed": true
   },
   "outputs": [],
   "source": [
    "#now write out all no_allele_orthologs\n",
    "no_allele_orthologs_fn = os.path.join(OUT_PATH, 'Pst_104E_v12_ph_ctg.no_alleles_orthologs')\n",
    "no_allele_orthologs = allele_QC_df[allele_QC_df.singeltons == False][\"Query\"].unique()\n",
    "tmp_fh = open(no_allele_orthologs_fn, 'w')\n",
    "for _id in allele_QC_df[allele_QC_df.singeltons == False][\"Query\"].unique():\n",
    "    print(_id, file=tmp_fh)\n",
    "tmp_fh.close()"
   ]
  },
  {
   "cell_type": "code",
   "execution_count": 24,
   "metadata": {
    "collapsed": true
   },
   "outputs": [],
   "source": [
    "#write out singeltons\n",
    "singeltons_fh = os.path.join(OUT_PATH, 'Pst_104E_v12_ph_ctg.singletons')\n",
    "singeltons = allele_QC_df[(allele_QC_df.singeltons == True) & (allele_QC_df.ph_p_homo_region != True)][\"Query\"].unique()\n",
    "tmp_fh = open(singeltons_fh , 'w')\n",
    "for _id in singeltons:\n",
    "    print(_id, file=tmp_fh)\n",
    "tmp_fh.close()"
   ]
  },
  {
   "cell_type": "code",
   "execution_count": 25,
   "metadata": {
    "collapsed": true
   },
   "outputs": [],
   "source": [
    "#write out loose singeltons. This includes all the genes that are singletons also those that \n",
    "#are unphased\n",
    "loose_singeltons_fh = os.path.join(OUT_PATH, 'Pst_104E_v12_ph_ctg.loose_singletons')\n",
    "loose_singeltons = allele_QC_df[(allele_QC_df.singeltons == True) ][\"Query\"].unique()\n",
    "tmp_fh = open(loose_singeltons_fh , 'w')\n",
    "for _id in loose_singeltons:\n",
    "    print(_id, file=tmp_fh)\n",
    "tmp_fh.close()"
   ]
  },
  {
   "cell_type": "code",
   "execution_count": 26,
   "metadata": {},
   "outputs": [],
   "source": [
    "#write out single nuclear genes defined as having no genome blast, being not in homozygous regions,\n",
    "#and being singeltons\n",
    "shg_df = allele_QC_df[(allele_QC_df.singeltons == True) & (allele_QC_df.gene_on_genome_blast_hit != True)\\\n",
    "            &(allele_QC_df.ph_p_homo_region != True)].copy()\n",
    "shg_fh = os.path.join(OUT_PATH, 'Pst_104E_v12_ph_ctg.single_haplotype_genes')\n",
    "shg = shg_df.Query.unique()\n",
    "tmp_fh = open(shg_fh, 'w')\n",
    "for _id in shg:\n",
    "    print(_id, file=tmp_fh)\n",
    "tmp_fh.close()"
   ]
  },
  {
   "cell_type": "code",
   "execution_count": 27,
   "metadata": {
    "collapsed": true
   },
   "outputs": [],
   "source": [
    "#now read in some types of genes\n",
    "gene_group_list = ['BUSCOS', 'EFFECTORS', 'HAUSTORIA', 'EFFECTORP']\n",
    "p_gene_dict = {}\n",
    "h_gene_dict = {}\n",
    "p_gene_dict['BUSCOS'] = pd.read_csv(os.path.join(LIST_PATH, 'Pst_104E_v12_p_busco.list')\\\n",
    "                                    , header=None)[0].tolist()\n",
    "p_gene_dict['EFFECTORS'] = pd.read_csv(os.path.join(LIST_PATH, 'Pst_104E_v12_p_effector.list')\\\n",
    "                                    , header=None)[0].tolist()\n",
    "p_gene_dict['HAUSTORIA'] = pd.read_csv(os.path.join(LIST_PATH, 'Pst_104E_v12_cluster_8.list')\\\n",
    "                                    , header=None)[0].tolist()\n",
    "p_gene_dict['EFFECTORP'] = pd.read_csv(os.path.join(LIST_PATH, 'Pst_104E_v12_p_effectorp.list')\\\n",
    "                                    , header=None)[0].tolist()\n",
    "p_gene_dict['SIGNALP3'] = pd.read_csv(os.path.join(LIST_PATH, '..', 'pa_26062017',\\\n",
    "                            'Pst_104E_v12_p_ctg.SignalP3.tablist'), header=None, sep='\\t')[0].tolist()\n",
    "\n",
    "h_gene_dict['BUSCOS'] = pd.read_csv(os.path.join(LIST_PATH, 'Pst_104E_v12_h_busco.list')\\\n",
    "                                    , header=None)[0].tolist()\n",
    "h_gene_dict['EFFECTORS'] = pd.read_csv(os.path.join(LIST_PATH, 'Pst_104E_v12_h_effector.list')\\\n",
    "                                    , header=None)[0].tolist()\n",
    "h_gene_dict['HAUSTORIA'] = pd.read_csv(os.path.join(LIST_PATH, 'Pst_104E_v12_h_cluster_15.list')\\\n",
    "                                    , header=None)[0].tolist()\n",
    "h_gene_dict['EFFECTORP'] = pd.read_csv(os.path.join(LIST_PATH, 'Pst_104E_v12_h_effectorp.list')\\\n",
    "                                    , header=None)[0].tolist()\n",
    "h_gene_dict['SIGNALP3'] = pd.read_csv(os.path.join(LIST_PATH, '..', 'pa_26062017',\\\n",
    "                            'Pst_104E_v12_h_ctg.SignalP3.tablist'), header=None, sep='\\t')[0].tolist()\n",
    "\n",
    "#now get pwh and pwoh\n",
    "pwh_list = pd.read_csv(os.path.join(BASE_A_PATH, 'Pst_104E_v12_pwh.txt')\\\n",
    "                                , header=None)[0].tolist()\n",
    "pwoh_list = pd.read_csv(os.path.join(BASE_A_PATH, 'Pst_104E_v12_pwoh.txt')\\\n",
    "                                , header=None)[0].tolist()"
   ]
  },
  {
   "cell_type": "code",
   "execution_count": 28,
   "metadata": {},
   "outputs": [],
   "source": [
    "#now read in some types of genes\n",
    "gene_group_list = ['BUSCOS', 'EFFECTORS', 'HAUSTORIA', 'EFFECTORP']\n",
    "p_bed_dict = {}\n",
    "h_bed_dict = {}\n",
    "p_bed_dict['BUSCOS'] = pd.read_csv(os.path.join(LIST_PATH, 'Pst_104E_v12_p_busco.list')\\\n",
    "                                    , header=None)[0].tolist()\n",
    "p_bed_dict['EFFECTORS'] = pd.read_csv(os.path.join(LIST_PATH, 'Pst_104E_v12_p_effector.list')\\\n",
    "                                    , header=None)[0].tolist()\n",
    "p_bed_dict['HAUSTORIA'] = pd.read_csv(os.path.join(LIST_PATH, 'Pst_104E_v12_cluster_8.list')\\\n",
    "                                    , header=None)[0].tolist()\n",
    "p_bed_dict['EFFECTORP'] = pd.read_csv(os.path.join(LIST_PATH, 'Pst_104E_v12_p_effectorp.list')\\\n",
    "                                    , header=None)[0].tolist()\n",
    "p_gene_dict['SIGNALP3'] = pd.read_csv(os.path.join(LIST_PATH, '..', 'pa_26062017',\\\n",
    "                            'Pst_104E_v12_p_ctg.SignalP3.tablist'), header=None, sep='\\t')[0].tolist()\n",
    "\n",
    "h_gene_dict['BUSCOS'] = pd.read_csv(os.path.join(LIST_PATH, 'Pst_104E_v12_h_busco.list')\\\n",
    "                                    , header=None)[0].tolist()\n",
    "h_gene_dict['EFFECTORS'] = pd.read_csv(os.path.join(LIST_PATH, 'Pst_104E_v12_h_effector.list')\\\n",
    "                                    , header=None)[0].tolist()\n",
    "h_gene_dict['HAUSTORIA'] = pd.read_csv(os.path.join(LIST_PATH, 'Pst_104E_v12_h_cluster_15.list')\\\n",
    "                                    , header=None)[0].tolist()\n",
    "h_gene_dict['EFFECTORP'] = pd.read_csv(os.path.join(LIST_PATH, 'Pst_104E_v12_h_effectorp.list')\\\n",
    "                                    , header=None)[0].tolist()\n",
    "h_gene_dict['SIGNALP3'] = pd.read_csv(os.path.join(LIST_PATH, '..', 'pa_26062017',\\\n",
    "                            'Pst_104E_v12_h_ctg.SignalP3.tablist'), header=None, sep='\\t')[0].tolist()\n"
   ]
  },
  {
   "cell_type": "code",
   "execution_count": 29,
   "metadata": {},
   "outputs": [
    {
     "name": "stdout",
     "output_type": "stream",
     "text": [
      "Effectors on pwh contigs\n",
      "1523\n"
     ]
    }
   ],
   "source": [
    "#cause we are a bit lazy an like notebooks here we go looking for stuff\n",
    "os.chdir(BASE_A_PATH)\n",
    "print(\"Effectors on pwh contigs\")\n",
    "!cat Pst_104E_v12_pwh.txt | xargs -I X grep -w 'X' {LIST_PATH}/Pst_104E_v12_p_effector.gene.gff3 | wc -l "
   ]
  },
  {
   "cell_type": "code",
   "execution_count": 30,
   "metadata": {},
   "outputs": [
    {
     "name": "stdout",
     "output_type": "stream",
     "text": [
      "Effectors on pwoh contigs\n",
      "49\n"
     ]
    }
   ],
   "source": [
    "print(\"Effectors on pwoh contigs\")\n",
    "!cat Pst_104E_v12_pwoh.txt | xargs -I X grep -w 'X' {LIST_PATH}/Pst_104E_v12_p_effector.gene.gff3 | wc -l "
   ]
  },
  {
   "cell_type": "code",
   "execution_count": 31,
   "metadata": {},
   "outputs": [
    {
     "name": "stdout",
     "output_type": "stream",
     "text": [
      "BUSCOS on pwoh contigs\n",
      "49\n"
     ]
    }
   ],
   "source": [
    "print(\"BUSCOS on pwoh contigs\")\n",
    "!cat Pst_104E_v12_pwoh.txt | xargs -I X grep -w 'X' {LIST_PATH}/Pst_104E_v12_p_busco.gene.gff3 | wc -l "
   ]
  },
  {
   "cell_type": "code",
   "execution_count": 32,
   "metadata": {},
   "outputs": [
    {
     "name": "stdout",
     "output_type": "stream",
     "text": [
      "BUSCOS on pwh contigs\n",
      "1395\n"
     ]
    }
   ],
   "source": [
    "print(\"BUSCOS on pwh contigs\")\n",
    "!cat Pst_104E_v12_pwh.txt | xargs -I X grep -w 'X' {LIST_PATH}/Pst_104E_v12_p_busco.gene.gff3 | wc -l "
   ]
  },
  {
   "cell_type": "code",
   "execution_count": 33,
   "metadata": {},
   "outputs": [
    {
     "name": "stdout",
     "output_type": "stream",
     "text": [
      "BUSCOS on hcontigs\n",
      "1293 /home/benjamin/genome_assembly/PST79/FALCON/p_assemblies/v9_1/Pst_104E_v12/enrichment_analysis/lists/Pst_104E_v12_h_busco.gene.gff3\n"
     ]
    }
   ],
   "source": [
    "print(\"BUSCOS on hcontigs\")\n",
    "!wc -l {LIST_PATH}/Pst_104E_v12_h_busco.gene.gff3"
   ]
  },
  {
   "cell_type": "code",
   "execution_count": 34,
   "metadata": {
    "collapsed": true
   },
   "outputs": [],
   "source": [
    "#this name is a bit unfortunate and historic. It is simple function that takes a list of\n",
    "#gene ids and check which of those are BUSCOs, effectors and on primary contigs with\n",
    "#or without haplotigs\n",
    "def orphan_analysis(_orphan_list):\n",
    "    \"\"\"\n",
    "    This is a function that prints out the numbers of total genes and how many of those are\n",
    "    buscos or effectors. The same for haplotigs, primary contigs with haplotigs, and \n",
    "    primary contigs without haplotigs.\n",
    "    \"\"\"\n",
    "    orphan_effectors = 0\n",
    "    orphan_effectors_h = 0\n",
    "    orphan_effectors_pwh = 0\n",
    "    orphan_effectors_pwoh =0\n",
    "    orphan_busco = 0\n",
    "    orphan_busco_h = 0\n",
    "    orphan_busco_pwh = 0\n",
    "    orphan_busco_pwoh = 0\n",
    "    for x in _orphan_list:\n",
    "        if x in p_gene_dict['BUSCOS']:\n",
    "            contig = re.search(r'[hp][^.]*',x).group()\n",
    "            if pwh_filter(contig, pwh_list) == True:\n",
    "                orphan_busco_pwh += 1\n",
    "            else:\n",
    "                orphan_busco_pwoh += 1\n",
    "        if x in h_gene_dict['BUSCOS']:\n",
    "            orphan_busco_h += 1\n",
    "        #now same for effectors    \n",
    "        if x in p_gene_dict['EFFECTORS']:\n",
    "            contig = re.search(r'[hp][^.]*',x).group()\n",
    "            if pwh_filter(contig, pwh_list) == True:\n",
    "                orphan_effectors_pwh += 1\n",
    "            else:\n",
    "                orphan_effectors_pwoh += 1\n",
    "            \n",
    "        if x in h_gene_dict['EFFECTORS']:\n",
    "            orphan_effectors_h += 1      \n",
    "    orphan_effectors = orphan_effectors_h + orphan_effectors_pwh + orphan_effectors_pwoh\n",
    "    orphan_busco = orphan_busco_h +  orphan_busco_pwh +  orphan_busco_pwoh\n",
    "    print('Out of %i genes we have %i buscos and %i effectors.'\\\n",
    "          %(len(_orphan_list), orphan_busco, orphan_effectors))\n",
    "    print('On haplotigs. Out of %i genes we have %i buscos and %i effectors.'\\\n",
    "         %(len([x for x in _orphan_list if 'hcontig' in x]), orphan_busco_h, orphan_effectors_h))\n",
    "    print('On pwh. Out of %i genes we have %i buscos and %i effectors.'\\\n",
    "         %([pwh_filter(re.search(r'[hp][^.]*',x).group(), pwh_list) for x in _orphan_list].count(True), orphan_busco_pwh, orphan_effectors_pwh))\n",
    "    print('On pwoh. Out of %i genes we have %i buscos and %i effectors.'\\\n",
    "         %([pwh_filter(re.search(r'[hp][^.]*',x).group(), pwh_list) for x in _orphan_list if 'pcontig' in x].count(False), orphan_busco_pwoh, orphan_effectors_pwoh))"
   ]
  },
  {
   "cell_type": "code",
   "execution_count": 25,
   "metadata": {},
   "outputs": [
    {
     "name": "stdout",
     "output_type": "stream",
     "text": [
      "Number of genes without clear allele:\n"
     ]
    },
    {
     "data": {
      "text/plain": [
       "7029"
      ]
     },
     "execution_count": 25,
     "metadata": {},
     "output_type": "execute_result"
    }
   ],
   "source": [
    "print(\"Number of genes without clear allele:\")\n",
    "len(singeltons)"
   ]
  },
  {
   "cell_type": "code",
   "execution_count": 26,
   "metadata": {},
   "outputs": [
    {
     "name": "stdout",
     "output_type": "stream",
     "text": [
      "For single haplotype genes:\n",
      "Out of 1506 genes we have 125 buscos and 120 effectors.\n",
      "On haplotigs. Out of 160 genes we have 6 buscos and 5 effectors.\n",
      "On pwh. Out of 1149 genes we have 93 buscos and 98 effectors.\n",
      "On pwoh. Out of 197 genes we have 26 buscos and 17 effectors.\n"
     ]
    }
   ],
   "source": [
    "print(\"For single haplotype genes:\")\n",
    "orphan_analysis(shg)"
   ]
  },
  {
   "cell_type": "code",
   "execution_count": 27,
   "metadata": {},
   "outputs": [
    {
     "name": "stdout",
     "output_type": "stream",
     "text": [
      "For singletons:\n",
      "Out of 7029 genes we have 234 buscos and 453 effectors.\n",
      "On haplotigs. Out of 2931 genes we have 57 buscos and 153 effectors.\n",
      "On pwh. Out of 3700 genes we have 147 buscos and 270 effectors.\n",
      "On pwoh. Out of 398 genes we have 30 buscos and 30 effectors.\n"
     ]
    }
   ],
   "source": [
    "print(\"For singletons:\")\n",
    "orphan_analysis(singeltons)"
   ]
  },
  {
   "cell_type": "code",
   "execution_count": 28,
   "metadata": {},
   "outputs": [
    {
     "name": "stdout",
     "output_type": "stream",
     "text": [
      "For loose singletons:\n",
      "Out of 7692 genes we have 297 buscos and 502 effectors.\n",
      "On haplotigs. Out of 2931 genes we have 57 buscos and 153 effectors.\n",
      "On pwh. Out of 4289 genes we have 205 buscos and 318 effectors.\n",
      "On pwoh. Out of 472 genes we have 35 buscos and 31 effectors.\n"
     ]
    }
   ],
   "source": [
    "print(\"For loose singletons:\")\n",
    "orphan_analysis(loose_singeltons)"
   ]
  },
  {
   "cell_type": "code",
   "execution_count": null,
   "metadata": {
    "collapsed": true
   },
   "outputs": [],
   "source": [
    "#set the coverage limits\n",
    "QCov_limit = 80\n",
    "PctID_limit = 70\n",
    "#now get all the ids for which we have hits above the cut off and are singletons\n",
    "tmp_df = allele_QC_df[allele_QC_df.Target != 'False'] #filter out no hits\n",
    "tmp_df[['QCov', 'PctID']] = tmp_df[['QCov', 'PctID']].apply(pd.to_numeric) #make numeric\n",
    "#get ids of stuff above the cut off\n",
    "tmp_df_ids = tmp_df[(tmp_df.QCov >= QCov_limit) & (tmp_df.PctID >= PctID_limit)]['Query'].unique()\n",
    "#filter those out and everything that is not a singleton\n",
    "tmp_df = allele_QC_df[~((allele_QC_df.Query.isin(tmp_df_ids)) | (allele_QC_df.singeltons == False))].copy()"
   ]
  },
  {
   "cell_type": "markdown",
   "metadata": {},
   "source": [
    "Look at some features of the single haplotype genes (shg) such as:\n",
    "* gene/protein length\n",
    "* gc content\n",
    "* numbers of exons\n",
    "* distance to TEs?"
   ]
  },
  {
   "cell_type": "code",
   "execution_count": 29,
   "metadata": {},
   "outputs": [
    {
     "data": {
      "text/plain": [
       "349.0830013280212"
      ]
     },
     "execution_count": 29,
     "metadata": {},
     "output_type": "execute_result"
    }
   ],
   "source": [
    "#now look at single haplotype genes\n",
    "#This looks for the protein length\n",
    "shg_df.drop_duplicates('Query')['QLgth'].mean()"
   ]
  },
  {
   "cell_type": "code",
   "execution_count": 30,
   "metadata": {},
   "outputs": [
    {
     "data": {
      "text/plain": [
       "394.5913485685585"
      ]
     },
     "execution_count": 30,
     "metadata": {},
     "output_type": "execute_result"
    }
   ],
   "source": [
    "allele_blast_df.drop_duplicates('Query')['QLgth'].mean()"
   ]
  },
  {
   "cell_type": "code",
   "execution_count": 31,
   "metadata": {},
   "outputs": [
    {
     "data": {
      "text/plain": [
       "RanksumsResult(statistic=-4.8498250071590965, pvalue=1.2357044232530989e-06)"
      ]
     },
     "execution_count": 31,
     "metadata": {},
     "output_type": "execute_result"
    }
   ],
   "source": [
    "stats.ranksums(shg_df.drop_duplicates('Query')['QLgth'],allele_blast_df.drop_duplicates('Query')['QLgth'] )"
   ]
  },
  {
   "cell_type": "code",
   "execution_count": 33,
   "metadata": {
    "collapsed": true
   },
   "outputs": [],
   "source": [
    "shg_GC, genome_GC = GC_per_gene(shg, ph_gene_fasta)"
   ]
  },
  {
   "cell_type": "code",
   "execution_count": 34,
   "metadata": {},
   "outputs": [
    {
     "name": "stdout",
     "output_type": "stream",
     "text": [
      "45.936932047 45.7863006323\n"
     ]
    }
   ],
   "source": [
    "#gc content per gene\n",
    "print(np.mean(shg_GC), np.mean(genome_GC))"
   ]
  },
  {
   "cell_type": "code",
   "execution_count": 35,
   "metadata": {},
   "outputs": [
    {
     "data": {
      "text/plain": [
       "RanksumsResult(statistic=1.7879649018298396, pvalue=0.073781670619541995)"
      ]
     },
     "execution_count": 35,
     "metadata": {},
     "output_type": "execute_result"
    }
   ],
   "source": [
    "#testing difference\n",
    "stats.ranksums(shg_GC, genome_GC)"
   ]
  },
  {
   "cell_type": "code",
   "execution_count": 36,
   "metadata": {
    "collapsed": true
   },
   "outputs": [],
   "source": [
    "#gene length\n",
    "shg_len, genome_len = len_per_gene(shg, ph_gene_fasta)"
   ]
  },
  {
   "cell_type": "code",
   "execution_count": 37,
   "metadata": {},
   "outputs": [
    {
     "name": "stdout",
     "output_type": "stream",
     "text": [
      "1334.79282869 1538.62967371\n"
     ]
    },
    {
     "data": {
      "text/plain": [
       "RanksumsResult(statistic=-4.8395122876180281, pvalue=1.3015814430474663e-06)"
      ]
     },
     "execution_count": 37,
     "metadata": {},
     "output_type": "execute_result"
    }
   ],
   "source": [
    "#testing difference\n",
    "print(np.mean(shg_len), np.mean(genome_len))\n",
    "stats.ranksums(shg_len, genome_len)"
   ]
  },
  {
   "cell_type": "code",
   "execution_count": null,
   "metadata": {
    "collapsed": true
   },
   "outputs": [],
   "source": [
    "#get gene fastas and save those\n",
    "shg_fasta = return_gene_fasta(shg, ph_gene_fasta)\n",
    "shg_fn = os.path.join(OUT_PATH, \"Pst_104E_v12_ph_ctg.single_haplotype_genes.fasta\")\n",
    "with open(shg_fn, 'w') as fh:\n",
    "    SeqIO.write(shg_fasta, fh, 'fasta')"
   ]
  },
  {
   "cell_type": "code",
   "execution_count": null,
   "metadata": {
    "collapsed": true
   },
   "outputs": [],
   "source": [
    "#get gene fastas and save those\n",
    "shg_fasta = return_gene_fasta(shg, ph_cds_fasta)\n",
    "shg_fn = os.path.join(OUT_PATH, \"Pst_104E_v12_ph_ctg.single_haplotype_genes.cds.fasta\")\n",
    "with open(shg_fn, 'w') as fh:\n",
    "    SeqIO.write(shg_fasta, fh, 'fasta')"
   ]
  },
  {
   "cell_type": "code",
   "execution_count": 41,
   "metadata": {
    "collapsed": true
   },
   "outputs": [],
   "source": [
    "#read in gene beds\n",
    "p_gene_bed = pd.read_csv(os.path.join(LIST_PATH, 'Pst_104E_v12_p_all.gene.bed'), header=None, sep='\\t')\n",
    "h_gene_bed = pd.read_csv(os.path.join(LIST_PATH, 'Pst_104E_v12_h_all.gene.bed'), header=None, sep='\\t')\n"
   ]
  },
  {
   "cell_type": "markdown",
   "metadata": {},
   "source": [
    "The next section is about if single haplotype genes cluster together in the sense to check if one of their heighbours is also a single haplotype gene"
   ]
  },
  {
   "cell_type": "code",
   "execution_count": 42,
   "metadata": {
    "collapsed": true
   },
   "outputs": [],
   "source": [
    "#look into if shg are more likely to be neighbours and a random subsample\n",
    "p_genes_ordered = p_gene_bed.sort_values([0, 1])[3].tolist()\n",
    "h_genes_ordered = h_gene_bed.sort_values([0, 1])[3].tolist()\n",
    "#make a dict that contains ordered gene lists per contig\n",
    "gene_list_per_contig_dict = {}\n",
    "for gene in p_genes_ordered:\n",
    "    contig = re.findall(r'[ph]contig[^.]*', gene)[0]\n",
    "    if not contig in gene_list_per_contig_dict.keys():\n",
    "        gene_list_per_contig_dict[contig] = [x for x in p_genes_ordered if contig in x]\n",
    "for gene in h_genes_ordered:\n",
    "    contig = re.findall(r'[ph]contig[^.]*', gene)[0]\n",
    "    if not contig in gene_list_per_contig_dict.keys():\n",
    "        gene_list_per_contig_dict[contig] = [x for x in h_genes_ordered if contig in x]"
   ]
  },
  {
   "cell_type": "code",
   "execution_count": 43,
   "metadata": {},
   "outputs": [
    {
     "data": {
      "text/plain": [
       "True"
      ]
     },
     "execution_count": 43,
     "metadata": {},
     "output_type": "execute_result"
    }
   ],
   "source": [
    "#quick check if we got all genes\n",
    "count = 0\n",
    "for x in gene_list_per_contig_dict.values():\n",
    "    count += len(x)\n",
    "count == (len(p_genes_ordered) + len(h_genes_ordered))"
   ]
  },
  {
   "cell_type": "code",
   "execution_count": 44,
   "metadata": {
    "collapsed": true
   },
   "outputs": [],
   "source": [
    "#get the index of all shg_genes in the ordered gene list\n",
    "ordered_gl_index_dict = {}\n",
    "#initiat the empty list for the dict\n",
    "for key in gene_list_per_contig_dict.keys():\n",
    "    ordered_gl_index_dict[key] = []\n",
    "#now populate those for the genes we have\n",
    "for y in shg:\n",
    "    contig = re.findall(r'[ph]contig[^.]*', y)[0]\n",
    "    #get the index of the gene specific for the contig\n",
    "    _index = gene_list_per_contig_dict[contig].index(y.replace('model', 'TU'))\n",
    "    #append it to the specfic contig list\n",
    "    ordered_gl_index_dict[contig].append(_index)\n",
    "        "
   ]
  },
  {
   "cell_type": "code",
   "execution_count": 49,
   "metadata": {
    "collapsed": true
   },
   "outputs": [],
   "source": [
    "have_neighbours = []\n",
    "for key in ordered_gl_index_dict.keys():\n",
    "    subset_gene_index_list = ordered_gl_index_dict[key]\n",
    "    for y in subset_gene_index_list:\n",
    "        if y+1 in subset_gene_index_list or y-1 in subset_gene_index_list:\n",
    "            have_neighbours.append(True)\n",
    "        else:\n",
    "            have_neighbours.append(False)\n",
    "    "
   ]
  },
  {
   "cell_type": "code",
   "execution_count": 52,
   "metadata": {},
   "outputs": [
    {
     "data": {
      "text/plain": [
       "1164"
      ]
     },
     "execution_count": 52,
     "metadata": {},
     "output_type": "execute_result"
    }
   ],
   "source": [
    "#number of shg genes with neighbours\n",
    "does_have_neighbour(shg,gene_list_per_contig_dict).count(True)"
   ]
  },
  {
   "cell_type": "code",
   "execution_count": 55,
   "metadata": {},
   "outputs": [
    {
     "name": "stdout",
     "output_type": "stream",
     "text": [
      "238\n"
     ]
    },
    {
     "data": {
      "text/plain": [
       "(0.05514813489869589, 1.7495940781256474e-269)"
      ]
     },
     "execution_count": 55,
     "metadata": {},
     "output_type": "execute_result"
    }
   ],
   "source": [
    "#random subsampling of genes based on the obsereved numbers of \n",
    "#total genes and shg genes per contig\n",
    "random_gene_list = [p_genes_ordered[x] for x in np.random.choice(15928, 1346,replace=False)]\n",
    "for _index in np.random.choice(14321,160,replace=False):\n",
    "    random_gene_list.append(h_genes_ordered[_index])\n",
    "rand_neighbours = does_have_neighbour(random_gene_list,gene_list_per_contig_dict).count(True)\n",
    "print(rand_neighbours)\n",
    "#the final p-value and rand_neighbour neighbour shown in the paper might be different from here\n",
    "#depending on the random subsample set\n",
    "stats.fisher_exact([[rand_neighbours, 1506-rand_neighbours],[1164,1506-1164]])"
   ]
  },
  {
   "cell_type": "code",
   "execution_count": 59,
   "metadata": {
    "collapsed": true
   },
   "outputs": [],
   "source": [
    "##look how much overlap we got\n",
    "mapped_on_each_other_p_fn = os.path.join(ALLELE_PATH, '..','Pst_104E_v12_p_ctg.p_by_h_cov.gff')\n",
    "mapped_on_each_other_h_fn = os.path.join(ALLELE_PATH, '..','Pst_104E_v12_ph_ctg.p_on_h_cov.gff')\n",
    "p_gene_bed_fn = os.path.join(LIST_PATH, 'Pst_104E_v12_p_all.gene.bed')\n",
    "h_gene_bed_fn = os.path.join(LIST_PATH, 'Pst_104E_v12_h_all.gene.bed')"
   ]
  },
  {
   "cell_type": "code",
   "execution_count": 60,
   "metadata": {
    "collapsed": true
   },
   "outputs": [],
   "source": [
    "p_w_overlap, ps = elements_with_overlap(shg, p_gene_bed_fn, mapped_on_each_other_p_fn)\n",
    "h_w_overlap, hs = elements_with_overlap(shg, h_gene_bed_fn, mapped_on_each_other_h_fn)"
   ]
  },
  {
   "cell_type": "code",
   "execution_count": 61,
   "metadata": {},
   "outputs": [
    {
     "name": "stdout",
     "output_type": "stream",
     "text": [
      "Out of 1506 shg 14 are have a corresponding associated contig overlap\n"
     ]
    }
   ],
   "source": [
    "print('Out of %i shg %i are have a corresponding associated contig overlap' \\\n",
    "      % (ps+hs, p_w_overlap+ h_w_overlap))"
   ]
  },
  {
   "cell_type": "code",
   "execution_count": 62,
   "metadata": {},
   "outputs": [
    {
     "name": "stdout",
     "output_type": "stream",
     "text": [
      "Out of 1506 random gene list 1250 are have a corresponding associated contig overlap\n"
     ]
    }
   ],
   "source": [
    "random_gene_list = [p_genes_ordered[x] for x in np.random.choice(15928, 1346, replace=False)]\n",
    "for _index in np.random.choice(14321,160, replace=False):\n",
    "    random_gene_list.append(h_genes_ordered[_index])\n",
    "p_w_overlap, ps = elements_with_overlap(random_gene_list, p_gene_bed_fn, mapped_on_each_other_p_fn)\n",
    "h_w_overlap, hs = elements_with_overlap(random_gene_list, h_gene_bed_fn, mapped_on_each_other_h_fn)\n",
    "print('Out of %i random gene list %i are have a corresponding associated contig overlap' \\\n",
    "      % (ps+hs, p_w_overlap+ h_w_overlap))"
   ]
  },
  {
   "cell_type": "code",
   "execution_count": 63,
   "metadata": {},
   "outputs": [
    {
     "data": {
      "text/plain": [
       "(520.36830357142856, 0.0)"
      ]
     },
     "execution_count": 63,
     "metadata": {},
     "output_type": "execute_result"
    }
   ],
   "source": [
    "#I added these values manually. I know they should have really been capture inside a variable.\n",
    "#the actual numbers might vary depending on the sampling\n",
    "stats.fisher_exact([[1250, 1506-1250],[14,1506-14]])"
   ]
  },
  {
   "cell_type": "markdown",
   "metadata": {},
   "source": [
    "The next section is about the single haplotype gene hits in different databases.\n",
    "Blast was run on the command line."
   ]
  },
  {
   "cell_type": "code",
   "execution_count": 64,
   "metadata": {
    "collapsed": true
   },
   "outputs": [],
   "source": [
    "#have a look after if the shg genes without a blast it in NCBI nt or ensembl cDNA\n",
    "BLASTR_FOLDER = '/home/benjamin/genome_assembly/PST79/FALCON/p_assemblies/v9_1/Pst_104E_v12/post_allele_analysis/proteinortho_graph516_QC_Qcov80_PctID70_evalue01/blast/'\n",
    "ensembl_blast = os.path.join(BLASTR_FOLDER, 'Pst_104E_v12_ph_ctg.single_haplotype_genes.cds.0817_e36_cdna.fa.outfmt6')\n",
    "ncbi_blast = os.path.join(BLASTR_FOLDER,'Pst_104E_ph_ctg.single_haplotype_genes.fasta.NCBI10032017.01.blastn')"
   ]
  },
  {
   "cell_type": "code",
   "execution_count": 65,
   "metadata": {},
   "outputs": [
    {
     "name": "stdout",
     "output_type": "stream",
     "text": [
      "1420\n",
      "1424\n"
     ]
    }
   ],
   "source": [
    "ensemblhits = pd.read_csv(ensembl_blast, header=None, sep='\\t')[0].unique()\n",
    "ncbihits = pd.read_csv(ncbi_blast, header=None, sep='\\t')[0].unique()\n",
    "shg_db_hits = [x for x in ensemblhits]\n",
    "print(len(shg_db_hits ))\n",
    "for _id in ncbihits:\n",
    "    if _id.replace('TU', 'model') not in ensemblhits:\n",
    "        shg_db_hits.append(_id.replace('TU', 'model'))\n",
    "print(len(shg_db_hits))"
   ]
  },
  {
   "cell_type": "code",
   "execution_count": 69,
   "metadata": {},
   "outputs": [
    {
     "name": "stdout",
     "output_type": "stream",
     "text": [
      "82\n"
     ]
    }
   ],
   "source": [
    "#now get single haplotype genes that have no database hits\n",
    "shg_db_nohits = [x for x in shg if x not in shg_db_hits]\n",
    "print(len(shg_db_nohits))"
   ]
  },
  {
   "cell_type": "code",
   "execution_count": 70,
   "metadata": {
    "collapsed": true
   },
   "outputs": [],
   "source": [
    "shg_db_nohits_len = [len(x.seq) for x in return_gene_fasta(shg_db_nohits, ph_gene_fasta)]"
   ]
  },
  {
   "cell_type": "code",
   "execution_count": 71,
   "metadata": {},
   "outputs": [
    {
     "name": "stdout",
     "output_type": "stream",
     "text": [
      "538.792682927 1538.62967371\n"
     ]
    },
    {
     "data": {
      "text/plain": [
       "9"
      ]
     },
     "execution_count": 71,
     "metadata": {},
     "output_type": "execute_result"
    }
   ],
   "source": [
    "print(np.mean(shg_db_nohits_len), np.mean(genome_len))\n",
    "len([x for x in p_gene_dict['EFFECTORS'] if x in shg_db_nohits])"
   ]
  },
  {
   "cell_type": "code",
   "execution_count": 72,
   "metadata": {},
   "outputs": [
    {
     "data": {
      "text/plain": [
       "Ttest_indResult(statistic=-5.1679241077747315, pvalue=2.3820671547152583e-07)"
      ]
     },
     "execution_count": 72,
     "metadata": {},
     "output_type": "execute_result"
    }
   ],
   "source": [
    "stats.ttest_ind(shg_db_nohits_len, genome_len)"
   ]
  },
  {
   "cell_type": "code",
   "execution_count": 73,
   "metadata": {},
   "outputs": [
    {
     "name": "stdout",
     "output_type": "stream",
     "text": [
      "472.0 1196.0\n"
     ]
    }
   ],
   "source": [
    "print(np.median(shg_db_nohits_len), np.median(genome_len))"
   ]
  },
  {
   "cell_type": "code",
   "execution_count": 74,
   "metadata": {},
   "outputs": [
    {
     "name": "stdout",
     "output_type": "stream",
     "text": [
      "10\n"
     ]
    }
   ],
   "source": [
    "#how many are effectors\n",
    "print(len([x for x in p_gene_dict['EFFECTORS'] if x in shg_db_nohits]) +\\\n",
    "     len([x for x in h_gene_dict['EFFECTORS'] if x in shg_db_nohits]))\n"
   ]
  },
  {
   "cell_type": "code",
   "execution_count": 75,
   "metadata": {},
   "outputs": [
    {
     "name": "stdout",
     "output_type": "stream",
     "text": [
      "10\n"
     ]
    }
   ],
   "source": [
    "#sectreted\n",
    "print(len([x for x in p_gene_dict['SIGNALP3'] if x in shg_db_nohits]) +\\\n",
    "     len([x for x in h_gene_dict['SIGNALP3'] if x in shg_db_nohits]))"
   ]
  },
  {
   "cell_type": "code",
   "execution_count": 76,
   "metadata": {},
   "outputs": [
    {
     "name": "stdout",
     "output_type": "stream",
     "text": [
      "0\n"
     ]
    }
   ],
   "source": [
    "#haustoria\n",
    "print(len([x for x in p_gene_dict['HAUSTORIA'] if x in shg_db_nohits]) +\\\n",
    "     len([x for x in h_gene_dict['HAUSTORIA'] if x in shg_db_nohits]))"
   ]
  },
  {
   "cell_type": "code",
   "execution_count": 77,
   "metadata": {
    "collapsed": true
   },
   "outputs": [],
   "source": [
    "#quickly check for expression\n",
    "expression = []\n",
    "for x  in shg_db_nohits:\n",
    "    p_counttable = '/home/benjamin/genome_assembly/PST79/FALCON/p_assemblies/v9_1/Pst_104E_v12/expression_analysis/TSRM/Pst_104E_v12_p_ctg/stringtie/Pst_104E_v12_p_ctg.in_house_IDParent.STAR.featureCounts.txt'\n",
    "    h_counttable = '/home/benjamin/genome_assembly/PST79/FALCON/p_assemblies/v9_1/Pst_104E_v12/expression_analysis/TSRM/Pst_104E_v12_h_ctg/stringtie/Pst_104E_v12_h_ctg.in_house.STAR.featureCounts.txt'\n",
    "    gene_name = x #.replace(\"model\", \"TU\")\n",
    "    if 'pcontig' in x:\n",
    "        hit = !grep -w '{gene_name}' {p_counttable}\n",
    "        expression.append(hit)\n",
    "    if 'hcontig' in x:\n",
    "        hit = !grep -w '{gene_name}' {h_counttable}\n",
    "        expression.append(hit)"
   ]
  },
  {
   "cell_type": "code",
   "execution_count": 78,
   "metadata": {
    "collapsed": true
   },
   "outputs": [],
   "source": [
    "#make an expression dict were the read counts are a list with each position representig count\n",
    "#mapped reads under one condition\n",
    "shg_db_nohits_exp_dict = {}\n",
    "for x in expression:\n",
    "    gene = x[0].split('\\t')[0]\n",
    "    shg_db_nohits_exp_dict[gene] = x[0].split('\\t')[-18:]"
   ]
  },
  {
   "cell_type": "code",
   "execution_count": 79,
   "metadata": {},
   "outputs": [
    {
     "data": {
      "text/plain": [
       "27"
      ]
     },
     "execution_count": 79,
     "metadata": {},
     "output_type": "execute_result"
    }
   ],
   "source": [
    "#check if the expression (count of aligned fragments in sum) is > 100;\n",
    "#the cut off is really a bit abitrary\n",
    "len([x for x in shg_db_nohits_exp_dict.keys() \\\n",
    "     if np.sum([int(y) for y in shg_db_nohits_exp_dict[x]]) > 100])"
   ]
  },
  {
   "cell_type": "code",
   "execution_count": 80,
   "metadata": {},
   "outputs": [
    {
     "data": {
      "text/plain": [
       "7"
      ]
     },
     "execution_count": 80,
     "metadata": {},
     "output_type": "execute_result"
    }
   ],
   "source": [
    "#check if those are effectors\n",
    "len([x for x in shg_db_nohits_exp_dict.keys() \\\n",
    "     if (np.sum([int(y) for y in shg_db_nohits_exp_dict[x]]) > 100)\\\n",
    "     and (x in p_gene_dict['EFFECTORS'] or x in h_gene_dict['EFFECTORS'])])"
   ]
  },
  {
   "cell_type": "markdown",
   "metadata": {},
   "source": [
    "The next part is about the allele variation analysis. Using both levenshtein distances and yn00 dN/dS as proxies of variation.\n",
    "The codmel part is only included for historic reseason and should not be considered part of the analysis"
   ]
  },
  {
   "cell_type": "code",
   "execution_count": 81,
   "metadata": {
    "collapsed": true
   },
   "outputs": [],
   "source": [
    "PAML_PATH = os.path.join(OUT_PATH, 'paml')\n",
    "if not os.path.exists(PAML_PATH):\n",
    "    os.mkdir(PAML_PATH)"
   ]
  },
  {
   "cell_type": "code",
   "execution_count": null,
   "metadata": {
    "collapsed": true
   },
   "outputs": [],
   "source": [
    "count = 0\n",
    "with open(os.path.join(PAML_PATH, 'paml_script.sh'), 'a') as aln_fh:\n",
    "        print('#!/bin/bash', file=aln_fh)\n",
    "for index, row in allele_df.iterrows():\n",
    "    #make new folder\n",
    "    _tmp_allele_path = os.path.join(PAML_PATH, '%s_%s' % (row[0],row[1]))\n",
    "    if not os.path.exists(_tmp_allele_path):\n",
    "        os.mkdir(os.path.join(PAML_PATH, '%s_%s' % (row[0],row[1])))\n",
    "    _tmp_cds_list = return_gene_fasta_paml([row[0], row[1]], ph_cds_fasta)\n",
    "    _tmp_protein_list = return_gene_fasta([row[0], row[1]], ph_protein_fasta)\n",
    "    with open(os.path.join(_tmp_allele_path, 'protein.fa'),'w') as p_fh:\n",
    "        SeqIO.write(_tmp_protein_list, p_fh, 'fasta')\n",
    "    with open(os.path.join(_tmp_allele_path, 'cds.fa'),'w') as p_fh:\n",
    "        SeqIO.write(_tmp_cds_list, p_fh, 'fasta')\n",
    "    #now write tree file\n",
    "    with open(os.path.join(_tmp_allele_path, 'tree.tree'), 'w') as tree_fh:\n",
    "        print('(%s, %s);' % (_tmp_protein_list[0].id, _tmp_protein_list[1].id), file=tree_fh)\n",
    "    #now write alignment bash alignment script\n",
    "    with open(os.path.join(PAML_PATH, 'paml_script.sh'), 'a') as aln_fh:\n",
    "        print('cd %s' % _tmp_allele_path, file=aln_fh)\n",
    "        print('muscle -clwstrict -in protein.fa -out protein.aln', file=aln_fh)\n",
    "        print('perl ../pal2nal.pl -output paml protein.aln cds.fa > cds_codon.aln', file=aln_fh)\n",
    "        print('perl ../pal2nal.pl protein.aln cds.fa > cds_codon.clustal', file=aln_fh)\n",
    "        print('cp %s/yn00.ctl ./' % PAML_PATH, file=aln_fh )\n",
    "        print('yn00', file=aln_fh)\n",
    "    #to test briefly\n",
    "    count +=1\n",
    "    #if count >3:\n",
    "       # break\n",
    "stderr = !bash {os.path.join(PAML_PATH, 'paml_script.sh')} "
   ]
  },
  {
   "cell_type": "code",
   "execution_count": null,
   "metadata": {
    "collapsed": true
   },
   "outputs": [],
   "source": [
    "allele_df['folder'] = allele_df.p_gene +'_'+allele_df.h_gene \n",
    "allele_df.index = allele_df['folder']"
   ]
  },
  {
   "cell_type": "code",
   "execution_count": null,
   "metadata": {
    "collapsed": true
   },
   "outputs": [],
   "source": [
    "#try a different approach with making dictonaries first and those will be fused to the\n",
    "#dataframe later on\n",
    "dicts_of_dN_sS = {}\n",
    "dicts_of_dN_sS['codmel_dN/dS'] = dict(zip(allele_df.folder, len(allele_df.folder)*[np.nan]))\n",
    "dicts_of_dN_sS['LWL85_dN/dS'] = dict(zip(allele_df.folder, len(allele_df.folder)*[np.nan]))\n",
    "dicts_of_dN_sS['LWL85m_dN/dS'] = dict(zip(allele_df.folder, len(allele_df.folder)*[np.nan]))\n",
    "dicts_of_dN_sS['LPB93_dN/dS'] = dict(zip(allele_df.folder, len(allele_df.folder)*[np.nan]))\n",
    "dicts_of_dN_sS['vn00_dN/dS'] = dict(zip(allele_df.folder, len(allele_df.folder)*[np.nan]))\n",
    "dicts_of_distances = {}\n",
    "dicts_of_distances['cds_hamming'] = {}\n",
    "dicts_of_distances['protein_hamming'] = {}\n",
    "dicts_of_distances['protein_levenshtein'] = {}\n",
    "dicts_of_distances['cds_levenshtein'] = {}"
   ]
  },
  {
   "cell_type": "code",
   "execution_count": null,
   "metadata": {
    "collapsed": true
   },
   "outputs": [],
   "source": [
    "from Bio import AlignIO\n",
    "#now pull in the dN/dS ratios\n",
    "overall_count = 0\n",
    "#loop over the folder and add the values as key=folder value pairs to the dict\n",
    "#######\n",
    "#This is really slow and should be run in parallele really\n",
    "######\n",
    "for folder in allele_df.folder:\n",
    "    seq_list = []\n",
    "    tmp_protein_aln = os.path.join(PAML_PATH, folder,'protein.aln')\n",
    "    for x in AlignIO.read(open(tmp_protein_aln, 'r'), format = \"clustal\", seq_count=2):\n",
    "        seq_list.append(str(x.seq).upper())\n",
    "    dicts_of_distances['protein_hamming'][folder]\\\n",
    "    = distance.hamming(seq_list[0], seq_list[1], normalized=True)\n",
    "    dicts_of_distances['protein_levenshtein'][folder]\\\n",
    "    = distance.levenshtein(seq_list[0], seq_list[1], normalized=True)\n",
    "    \n",
    "    tmp_cds_aln = os.path.join(PAML_PATH, folder,'cds_codon.clustal')\n",
    "    seq_list = []\n",
    "    for x in AlignIO.read(open(tmp_cds_aln, 'r'), format = \"clustal\", seq_count=2):\n",
    "        seq_list.append(str(x.seq).upper())\n",
    "    dicts_of_distances['cds_hamming'][folder]\\\n",
    "    = distance.hamming(seq_list[0], seq_list[1], normalized=True)\n",
    "    dicts_of_distances['cds_levenshtein'][folder]\\\n",
    "    = distance.levenshtein(seq_list[0], seq_list[1], normalized=True)\n",
    "    overall_count += 1\n",
    "    #print(overall_count)"
   ]
  },
  {
   "cell_type": "code",
   "execution_count": null,
   "metadata": {
    "collapsed": true
   },
   "outputs": [],
   "source": [
    "overall_count = 0\n",
    "yn_count = 0\n",
    "yn_seq_count = 0\n",
    "for folder in allele_df.folder:\n",
    "    #fix the yn\n",
    "    tmp_yn = os.path.join(PAML_PATH, folder,'yn.out')\n",
    "    #fix the yn\n",
    "    with open(tmp_yn, 'r') as fn:\n",
    "        #initiate a bunch of values\n",
    "        dN = 0\n",
    "        dS = 0\n",
    "        dN_L = 0\n",
    "        dS_L = 0\n",
    "        dN_m = 0\n",
    "        dS_m = 0\n",
    "        dN_p = 0 \n",
    "        dS_p = 0 \n",
    "        #now loop over the lines and parse out stuff\n",
    "        for line in fn:\n",
    "            yn_count += 1\n",
    "            if line.startswith('seq. seq. '):\n",
    "                yn_seq_count = yn_count\n",
    "            if yn_seq_count > 0  and yn_count == yn_seq_count + 2:\n",
    "                #print(re.findall(r'dN/dS=(.*)dN', line))\n",
    "                #dNdS = re.findall(r'dN/dS=(.*)dN', line)[0].replace(' ','')\n",
    "                dN = line.split('+-')[0].rstrip().split(' ')[-1]\n",
    "                dS = line.split('+-')[1].rstrip().split(' ')[-1]\n",
    "                if float(dS) > 0:\n",
    "                    dicts_of_dN_sS['vn00_dN/dS'][folder] = float(dN)/float(dS)\n",
    "                else: \n",
    "                    dicts_of_dN_sS['vn00_dN/dS'][folder] = np.nan\n",
    "            if line.startswith('LWL85:') and 'nan' not in line:\n",
    "                dN_L =re.findall(r'dN = [-| ]?(.*) w', line)[0]\n",
    "                dS_L = re.findall(r'dS = [-| ]?(.*) dN', line)[0]\n",
    "                if float(dS_L) > 0:\n",
    "                    dicts_of_dN_sS['LWL85_dN/dS'][folder] = float(dN_L)/float(dS_L)\n",
    "                else:\n",
    "                    dicts_of_dN_sS['LWL85_dN/dS'][folder] = np.nan\n",
    "            if line.startswith('LWL85m:') and 'nan' not in line:\n",
    "                dN_m = re.findall(r'dN = [-| ]?(.*) w', line)[0]\n",
    "                dS_m = re.findall(r'dS = [-| ]?(.*) dN', line)[0]\n",
    "                if float(dS_m) > 0:\n",
    "                    dicts_of_dN_sS['LWL85m_dN/dS'][folder] = float(dN_m)/float(dS_m)\n",
    "                else:\n",
    "                    dicts_of_dN_sS['LWL85m_dN/dS'][folder] = np.nan\n",
    "            if line.startswith('LPB93:') and 'nan' not in line:\n",
    "                dN_p = re.findall(r'dN = [-| ]?(.*) w', line)[0]\n",
    "                dS_p = re.findall(r'dS = [-| ]?(.*) dN', line)[0]\n",
    "                if float(dS_m) > 0:\n",
    "                    dicts_of_dN_sS['LPB93_dN/dS'][folder] = float(dN_p)/float(dS_p)\n",
    "                else:\n",
    "                    dicts_of_dN_sS['LPB93_dN/dS'][folder] = np.nan\n",
    "    #fix codmel\n",
    "    #tmp_codmel = os.path.join(PAML_PATH, folder,'codeml.out')\n",
    "    #now open the file an pull out the dN/dS ratio\n",
    "    #with open(tmp_codmel, 'r') as fn:\n",
    "        #dNdS = 0\n",
    "        #for line in fn:\n",
    "            #if line.startswith('t='):\n",
    "                #print(re.findall(r'dN/dS=(.*)dN', line))\n",
    "                #dNdS = re.findall(r'dN/dS=(.*)dN', line)[0].replace(' ','')\n",
    "                #print(line)\n",
    "                #print(dNdS)\n",
    "                #dicts_of_dN_sS['codmel_dN/dS'][folder] = dNdS\n",
    "    #now get the vn00 results\n",
    "            \n",
    "    #now get the distance of an alignment\n",
    "    #protein first\n",
    "    #overall_count += 1\n",
    "    #print(overall_count)"
   ]
  },
  {
   "cell_type": "code",
   "execution_count": null,
   "metadata": {
    "collapsed": true
   },
   "outputs": [],
   "source": [
    "for key in dicts_of_dN_sS.keys():\n",
    "    allele_df[key] = allele_df.folder.apply(lambda x: dicts_of_dN_sS[key][x])\n",
    "dicts_of_dN_sS.keys()"
   ]
  },
  {
   "cell_type": "code",
   "execution_count": null,
   "metadata": {
    "collapsed": true
   },
   "outputs": [],
   "source": [
    "for key in dicts_of_distances.keys():\n",
    "    allele_df[key] = allele_df.folder.apply(lambda x: dicts_of_distances[key][x])\n",
    "dicts_of_distances.keys()"
   ]
  },
  {
   "cell_type": "code",
   "execution_count": null,
   "metadata": {
    "collapsed": true
   },
   "outputs": [],
   "source": [
    "allele_df.head()"
   ]
  },
  {
   "cell_type": "code",
   "execution_count": null,
   "metadata": {
    "collapsed": true
   },
   "outputs": [],
   "source": [
    "#save the fixed up dataframe to file\n",
    "allele_df_fn = os.path.join(OUT_PATH, 'Pst_104E_v12_p_ctg.all.alleles.df')\n",
    "allele_df.to_csv(allele_df_fn, sep='\\t', index=None)"
   ]
  },
  {
   "cell_type": "code",
   "execution_count": null,
   "metadata": {
    "collapsed": true
   },
   "outputs": [],
   "source": [
    "#write out all effectors on the primary contig and all loose_singeltons on haplotigs\n",
    "#as non_redundanted effector complement\n",
    "non_redundant_effectors = p_gene_dict['EFFECTORS'] + [x for x in loose_singeltons if x in h_gene_dict['EFFECTORS']]\n",
    "nr_effectors_protein_fa = return_gene_fasta(non_redundant_effectors, ph_protein_fasta)\n",
    "with open(os.path.join(OUT_PATH, 'Pst_104E_v12_ph_ctg.nr_effector.protein.fasta'),'w') as p_fh:\n",
    "    SeqIO.write(nr_effectors_protein_fa, p_fh, 'fasta')\n",
    "#now write out cds\n",
    "nr_effectors_cds_fa = return_gene_fasta(non_redundant_effectors, ph_cds_fasta)\n",
    "with open(os.path.join(OUT_PATH, 'Pst_104E_v12_ph_ctg.nr_effector.cds.fasta'),'w') as p_fh:\n",
    "    SeqIO.write(nr_effectors_cds_fa, p_fh, 'fasta')"
   ]
  },
  {
   "cell_type": "code",
   "execution_count": null,
   "metadata": {
    "collapsed": true
   },
   "outputs": [],
   "source": [
    "#number of overall effector singletons\n",
    "len([x for x in singeltons if x in h_gene_dict['EFFECTORS'] or x in p_gene_dict['EFFECTORS']])"
   ]
  },
  {
   "cell_type": "code",
   "execution_count": null,
   "metadata": {
    "collapsed": true
   },
   "outputs": [],
   "source": [
    "len(non_redundant_effectors)"
   ]
  },
  {
   "cell_type": "markdown",
   "metadata": {},
   "source": [
    "The next two lines are about the non-ortholog analysis between Pst non-redundant effectors . This was mostly done quick and dirty on the command line and should be improved in future."
   ]
  },
  {
   "cell_type": "code",
   "execution_count": 82,
   "metadata": {},
   "outputs": [
    {
     "data": {
      "text/plain": [
       "(3.3662928129557912, 1.3682791205467915e-16)"
      ]
     },
     "execution_count": 82,
     "metadata": {},
     "output_type": "execute_result"
    }
   ],
   "source": [
    "#fishers exact test of singletons vs alleles when comparing stripe rusts with each other.\n",
    "#analysis was done as shown in the next cell only using stripe rust genomes instead inlcuding\n",
    "#the following\n",
    "#PST0821_final_proteome.faa                     PST21_final_proteome.faa  PST887_final_proteome.faa                      Pucst_PST78_1_GeneCatalog_proteins_20160608.aa.fasta\n",
    "#Pst_104E_v12_ph_ctg.nr_effector.protein.fasta  PST43_final_proteome.faa  Pucst1_GeneCatalog_proteins_20130920.aa.fasta\n",
    "#numbers are from grep commands on the command line like ...\n",
    "#the number of candidate effector singletons is 453 and total number of non-redundant effectors is\n",
    "#1725\n",
    "stats.fisher_exact([[116,453-116],[118,1725-453-118]])\n"
   ]
  },
  {
   "cell_type": "raw",
   "metadata": {},
   "source": [
    "Command line code to get the numbers for rusts without Pst:\n",
    "\n",
    "First proteinortho5.pl\n",
    "proteinortho5.pl -project=rusts_plus_outgroup_no_Pst -clean -singles -cpus=16 GCA_001263375.1_ASM126337v1_protein.faa Melli1_GeneCatalog_proteins_20150227.aa.fasta PuccoNC29_1_GeneCatalog_proteins_20170808.aa.fasta PuccoSD80_1_GeneCatalog_proteins_20170808.aa.fasta Pucgr2_GeneCatalog_proteins_20150718.aa.fasta Puctr1_GeneCatalog_proteins_20131203.aa.fasta Pst_104E_v12_ph_ctg.nr_effector.protein.fasta\n",
    "\n",
    "Get the singletons numbers\n",
    "grep '^1' rusts_plus_outgroup_no_Pst.proteinortho | grep 'evm' | cut -f 6 > Pst_104E_v12_ph_ctg.nr_effector_vs_non_restricted_no_stripe.singletons\n",
    "cat Pst_104E_v12_ph_ctg.nr_effector_vs_non_restricted_no_stripe.singletons | xargs -I X grep -w 'X' ../../post_allele_analysis/proteinortho_graph516_QC_Qcov80_PctID70_evalue01/Pst_104E_v12_ph_ctg.singletons | wc"
   ]
  },
  {
   "cell_type": "code",
   "execution_count": 83,
   "metadata": {},
   "outputs": [
    {
     "data": {
      "text/plain": [
       "(3.1905505952380953, 4.4559580060373525e-26)"
      ]
     },
     "execution_count": 83,
     "metadata": {},
     "output_type": "execute_result"
    }
   ],
   "source": [
    "#fishers exact test of singletons vs alleles when comparing other Pucciniomycetes with each other.\n",
    "#numbers are from from grep commands on the command line like ... \n",
    "stats.fisher_exact([[313,453-313],[672,1725-453-313]])"
   ]
  },
  {
   "cell_type": "markdown",
   "metadata": {},
   "source": [
    "# After restart get started here."
   ]
  },
  {
   "cell_type": "markdown",
   "metadata": {},
   "source": [
    "The next part is about using the different allele variation calculations to explore if there are any correlation between those and genome features"
   ]
  },
  {
   "cell_type": "code",
   "execution_count": 35,
   "metadata": {
    "collapsed": true
   },
   "outputs": [],
   "source": [
    "allele_df_fn = os.path.join(OUT_PATH, 'Pst_104E_v12_p_ctg.all.alleles.df')\n",
    "allele_df = pd.read_csv(allele_df_fn, sep='\\t')"
   ]
  },
  {
   "cell_type": "code",
   "execution_count": 36,
   "metadata": {},
   "outputs": [],
   "source": [
    "#now fuse the important columns to the allele blast dataframe\n",
    "allele_blast_df['folder'] = allele_blast_df['Query'] + '_' + allele_blast_df['Target']"
   ]
  },
  {
   "cell_type": "code",
   "execution_count": 37,
   "metadata": {},
   "outputs": [],
   "source": [
    "allele_hit_df = allele_blast_df[allele_blast_df.folder.isin(allele_df['folder'])]\\\n",
    "        .sort_values(['folder', 'PctID']).drop_duplicates('folder').copy()"
   ]
  },
  {
   "cell_type": "code",
   "execution_count": 38,
   "metadata": {
    "collapsed": true
   },
   "outputs": [],
   "source": [
    "allele_hit_df = pd.merge(allele_hit_df,allele_df.loc[:,\\\n",
    "            ['folder',  'protein_hamming',\n",
    "       'cds_hamming', 'protein_levenshtein', 'cds_levenshtein', 'vn00_dN/dS',\n",
    "       'LWL85_dN/dS', 'LWL85m_dN/dS', 'LPB93_dN/dS']], on='folder')"
   ]
  },
  {
   "cell_type": "code",
   "execution_count": 39,
   "metadata": {
    "collapsed": true
   },
   "outputs": [],
   "source": [
    "allele_hit_df.to_csv(os.path.join(OUT_PATH, 'Pst_104E_v12_p_ctg.all.alleles.hit.df')\\\n",
    "                     , index=None, sep='\\t')"
   ]
  },
  {
   "cell_type": "code",
   "execution_count": 40,
   "metadata": {},
   "outputs": [
    {
     "data": {
      "text/plain": [
       "1214"
      ]
     },
     "execution_count": 40,
     "metadata": {},
     "output_type": "execute_result"
    }
   ],
   "source": [
    "(allele_hit_df.Query.apply(lambda x: x in p_gene_dict['EFFECTORS'])).sum()"
   ]
  },
  {
   "cell_type": "code",
   "execution_count": 41,
   "metadata": {
    "collapsed": true
   },
   "outputs": [],
   "source": [
    "allele_hit_df['P_EFFECTOR'] = allele_hit_df.Query.apply(lambda x: x in p_gene_dict['EFFECTORS'])\n",
    "allele_hit_df['P_BUSCO'] =  allele_hit_df.Query.apply(lambda x: x in p_gene_dict['BUSCOS'])\n",
    "allele_hit_df['H_EFFECTOR'] = allele_hit_df.Target.apply(lambda x: x in h_gene_dict['EFFECTORS'])\n",
    "allele_hit_df['H_BUSCO'] =  allele_hit_df.Target.apply(lambda x: x in h_gene_dict['BUSCOS'])"
   ]
  },
  {
   "cell_type": "code",
   "execution_count": 42,
   "metadata": {
    "collapsed": true
   },
   "outputs": [],
   "source": [
    "allele_hit_df['P_OTHER_GENE'] =  ~(allele_hit_df.Query.isin(p_gene_dict['EFFECTORS'])|\\\n",
    "                allele_hit_df.Query.isin(p_gene_dict['BUSCOS']))\n",
    "allele_hit_df['H_OTHER_GENE'] =  ~(allele_hit_df.Target.isin(h_gene_dict['EFFECTORS'])|\\\n",
    "                allele_hit_df.Target.isin(h_gene_dict['BUSCOS']))"
   ]
  },
  {
   "cell_type": "code",
   "execution_count": 43,
   "metadata": {
    "collapsed": true
   },
   "outputs": [],
   "source": [
    "#this was an attempt to use ratios of protein and cds levenshtein distance as indicator of\n",
    "#increased variancy on the protein level. Not totally convinced.\n",
    "allele_hit_df['protein/cds_levdist'] = allele_hit_df['protein_levenshtein'] /allele_hit_df['cds_levenshtein']"
   ]
  },
  {
   "cell_type": "code",
   "execution_count": 44,
   "metadata": {
    "collapsed": true
   },
   "outputs": [],
   "source": [
    "allele_hit_df.to_csv(os.path.join(OUT_PATH, 'Pst_104E_v12_p_ctg.all.alleles.hit.df')\\\n",
    "                     , index=None, sep='\\t')"
   ]
  },
  {
   "cell_type": "code",
   "execution_count": 45,
   "metadata": {
    "collapsed": true
   },
   "outputs": [],
   "source": [
    "#make a classification column to enable better plotting\n",
    "allele_hit_df['p_classification'] = 'None'\n",
    "allele_hit_df.loc[allele_hit_df[allele_hit_df.P_EFFECTOR == True].index,'p_classification']\\\n",
    "                = \"Effector\"\n",
    "allele_hit_df.loc[allele_hit_df[allele_hit_df.P_BUSCO == True].index,'p_classification']\\\n",
    "                = \"BUSCO\"\n",
    "allele_hit_df.loc[allele_hit_df[allele_hit_df.P_OTHER_GENE == True].index,'p_classification']\\\n",
    "                = \"OTHER_GENE\""
   ]
  },
  {
   "cell_type": "code",
   "execution_count": 46,
   "metadata": {
    "collapsed": true
   },
   "outputs": [],
   "source": [
    "#make a classification column to enable better plotting\n",
    "allele_hit_df['h_classification'] = 'None'\n",
    "allele_hit_df.loc[allele_hit_df[allele_hit_df.H_EFFECTOR == True].index,'h_classification']\\\n",
    "                = \"Effector\"\n",
    "allele_hit_df.loc[allele_hit_df[allele_hit_df.H_BUSCO == True].index,'h_classification']\\\n",
    "                = \"BUSCO\"\n",
    "allele_hit_df.loc[allele_hit_df[allele_hit_df.H_OTHER_GENE == True].index,'h_classification']\\\n",
    "                = \"OTHER_GENE\"\n"
   ]
  },
  {
   "cell_type": "markdown",
   "metadata": {},
   "source": [
    "Plot the variation of levenstain distances according to classification"
   ]
  },
  {
   "cell_type": "code",
   "execution_count": 47,
   "metadata": {},
   "outputs": [
    {
     "data": {
      "text/plain": [
       "[]"
      ]
     },
     "execution_count": 47,
     "metadata": {},
     "output_type": "execute_result"
    },
    {
     "data": {
      "image/png": "[encoded data removed]",
      "text/plain": [
       "<matplotlib.figure.Figure at 0x7f98afce65f8>"
      ]
     },
     "metadata": {},
     "output_type": "display_data"
    }
   ],
   "source": [
    "#not sure about this but it is interesting to look at and to consider so I left it here\n",
    "df = allele_hit_df.loc[:,['protein/cds_levdist', \"p_classification\"]].fillna(0).copy()\n",
    "qdf = quant_cut_df(df.pivot(values='protein/cds_levdist', columns= 'p_classification'))\n",
    "\n",
    "f, ax = plt.subplots(figsize=(15, 10))\n",
    "df = qdf.melt()\n",
    "#ax.set_xscale(\"log\")\n",
    "sns.violinplot(x='value', y=\"p_classification\", data=df.sort_values(\"p_classification\"), cut=0,\n",
    "          whis=np.inf)\n",
    "plt.setp(ax.artists, alpha=.01)\n",
    "#sns.swarmplot(x='protein/cds_levdist', y=\"p_classification\", data=df,\n",
    "              #size=2, color=\".3\", linewidth=0)"
   ]
  },
  {
   "cell_type": "code",
   "execution_count": 48,
   "metadata": {},
   "outputs": [
    {
     "name": "stdout",
     "output_type": "stream",
     "text": [
      "RanksumsResult(statistic=-4.0685231148797234, pvalue=4.7312068214608662e-05)\n",
      "RanksumsResult(statistic=4.4327371548756327, pvalue=9.3044269547450971e-06)\n",
      "(array([ True,  True], dtype=bool), array([  9.46241364e-05,   1.86088539e-05]), 0.025320565519103666, 0.025)\n",
      "422 484 2481\n",
      "0.35225375626 0.398682042834 0.291573627923\n",
      "Mean\n",
      "0.026462810242390288 0.047404566502282496 0.06372272433230451\n",
      "Median\n",
      "0.0028169237605535453 0.006006493506493507 0.007575757575757577\n"
     ]
    },
    {
     "data": {
      "text/html": [
       "<div>\n",
       "<style>\n",
       "    .dataframe thead tr:only-child th {\n",
       "        text-align: right;\n",
       "    }\n",
       "\n",
       "    .dataframe thead th {\n",
       "        text-align: left;\n",
       "    }\n",
       "\n",
       "    .dataframe tbody tr th {\n",
       "        vertical-align: top;\n",
       "    }\n",
       "</style>\n",
       "<table border=\"1\" class=\"dataframe\">\n",
       "  <thead>\n",
       "    <tr style=\"text-align: right;\">\n",
       "      <th>p_classification</th>\n",
       "      <th>BUSCO</th>\n",
       "      <th>Effector</th>\n",
       "      <th>OTHER_GENE</th>\n",
       "    </tr>\n",
       "  </thead>\n",
       "  <tbody>\n",
       "    <tr>\n",
       "      <th>count</th>\n",
       "      <td>1198.000000</td>\n",
       "      <td>1214.000000</td>\n",
       "      <td>8509.000000</td>\n",
       "    </tr>\n",
       "    <tr>\n",
       "      <th>mean</th>\n",
       "      <td>0.026463</td>\n",
       "      <td>0.047405</td>\n",
       "      <td>0.063723</td>\n",
       "    </tr>\n",
       "    <tr>\n",
       "      <th>std</th>\n",
       "      <td>0.072211</td>\n",
       "      <td>0.095963</td>\n",
       "      <td>0.126181</td>\n",
       "    </tr>\n",
       "    <tr>\n",
       "      <th>min</th>\n",
       "      <td>0.000000</td>\n",
       "      <td>0.000000</td>\n",
       "      <td>0.000000</td>\n",
       "    </tr>\n",
       "    <tr>\n",
       "      <th>25%</th>\n",
       "      <td>0.000000</td>\n",
       "      <td>0.000000</td>\n",
       "      <td>0.000000</td>\n",
       "    </tr>\n",
       "    <tr>\n",
       "      <th>50%</th>\n",
       "      <td>0.002817</td>\n",
       "      <td>0.006006</td>\n",
       "      <td>0.007576</td>\n",
       "    </tr>\n",
       "    <tr>\n",
       "      <th>75%</th>\n",
       "      <td>0.014429</td>\n",
       "      <td>0.039832</td>\n",
       "      <td>0.049505</td>\n",
       "    </tr>\n",
       "    <tr>\n",
       "      <th>max</th>\n",
       "      <td>0.613811</td>\n",
       "      <td>0.612782</td>\n",
       "      <td>0.806084</td>\n",
       "    </tr>\n",
       "  </tbody>\n",
       "</table>\n",
       "</div>"
      ],
      "text/plain": [
       "p_classification        BUSCO     Effector   OTHER_GENE\n",
       "count             1198.000000  1214.000000  8509.000000\n",
       "mean                 0.026463     0.047405     0.063723\n",
       "std                  0.072211     0.095963     0.126181\n",
       "min                  0.000000     0.000000     0.000000\n",
       "25%                  0.000000     0.000000     0.000000\n",
       "50%                  0.002817     0.006006     0.007576\n",
       "75%                  0.014429     0.039832     0.049505\n",
       "max                  0.613811     0.612782     0.806084"
      ]
     },
     "execution_count": 48,
     "metadata": {},
     "output_type": "execute_result"
    }
   ],
   "source": [
    "#these lines of code are used to look at the variation at the protein level\n",
    "#these are part of table 2 of the ms\n",
    "#could be done better\n",
    "df = allele_hit_df.loc[:,['protein_levenshtein', \"p_classification\"]].copy()\n",
    "df = df.pivot(values='protein_levenshtein', columns= 'p_classification')\n",
    "t_be, p_be = stats.ranksums(df.BUSCO.dropna().values, df.Effector.dropna().values)\n",
    "t_oe, p_oe = stats.ranksums(df.OTHER_GENE.dropna().values, df.Effector.dropna().values)\n",
    "print(stats.ranksums(df.BUSCO.dropna().values, df.Effector.dropna().values))\n",
    "print(stats.ranksums(df.OTHER_GENE.dropna().values, df.Effector.dropna().values))\n",
    "print(statsmodels.sandbox.stats.multicomp.multipletests([p_be, p_oe],\\\n",
    "    alpha=0.05, method='bonferroni', is_sorted=False, returnsorted=False))\n",
    "print((df.BUSCO.dropna().values ==0).sum()\\\n",
    "      ,(df.Effector.dropna().values ==0).sum()\\\n",
    "      ,(df.OTHER_GENE.dropna().values ==0).sum())\n",
    "print((df.BUSCO.dropna().values ==0).sum()/\n",
    "      len(df.BUSCO.dropna().values),\\\n",
    "      (df.Effector.dropna().values ==0).sum()/\\\n",
    "      len(df.Effector.dropna().values),\\\n",
    "      (df.OTHER_GENE.dropna().values ==0).sum()/\\\n",
    "     len(df.OTHER_GENE.dropna().values))\n",
    "print('Mean')\n",
    "print(df.BUSCO.dropna().mean(),df.Effector.dropna().mean(),df.OTHER_GENE.dropna().mean() )\n",
    "print('Median')\n",
    "print(df.BUSCO.dropna().median(),df.Effector.dropna().median(),df.OTHER_GENE.dropna().median() )\n",
    "df.describe()"
   ]
  },
  {
   "cell_type": "code",
   "execution_count": 49,
   "metadata": {},
   "outputs": [
    {
     "name": "stdout",
     "output_type": "stream",
     "text": [
      "RanksumsResult(statistic=1.9831977958239608, pvalue=0.047345340018046141)\n",
      "RanksumsResult(statistic=6.5425629767203723, pvalue=6.0473356049281376e-11)\n",
      "(array([False,  True], dtype=bool), array([  9.46906800e-02,   1.20946712e-10]), 0.025320565519103666, 0.025)\n",
      "228 413 1791\n",
      "0.190317195326 0.340197693575 0.210483017981\n",
      "0.028763144144375773 0.04068398168371404 0.057879375674427226\n",
      "0.0066815144766147 0.004444444444444445 0.007407407407407408\n"
     ]
    },
    {
     "data": {
      "text/html": [
       "<div>\n",
       "<style>\n",
       "    .dataframe thead tr:only-child th {\n",
       "        text-align: right;\n",
       "    }\n",
       "\n",
       "    .dataframe thead th {\n",
       "        text-align: left;\n",
       "    }\n",
       "\n",
       "    .dataframe tbody tr th {\n",
       "        vertical-align: top;\n",
       "    }\n",
       "</style>\n",
       "<table border=\"1\" class=\"dataframe\">\n",
       "  <thead>\n",
       "    <tr style=\"text-align: right;\">\n",
       "      <th>p_classification</th>\n",
       "      <th>BUSCO</th>\n",
       "      <th>Effector</th>\n",
       "      <th>OTHER_GENE</th>\n",
       "    </tr>\n",
       "  </thead>\n",
       "  <tbody>\n",
       "    <tr>\n",
       "      <th>count</th>\n",
       "      <td>1198.000000</td>\n",
       "      <td>1214.000000</td>\n",
       "      <td>8509.000000</td>\n",
       "    </tr>\n",
       "    <tr>\n",
       "      <th>mean</th>\n",
       "      <td>0.028763</td>\n",
       "      <td>0.040684</td>\n",
       "      <td>0.057879</td>\n",
       "    </tr>\n",
       "    <tr>\n",
       "      <th>std</th>\n",
       "      <td>0.070337</td>\n",
       "      <td>0.087243</td>\n",
       "      <td>0.115095</td>\n",
       "    </tr>\n",
       "    <tr>\n",
       "      <th>min</th>\n",
       "      <td>0.000000</td>\n",
       "      <td>0.000000</td>\n",
       "      <td>0.000000</td>\n",
       "    </tr>\n",
       "    <tr>\n",
       "      <th>25%</th>\n",
       "      <td>0.000642</td>\n",
       "      <td>0.000000</td>\n",
       "      <td>0.000734</td>\n",
       "    </tr>\n",
       "    <tr>\n",
       "      <th>50%</th>\n",
       "      <td>0.006682</td>\n",
       "      <td>0.004444</td>\n",
       "      <td>0.007407</td>\n",
       "    </tr>\n",
       "    <tr>\n",
       "      <th>75%</th>\n",
       "      <td>0.021833</td>\n",
       "      <td>0.031040</td>\n",
       "      <td>0.040936</td>\n",
       "    </tr>\n",
       "    <tr>\n",
       "      <th>max</th>\n",
       "      <td>0.609335</td>\n",
       "      <td>0.541353</td>\n",
       "      <td>0.733333</td>\n",
       "    </tr>\n",
       "  </tbody>\n",
       "</table>\n",
       "</div>"
      ],
      "text/plain": [
       "p_classification        BUSCO     Effector   OTHER_GENE\n",
       "count             1198.000000  1214.000000  8509.000000\n",
       "mean                 0.028763     0.040684     0.057879\n",
       "std                  0.070337     0.087243     0.115095\n",
       "min                  0.000000     0.000000     0.000000\n",
       "25%                  0.000642     0.000000     0.000734\n",
       "50%                  0.006682     0.004444     0.007407\n",
       "75%                  0.021833     0.031040     0.040936\n",
       "max                  0.609335     0.541353     0.733333"
      ]
     },
     "execution_count": 49,
     "metadata": {},
     "output_type": "execute_result"
    }
   ],
   "source": [
    "df = allele_hit_df.loc[:,['cds_levenshtein', \"p_classification\"]].copy()\n",
    "df = df.pivot(values='cds_levenshtein', columns= 'p_classification')\n",
    "t_be, p_be = stats.ranksums(df.BUSCO.dropna().values, df.Effector.dropna().values)\n",
    "t_oe, p_oe = stats.ranksums(df.OTHER_GENE.dropna().values, df.Effector.dropna().values)\n",
    "print(stats.ranksums(df.BUSCO.dropna().values, df.Effector.dropna().values))\n",
    "print(stats.ranksums(df.OTHER_GENE.dropna().values, df.Effector.dropna().values))\n",
    "print(statsmodels.sandbox.stats.multicomp.multipletests([p_be, p_oe],\\\n",
    "    alpha=0.05, method='bonferroni', is_sorted=False, returnsorted=False))\n",
    "print((df.BUSCO.dropna().values ==0).sum()\\\n",
    "      ,(df.Effector.dropna().values ==0).sum()\\\n",
    "      ,(df.OTHER_GENE.dropna().values ==0).sum())\n",
    "print((df.BUSCO.dropna().values ==0).sum()/\n",
    "      len(df.BUSCO.dropna().values),\\\n",
    "      (df.Effector.dropna().values ==0).sum()/\\\n",
    "      len(df.Effector.dropna().values),\\\n",
    "      (df.OTHER_GENE.dropna().values ==0).sum()/\\\n",
    "     len(df.OTHER_GENE.dropna().values))\n",
    "print(df.BUSCO.dropna().mean(),df.Effector.dropna().mean(),df.OTHER_GENE.dropna().mean() )\n",
    "print(df.BUSCO.dropna().median(),df.Effector.dropna().median(),df.OTHER_GENE.dropna().median() )\n",
    "df.describe()"
   ]
  },
  {
   "cell_type": "code",
   "execution_count": 50,
   "metadata": {},
   "outputs": [
    {
     "name": "stdout",
     "output_type": "stream",
     "text": [
      "RanksumsResult(statistic=-15.567464699574142, pvalue=1.2111342712772745e-54)\n",
      "RanksumsResult(statistic=-4.9010287985928693, pvalue=9.5336078322506395e-07)\n",
      "(array([ True,  True], dtype=bool), array([  2.42226854e-54,   1.90672157e-06]), 0.025320565519103666, 0.025)\n",
      "213 82 814\n",
      "0.247962747381 0.132471728595 0.150657042384\n",
      "0.20126111418949297 0.47973187214757995 0.4317729067872116\n",
      "0.08021390374331551 0.39721254355400704 0.2839506172839506\n"
     ]
    },
    {
     "data": {
      "text/html": [
       "<div>\n",
       "<style>\n",
       "    .dataframe thead tr:only-child th {\n",
       "        text-align: right;\n",
       "    }\n",
       "\n",
       "    .dataframe thead th {\n",
       "        text-align: left;\n",
       "    }\n",
       "\n",
       "    .dataframe tbody tr th {\n",
       "        vertical-align: top;\n",
       "    }\n",
       "</style>\n",
       "<table border=\"1\" class=\"dataframe\">\n",
       "  <thead>\n",
       "    <tr style=\"text-align: right;\">\n",
       "      <th>p_classification</th>\n",
       "      <th>BUSCO</th>\n",
       "      <th>Effector</th>\n",
       "      <th>OTHER_GENE</th>\n",
       "    </tr>\n",
       "  </thead>\n",
       "  <tbody>\n",
       "    <tr>\n",
       "      <th>count</th>\n",
       "      <td>859.000000</td>\n",
       "      <td>619.000000</td>\n",
       "      <td>5403.000000</td>\n",
       "    </tr>\n",
       "    <tr>\n",
       "      <th>mean</th>\n",
       "      <td>0.201261</td>\n",
       "      <td>0.479732</td>\n",
       "      <td>0.431773</td>\n",
       "    </tr>\n",
       "    <tr>\n",
       "      <th>std</th>\n",
       "      <td>0.358592</td>\n",
       "      <td>0.458077</td>\n",
       "      <td>0.534643</td>\n",
       "    </tr>\n",
       "    <tr>\n",
       "      <th>min</th>\n",
       "      <td>-0.000000</td>\n",
       "      <td>-0.000000</td>\n",
       "      <td>-0.000000</td>\n",
       "    </tr>\n",
       "    <tr>\n",
       "      <th>25%</th>\n",
       "      <td>0.007175</td>\n",
       "      <td>0.169731</td>\n",
       "      <td>0.084701</td>\n",
       "    </tr>\n",
       "    <tr>\n",
       "      <th>50%</th>\n",
       "      <td>0.080214</td>\n",
       "      <td>0.397213</td>\n",
       "      <td>0.283951</td>\n",
       "    </tr>\n",
       "    <tr>\n",
       "      <th>75%</th>\n",
       "      <td>0.244459</td>\n",
       "      <td>0.692591</td>\n",
       "      <td>0.606329</td>\n",
       "    </tr>\n",
       "    <tr>\n",
       "      <th>max</th>\n",
       "      <td>3.454545</td>\n",
       "      <td>3.798611</td>\n",
       "      <td>10.428571</td>\n",
       "    </tr>\n",
       "  </tbody>\n",
       "</table>\n",
       "</div>"
      ],
      "text/plain": [
       "p_classification       BUSCO    Effector   OTHER_GENE\n",
       "count             859.000000  619.000000  5403.000000\n",
       "mean                0.201261    0.479732     0.431773\n",
       "std                 0.358592    0.458077     0.534643\n",
       "min                -0.000000   -0.000000    -0.000000\n",
       "25%                 0.007175    0.169731     0.084701\n",
       "50%                 0.080214    0.397213     0.283951\n",
       "75%                 0.244459    0.692591     0.606329\n",
       "max                 3.454545    3.798611    10.428571"
      ]
     },
     "execution_count": 50,
     "metadata": {},
     "output_type": "execute_result"
    }
   ],
   "source": [
    "df = allele_hit_df.loc[:,['vn00_dN/dS', \"p_classification\"]].copy()\n",
    "df = df.pivot(values='vn00_dN/dS', columns= 'p_classification')\n",
    "t_be, p_be = stats.ranksums(df.BUSCO.dropna().values, df.Effector.dropna().values)\n",
    "t_oe, p_oe = stats.ranksums(df.OTHER_GENE.dropna().values, df.Effector.dropna().values)\n",
    "print(stats.ranksums(df.BUSCO.dropna().values, df.Effector.dropna().values))\n",
    "print(stats.ranksums(df.OTHER_GENE.dropna().values, df.Effector.dropna().values))\n",
    "print(statsmodels.sandbox.stats.multicomp.multipletests([p_be, p_oe],\\\n",
    "    alpha=0.05, method='bonferroni', is_sorted=False, returnsorted=False))\n",
    "print((df.BUSCO.dropna().values ==0).sum()\\\n",
    "      ,(df.Effector.dropna().values ==0).sum()\\\n",
    "      ,(df.OTHER_GENE.dropna().values ==0).sum())\n",
    "print((df.BUSCO.dropna().values ==0).sum()/\n",
    "      len(df.BUSCO.dropna().values),\\\n",
    "      (df.Effector.dropna().values ==0).sum()/\\\n",
    "      len(df.Effector.dropna().values),\\\n",
    "      (df.OTHER_GENE.dropna().values ==0).sum()/\\\n",
    "     len(df.OTHER_GENE.dropna().values))\n",
    "print(df.BUSCO.dropna().mean(),df.Effector.dropna().mean(),df.OTHER_GENE.dropna().mean() )\n",
    "print(df.BUSCO.dropna().median(),df.Effector.dropna().median(),df.OTHER_GENE.dropna().median() )\n",
    "df.describe()"
   ]
  },
  {
   "cell_type": "code",
   "execution_count": 51,
   "metadata": {},
   "outputs": [
    {
     "name": "stdout",
     "output_type": "stream",
     "text": [
      "RanksumsResult(statistic=-14.766427624137291, pvalue=2.4116107498224865e-49)\n",
      "RanksumsResult(statistic=-3.9129416568717192, pvalue=9.1178569708247822e-05)\n",
      "(array([ True,  True], dtype=bool), array([  4.82322150e-49,   1.82357139e-04]), 0.025320565519103666, 0.025)\n",
      "150 52 579\n",
      "0.192307692308 0.0950639853748 0.118453355155\n",
      "0.20383107027228764 0.4727579619340935 0.440833817422581\n",
      "0.10383021102497847 0.37759336099585067 0.2837663534180947\n"
     ]
    },
    {
     "data": {
      "text/html": [
       "<div>\n",
       "<style>\n",
       "    .dataframe thead tr:only-child th {\n",
       "        text-align: right;\n",
       "    }\n",
       "\n",
       "    .dataframe thead th {\n",
       "        text-align: left;\n",
       "    }\n",
       "\n",
       "    .dataframe tbody tr th {\n",
       "        vertical-align: top;\n",
       "    }\n",
       "</style>\n",
       "<table border=\"1\" class=\"dataframe\">\n",
       "  <thead>\n",
       "    <tr style=\"text-align: right;\">\n",
       "      <th>p_classification</th>\n",
       "      <th>BUSCO</th>\n",
       "      <th>Effector</th>\n",
       "      <th>OTHER_GENE</th>\n",
       "    </tr>\n",
       "  </thead>\n",
       "  <tbody>\n",
       "    <tr>\n",
       "      <th>count</th>\n",
       "      <td>780.000000</td>\n",
       "      <td>547.000000</td>\n",
       "      <td>4888.000000</td>\n",
       "    </tr>\n",
       "    <tr>\n",
       "      <th>mean</th>\n",
       "      <td>0.203831</td>\n",
       "      <td>0.472758</td>\n",
       "      <td>0.440834</td>\n",
       "    </tr>\n",
       "    <tr>\n",
       "      <th>std</th>\n",
       "      <td>0.297731</td>\n",
       "      <td>0.466847</td>\n",
       "      <td>0.517568</td>\n",
       "    </tr>\n",
       "    <tr>\n",
       "      <th>min</th>\n",
       "      <td>0.000000</td>\n",
       "      <td>0.000000</td>\n",
       "      <td>0.000000</td>\n",
       "    </tr>\n",
       "    <tr>\n",
       "      <th>25%</th>\n",
       "      <td>0.030479</td>\n",
       "      <td>0.174308</td>\n",
       "      <td>0.101662</td>\n",
       "    </tr>\n",
       "    <tr>\n",
       "      <th>50%</th>\n",
       "      <td>0.103830</td>\n",
       "      <td>0.377593</td>\n",
       "      <td>0.283766</td>\n",
       "    </tr>\n",
       "    <tr>\n",
       "      <th>75%</th>\n",
       "      <td>0.237302</td>\n",
       "      <td>0.655396</td>\n",
       "      <td>0.600175</td>\n",
       "    </tr>\n",
       "    <tr>\n",
       "      <th>max</th>\n",
       "      <td>2.666667</td>\n",
       "      <td>4.500000</td>\n",
       "      <td>8.247312</td>\n",
       "    </tr>\n",
       "  </tbody>\n",
       "</table>\n",
       "</div>"
      ],
      "text/plain": [
       "p_classification       BUSCO    Effector   OTHER_GENE\n",
       "count             780.000000  547.000000  4888.000000\n",
       "mean                0.203831    0.472758     0.440834\n",
       "std                 0.297731    0.466847     0.517568\n",
       "min                 0.000000    0.000000     0.000000\n",
       "25%                 0.030479    0.174308     0.101662\n",
       "50%                 0.103830    0.377593     0.283766\n",
       "75%                 0.237302    0.655396     0.600175\n",
       "max                 2.666667    4.500000     8.247312"
      ]
     },
     "execution_count": 51,
     "metadata": {},
     "output_type": "execute_result"
    }
   ],
   "source": [
    "df = allele_hit_df.loc[:,['LWL85m_dN/dS', \"p_classification\"]].copy()\n",
    "df = df.pivot(values='LWL85m_dN/dS', columns= 'p_classification')\n",
    "t_be, p_be = stats.ranksums(df.BUSCO.dropna().values, df.Effector.dropna().values)\n",
    "t_oe, p_oe = stats.ranksums(df.OTHER_GENE.dropna().values, df.Effector.dropna().values)\n",
    "print(stats.ranksums(df.BUSCO.dropna().values, df.Effector.dropna().values))\n",
    "print(stats.ranksums(df.OTHER_GENE.dropna().values, df.Effector.dropna().values))\n",
    "print(statsmodels.sandbox.stats.multicomp.multipletests([p_be, p_oe],\\\n",
    "    alpha=0.05, method='bonferroni', is_sorted=False, returnsorted=False))\n",
    "print((df.BUSCO.dropna().values ==0).sum()\\\n",
    "      ,(df.Effector.dropna().values ==0).sum()\\\n",
    "      ,(df.OTHER_GENE.dropna().values ==0).sum())\n",
    "print((df.BUSCO.dropna().values ==0).sum()/\n",
    "      len(df.BUSCO.dropna().values),\\\n",
    "      (df.Effector.dropna().values ==0).sum()/\\\n",
    "      len(df.Effector.dropna().values),\\\n",
    "      (df.OTHER_GENE.dropna().values ==0).sum()/\\\n",
    "     len(df.OTHER_GENE.dropna().values))\n",
    "print(df.BUSCO.dropna().mean(),df.Effector.dropna().mean(),df.OTHER_GENE.dropna().mean() )\n",
    "print(df.BUSCO.dropna().median(),df.Effector.dropna().median(),df.OTHER_GENE.dropna().median() )\n",
    "df.describe()"
   ]
  },
  {
   "cell_type": "code",
   "execution_count": 52,
   "metadata": {},
   "outputs": [
    {
     "data": {
      "text/plain": [
       "[]"
      ]
     },
     "execution_count": 52,
     "metadata": {},
     "output_type": "execute_result"
    },
    {
     "data": {
      "image/png": "[encoded data removed]",
      "text/plain": [
       "<matplotlib.figure.Figure at 0x7f98af9cb128>"
      ]
     },
     "metadata": {},
     "output_type": "display_data"
    }
   ],
   "source": [
    "#some quick plots do visualize the data\n",
    "f, ax = plt.subplots(figsize=(15, 10))\n",
    "df = allele_hit_df.loc[:,['protein_levenshtein', \"p_classification\"]].fillna(0).copy()\n",
    "#ax.set_xscale(\"log\")\n",
    "sns.violinplot(y='protein_levenshtein', x=\"p_classification\", data=df.sort_values(\"p_classification\"), cut=0,\n",
    "          whis=np.inf)\n",
    "plt.setp(ax.artists, alpha=.01)\n",
    "#sns.swarmplot(x='protein/cds_levdist', y=\"p_classification\", data=df,\n",
    "              #size=2, color=\".3\", linewidth=0)"
   ]
  },
  {
   "cell_type": "code",
   "execution_count": 53,
   "metadata": {},
   "outputs": [
    {
     "data": {
      "text/plain": [
       "[]"
      ]
     },
     "execution_count": 53,
     "metadata": {},
     "output_type": "execute_result"
    },
    {
     "data": {
      "image/png": "[encoded data removed]",
      "text/plain": [
       "<matplotlib.figure.Figure at 0x7f98ec3e97b8>"
      ]
     },
     "metadata": {},
     "output_type": "display_data"
    }
   ],
   "source": [
    "df = allele_hit_df.loc[:,['protein_levenshtein', \"p_classification\"]].copy()\n",
    "qdf = quant_cut_df(df.pivot(values='protein_levenshtein', columns= 'p_classification'))\n",
    "\n",
    "f, ax = plt.subplots(figsize=(15, 10))\n",
    "df = qdf.melt()\n",
    "#ax.set_xscale(\"log\")\n",
    "sns.violinplot(x='value', y=\"p_classification\", data=df, cut=0,\n",
    "          whis=np.inf)\n",
    "plt.setp(ax.artists, alpha=.01)\n",
    "#sns.swarmplot(x='value', y=\"p_classification\", data=df,size=2, color=\".3\", linewidth=0)"
   ]
  },
  {
   "cell_type": "code",
   "execution_count": 54,
   "metadata": {},
   "outputs": [
    {
     "data": {
      "text/plain": [
       "[]"
      ]
     },
     "execution_count": 54,
     "metadata": {},
     "output_type": "execute_result"
    },
    {
     "data": {
      "image/png": "[encoded data removed]",
      "text/plain": [
       "<matplotlib.figure.Figure at 0x7f98ed346f98>"
      ]
     },
     "metadata": {},
     "output_type": "display_data"
    }
   ],
   "source": [
    "f, ax = plt.subplots(figsize=(15, 10))\n",
    "df = allele_hit_df.loc[:,['cds_levenshtein', \"p_classification\"]].fillna(0).copy()\n",
    "#ax.set_xscale(\"log\")\n",
    "sns.violinplot(x='cds_levenshtein', y=\"p_classification\", data=df.sort_values(\"p_classification\"), cut=0,\n",
    "          whis=np.inf)\n",
    "plt.setp(ax.artists, alpha=.01)\n",
    "#sns.swarmplot(x='protein/cds_levdist', y=\"p_classification\", data=df,\n",
    "              #size=2, color=\".3\", linewidth=0)"
   ]
  },
  {
   "cell_type": "code",
   "execution_count": 55,
   "metadata": {},
   "outputs": [
    {
     "data": {
      "text/plain": [
       "[]"
      ]
     },
     "execution_count": 55,
     "metadata": {},
     "output_type": "execute_result"
    },
    {
     "data": {
      "image/png": "[encoded data removed]",
      "text/plain": [
       "<matplotlib.figure.Figure at 0x7f98ed2614e0>"
      ]
     },
     "metadata": {},
     "output_type": "display_data"
    }
   ],
   "source": [
    "df = allele_hit_df.loc[:,['cds_levenshtein', \"p_classification\"]].copy()\n",
    "qdf = quant_cut_df(df.pivot(values='cds_levenshtein', columns= 'p_classification'))\n",
    "\n",
    "f, ax = plt.subplots(figsize=(15, 10))\n",
    "df = qdf.melt()\n",
    "#ax.set_xscale(\"log\")\n",
    "sns.violinplot(x='value', y=\"p_classification\", data=df.sort_values(\"p_classification\"), cut=0,\n",
    "          whis=np.inf)\n",
    "plt.setp(ax.artists, alpha=.01)\n",
    "#sns.swarmplot(x='protein/cds_levdist', y=\"p_classification\", data=df,\n",
    "              #size=2, color=\".3\", linewidth=0)"
   ]
  },
  {
   "cell_type": "markdown",
   "metadata": {},
   "source": [
    "The next section is about overlaying/attaching the allelic variation level with physical distances"
   ]
  },
  {
   "cell_type": "code",
   "execution_count": 88,
   "metadata": {},
   "outputs": [
    {
     "name": "stderr",
     "output_type": "stream",
     "text": [
      "/home/benjamin/anaconda3/lib/python3.5/site-packages/pybedtools/bedtool.py:3287: UserWarning: Default names for filetype bed are:\n",
      "['chrom', 'start', 'end', 'name', 'score', 'strand', 'thickStart', 'thickEnd', 'itemRgb', 'blockCount', 'blockSizes', 'blockStarts']\n",
      "but file has 13 fields; you can supply custom names with the `names` kwarg\n",
      "  % (self.file_type, _names, self.field_count()))\n"
     ]
    }
   ],
   "source": [
    "e_to_b_closest_df = feature_bed_dict['effector'].closest(feature_bed_dict['busco']\\\n",
    "                                    ,d=True,t='last', io=True).to_dataframe().iloc[:,[3,9,12]]\n",
    "new_header = ['Effector', 'Busco', 'distance']\n",
    "e_to_b_closest_df.rename(columns=dict(zip(e_to_b_closest_df.columns, new_header)), inplace=True)\n",
    "\n",
    "e_to_b_closest_df = e_to_b_closest_df[e_to_b_closest_df.Busco != '.']\n",
    "\n",
    "#now add the classification for each effector\n",
    "e_to_b_closest_df['Classification'] = \"Allele\"\n",
    "singleton_array = e_to_b_closest_df.Effector.str.replace('TU','model').isin(singeltons)\n",
    "e_to_b_closest_df.loc[e_to_b_closest_df[singleton_array].index,'Classification' ] = \"Singleton\"\n",
    "no_allele_ortho_array = e_to_b_closest_df.Effector.str\\\n",
    "    .replace('TU','model').isin(no_allele_orthologs)\n",
    "e_to_b_closest_df.loc[e_to_b_closest_df[no_allele_ortho_array].index,'Classification' ] \\\n",
    "= \"Non-allelic protein 'orthologs'\"\n",
    "allele_array = e_to_b_closest_df.Effector.str\\\n",
    "    .replace('TU','model').isin(allele_hit_df.Query.unique())\n",
    "e_to_b_closest_df.loc[e_to_b_closest_df[allele_array].index,'Classification' ] = \"Allele\""
   ]
  },
  {
   "cell_type": "code",
   "execution_count": 89,
   "metadata": {
    "collapsed": true
   },
   "outputs": [],
   "source": [
    "e_to_b_closest_df.sort_values(by='Classification', inplace= True)"
   ]
  },
  {
   "cell_type": "code",
   "execution_count": 90,
   "metadata": {
    "scrolled": false
   },
   "outputs": [
    {
     "data": {
      "text/plain": [
       "<matplotlib.axes._subplots.AxesSubplot at 0x7f98ed5f7470>"
      ]
     },
     "execution_count": 90,
     "metadata": {},
     "output_type": "execute_result"
    },
    {
     "data": {
      "image/png": "[encoded data removed]",
      "text/plain": [
       "<matplotlib.figure.Figure at 0x7f98eb5acf60>"
      ]
     },
     "metadata": {},
     "output_type": "display_data"
    }
   ],
   "source": [
    "#quick plot ot look at distance of effectors to buscos according to their classification\n",
    "f, ax = plt.subplots(figsize=(15, 10))\n",
    "sns.violinplot(x='Classification', y='distance', data =e_to_b_closest_df, cut=0)"
   ]
  },
  {
   "cell_type": "code",
   "execution_count": 91,
   "metadata": {},
   "outputs": [
    {
     "name": "stdout",
     "output_type": "stream",
     "text": [
      "4.33573451861e-07 0.277059927158 0.391575096337\n",
      "KruskalResult(statistic=25.909444798257574, pvalue=2.3650239738701233e-06)\n",
      "(array([ True, False, False], dtype=bool), array([  1.30072036e-06,   8.31179781e-01,   1.00000000e+00]), 0.016952427508441503, 0.016666666666666666)\n"
     ]
    }
   ],
   "source": [
    "#do some stats on these distances\n",
    "s_test = e_to_b_closest_df[e_to_b_closest_df.Classification == 'Singleton']['distance'].values\n",
    "a_test = e_to_b_closest_df[e_to_b_closest_df.Classification == \"Allele\"]['distance'].values\n",
    "n_test = e_to_b_closest_df[e_to_b_closest_df.Classification == \\\n",
    "                           \"Non-allelic protein 'orthologs'\"]['distance'].values\n",
    "_, p_sa = stats.stats.ranksums(s_test, a_test)\n",
    "_, p_sn = stats.stats.ranksums(s_test, n_test)\n",
    "_, p_an = stats.stats.ranksums(a_test, n_test)  \n",
    "print(p_sa, p_sn, p_an)\n",
    "print(stats.stats.kruskal(s_test, n_test, a_test))\n",
    "print(statsmodels.sandbox.stats.multicomp.multipletests([p_sa, p_sn, p_an],\\\n",
    "    alpha=0.05, method='bonferroni', is_sorted=False, returnsorted=False))\n",
    "_, [cp_sa,cp_sn, cp_an] , _, _ = statsmodels.sandbox.stats.multicomp.multipletests([p_sa, p_sn, p_an],\\\n",
    "    alpha=0.05, method='bonferroni', is_sorted=False, returnsorted=False)"
   ]
  },
  {
   "cell_type": "code",
   "execution_count": 92,
   "metadata": {},
   "outputs": [
    {
     "name": "stdout",
     "output_type": "stream",
     "text": [
      "4.33573451861e-07 0.277059927158 0.391575096337\n"
     ]
    },
    {
     "data": {
      "image/png": "[encoded data removed]",
      "text/plain": [
       "<matplotlib.figure.Figure at 0x7f98ecb46550>"
      ]
     },
     "metadata": {},
     "output_type": "display_data"
    }
   ],
   "source": [
    "from matplotlib.font_manager import FontProperties\n",
    "df = e_to_b_closest_df\n",
    "sns.set_style(\"white\")\n",
    "#do a boxplot and swarmplot on the same data\n",
    "fig, ax = plt.subplots(figsize=(10, 10))\n",
    "\n",
    "#quick rename\n",
    "r_index = df[df.Classification == \"Non-allelic protein 'orthologs'\"].index\n",
    "df.loc[r_index, 'Classification'] = \"Non-allelic \\ninter-haplome paralog\"\n",
    "#ax.set_xscale(\"log\")\n",
    "sns.violinplot(x='Classification', y='distance', data =df, \n",
    "          whis=np.inf, palette=sns.color_palette('colorblind'))\n",
    "plt.setp(ax.artists, alpha=.01)\n",
    "#sns.swarmplot(y=\"value\", x=\"variable\", data=df,\n",
    " #           size=2, color=\".3\", linewidth=0)\n",
    "#set the labels\n",
    "plt.ylim(0, 400000)\n",
    "\n",
    "#add the title\n",
    "font0 = FontProperties()\n",
    "font = font0.copy()\n",
    "font.set_weight('bold')\n",
    "font.set_size(20)\n",
    "\n",
    "title = 'Minimum distance of candidate effectors in given category to closest BUSCO'\n",
    "plt.title(title.replace('given', 'given\\n'), fontproperties=font)\n",
    "\n",
    "#add the title\n",
    "font0 = FontProperties()\n",
    "font_axis = font0.copy()\n",
    "font_axis.set_size(20)\n",
    "\n",
    "plt.xlabel(\"Candidate effector categories\", fontproperties=font_axis)\n",
    "plt.ylabel('Distance in bp',fontproperties=font_axis)\n",
    "#adjust the position of the label\n",
    "ax.xaxis.set_label_coords(0.5,-0.12)\n",
    "\n",
    "\n",
    "#set font size for labels and such\n",
    "fs = 20\n",
    "print(p_sa, p_sn, p_an)\n",
    "#plot the ns number is the plot as well\n",
    "ax.text(0.2, 50000, 'n=%i'% len(a_test), color='k', fontsize=fs)\n",
    "ax.text(1.2, 50000, 'n=%i'% len(n_test), color='k', fontsize=fs)\n",
    "ax.text(2.2, 50000, 'n=%i'% len(s_test), color='k', fontsize=fs)\n",
    "#add the stats to it as well with numbers and lines\n",
    "ax.text(0.15, 270000, 'p~%.2E*'% cp_an, color='k', fontsize=fs)\n",
    "ax.plot([-0.1, 1.1], [265000, 265000],color ='k' ,lw=1)\n",
    "ax.text(1.25, 305000, 'p~%.2E'% cp_sa, color='k', fontsize=fs)\n",
    "ax.plot([0.1, 1.9], [300000, 300000],color ='k' ,lw=1)\n",
    "ax.text(1.25, 105000, 'p~%.2E*'% cp_sn, color='k', fontsize=fs)\n",
    "ax.plot([0.9, 1.9], [100000, 100000],color ='k' ,lw=1)\n",
    "sns.despine(offset=10, trim=True)\n",
    "\n",
    "#fontsize of ticks\n",
    "ax.tick_params(labelsize=fs)\n",
    "\n",
    "#save the file as well\n",
    "out_file_name = \"_\".join(title.split(' '))\n",
    "fig.savefig(os.path.join(OUT_FOLDER_FIG, out_file_name+'_v2.png'), dpi=600)"
   ]
  },
  {
   "cell_type": "code",
   "execution_count": 62,
   "metadata": {},
   "outputs": [
    {
     "data": {
      "text/html": [
       "<div>\n",
       "<style>\n",
       "    .dataframe thead tr:only-child th {\n",
       "        text-align: right;\n",
       "    }\n",
       "\n",
       "    .dataframe thead th {\n",
       "        text-align: left;\n",
       "    }\n",
       "\n",
       "    .dataframe tbody tr th {\n",
       "        vertical-align: top;\n",
       "    }\n",
       "</style>\n",
       "<table border=\"1\" class=\"dataframe\">\n",
       "  <thead>\n",
       "    <tr style=\"text-align: right;\">\n",
       "      <th>Classification</th>\n",
       "      <th>Allele</th>\n",
       "      <th>Non-allelic protein 'orthologs'</th>\n",
       "      <th>Singleton</th>\n",
       "    </tr>\n",
       "  </thead>\n",
       "  <tbody>\n",
       "    <tr>\n",
       "      <th>count</th>\n",
       "      <td>1241.000000</td>\n",
       "      <td>28.000000</td>\n",
       "      <td>290.000000</td>\n",
       "    </tr>\n",
       "    <tr>\n",
       "      <th>mean</th>\n",
       "      <td>22014.203868</td>\n",
       "      <td>20863.607143</td>\n",
       "      <td>38713.293103</td>\n",
       "    </tr>\n",
       "    <tr>\n",
       "      <th>std</th>\n",
       "      <td>26881.099463</td>\n",
       "      <td>17239.819754</td>\n",
       "      <td>52500.369794</td>\n",
       "    </tr>\n",
       "    <tr>\n",
       "      <th>min</th>\n",
       "      <td>281.000000</td>\n",
       "      <td>468.000000</td>\n",
       "      <td>525.000000</td>\n",
       "    </tr>\n",
       "    <tr>\n",
       "      <th>25%</th>\n",
       "      <td>4122.000000</td>\n",
       "      <td>9199.250000</td>\n",
       "      <td>6618.750000</td>\n",
       "    </tr>\n",
       "    <tr>\n",
       "      <th>50%</th>\n",
       "      <td>12689.000000</td>\n",
       "      <td>14560.500000</td>\n",
       "      <td>20255.500000</td>\n",
       "    </tr>\n",
       "    <tr>\n",
       "      <th>75%</th>\n",
       "      <td>29960.000000</td>\n",
       "      <td>32927.250000</td>\n",
       "      <td>45924.500000</td>\n",
       "    </tr>\n",
       "    <tr>\n",
       "      <th>max</th>\n",
       "      <td>241042.000000</td>\n",
       "      <td>70337.000000</td>\n",
       "      <td>339166.000000</td>\n",
       "    </tr>\n",
       "  </tbody>\n",
       "</table>\n",
       "</div>"
      ],
      "text/plain": [
       "Classification         Allele  Non-allelic protein 'orthologs'      Singleton\n",
       "count             1241.000000                        28.000000     290.000000\n",
       "mean             22014.203868                     20863.607143   38713.293103\n",
       "std              26881.099463                     17239.819754   52500.369794\n",
       "min                281.000000                       468.000000     525.000000\n",
       "25%               4122.000000                      9199.250000    6618.750000\n",
       "50%              12689.000000                     14560.500000   20255.500000\n",
       "75%              29960.000000                     32927.250000   45924.500000\n",
       "max             241042.000000                     70337.000000  339166.000000"
      ]
     },
     "execution_count": 62,
     "metadata": {},
     "output_type": "execute_result"
    }
   ],
   "source": [
    "#quick summary of the data\n",
    "e_to_b_closest_df.groupby('Classification')['distance'].describe().T"
   ]
  },
  {
   "cell_type": "code",
   "execution_count": 63,
   "metadata": {
    "collapsed": true
   },
   "outputs": [],
   "source": [
    "e_allele_to_b_closest_df = e_to_b_closest_df[e_to_b_closest_df.Classification == 'Allele'].copy()"
   ]
  },
  {
   "cell_type": "code",
   "execution_count": 64,
   "metadata": {
    "collapsed": true
   },
   "outputs": [],
   "source": [
    "#now fuse all the other variables previously calucated to the distance dataframe\n",
    "e_allele_to_b_closest_df['Query'] = e_allele_to_b_closest_df.Effector.apply(lambda x:\n",
    "                                                                           x.replace('TU','model'))\n",
    "\n",
    "e_allele_to_b_closest_df = pd.merge(e_allele_to_b_closest_df,allele_hit_df.loc[:,\\\n",
    "            ['Query', 'codmel_dN/dS', 'protein_hamming',\n",
    "       'cds_hamming', 'protein_levenshtein', 'cds_levenshtein', 'vn00_dN/dS',\n",
    "       'LWL85_dN/dS', 'LWL85m_dN/dS', 'LPB93_dN/dS', 'protein/cds_levdist']], on='Query')"
   ]
  },
  {
   "cell_type": "code",
   "execution_count": 131,
   "metadata": {},
   "outputs": [
    {
     "name": "stdout",
     "output_type": "stream",
     "text": [
      "SpearmanrResult(correlation=-0.0073986402945872744, pvalue=0.79693757666057463)\n"
     ]
    },
    {
     "data": {
      "image/png": "[encoded data removed]",
      "text/plain": [
       "<matplotlib.figure.Figure at 0x7fc23ea66b00>"
      ]
     },
     "metadata": {},
     "output_type": "display_data"
    }
   ],
   "source": [
    "#this is the quick calculation if there is a correlation between distance to busco and \n",
    "#levensthein distance on the protein level\n",
    "df = e_allele_to_b_closest_df[e_allele_to_b_closest_df['protein_levenshtein'] > -0.1]\n",
    "x_now = df.distance\n",
    "y_now=df['protein_levenshtein']\n",
    "plt.scatter(x=x_now,y=y_now, marker ='+', color='k')\n",
    "print(stats.spearmanr(x_now, y_now,nan_policy='omit'))"
   ]
  },
  {
   "cell_type": "code",
   "execution_count": 133,
   "metadata": {},
   "outputs": [
    {
     "name": "stdout",
     "output_type": "stream",
     "text": [
      "SpearmanrResult(correlation=0.051510462188612736, pvalue=0.2013386144439768)\n"
     ]
    },
    {
     "data": {
      "image/png": "[encoded data removed]",
      "text/plain": [
       "<matplotlib.figure.Figure at 0x7fc23e95d630>"
      ]
     },
     "metadata": {},
     "output_type": "display_data"
    }
   ],
   "source": [
    "#this is the quick calculation if there is a correlation between distance to busco and \n",
    "#levensthein distance on the protein level\n",
    "df = e_allele_to_b_closest_df[e_allele_to_b_closest_df['vn00_dN/dS'] > -0.1]\n",
    "x_now = df.distance\n",
    "y_now=df['vn00_dN/dS']\n",
    "plt.scatter(x=x_now,y=y_now, marker ='+', color='k')\n",
    "print(stats.spearmanr(x_now, y_now,nan_policy='omit'))"
   ]
  },
  {
   "cell_type": "code",
   "execution_count": 132,
   "metadata": {},
   "outputs": [
    {
     "data": {
      "text/plain": [
       "<matplotlib.collections.PathCollection at 0x7fc23e9cae80>"
      ]
     },
     "execution_count": 132,
     "metadata": {},
     "output_type": "execute_result"
    },
    {
     "data": {
      "image/png": "[encoded data removed]",
      "text/plain": [
       "<matplotlib.figure.Figure at 0x7fc23f37fcc0>"
      ]
     },
     "metadata": {},
     "output_type": "display_data"
    }
   ],
   "source": [
    "fig, ax = plt.subplots(figsize=(12,12))\n",
    "plt.scatter(x=np.log10(e_allele_to_b_closest_df.distance), y=e_allele_to_b_closest_df['vn00_dN/dS'] )"
   ]
  },
  {
   "cell_type": "code",
   "execution_count": 78,
   "metadata": {},
   "outputs": [
    {
     "name": "stderr",
     "output_type": "stream",
     "text": [
      "/home/benjamin/anaconda3/lib/python3.5/site-packages/pybedtools/bedtool.py:3287: UserWarning: Default names for filetype bed are:\n",
      "['chrom', 'start', 'end', 'name', 'score', 'strand', 'thickStart', 'thickEnd', 'itemRgb', 'blockCount', 'blockSizes', 'blockStarts']\n",
      "but file has 13 fields; you can supply custom names with the `names` kwarg\n",
      "  % (self.file_type, _names, self.field_count()))\n"
     ]
    }
   ],
   "source": [
    "#make a closest_df with Classificaiton and allelic variation\n",
    "e_to_g_closest_df = feature_bed_dict['effector'].closest(feature_bed_dict['genes']\\\n",
    "                                    ,d=True,t='last', io=True).to_dataframe().iloc[:,[3,9,12]]\n",
    "new_header = ['Effector', 'gene', 'distance']\n",
    "e_to_g_closest_df.rename(columns=dict(zip(e_to_g_closest_df.columns, new_header)), inplace=True)\n",
    "\n",
    "e_to_g_closest_df = e_to_g_closest_df[e_to_g_closest_df.gene != '.']\n",
    "\n",
    "#now add the Classification for each effector\n",
    "e_to_g_closest_df['Classification'] = \"Allele\"\n",
    "singleton_array = e_to_g_closest_df.Effector.str.replace('TU','model').isin(singeltons)\n",
    "e_to_g_closest_df.loc[e_to_g_closest_df[singleton_array].index,'Classification' ] = \"Singleton\"\n",
    "no_allele_ortho_array = e_to_g_closest_df.Effector.str\\\n",
    "    .replace('TU','model').isin(no_allele_orthologs)\n",
    "e_to_g_closest_df.loc[e_to_g_closest_df[no_allele_ortho_array].index,'Classification' ] = \\\n",
    "\"Non-allelic protein 'orthologs'\"\n",
    "allele_array = e_to_g_closest_df.Effector.str\\\n",
    "    .replace('TU','model').isin(allele_hit_df.Query.unique())\n",
    "e_to_g_closest_df.loc[e_to_g_closest_df[allele_array].index,'Classification' ] = \"Allele\"\n",
    "\n",
    "#now for alleles\n",
    "e_allele_to_g_closest_df = e_to_g_closest_df[e_to_g_closest_df.Classification == 'Allele'].copy()\n",
    "e_allele_to_g_closest_df['Query'] = e_allele_to_g_closest_df.Effector.apply(lambda x:\n",
    "                                                                           x.replace('TU','model'))\n",
    "\n",
    "e_allele_to_g_closest_df = pd.merge(e_allele_to_g_closest_df,allele_hit_df.loc[:,\\\n",
    "            ['Query', 'codmel_dN/dS', 'protein_hamming',\n",
    "       'cds_hamming', 'protein_levenshtein', 'cds_levenshtein', 'vn00_dN/dS',\n",
    "       'LWL85_dN/dS', 'LWL85m_dN/dS', 'LPB93_dN/dS', 'protein/cds_levdist']], on='Query')"
   ]
  },
  {
   "cell_type": "code",
   "execution_count": 79,
   "metadata": {
    "collapsed": true
   },
   "outputs": [],
   "source": [
    "e_to_g_closest_df.sort_values(by='Classification', inplace=True)"
   ]
  },
  {
   "cell_type": "code",
   "execution_count": 80,
   "metadata": {},
   "outputs": [
    {
     "data": {
      "text/plain": [
       "<matplotlib.axes._subplots.AxesSubplot at 0x7f98ed303438>"
      ]
     },
     "execution_count": 80,
     "metadata": {},
     "output_type": "execute_result"
    },
    {
     "data": {
      "image/png": "[encoded data removed]",
      "text/plain": [
       "<matplotlib.figure.Figure at 0x7f98afa73710>"
      ]
     },
     "metadata": {},
     "output_type": "display_data"
    }
   ],
   "source": [
    "#quick plot\n",
    "f, ax = plt.subplots(figsize=(15, 10))\n",
    "sns.violinplot(x='Classification', y='distance', data =e_to_g_closest_df, cut=0)"
   ]
  },
  {
   "cell_type": "code",
   "execution_count": 82,
   "metadata": {},
   "outputs": [
    {
     "name": "stdout",
     "output_type": "stream",
     "text": [
      "0.323194573051 0.0366144806652 0.0493388181324\n",
      "KruskalResult(statistic=4.9963466230767004, pvalue=0.082235079377417655)\n",
      "(array([False, False, False], dtype=bool), array([ 0.96958372,  0.10984344,  0.14801645]), 0.016952427508441503, 0.016666666666666666)\n"
     ]
    }
   ],
   "source": [
    "s_test = e_to_g_closest_df[e_to_g_closest_df.Classification == 'Singleton']['distance'].values\n",
    "a_test = e_to_g_closest_df[e_to_g_closest_df.Classification == \"Allele\"]['distance'].values\n",
    "n_test = e_to_g_closest_df[e_to_g_closest_df.Classification == \\\n",
    "                           \"Non-allelic protein 'orthologs'\"]['distance'].values\n",
    "_, p_sa = stats.stats.ranksums(s_test, a_test)\n",
    "_, p_sn = stats.stats.ranksums(s_test, n_test)\n",
    "_, p_an = stats.stats.ranksums(a_test, n_test)  \n",
    "print(p_sa, p_sn, p_an)\n",
    "print(stats.stats.kruskal(s_test, n_test, a_test))\n",
    "print(statsmodels.sandbox.stats.multicomp.multipletests([p_sa, p_sn, p_an],\\\n",
    "    alpha=0.05, method='bonferroni', is_sorted=False, returnsorted=False))\n",
    "_, [cp_sa,cp_sn, cp_an] , _, _ = statsmodels.sandbox.stats.multicomp.multipletests([p_sa, p_sn, p_an],\\\n",
    "    alpha=0.05, method='bonferroni', is_sorted=False, returnsorted=False)"
   ]
  },
  {
   "cell_type": "code",
   "execution_count": 87,
   "metadata": {},
   "outputs": [
    {
     "name": "stdout",
     "output_type": "stream",
     "text": [
      "0.323194573051 0.0366144806652 0.0493388181324\n"
     ]
    },
    {
     "data": {
      "image/png": "[encoded data removed]",
      "text/plain": [
       "<matplotlib.figure.Figure at 0x7f98eca3a5c0>"
      ]
     },
     "metadata": {},
     "output_type": "display_data"
    }
   ],
   "source": [
    "from matplotlib.font_manager import FontProperties\n",
    "df = e_to_g_closest_df\n",
    "sns.set_style(\"white\")\n",
    "#do a boxplot and swarmplot on the same data\n",
    "fig, ax = plt.subplots(figsize=(10, 10))\n",
    "\n",
    "#quick rename\n",
    "r_index = df[df.Classification == \"Non-allelic protein 'orthologs'\"].index\n",
    "df.loc[r_index, 'Classification'] = \"Non-allelic \\ninter-haplome paralog\"\n",
    "\n",
    "#ax.set_xscale(\"log\")\n",
    "sns.violinplot(x='Classification', y='distance', data =df, \n",
    "          whis=np.inf, palette=sns.color_palette('colorblind'))\n",
    "plt.setp(ax.artists, alpha=.01)\n",
    "\n",
    "\n",
    "\n",
    "plt.ylim(0, 19000)\n",
    "\n",
    "#add the title\n",
    "font0 = FontProperties()\n",
    "font = font0.copy()\n",
    "font.set_weight('bold')\n",
    "font.set_size(20)\n",
    "\n",
    "title = 'Minimum distance of candidate effectors in given category to closest gene'\n",
    "plt.title(title.replace('given', 'given\\n'), fontproperties=font)\n",
    "\n",
    "#add the title\n",
    "font0 = FontProperties()\n",
    "font_axis = font0.copy()\n",
    "font_axis.set_size(20)\n",
    "\n",
    "plt.xlabel(\"Candidate effector categories\", fontproperties=font_axis)\n",
    "plt.ylabel('Distance in bp',fontproperties=font_axis)\n",
    "#adjust the position of the label\n",
    "ax.xaxis.set_label_coords(0.5,-0.12)\n",
    "\n",
    "#set font size for labels and such\n",
    "fs = 20\n",
    "print(p_sa, p_sn, p_an)\n",
    "\n",
    "#plot the ns number is the plot as well\n",
    "ax.text(0.2, 3800, 'n=%i'% len(a_test), color='k', fontsize=fs)\n",
    "ax.text(1.2, 3800, 'n=%i'% len(n_test), color='k', fontsize=fs)\n",
    "ax.text(2.2, 3800, 'n=%i'% len(s_test), color='k', fontsize=fs)\n",
    "#add the stats to it as well with numbers and lines\n",
    "ax.text(0.15, 17900, 'p~%.2E*'% cp_an, color='k', fontsize=fs)\n",
    "ax.plot([-0.1, 1.1], [17800, 17800],color ='k' ,lw=1)\n",
    "ax.text(1.25, 16800, 'p~%.2E'% cp_sa, color='k', fontsize=fs)\n",
    "ax.plot([0.1, 2.1], [16700, 16700],color ='k' ,lw=1)\n",
    "ax.text(1.25, 15200, 'p~%.2E*'% cp_sn, color='k', fontsize=fs)\n",
    "ax.plot([0.9, 2.1], [15100, 15100],color ='k' ,lw=1)\n",
    "sns.despine(offset=10, trim=True)\n",
    "\n",
    "#fontsize of ticks\n",
    "ax.tick_params(labelsize=fs)\n",
    "\n",
    "#save the file as well\n",
    "out_file_name = \"_\".join(title.split(' '))\n",
    "fig.savefig(os.path.join(OUT_FOLDER_FIG, out_file_name+'_v2.png'), dpi=600)"
   ]
  },
  {
   "cell_type": "code",
   "execution_count": null,
   "metadata": {
    "collapsed": true
   },
   "outputs": [],
   "source": []
  }
 ],
 "metadata": {
  "kernelspec": {
   "display_name": "Python 3",
   "language": "python",
   "name": "python3"
  },
  "language_info": {
   "codemirror_mode": {
    "name": "ipython",
    "version": 3
   },
   "file_extension": ".py",
   "mimetype": "text/x-python",
   "name": "python",
   "nbconvert_exporter": "python",
   "pygments_lexer": "ipython3",
   "version": "3.5.3"
  }
 },
 "nbformat": 4,
 "nbformat_minor": 2
}
