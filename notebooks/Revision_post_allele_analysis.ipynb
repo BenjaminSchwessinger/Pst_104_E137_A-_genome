{
 "cells": [
  {
   "cell_type": "markdown",
   "metadata": {},
   "source": [
    "This notebook is aimed at looked at the allele analysis output a bit more interms of what are the alleles. What is missing? What is the GO term enrichment in those if any? How much are effectors?....\n",
    "The input is based on the following ideas:\n",
    "\n",
    "\n",
    "the idea is to label alleles, non_allelic 'orthologs' singeltons, and single nuclear genes.\n",
    "* alleles are bast on proteinortho -synteny flag\n",
    "* non_allelic 'orthologs' are genes that cluster on the protein level but are not allelic\n",
    "* singeltons are genes without ‘ortholog’ in the other haplotype\n",
    "* single haplotype genes are genes that have no gene to genome blast hit e_value = 1e-2 and are not in a homozygous region.\n",
    "\n",
    "Final analysis is based on Pst_104E_v12_missing_allele_QC_v03.ipynb and Pst_104E_v12_defining_alleles_v03.ipynb in folder \n",
    "/home/benjamin/genome_assembly/PST79/FALCON/p_assemblies/v9_1/Pst_104E_v12/allele_analysis/no_alleles_proteinortho_graph516_QC_Qcov80_PctID70_evalue01 and alleles_proteinortho_graph516\n"
   ]
  },
  {
   "cell_type": "code",
   "execution_count": 1,
   "metadata": {
    "collapsed": true
   },
   "outputs": [],
   "source": [
    "%matplotlib inline"
   ]
  },
  {
   "cell_type": "code",
   "execution_count": 2,
   "metadata": {},
   "outputs": [
    {
     "name": "stderr",
     "output_type": "stream",
     "text": [
      "/home/benjamin/anaconda3/lib/python3.5/site-packages/Bio/SearchIO/__init__.py:211: BiopythonExperimentalWarning: Bio.SearchIO is an experimental submodule which may undergo significant changes prior to its future official release.\n",
      "  BiopythonExperimentalWarning)\n"
     ]
    }
   ],
   "source": [
    "import pandas as pd\n",
    "import os\n",
    "import re\n",
    "from Bio import SeqIO\n",
    "from Bio import SeqUtils\n",
    "import pysam\n",
    "from Bio.SeqRecord import SeqRecord\n",
    "from pybedtools import BedTool\n",
    "import numpy as np\n",
    "import pybedtools\n",
    "import time\n",
    "import matplotlib.pyplot as plt\n",
    "import sys\n",
    "import subprocess\n",
    "import shutil\n",
    "from Bio.Seq import Seq\n",
    "import pysam\n",
    "from Bio import SearchIO\n",
    "import json\n",
    "import glob\n",
    "import scipy.stats as stats\n",
    "import statsmodels as sms\n",
    "import statsmodels.sandbox.stats.multicomp\n",
    "import distance\n",
    "import seaborn as sns"
   ]
  },
  {
   "cell_type": "code",
   "execution_count": 3,
   "metadata": {
    "collapsed": true
   },
   "outputs": [],
   "source": [
    "pwh_set = []\n",
    "def pwh_filter (q_contig, pwh_set=pwh_set):\n",
    "    '''Checks if contig belongs to the primary with haplotig set.'''\n",
    "    if q_contig in pwh_set:\n",
    "        return True\n",
    "    else:\n",
    "        return False"
   ]
  },
  {
   "cell_type": "code",
   "execution_count": 4,
   "metadata": {
    "collapsed": true
   },
   "outputs": [],
   "source": [
    "def on_primary_contig (q_contig):\n",
    "    '''Quick function that checks if query is on primary contig or not'''\n",
    "    if q_contig.startswith('hcontig'):\n",
    "        return False\n",
    "    elif q_contig.startswith('pcontig'):\n",
    "        return True\n",
    "    else:\n",
    "        print('Contig annotation needs to start with hcontig or pcontig')"
   ]
  },
  {
   "cell_type": "code",
   "execution_count": 5,
   "metadata": {
    "collapsed": true
   },
   "outputs": [],
   "source": [
    "###make a function out of the 5' and 3' prime distance\n",
    "def _5_to_3_df(ref_bed_fn, query_bed_fn, io=False ):\n",
    "    \"\"\"Takes two bed6 filenames and returns dataframe with 5' and 3' distances.\"\"\"\n",
    "    from pybedtools import BedTool\n",
    "    ref = BedTool(ref_bed_fn)\n",
    "    query = BedTool(query_bed_fn)\n",
    "\n",
    "    sub_3 = ref.closest(query ,io=io,  N=True, iu=True, D='a' ).to_dataframe()\n",
    "    sub_3.rename(columns={12:'3_distance', 3:'query', 9:'3_target', 0:'contig'}, \\\n",
    "                 inplace=True)\n",
    "    sub_5 = ref.closest(query,\\\n",
    "                                io=io,N=True, id=True, D='a' ).to_dataframe()\n",
    "    sub_5.rename(columns={12:'5_distance', 3:'query', 9:'5_target', 0:'contig'}, inplace=True)\n",
    "\n",
    "    #merging them\n",
    "    sub_merged = sub_3.merge(sub_5, on=['query', 'contig'])\n",
    "\n",
    "    #needs to be fixed to take boundaries into account\n",
    "    #remove genes on the edges\n",
    "    sub_merged = sub_merged [((sub_merged['5_target'] != '.') & (sub_merged['3_target'] != '.') )  ]\n",
    "    sub_merged['5_distance'] = sub_merged['5_distance'].apply(lambda x: np.absolute(x))\n",
    "    return sub_merged"
   ]
  },
  {
   "cell_type": "code",
   "execution_count": 6,
   "metadata": {
    "collapsed": true
   },
   "outputs": [],
   "source": [
    "#define a function that subsets a dataframe to the inner quantil residual columnwise\n",
    "def quant_cut_df(dataframe):\n",
    "    nn_df = dataframe.copy()\n",
    "    iqr_df_low = nn_df.apply(lambda x: x.quantile(0.25) - 1.5*(x.quantile(0.75) - x.quantile(0.25)) )\n",
    "    iqr_df_low.name ='low'\n",
    "    iqr_df_high = nn_df.apply(lambda x: x.quantile(0.75) + 1.5*(x.quantile(0.75) - x.quantile(0.25)) )\n",
    "    iqr_df_high.name = 'high'\n",
    "\n",
    "    iqr_df = pd.concat([iqr_df_low, iqr_df_high], axis=1).T\n",
    "\n",
    "    iqr_nn_df = nn_df.apply(lambda x: x[(x > iqr_df.loc['low', x.name]) & (x  < iqr_df.loc['high', x.name])], axis=0)\n",
    "    return iqr_nn_df \n"
   ]
  },
  {
   "cell_type": "markdown",
   "metadata": {},
   "source": [
    "# After restart get started here."
   ]
  },
  {
   "cell_type": "code",
   "execution_count": 7,
   "metadata": {
    "collapsed": true
   },
   "outputs": [],
   "source": [
    "#Define the PATH\n",
    "BASE_AA_PATH = '/home/benjamin/genome_assembly/PST79/FALCON/p_assemblies/v9_1/Pst_104E_v12'\n",
    "BASE_A_PATH = '/home/benjamin/genome_assembly/PST79/FALCON/p_assemblies/v9_1/032017_assembly'\n",
    "BLAST_RESULT_PATH = os.path.join(BASE_AA_PATH,'allele_analysis' )\n",
    "ALLELE_PATH =os.path.join(BASE_AA_PATH ,'allele_analysis/alleles_proteinortho_graph516')\n",
    "ALLELE_QC_PATH = os.path.join(BASE_AA_PATH, 'allele_analysis', \\\n",
    "                              'no_alleles_proteinortho_graph516_QC_Qcov80_PctID70_evalue01')\n",
    "LIST_PATH = os.path.join(BASE_AA_PATH, 'enrichment_analysis', 'lists')\n",
    "POST_ALLELE_PATH = os.path.join(BASE_AA_PATH, 'post_allele_analysis')\n",
    "OUT_PATH = '/home/benjamin/genome_assembly/PST79/FALCON/p_assemblies/v9_1/Pst_104E_v12/revision/allelic_variation'\n",
    "OUT_FOLDER_FIG = OUT_PATH\n",
    "if not os.path.exists(POST_ALLELE_PATH):\n",
    "    os.mkdir(POST_ALLELE_PATH)\n",
    "if not os.path.exists(OUT_PATH):\n",
    "    os.mkdir(OUT_PATH)\n",
    "ph_gene_fasta = os.path.join(BASE_A_PATH , 'Pst_104E_v12_ph_ctg.anno.gene.fa')\n",
    "ph_cds_fasta = os.path.join(BASE_A_PATH, 'Pst_104E_v12_ph_ctg.anno.CDS.fa')\n",
    "ph_protein_fasta = os.path.join(BASE_A_PATH, 'Pst_104E_v12_ph_ctg.anno.protein.fa')\n",
    "IN_PATH = os.path.join(POST_ALLELE_PATH, 'proteinortho_graph516_QC_Qcov80_PctID70_evalue01')"
   ]
  },
  {
   "cell_type": "code",
   "execution_count": 20,
   "metadata": {
    "collapsed": true
   },
   "outputs": [],
   "source": [
    "#now read in some types of genes\n",
    "gene_group_list = ['BUSCOS', 'EFFECTORS', 'HAUSTORIA', 'EFFECTORP']\n",
    "p_gene_dict = {}\n",
    "h_gene_dict = {}\n",
    "p_gene_dict['BUSCOS'] = pd.read_csv(os.path.join(LIST_PATH, 'Pst_104E_v12_p_busco.list')\\\n",
    "                                    , header=None)[0].tolist()\n",
    "p_gene_dict['EFFECTORS'] = pd.read_csv(os.path.join(LIST_PATH, 'Pst_104E_v12_p_effector.list')\\\n",
    "                                    , header=None)[0].tolist()\n",
    "p_gene_dict['HAUSTORIA'] = pd.read_csv(os.path.join(LIST_PATH, 'Pst_104E_v12_cluster_8.list')\\\n",
    "                                    , header=None)[0].tolist()\n",
    "p_gene_dict['EFFECTORP'] = pd.read_csv(os.path.join(LIST_PATH, 'Pst_104E_v12_p_effectorp.list')\\\n",
    "                                    , header=None)[0].tolist()\n",
    "p_gene_dict['SIGNALP3'] = pd.read_csv(os.path.join(LIST_PATH, '..', 'pa_26062017',\\\n",
    "                            'Pst_104E_v12_p_ctg.SignalP3.tablist'), header=None, sep='\\t')[0].tolist()\n",
    "\n",
    "h_gene_dict['BUSCOS'] = pd.read_csv(os.path.join(LIST_PATH, 'Pst_104E_v12_h_busco.list')\\\n",
    "                                    , header=None)[0].tolist()\n",
    "h_gene_dict['EFFECTORS'] = pd.read_csv(os.path.join(LIST_PATH, 'Pst_104E_v12_h_effector.list')\\\n",
    "                                    , header=None)[0].tolist()\n",
    "h_gene_dict['HAUSTORIA'] = pd.read_csv(os.path.join(LIST_PATH, 'Pst_104E_v12_h_cluster_15.list')\\\n",
    "                                    , header=None)[0].tolist()\n",
    "h_gene_dict['EFFECTORP'] = pd.read_csv(os.path.join(LIST_PATH, 'Pst_104E_v12_h_effectorp.list')\\\n",
    "                                    , header=None)[0].tolist()\n",
    "h_gene_dict['SIGNALP3'] = pd.read_csv(os.path.join(LIST_PATH, '..', 'pa_26062017',\\\n",
    "                            'Pst_104E_v12_h_ctg.SignalP3.tablist'), header=None, sep='\\t')[0].tolist()\n",
    "\n",
    "#now get pwh and pwoh\n",
    "pwh_list = pd.read_csv(os.path.join(BASE_A_PATH, 'Pst_104E_v12_pwh.txt')\\\n",
    "                                , header=None)[0].tolist()\n",
    "pwoh_list = pd.read_csv(os.path.join(BASE_A_PATH, 'Pst_104E_v12_pwoh.txt')\\\n",
    "                                , header=None)[0].tolist()"
   ]
  },
  {
   "cell_type": "code",
   "execution_count": 8,
   "metadata": {
    "collapsed": true
   },
   "outputs": [],
   "source": [
    "allele_df_fn = os.path.join(IN_PATH, 'Pst_104E_v12_p_ctg.all.alleles.df')\n",
    "allele_df = pd.read_csv(allele_df_fn, sep='\\t')"
   ]
  },
  {
   "cell_type": "code",
   "execution_count": 10,
   "metadata": {},
   "outputs": [
    {
     "data": {
      "text/html": [
       "<div>\n",
       "<style>\n",
       "    .dataframe thead tr:only-child th {\n",
       "        text-align: right;\n",
       "    }\n",
       "\n",
       "    .dataframe thead th {\n",
       "        text-align: left;\n",
       "    }\n",
       "\n",
       "    .dataframe tbody tr th {\n",
       "        vertical-align: top;\n",
       "    }\n",
       "</style>\n",
       "<table border=\"1\" class=\"dataframe\">\n",
       "  <thead>\n",
       "    <tr style=\"text-align: right;\">\n",
       "      <th></th>\n",
       "      <th>p_gene</th>\n",
       "      <th>h_gene</th>\n",
       "      <th>Linkage</th>\n",
       "      <th>codmel_dN/dS</th>\n",
       "      <th>protein_hamming</th>\n",
       "      <th>cds_hamming</th>\n",
       "      <th>protein_levenshtein</th>\n",
       "      <th>cds_levenshtein</th>\n",
       "      <th>vn00_dN/dS</th>\n",
       "      <th>LWL85_dN/dS</th>\n",
       "      <th>LWL85m_dN/dS</th>\n",
       "      <th>LPB93_dN/dS</th>\n",
       "      <th>folder</th>\n",
       "    </tr>\n",
       "  </thead>\n",
       "  <tbody>\n",
       "    <tr>\n",
       "      <th>0</th>\n",
       "      <td>evm.model.pcontig_000.10</td>\n",
       "      <td>evm.model.hcontig_000_031.5</td>\n",
       "      <td>h_contig_overlap</td>\n",
       "      <td>0.3985</td>\n",
       "      <td>0.300000</td>\n",
       "      <td>0.297917</td>\n",
       "      <td>0.300000</td>\n",
       "      <td>0.297917</td>\n",
       "      <td>0.443299</td>\n",
       "      <td>0.317073</td>\n",
       "      <td>0.517241</td>\n",
       "      <td>0.425287</td>\n",
       "      <td>evm.model.pcontig_000.10_evm.model.hcontig_000...</td>\n",
       "    </tr>\n",
       "    <tr>\n",
       "      <th>1</th>\n",
       "      <td>evm.model.pcontig_000.100</td>\n",
       "      <td>evm.model.hcontig_000_003.107</td>\n",
       "      <td>h_contig_overlap</td>\n",
       "      <td>0.3816</td>\n",
       "      <td>0.024957</td>\n",
       "      <td>0.022662</td>\n",
       "      <td>0.024957</td>\n",
       "      <td>0.022088</td>\n",
       "      <td>0.379032</td>\n",
       "      <td>0.364341</td>\n",
       "      <td>0.445455</td>\n",
       "      <td>0.465347</td>\n",
       "      <td>evm.model.pcontig_000.100_evm.model.hcontig_00...</td>\n",
       "    </tr>\n",
       "    <tr>\n",
       "      <th>2</th>\n",
       "      <td>evm.model.pcontig_000.101</td>\n",
       "      <td>evm.model.hcontig_000_003.108</td>\n",
       "      <td>h_contig_overlap</td>\n",
       "      <td>1.2695</td>\n",
       "      <td>0.110169</td>\n",
       "      <td>0.070621</td>\n",
       "      <td>0.110169</td>\n",
       "      <td>0.070621</td>\n",
       "      <td>1.408971</td>\n",
       "      <td>0.650298</td>\n",
       "      <td>0.971717</td>\n",
       "      <td>0.894180</td>\n",
       "      <td>evm.model.pcontig_000.101_evm.model.hcontig_00...</td>\n",
       "    </tr>\n",
       "    <tr>\n",
       "      <th>3</th>\n",
       "      <td>evm.model.pcontig_000.102</td>\n",
       "      <td>evm.model.hcontig_000_003.109</td>\n",
       "      <td>h_contig_overlap</td>\n",
       "      <td>0.1372</td>\n",
       "      <td>0.000000</td>\n",
       "      <td>0.000000</td>\n",
       "      <td>0.000000</td>\n",
       "      <td>0.000000</td>\n",
       "      <td>NaN</td>\n",
       "      <td>NaN</td>\n",
       "      <td>NaN</td>\n",
       "      <td>NaN</td>\n",
       "      <td>evm.model.pcontig_000.102_evm.model.hcontig_00...</td>\n",
       "    </tr>\n",
       "    <tr>\n",
       "      <th>4</th>\n",
       "      <td>evm.model.pcontig_000.103</td>\n",
       "      <td>evm.model.hcontig_000_003.110</td>\n",
       "      <td>h_contig_overlap</td>\n",
       "      <td>98.9998</td>\n",
       "      <td>0.095745</td>\n",
       "      <td>0.081560</td>\n",
       "      <td>0.095745</td>\n",
       "      <td>0.081560</td>\n",
       "      <td>NaN</td>\n",
       "      <td>NaN</td>\n",
       "      <td>NaN</td>\n",
       "      <td>NaN</td>\n",
       "      <td>evm.model.pcontig_000.103_evm.model.hcontig_00...</td>\n",
       "    </tr>\n",
       "  </tbody>\n",
       "</table>\n",
       "</div>"
      ],
      "text/plain": [
       "                      p_gene                         h_gene           Linkage  \\\n",
       "0   evm.model.pcontig_000.10    evm.model.hcontig_000_031.5  h_contig_overlap   \n",
       "1  evm.model.pcontig_000.100  evm.model.hcontig_000_003.107  h_contig_overlap   \n",
       "2  evm.model.pcontig_000.101  evm.model.hcontig_000_003.108  h_contig_overlap   \n",
       "3  evm.model.pcontig_000.102  evm.model.hcontig_000_003.109  h_contig_overlap   \n",
       "4  evm.model.pcontig_000.103  evm.model.hcontig_000_003.110  h_contig_overlap   \n",
       "\n",
       "   codmel_dN/dS  protein_hamming  cds_hamming  protein_levenshtein  \\\n",
       "0        0.3985         0.300000     0.297917             0.300000   \n",
       "1        0.3816         0.024957     0.022662             0.024957   \n",
       "2        1.2695         0.110169     0.070621             0.110169   \n",
       "3        0.1372         0.000000     0.000000             0.000000   \n",
       "4       98.9998         0.095745     0.081560             0.095745   \n",
       "\n",
       "   cds_levenshtein  vn00_dN/dS  LWL85_dN/dS  LWL85m_dN/dS  LPB93_dN/dS  \\\n",
       "0         0.297917    0.443299     0.317073      0.517241     0.425287   \n",
       "1         0.022088    0.379032     0.364341      0.445455     0.465347   \n",
       "2         0.070621    1.408971     0.650298      0.971717     0.894180   \n",
       "3         0.000000         NaN          NaN           NaN          NaN   \n",
       "4         0.081560         NaN          NaN           NaN          NaN   \n",
       "\n",
       "                                              folder  \n",
       "0  evm.model.pcontig_000.10_evm.model.hcontig_000...  \n",
       "1  evm.model.pcontig_000.100_evm.model.hcontig_00...  \n",
       "2  evm.model.pcontig_000.101_evm.model.hcontig_00...  \n",
       "3  evm.model.pcontig_000.102_evm.model.hcontig_00...  \n",
       "4  evm.model.pcontig_000.103_evm.model.hcontig_00...  "
      ]
     },
     "execution_count": 10,
     "metadata": {},
     "output_type": "execute_result"
    }
   ],
   "source": [
    "allele_df.head()"
   ]
  },
  {
   "cell_type": "code",
   "execution_count": 12,
   "metadata": {},
   "outputs": [],
   "source": [
    "allele_hit_df = pd.read_csv(os.path.join(IN_PATH, 'Pst_104E_v12_p_ctg.all.alleles.hit.df'),\\\n",
    "                    sep='\\t')"
   ]
  },
  {
   "cell_type": "code",
   "execution_count": 14,
   "metadata": {},
   "outputs": [
    {
     "data": {
      "text/html": [
       "<div>\n",
       "<style>\n",
       "    .dataframe thead tr:only-child th {\n",
       "        text-align: right;\n",
       "    }\n",
       "\n",
       "    .dataframe thead th {\n",
       "        text-align: left;\n",
       "    }\n",
       "\n",
       "    .dataframe tbody tr th {\n",
       "        vertical-align: top;\n",
       "    }\n",
       "</style>\n",
       "<table border=\"1\" class=\"dataframe\">\n",
       "  <thead>\n",
       "    <tr style=\"text-align: right;\">\n",
       "      <th></th>\n",
       "      <th>Query</th>\n",
       "      <th>Target</th>\n",
       "      <th>PctID</th>\n",
       "      <th>AlnLgth</th>\n",
       "      <th>NumMis</th>\n",
       "      <th>NumGap</th>\n",
       "      <th>StartQuery</th>\n",
       "      <th>StopQuery</th>\n",
       "      <th>StartTarget</th>\n",
       "      <th>StopTarget</th>\n",
       "      <th>...</th>\n",
       "      <th>LWL85_dN/dS</th>\n",
       "      <th>LWL85m_dN/dS</th>\n",
       "      <th>LPB93_dN/dS</th>\n",
       "      <th>P_EFFECTOR</th>\n",
       "      <th>P_BUSCO</th>\n",
       "      <th>H_EFFECTOR</th>\n",
       "      <th>H_BUSCO</th>\n",
       "      <th>P_OTHER_GENE</th>\n",
       "      <th>H_OTHER_GENE</th>\n",
       "      <th>protein/cds_levdist</th>\n",
       "    </tr>\n",
       "  </thead>\n",
       "  <tbody>\n",
       "    <tr>\n",
       "      <th>0</th>\n",
       "      <td>evm.model.pcontig_000.100</td>\n",
       "      <td>evm.model.hcontig_000_003.107</td>\n",
       "      <td>99.21</td>\n",
       "      <td>1141.0</td>\n",
       "      <td>9.0</td>\n",
       "      <td>0.0</td>\n",
       "      <td>1.0</td>\n",
       "      <td>1141.0</td>\n",
       "      <td>1.0</td>\n",
       "      <td>1141.0</td>\n",
       "      <td>...</td>\n",
       "      <td>0.364341</td>\n",
       "      <td>0.445455</td>\n",
       "      <td>0.465347</td>\n",
       "      <td>False</td>\n",
       "      <td>False</td>\n",
       "      <td>False</td>\n",
       "      <td>False</td>\n",
       "      <td>True</td>\n",
       "      <td>True</td>\n",
       "      <td>1.129870</td>\n",
       "    </tr>\n",
       "    <tr>\n",
       "      <th>1</th>\n",
       "      <td>evm.model.pcontig_000.101</td>\n",
       "      <td>evm.model.hcontig_000_003.108</td>\n",
       "      <td>89.03</td>\n",
       "      <td>237.0</td>\n",
       "      <td>20.0</td>\n",
       "      <td>1.0</td>\n",
       "      <td>1.0</td>\n",
       "      <td>231.0</td>\n",
       "      <td>1.0</td>\n",
       "      <td>237.0</td>\n",
       "      <td>...</td>\n",
       "      <td>0.650298</td>\n",
       "      <td>0.971717</td>\n",
       "      <td>0.894180</td>\n",
       "      <td>False</td>\n",
       "      <td>False</td>\n",
       "      <td>False</td>\n",
       "      <td>False</td>\n",
       "      <td>True</td>\n",
       "      <td>True</td>\n",
       "      <td>1.560000</td>\n",
       "    </tr>\n",
       "    <tr>\n",
       "      <th>2</th>\n",
       "      <td>evm.model.pcontig_000.102</td>\n",
       "      <td>evm.model.hcontig_000_003.109</td>\n",
       "      <td>100.00</td>\n",
       "      <td>107.0</td>\n",
       "      <td>0.0</td>\n",
       "      <td>0.0</td>\n",
       "      <td>1.0</td>\n",
       "      <td>107.0</td>\n",
       "      <td>1.0</td>\n",
       "      <td>107.0</td>\n",
       "      <td>...</td>\n",
       "      <td>NaN</td>\n",
       "      <td>NaN</td>\n",
       "      <td>NaN</td>\n",
       "      <td>False</td>\n",
       "      <td>False</td>\n",
       "      <td>False</td>\n",
       "      <td>False</td>\n",
       "      <td>True</td>\n",
       "      <td>True</td>\n",
       "      <td>NaN</td>\n",
       "    </tr>\n",
       "    <tr>\n",
       "      <th>3</th>\n",
       "      <td>evm.model.pcontig_000.103</td>\n",
       "      <td>evm.model.hcontig_000_003.110</td>\n",
       "      <td>97.73</td>\n",
       "      <td>88.0</td>\n",
       "      <td>2.0</td>\n",
       "      <td>0.0</td>\n",
       "      <td>8.0</td>\n",
       "      <td>95.0</td>\n",
       "      <td>1.0</td>\n",
       "      <td>88.0</td>\n",
       "      <td>...</td>\n",
       "      <td>NaN</td>\n",
       "      <td>NaN</td>\n",
       "      <td>NaN</td>\n",
       "      <td>False</td>\n",
       "      <td>False</td>\n",
       "      <td>False</td>\n",
       "      <td>False</td>\n",
       "      <td>True</td>\n",
       "      <td>True</td>\n",
       "      <td>1.173913</td>\n",
       "    </tr>\n",
       "    <tr>\n",
       "      <th>4</th>\n",
       "      <td>evm.model.pcontig_000.104</td>\n",
       "      <td>evm.model.hcontig_000_003.111</td>\n",
       "      <td>98.53</td>\n",
       "      <td>68.0</td>\n",
       "      <td>1.0</td>\n",
       "      <td>0.0</td>\n",
       "      <td>1.0</td>\n",
       "      <td>68.0</td>\n",
       "      <td>1.0</td>\n",
       "      <td>68.0</td>\n",
       "      <td>...</td>\n",
       "      <td>NaN</td>\n",
       "      <td>NaN</td>\n",
       "      <td>NaN</td>\n",
       "      <td>False</td>\n",
       "      <td>False</td>\n",
       "      <td>False</td>\n",
       "      <td>False</td>\n",
       "      <td>True</td>\n",
       "      <td>True</td>\n",
       "      <td>3.000000</td>\n",
       "    </tr>\n",
       "  </tbody>\n",
       "</table>\n",
       "<p>5 rows × 36 columns</p>\n",
       "</div>"
      ],
      "text/plain": [
       "                       Query                         Target   PctID  AlnLgth  \\\n",
       "0  evm.model.pcontig_000.100  evm.model.hcontig_000_003.107   99.21   1141.0   \n",
       "1  evm.model.pcontig_000.101  evm.model.hcontig_000_003.108   89.03    237.0   \n",
       "2  evm.model.pcontig_000.102  evm.model.hcontig_000_003.109  100.00    107.0   \n",
       "3  evm.model.pcontig_000.103  evm.model.hcontig_000_003.110   97.73     88.0   \n",
       "4  evm.model.pcontig_000.104  evm.model.hcontig_000_003.111   98.53     68.0   \n",
       "\n",
       "   NumMis  NumGap  StartQuery  StopQuery  StartTarget  StopTarget  \\\n",
       "0     9.0     0.0         1.0     1141.0          1.0      1141.0   \n",
       "1    20.0     1.0         1.0      231.0          1.0       237.0   \n",
       "2     0.0     0.0         1.0      107.0          1.0       107.0   \n",
       "3     2.0     0.0         8.0       95.0          1.0        88.0   \n",
       "4     1.0     0.0         1.0       68.0          1.0        68.0   \n",
       "\n",
       "          ...           LWL85_dN/dS  LWL85m_dN/dS  LPB93_dN/dS  P_EFFECTOR  \\\n",
       "0         ...              0.364341      0.445455     0.465347       False   \n",
       "1         ...              0.650298      0.971717     0.894180       False   \n",
       "2         ...                   NaN           NaN          NaN       False   \n",
       "3         ...                   NaN           NaN          NaN       False   \n",
       "4         ...                   NaN           NaN          NaN       False   \n",
       "\n",
       "  P_BUSCO H_EFFECTOR  H_BUSCO P_OTHER_GENE H_OTHER_GENE  protein/cds_levdist  \n",
       "0   False      False    False         True         True             1.129870  \n",
       "1   False      False    False         True         True             1.560000  \n",
       "2   False      False    False         True         True                  NaN  \n",
       "3   False      False    False         True         True             1.173913  \n",
       "4   False      False    False         True         True             3.000000  \n",
       "\n",
       "[5 rows x 36 columns]"
      ]
     },
     "execution_count": 14,
     "metadata": {},
     "output_type": "execute_result"
    }
   ],
   "source": [
    "allele_hit_df.head()"
   ]
  },
  {
   "cell_type": "code",
   "execution_count": 17,
   "metadata": {},
   "outputs": [
    {
     "data": {
      "text/plain": [
       "1214"
      ]
     },
     "execution_count": 17,
     "metadata": {},
     "output_type": "execute_result"
    }
   ],
   "source": [
    "(allele_hit_df.Query.apply(lambda x: x in p_gene_dict['EFFECTORS'])).sum()"
   ]
  },
  {
   "cell_type": "code",
   "execution_count": 18,
   "metadata": {
    "collapsed": true
   },
   "outputs": [],
   "source": [
    "allele_hit_df['P_EFFECTOR'] = allele_hit_df.Query.apply(lambda x: x in p_gene_dict['EFFECTORS'])\n",
    "allele_hit_df['P_BUSCO'] =  allele_hit_df.Query.apply(lambda x: x in p_gene_dict['BUSCOS'])\n",
    "allele_hit_df['H_EFFECTOR'] = allele_hit_df.Target.apply(lambda x: x in h_gene_dict['EFFECTORS'])\n",
    "allele_hit_df['H_BUSCO'] =  allele_hit_df.Target.apply(lambda x: x in h_gene_dict['BUSCOS'])"
   ]
  },
  {
   "cell_type": "code",
   "execution_count": 21,
   "metadata": {
    "collapsed": true
   },
   "outputs": [],
   "source": [
    "allele_hit_df['P_OTHER_GENE'] =  ~(allele_hit_df.Query.isin(p_gene_dict['EFFECTORS'])|\\\n",
    "                allele_hit_df.Query.isin(p_gene_dict['BUSCOS']))\n",
    "allele_hit_df['H_OTHER_GENE'] =  ~(allele_hit_df.Target.isin(h_gene_dict['EFFECTORS'])|\\\n",
    "                allele_hit_df.Target.isin(h_gene_dict['BUSCOS']))"
   ]
  },
  {
   "cell_type": "code",
   "execution_count": 22,
   "metadata": {
    "collapsed": true
   },
   "outputs": [],
   "source": [
    "allele_hit_df['protein/cds_levdist'] = allele_hit_df['protein_levenshtein'] /allele_hit_df['cds_levenshtein']"
   ]
  },
  {
   "cell_type": "code",
   "execution_count": 23,
   "metadata": {
    "collapsed": true
   },
   "outputs": [],
   "source": [
    "allele_hit_df.to_csv(os.path.join(OUT_PATH, 'Pst_104E_v12_p_ctg.all.alleles.hit.df')\\\n",
    "                     , index=None, sep='\\t')"
   ]
  },
  {
   "cell_type": "code",
   "execution_count": 74,
   "metadata": {
    "collapsed": true
   },
   "outputs": [],
   "source": [
    "#make a classification column to enable better plotting\n",
    "allele_hit_df['p_classification'] = 'None'\n",
    "allele_hit_df.loc[allele_hit_df[allele_hit_df.P_EFFECTOR == True].index,'p_classification']\\\n",
    "                = \"Candidate effector\"\n",
    "allele_hit_df.loc[allele_hit_df[allele_hit_df.P_BUSCO == True].index,'p_classification']\\\n",
    "                = \"BUSCO\"\n",
    "allele_hit_df.loc[allele_hit_df[allele_hit_df.P_OTHER_GENE == True].index,'p_classification']\\\n",
    "                = \"Other\""
   ]
  },
  {
   "cell_type": "code",
   "execution_count": 75,
   "metadata": {
    "collapsed": true
   },
   "outputs": [],
   "source": [
    "#make a classification column to enable better plotting\n",
    "allele_hit_df['h_classification'] = 'None'\n",
    "allele_hit_df.loc[allele_hit_df[allele_hit_df.H_EFFECTOR == True].index,'h_classification']\\\n",
    "                = \"Candidate effector\"\n",
    "allele_hit_df.loc[allele_hit_df[allele_hit_df.H_BUSCO == True].index,'h_classification']\\\n",
    "                = \"BUSCO\"\n",
    "allele_hit_df.loc[allele_hit_df[allele_hit_df.H_OTHER_GENE == True].index,'h_classification']\\\n",
    "                = \"Other\"\n"
   ]
  },
  {
   "cell_type": "markdown",
   "metadata": {},
   "source": [
    "Plot the variation of levenstain distances according to classification"
   ]
  },
  {
   "cell_type": "code",
   "execution_count": 27,
   "metadata": {},
   "outputs": [
    {
     "data": {
      "text/plain": [
       "Index(['Query', 'Target', 'PctID', 'AlnLgth', 'NumMis', 'NumGap', 'StartQuery',\n",
       "       'StopQuery', 'StartTarget', 'StopTarget', 'e-value', 'BitScore',\n",
       "       'QLgth', 'QCov', 'q_contig', 't_contig', 'q_contig == t_contig',\n",
       "       'p_protein', 'h_contig_overlap', 't_contig == h_contig_overlap',\n",
       "       'folder', 'protein_hamming', 'cds_hamming', 'protein_levenshtein',\n",
       "       'cds_levenshtein', 'vn00_dN/dS', 'LWL85_dN/dS', 'LWL85m_dN/dS',\n",
       "       'LPB93_dN/dS', 'P_EFFECTOR', 'P_BUSCO', 'H_EFFECTOR', 'H_BUSCO',\n",
       "       'P_OTHER_GENE', 'H_OTHER_GENE', 'protein/cds_levdist',\n",
       "       'p_classification', 'h_classification'],\n",
       "      dtype='object')"
      ]
     },
     "execution_count": 27,
     "metadata": {},
     "output_type": "execute_result"
    }
   ],
   "source": [
    "allele_hit_df.columns"
   ]
  },
  {
   "cell_type": "code",
   "execution_count": 28,
   "metadata": {
    "collapsed": true
   },
   "outputs": [],
   "source": [
    "import matplotlib\n",
    "#histogram of \n",
    "font = {'family' : 'normal',\n",
    "        'weight' : 'bold',\n",
    "        'size'   : 20}\n",
    "label_config_x = {'fontsize'            : 'large',\n",
    "      'verticalalignment'   : 'top',\n",
    "      'horizontalalignment' : 'center'\n",
    "      }\n",
    "label_config_y = {'fontsize'            : 'large',\n",
    "      'verticalalignment'   : 'bottom',\n",
    "      'horizontalalignment' : 'center'\n",
    "      }\n",
    "matplotlib.rc('font', **font)\n"
   ]
  },
  {
   "cell_type": "code",
   "execution_count": 78,
   "metadata": {},
   "outputs": [
    {
     "name": "stdout",
     "output_type": "stream",
     "text": [
      "(array([ True,  True,  True], dtype=bool), array([  6.39739834e-03,   2.91801817e-03,   1.20897095e-17]), 0.016952427508441503, 0.016666666666666666)\n"
     ]
    },
    {
     "data": {
      "text/html": [
       "<div>\n",
       "<style>\n",
       "    .dataframe thead tr:only-child th {\n",
       "        text-align: right;\n",
       "    }\n",
       "\n",
       "    .dataframe thead th {\n",
       "        text-align: left;\n",
       "    }\n",
       "\n",
       "    .dataframe tbody tr th {\n",
       "        vertical-align: top;\n",
       "    }\n",
       "</style>\n",
       "<table border=\"1\" class=\"dataframe\">\n",
       "  <thead>\n",
       "    <tr style=\"text-align: right;\">\n",
       "      <th>p_classification</th>\n",
       "      <th>BUSCO</th>\n",
       "      <th>Candidate effector</th>\n",
       "      <th>Other</th>\n",
       "    </tr>\n",
       "  </thead>\n",
       "  <tbody>\n",
       "    <tr>\n",
       "      <th>count</th>\n",
       "      <td>1198.000000</td>\n",
       "      <td>1214.000000</td>\n",
       "      <td>8509.000000</td>\n",
       "    </tr>\n",
       "    <tr>\n",
       "      <th>mean</th>\n",
       "      <td>98.931144</td>\n",
       "      <td>97.459423</td>\n",
       "      <td>97.335696</td>\n",
       "    </tr>\n",
       "    <tr>\n",
       "      <th>std</th>\n",
       "      <td>4.133346</td>\n",
       "      <td>6.268232</td>\n",
       "      <td>7.224012</td>\n",
       "    </tr>\n",
       "    <tr>\n",
       "      <th>min</th>\n",
       "      <td>21.980000</td>\n",
       "      <td>31.430000</td>\n",
       "      <td>22.650000</td>\n",
       "    </tr>\n",
       "    <tr>\n",
       "      <th>25%</th>\n",
       "      <td>99.050000</td>\n",
       "      <td>97.670000</td>\n",
       "      <td>98.080000</td>\n",
       "    </tr>\n",
       "    <tr>\n",
       "      <th>50%</th>\n",
       "      <td>99.770000</td>\n",
       "      <td>99.685000</td>\n",
       "      <td>99.500000</td>\n",
       "    </tr>\n",
       "    <tr>\n",
       "      <th>75%</th>\n",
       "      <td>100.000000</td>\n",
       "      <td>100.000000</td>\n",
       "      <td>100.000000</td>\n",
       "    </tr>\n",
       "    <tr>\n",
       "      <th>max</th>\n",
       "      <td>100.000000</td>\n",
       "      <td>100.000000</td>\n",
       "      <td>100.000000</td>\n",
       "    </tr>\n",
       "  </tbody>\n",
       "</table>\n",
       "</div>"
      ],
      "text/plain": [
       "p_classification        BUSCO  Candidate effector        Other\n",
       "count             1198.000000         1214.000000  8509.000000\n",
       "mean                98.931144           97.459423    97.335696\n",
       "std                  4.133346            6.268232     7.224012\n",
       "min                 21.980000           31.430000    22.650000\n",
       "25%                 99.050000           97.670000    98.080000\n",
       "50%                 99.770000           99.685000    99.500000\n",
       "75%                100.000000          100.000000   100.000000\n",
       "max                100.000000          100.000000   100.000000"
      ]
     },
     "execution_count": 78,
     "metadata": {},
     "output_type": "execute_result"
    }
   ],
   "source": [
    "df = allele_hit_df.loc[:,['PctID', \"p_classification\"]].copy()\n",
    "df = df.pivot(values='PctID', columns= 'p_classification')\n",
    "t_be, p_be = stats.ranksums(df['BUSCO'].dropna().values, df['Candidate effector'].dropna().values)\n",
    "t_oe, p_oe = stats.ranksums(df['Other'].dropna().values, df['Candidate effector'].dropna().values)\n",
    "t_ob, p_ob = stats.ranksums(df['BUSCO'].dropna().values, df['Other'].dropna().values)\n",
    "print(statsmodels.sandbox.stats.multicomp.multipletests([p_be, p_oe,p_ob],\\\n",
    "    alpha=0.05, method='bonferroni', is_sorted=False, returnsorted=False))\n",
    "df.describe()"
   ]
  },
  {
   "cell_type": "code",
   "execution_count": 113,
   "metadata": {},
   "outputs": [
    {
     "data": {
      "text/plain": [
       "<matplotlib.figure.Figure at 0x7f2fbb18a438>"
      ]
     },
     "metadata": {},
     "output_type": "display_data"
    },
    {
     "data": {
      "image/png": "[encoded data removed]",
      "text/plain": [
       "<matplotlib.figure.Figure at 0x7f2fbb1c5588>"
      ]
     },
     "metadata": {},
     "output_type": "display_data"
    }
   ],
   "source": [
    "sns.set(style=\"ticks\")\n",
    "\n",
    "column_to_plot = 'PctID'\n",
    "\n",
    "# Initialize the figure with a logarithmic x axis\n",
    "df = allele_hit_df.loc[:,[column_to_plot, \"p_classification\"]].fillna(0).copy()\n",
    "#qdf = quant_cut_df(df.pivot(values='protein/cds_levdist', columns= 'p_classification'))\n",
    "\n",
    "sns.set_style(\"ticks\")\n",
    "\n",
    "pallete = sns.color_palette('colorblind')\n",
    "ax.xaxis.grid(True)\n",
    "sns.despine(trim=True, left=True)\n",
    "\n",
    "f, ax = plt.subplots(figsize=(7, 6))\n",
    "df = df[df.PctID >= df.PctID.quantile(0.01)]\n",
    "#ax.set_xscale(\"log\")\n",
    "sns.violinplot(x=column_to_plot, y=\"p_classification\", data=df.sort_values(\"p_classification\"), cut=0,\n",
    "          whis=np.inf, color_palette= pallete)\n",
    "plt.setp(ax.artists, alpha=.01)\n",
    "plt.ylabel(\"\")\n",
    "plt.xlabel(column_to_plot, size=12, weight= 'bold')\n",
    "plt.xlim(100,60)\n",
    "fn = os.path.join(OUT_PATH, '%s_variation.png'%column_to_plot)\n",
    "f.savefig(fn, dp=600)"
   ]
  },
  {
   "cell_type": "code",
   "execution_count": 92,
   "metadata": {},
   "outputs": [
    {
     "data": {
      "text/plain": [
       "<matplotlib.figure.Figure at 0x7f2fbb31c860>"
      ]
     },
     "metadata": {},
     "output_type": "display_data"
    },
    {
     "data": {
      "image/png": "[encoded data removed]",
      "text/plain": [
       "<matplotlib.figure.Figure at 0x7f2fbba006a0>"
      ]
     },
     "metadata": {},
     "output_type": "display_data"
    }
   ],
   "source": [
    "sns.set(style=\"ticks\")\n",
    "\n",
    "column_to_plot = 'protein_levenshtein'\n",
    "\n",
    "# Initialize the figure with a logarithmic x axis\n",
    "df = allele_hit_df.loc[:,[column_to_plot, \"p_classification\"]].fillna(0).copy()\n",
    "#qdf = quant_cut_df(df.pivot(values='protein/cds_levdist', columns= 'p_classification'))\n",
    "\n",
    "sns.set_style(\"ticks\")\n",
    "\n",
    "pallete = sns.color_palette('colorblind')\n",
    "ax.xaxis.grid(True)\n",
    "sns.despine(trim=True, left=True)\n",
    "\n",
    "f, ax = plt.subplots(figsize=(7, 6))\n",
    "df = df[df[column_to_plot] >= df[column_to_plot].quantile(0.01)]\n",
    "#ax.set_xscale(\"log\")\n",
    "sns.violinplot(x=column_to_plot, y=\"p_classification\", data=df.sort_values(\"p_classification\"), cut=0,\n",
    "          whis=np.inf, color_palette= pallete)\n",
    "plt.setp(ax.artists, alpha=.01)\n",
    "plt.ylabel(\"\")\n",
    "plt.xlabel(\"Levenshtein distance\", size=12, weight= 'bold')\n",
    "\n",
    "fn = os.path.join(OUT_PATH, '%s_variation.png'%column_to_plot)\n",
    "f.savefig(fn, dp=600)"
   ]
  },
  {
   "cell_type": "code",
   "execution_count": 87,
   "metadata": {},
   "outputs": [
    {
     "name": "stdout",
     "output_type": "stream",
     "text": [
      "(array([ True,  True,  True], dtype=bool), array([  1.41936205e-04,   2.79132809e-05,   1.31692407e-25]), 0.016952427508441503, 0.016666666666666666)\n"
     ]
    },
    {
     "data": {
      "text/html": [
       "<div>\n",
       "<style>\n",
       "    .dataframe thead tr:only-child th {\n",
       "        text-align: right;\n",
       "    }\n",
       "\n",
       "    .dataframe thead th {\n",
       "        text-align: left;\n",
       "    }\n",
       "\n",
       "    .dataframe tbody tr th {\n",
       "        vertical-align: top;\n",
       "    }\n",
       "</style>\n",
       "<table border=\"1\" class=\"dataframe\">\n",
       "  <thead>\n",
       "    <tr style=\"text-align: right;\">\n",
       "      <th>p_classification</th>\n",
       "      <th>BUSCO</th>\n",
       "      <th>Candidate effector</th>\n",
       "      <th>Other</th>\n",
       "    </tr>\n",
       "  </thead>\n",
       "  <tbody>\n",
       "    <tr>\n",
       "      <th>count</th>\n",
       "      <td>1198.000000</td>\n",
       "      <td>1214.000000</td>\n",
       "      <td>8509.000000</td>\n",
       "    </tr>\n",
       "    <tr>\n",
       "      <th>mean</th>\n",
       "      <td>0.026463</td>\n",
       "      <td>0.047405</td>\n",
       "      <td>0.063723</td>\n",
       "    </tr>\n",
       "    <tr>\n",
       "      <th>std</th>\n",
       "      <td>0.072211</td>\n",
       "      <td>0.095963</td>\n",
       "      <td>0.126181</td>\n",
       "    </tr>\n",
       "    <tr>\n",
       "      <th>min</th>\n",
       "      <td>0.000000</td>\n",
       "      <td>0.000000</td>\n",
       "      <td>0.000000</td>\n",
       "    </tr>\n",
       "    <tr>\n",
       "      <th>25%</th>\n",
       "      <td>0.000000</td>\n",
       "      <td>0.000000</td>\n",
       "      <td>0.000000</td>\n",
       "    </tr>\n",
       "    <tr>\n",
       "      <th>50%</th>\n",
       "      <td>0.002817</td>\n",
       "      <td>0.006006</td>\n",
       "      <td>0.007576</td>\n",
       "    </tr>\n",
       "    <tr>\n",
       "      <th>75%</th>\n",
       "      <td>0.014429</td>\n",
       "      <td>0.039832</td>\n",
       "      <td>0.049505</td>\n",
       "    </tr>\n",
       "    <tr>\n",
       "      <th>max</th>\n",
       "      <td>0.613811</td>\n",
       "      <td>0.612782</td>\n",
       "      <td>0.806084</td>\n",
       "    </tr>\n",
       "  </tbody>\n",
       "</table>\n",
       "</div>"
      ],
      "text/plain": [
       "p_classification        BUSCO  Candidate effector        Other\n",
       "count             1198.000000         1214.000000  8509.000000\n",
       "mean                 0.026463            0.047405     0.063723\n",
       "std                  0.072211            0.095963     0.126181\n",
       "min                  0.000000            0.000000     0.000000\n",
       "25%                  0.000000            0.000000     0.000000\n",
       "50%                  0.002817            0.006006     0.007576\n",
       "75%                  0.014429            0.039832     0.049505\n",
       "max                  0.613811            0.612782     0.806084"
      ]
     },
     "execution_count": 87,
     "metadata": {},
     "output_type": "execute_result"
    }
   ],
   "source": [
    "df = allele_hit_df.loc[:,['protein_levenshtein', \"p_classification\"]].copy()\n",
    "df = df.pivot(values='protein_levenshtein', columns= 'p_classification')\n",
    "t_be, p_be = stats.ranksums(df['BUSCO'].dropna().values, df['Candidate effector'].dropna().values)\n",
    "t_oe, p_oe = stats.ranksums(df['Other'].dropna().values, df['Candidate effector'].dropna().values)\n",
    "t_ob, p_ob = stats.ranksums(df['BUSCO'].dropna().values, df['Other'].dropna().values)\n",
    "print(statsmodels.sandbox.stats.multicomp.multipletests([p_be, p_oe,p_ob],\\\n",
    "    alpha=0.05, method='bonferroni', is_sorted=False, returnsorted=False))\n",
    "df.describe()"
   ]
  },
  {
   "cell_type": "code",
   "execution_count": 91,
   "metadata": {},
   "outputs": [
    {
     "data": {
      "text/plain": [
       "<matplotlib.figure.Figure at 0x7f2fbb564f98>"
      ]
     },
     "metadata": {},
     "output_type": "display_data"
    },
    {
     "data": {
      "image/png": "[encoded data removed]",
      "text/plain": [
       "<matplotlib.figure.Figure at 0x7f2fbb54f160>"
      ]
     },
     "metadata": {},
     "output_type": "display_data"
    }
   ],
   "source": [
    "sns.set(style=\"ticks\")\n",
    "\n",
    "column_to_plot = 'cds_levenshtein'\n",
    "\n",
    "# Initialize the figure with a logarithmic x axis\n",
    "df = allele_hit_df.loc[:,[column_to_plot, \"p_classification\"]].fillna(0).copy()\n",
    "#qdf = quant_cut_df(df.pivot(values='protein/cds_levdist', columns= 'p_classification'))\n",
    "\n",
    "sns.set_style(\"ticks\")\n",
    "\n",
    "pallete = sns.color_palette('colorblind')\n",
    "ax.xaxis.grid(True)\n",
    "sns.despine(trim=True, left=True)\n",
    "\n",
    "f, ax = plt.subplots(figsize=(7, 6))\n",
    "df = df[df[column_to_plot] >= df[column_to_plot].quantile(0.01)]\n",
    "#ax.set_xscale(\"log\")\n",
    "sns.violinplot(x=column_to_plot, y=\"p_classification\", data=df.sort_values(\"p_classification\"), cut=0,\n",
    "          whis=np.inf, color_palette= pallete)\n",
    "plt.setp(ax.artists, alpha=.01)\n",
    "plt.ylabel(\"\")\n",
    "plt.xlabel(\"Levenshtein distance\", size=12, weight= 'bold')\n",
    "\n",
    "fn = os.path.join(OUT_PATH, '%s_variation.png'%column_to_plot)\n",
    "f.savefig(fn, dp=600)"
   ]
  },
  {
   "cell_type": "code",
   "execution_count": 90,
   "metadata": {},
   "outputs": [
    {
     "name": "stdout",
     "output_type": "stream",
     "text": [
      "(array([False,  True,  True], dtype=bool), array([  1.42036020e-01,   1.81420068e-10,   5.36745556e-05]), 0.016952427508441503, 0.016666666666666666)\n"
     ]
    },
    {
     "data": {
      "text/html": [
       "<div>\n",
       "<style>\n",
       "    .dataframe thead tr:only-child th {\n",
       "        text-align: right;\n",
       "    }\n",
       "\n",
       "    .dataframe thead th {\n",
       "        text-align: left;\n",
       "    }\n",
       "\n",
       "    .dataframe tbody tr th {\n",
       "        vertical-align: top;\n",
       "    }\n",
       "</style>\n",
       "<table border=\"1\" class=\"dataframe\">\n",
       "  <thead>\n",
       "    <tr style=\"text-align: right;\">\n",
       "      <th>p_classification</th>\n",
       "      <th>BUSCO</th>\n",
       "      <th>Candidate effector</th>\n",
       "      <th>Other</th>\n",
       "    </tr>\n",
       "  </thead>\n",
       "  <tbody>\n",
       "    <tr>\n",
       "      <th>count</th>\n",
       "      <td>1198.000000</td>\n",
       "      <td>1214.000000</td>\n",
       "      <td>8509.000000</td>\n",
       "    </tr>\n",
       "    <tr>\n",
       "      <th>mean</th>\n",
       "      <td>0.028763</td>\n",
       "      <td>0.040684</td>\n",
       "      <td>0.057879</td>\n",
       "    </tr>\n",
       "    <tr>\n",
       "      <th>std</th>\n",
       "      <td>0.070337</td>\n",
       "      <td>0.087243</td>\n",
       "      <td>0.115095</td>\n",
       "    </tr>\n",
       "    <tr>\n",
       "      <th>min</th>\n",
       "      <td>0.000000</td>\n",
       "      <td>0.000000</td>\n",
       "      <td>0.000000</td>\n",
       "    </tr>\n",
       "    <tr>\n",
       "      <th>25%</th>\n",
       "      <td>0.000642</td>\n",
       "      <td>0.000000</td>\n",
       "      <td>0.000734</td>\n",
       "    </tr>\n",
       "    <tr>\n",
       "      <th>50%</th>\n",
       "      <td>0.006682</td>\n",
       "      <td>0.004444</td>\n",
       "      <td>0.007407</td>\n",
       "    </tr>\n",
       "    <tr>\n",
       "      <th>75%</th>\n",
       "      <td>0.021833</td>\n",
       "      <td>0.031040</td>\n",
       "      <td>0.040936</td>\n",
       "    </tr>\n",
       "    <tr>\n",
       "      <th>max</th>\n",
       "      <td>0.609335</td>\n",
       "      <td>0.541353</td>\n",
       "      <td>0.733333</td>\n",
       "    </tr>\n",
       "  </tbody>\n",
       "</table>\n",
       "</div>"
      ],
      "text/plain": [
       "p_classification        BUSCO  Candidate effector        Other\n",
       "count             1198.000000         1214.000000  8509.000000\n",
       "mean                 0.028763            0.040684     0.057879\n",
       "std                  0.070337            0.087243     0.115095\n",
       "min                  0.000000            0.000000     0.000000\n",
       "25%                  0.000642            0.000000     0.000734\n",
       "50%                  0.006682            0.004444     0.007407\n",
       "75%                  0.021833            0.031040     0.040936\n",
       "max                  0.609335            0.541353     0.733333"
      ]
     },
     "execution_count": 90,
     "metadata": {},
     "output_type": "execute_result"
    }
   ],
   "source": [
    "df = allele_hit_df.loc[:,['cds_levenshtein', \"p_classification\"]].copy()\n",
    "df = df.pivot(values='cds_levenshtein', columns= 'p_classification')\n",
    "t_be, p_be = stats.ranksums(df['BUSCO'].dropna().values, df['Candidate effector'].dropna().values)\n",
    "t_oe, p_oe = stats.ranksums(df['Other'].dropna().values, df['Candidate effector'].dropna().values)\n",
    "t_ob, p_ob = stats.ranksums(df['BUSCO'].dropna().values, df['Other'].dropna().values)\n",
    "print(statsmodels.sandbox.stats.multicomp.multipletests([p_be, p_oe,p_ob],\\\n",
    "    alpha=0.05, method='bonferroni', is_sorted=False, returnsorted=False))\n",
    "df.describe()"
   ]
  },
  {
   "cell_type": "code",
   "execution_count": 93,
   "metadata": {},
   "outputs": [
    {
     "data": {
      "text/plain": [
       "Index(['Query', 'Target', 'PctID', 'AlnLgth', 'NumMis', 'NumGap', 'StartQuery',\n",
       "       'StopQuery', 'StartTarget', 'StopTarget', 'e-value', 'BitScore',\n",
       "       'QLgth', 'QCov', 'q_contig', 't_contig', 'q_contig == t_contig',\n",
       "       'p_protein', 'h_contig_overlap', 't_contig == h_contig_overlap',\n",
       "       'folder', 'protein_hamming', 'cds_hamming', 'protein_levenshtein',\n",
       "       'cds_levenshtein', 'vn00_dN/dS', 'LWL85_dN/dS', 'LWL85m_dN/dS',\n",
       "       'LPB93_dN/dS', 'P_EFFECTOR', 'P_BUSCO', 'H_EFFECTOR', 'H_BUSCO',\n",
       "       'P_OTHER_GENE', 'H_OTHER_GENE', 'protein/cds_levdist',\n",
       "       'p_classification', 'h_classification'],\n",
       "      dtype='object')"
      ]
     },
     "execution_count": 93,
     "metadata": {},
     "output_type": "execute_result"
    }
   ],
   "source": [
    "allele_hit_df.columns"
   ]
  },
  {
   "cell_type": "code",
   "execution_count": 102,
   "metadata": {},
   "outputs": [],
   "source": [
    "out_df = allele_hit_df.loc[:,['Query', 'Target', 'cds_levenshtein', 'protein_levenshtein','PctID',\\\n",
    "                               'p_classification', 'h_classification']].copy()"
   ]
  },
  {
   "cell_type": "code",
   "execution_count": 106,
   "metadata": {},
   "outputs": [],
   "source": [
    "rename_dict = dict(zip(out_df.columns,['Primary protein ID', 'Haplotig protein ID',\\\n",
    "                         'CDS Levenshtein distance','CDS Levenshtein distance', \\\n",
    "                         'Blastp PctID',\\\n",
    "                         'Primary protein classification', \\\n",
    "                         'Haplotig protein classification' ]))"
   ]
  },
  {
   "cell_type": "code",
   "execution_count": 108,
   "metadata": {},
   "outputs": [],
   "source": [
    "out_df.rename(columns=rename_dict, inplace=True)"
   ]
  },
  {
   "cell_type": "code",
   "execution_count": 109,
   "metadata": {
    "collapsed": true
   },
   "outputs": [],
   "source": [
    "out_fn = os.path.join(OUT_PATH, 'Pst_104E_allele_variation.df')"
   ]
  },
  {
   "cell_type": "code",
   "execution_count": 110,
   "metadata": {},
   "outputs": [],
   "source": [
    "out_df.to_csv(out_fn, sep='\\t', index=None)"
   ]
  },
  {
   "cell_type": "code",
   "execution_count": null,
   "metadata": {
    "collapsed": true
   },
   "outputs": [],
   "source": []
  }
 ],
 "metadata": {
  "kernelspec": {
   "display_name": "Python 3",
   "language": "python",
   "name": "python3"
  },
  "language_info": {
   "codemirror_mode": {
    "name": "ipython",
    "version": 3
   },
   "file_extension": ".py",
   "mimetype": "text/x-python",
   "name": "python",
   "nbconvert_exporter": "python",
   "pygments_lexer": "ipython3",
   "version": "3.5.3"
  }
 },
 "nbformat": 4,
 "nbformat_minor": 2
}
