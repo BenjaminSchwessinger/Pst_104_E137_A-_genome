{
 "cells": [
  {
   "cell_type": "markdown",
   "metadata": {},
   "source": [
    "This notebook takes the associated primary contigs and haplotigs contigs and performs specific alignments for those\n",
    "\n",
    "This notebook was only designed for the purpose of analyzing the Pst-104E genome. No gurantees it works in any other situtation. It will have spelling errors due to the lack of autocorrection."
   ]
  },
  {
   "cell_type": "markdown",
   "metadata": {},
   "source": [
    "This is it uses the FLACON unzip h contigs of each p contig and aligns them with the following settings\n",
    "> ##For Assembletics e.g. \n",
    "/home/benjamin/anaconda3/bin//nucmer -maxmatch -l 100 -c 500 Pst_104E_v12_pcontig_193.fa Pst_104E_v12_pcontig_193_h_ctgs.fa -prefix Pst_104E_v12_pcontig_193_php\n",
    "with \n",
    "##Assemblytics delta_file <output_prefix unique_anchor_length maximum_feature_length path_to_R_scripts Assemblytics Pst_104E_v12_pcontig_166_php.delta Pst_104E_v12_pcontig_166_php_8kbp_50kp 8000 50000 /home/benjamin/genome_assembly/PST79/FALCON/p_assemblies/v9_1/downstream_analysis_2017/scripts/Assemblytics\n",
    "\n",
    "For Mummerplot \n",
    "    "
   ]
  },
  {
   "cell_type": "code",
   "execution_count": 33,
   "metadata": {},
   "outputs": [],
   "source": [
    "import os\n",
    "from Bio import SeqIO \n",
    "import shutil\n",
    "import subprocess"
   ]
  },
  {
   "cell_type": "code",
   "execution_count": 20,
   "metadata": {},
   "outputs": [],
   "source": [
    "#Define the PATH for variable parameters\n",
    "BASE_AA_PATH = '/home/benjamin/genome_assembly/PST79/FALCON/p_assemblies/v9_1/Pst_104E_v12'\n",
    "BASE_A_PATH = '/home/benjamin/genome_assembly/PST79/FALCON/p_assemblies/v9_1/032017_assembly'\n",
    "OUT_PATH_NUCMER = os.path.join(BASE_AA_PATH, 'nucmer_analysis')\n",
    "OUT_PATH_ASSEMBLETICS = os.path.join(BASE_AA_PATH, 'Assembletics')\n",
    "MUMMER_PATH_PREFIX = '/home/benjamin/anaconda3/bin/'\n",
    "ASSEMBLETICS_PATH = '/home/benjamin/genome_assembly/PST79/FALCON/p_assemblies/v9_1/downstream_analysis_2017/scripts/Assemblytics'\n",
    "py2_env = 'py27' #python 2 environment in conda \n",
    "if not os.path.isdir(OUT_PATH_NUCMER):\n",
    "    os.mkdir(OUT_PATH_NUCMER)\n",
    "if not os.path.isdir(OUT_PATH_ASSEMBLETICS):\n",
    "    os.mkdir(OUT_PATH_ASSEMBLETICS)\n"
   ]
  },
  {
   "cell_type": "code",
   "execution_count": 6,
   "metadata": {},
   "outputs": [],
   "source": [
    "#Define your p and h genome and move it into the allele analysis folder\n",
    "genome_prefix  = 'Pst_104E_v12'\n",
    "p_genome = 'Pst_104E_v12_p_ctg'\n",
    "h_genome = 'Pst_104E_v12_h_ctg'\n",
    "genome_file_suffix = '.genome_file'\n",
    "for x in (x + '.fa' for x in [p_genome, h_genome]):\n",
    "    shutil.copy2(BASE_A_PATH+'/'+x, OUT_PATH_NUCMER)\n",
    "    shutil.copy2(BASE_A_PATH+'/'+x, OUT_PATH_ASSEMBLETICS)"
   ]
  },
  {
   "cell_type": "code",
   "execution_count": 34,
   "metadata": {
    "code_folding": []
   },
   "outputs": [],
   "source": [
    "#define the scripts to generate\n",
    "bash_script_q= genome_prefix+\"_ph_ctg_qmapping.sh\"\n",
    "bash_script_g=genome_prefix+\"_ph_ctg_gmapping.sh\"\n",
    "bash_script_nucmer_assemlytics = genome_prefix +\"_ncumer_assembleticsmapping.sh\"\n",
    "bash_script_assemlytics = genome_prefix + '_assembletics.sh'"
   ]
  },
  {
   "cell_type": "code",
   "execution_count": 18,
   "metadata": {},
   "outputs": [],
   "source": [
    "outfq = open(os.path.join(OUT_PATH_NUCMER, bash_script_q), 'w')\n",
    "outfq.write('#!/bin/bash\\n')\n",
    "outfg = open(os.path.join(OUT_PATH_NUCMER,bash_script_g), 'w')\n",
    "outfg.write('#!/bin/bash\\n')#parsing out P and corresponding h contigs and writing a short ncumer script that aligns them against each other\n",
    "outfna = open(os.path.join(OUT_PATH_ASSEMBLETICS,bash_script_nucmer_assemlytics), 'w')\n",
    "outfna.write('#!/bin/bash\\n')\n",
    "\n",
    "for pseq_record in SeqIO.parse(OUT_PATH_ASSEMBLETICS+'/'+genome_prefix+'_p_ctg.fa', 'fasta'):\n",
    "    p_acontigs = []\n",
    "    p_contig = pseq_record.id.split(\"_\")[0]+\"_\"+pseq_record.id.split(\"_\")[1]\n",
    "    suffix = genome_prefix+\"_\"+p_contig+\"_php\"\n",
    "    p_file = genome_prefix+\"_\"+p_contig+'.fa'\n",
    "    SeqIO.write(pseq_record, OUT_PATH_ASSEMBLETICS+'/'+ p_file, 'fasta')\n",
    "    SeqIO.write(pseq_record,OUT_PATH_NUCMER+'/'+ p_file, 'fasta')\n",
    "    for aseq_record in SeqIO.parse(OUT_PATH_ASSEMBLETICS+'/'+genome_prefix+'_h_ctg.fa', 'fasta'):\n",
    "        if aseq_record.id.split(\"_\")[1]  == pseq_record.id.split(\"_\")[1]:\n",
    "            p_acontigs.append(aseq_record)\n",
    "    a_file = genome_prefix +\"_\"+pseq_record.id.split(\"_\")[0]+\"_\"+pseq_record.id.split(\"_\")[1]+'_h_ctgs.fa'\n",
    "    #if we have alternative contigs safe those too\n",
    "    if p_acontigs != []:\n",
    "        SeqIO.write(p_acontigs, OUT_PATH_ASSEMBLETICS+'/'+  a_file, 'fasta')\n",
    "        SeqIO.write(p_acontigs, OUT_PATH_NUCMER+'/'+  a_file, 'fasta')\n",
    "        outfq.write(MUMMER_PATH_PREFIX +'/nucmer '+p_file+' '+a_file+\" > \"+'out.delta\\n')\n",
    "        outfq.write(MUMMER_PATH_PREFIX +'/delta-filter -q '+'out.delta'+\" > \"+suffix+\"_qfiltered.delta\\n\")\n",
    "        outfq.write(MUMMER_PATH_PREFIX +'/show-coords -T '+suffix+\"_qfiltered.delta > \"+suffix+\".qcoords\\n\")\n",
    "        outfq.write(MUMMER_PATH_PREFIX +'/mummerplot -p '+suffix+'_qfiltered --png '+suffix+\"_qfiltered.delta\\n\")\n",
    "        outfq.write(MUMMER_PATH_PREFIX +'/mummerplot -c -p '+suffix+'_qfiltered_cov --png '+suffix+\"_qfiltered.delta\\n\")\n",
    "        #for g_file bash script\n",
    "        outfg.write(MUMMER_PATH_PREFIX +'/nucmer '+p_file+' '+a_file+\" > \"+'out.delta\\n')\n",
    "        outfg.write(MUMMER_PATH_PREFIX +'/delta-filter -g '+'out.delta'+\" > \"+suffix+\"_gfiltered.delta\\n\")\n",
    "        outfg.write(MUMMER_PATH_PREFIX +'/show-coords -T '+suffix+\"_gfiltered.delta > \"+suffix+\".gcoords\\n\")\n",
    "        outfg.write(MUMMER_PATH_PREFIX +'/mummerplot -p '+suffix+'_gfiltered --png '+suffix+\"_gfiltered.delta\\n\")\n",
    "        outfg.write(MUMMER_PATH_PREFIX +'/mummerplot -c -p  '+suffix+'_gfiltered_cov --png '+suffix+\"_gfiltered.delta\\n\")\n",
    "        #for nucmer assemblytics out\n",
    "        outfna.write(MUMMER_PATH_PREFIX +'/nucmer -maxmatch -l 100 -c 500 '+p_file+' '+a_file+' -prefix ' + suffix +'\\n')\n",
    "outfna.close()    \n",
    "outfq.close()\n",
    "outfg.close()  "
   ]
  },
  {
   "cell_type": "code",
   "execution_count": 37,
   "metadata": {
    "collapsed": true
   },
   "outputs": [
    {
     "ename": "CalledProcessError",
     "evalue": "Command '/home/benjamin/genome_assembly/PST79/FALCON/p_assemblies/v9_1/Pst_104E_v12/nucmer_analysis/Pst_104E_v12_ph_ctg_qmapping.sh' returned non-zero exit status 126",
     "output_type": "error",
     "traceback": [
      "\u001b[1;31m---------------------------------------------------------------------------\u001b[0m",
      "\u001b[1;31mCalledProcessError\u001b[0m                        Traceback (most recent call last)",
      "\u001b[1;32m<ipython-input-37-dcdbe9206aed>\u001b[0m in \u001b[0;36m<module>\u001b[1;34m()\u001b[0m\n\u001b[1;32m----> 1\u001b[1;33m \u001b[0mbash_script_q_stderr\u001b[0m \u001b[1;33m=\u001b[0m \u001b[0msubprocess\u001b[0m\u001b[1;33m.\u001b[0m\u001b[0mcheck_output\u001b[0m\u001b[1;33m(\u001b[0m\u001b[0mos\u001b[0m\u001b[1;33m.\u001b[0m\u001b[0mpath\u001b[0m\u001b[1;33m.\u001b[0m\u001b[0mjoin\u001b[0m\u001b[1;33m(\u001b[0m\u001b[0mOUT_PATH_NUCMER\u001b[0m\u001b[1;33m,\u001b[0m \u001b[0mbash_script_q\u001b[0m\u001b[1;33m)\u001b[0m\u001b[1;33m,\u001b[0m \u001b[0mshell\u001b[0m\u001b[1;33m=\u001b[0m\u001b[1;32mTrue\u001b[0m\u001b[1;33m,\u001b[0m \u001b[0mstderr\u001b[0m\u001b[1;33m=\u001b[0m\u001b[0msubprocess\u001b[0m\u001b[1;33m.\u001b[0m\u001b[0mSTDOUT\u001b[0m\u001b[1;33m)\u001b[0m\u001b[1;33m\u001b[0m\u001b[0m\n\u001b[0m\u001b[0;32m      2\u001b[0m \u001b[0mbash_script_g_stderr\u001b[0m \u001b[1;33m=\u001b[0m \u001b[0msubprocess\u001b[0m\u001b[1;33m.\u001b[0m\u001b[0mcheck_output\u001b[0m\u001b[1;33m(\u001b[0m\u001b[0mos\u001b[0m\u001b[1;33m.\u001b[0m\u001b[0mpath\u001b[0m\u001b[1;33m.\u001b[0m\u001b[0mjoin\u001b[0m\u001b[1;33m(\u001b[0m\u001b[0mOUT_PATH_NUCMER\u001b[0m\u001b[1;33m,\u001b[0m \u001b[0mbash_script_g\u001b[0m\u001b[1;33m)\u001b[0m\u001b[1;33m,\u001b[0m \u001b[0mshell\u001b[0m\u001b[1;33m=\u001b[0m\u001b[1;32mTrue\u001b[0m\u001b[1;33m,\u001b[0m \u001b[0mstderr\u001b[0m\u001b[1;33m=\u001b[0m\u001b[0msubprocess\u001b[0m\u001b[1;33m.\u001b[0m\u001b[0mSTDOUT\u001b[0m\u001b[1;33m)\u001b[0m\u001b[1;33m\u001b[0m\u001b[0m\n\u001b[0;32m      3\u001b[0m \u001b[0mbash_script_g_stderr\u001b[0m \u001b[1;33m=\u001b[0m \u001b[0msubprocess\u001b[0m\u001b[1;33m.\u001b[0m\u001b[0mcheck_output\u001b[0m\u001b[1;33m(\u001b[0m\u001b[0mos\u001b[0m\u001b[1;33m.\u001b[0m\u001b[0mpath\u001b[0m\u001b[1;33m.\u001b[0m\u001b[0mjoin\u001b[0m\u001b[1;33m(\u001b[0m\u001b[0mOUT_PATH_ASSEMBLETICS\u001b[0m\u001b[1;33m,\u001b[0m \u001b[0mbash_script_nucmer_assemlytics\u001b[0m\u001b[1;33m)\u001b[0m\u001b[1;33m,\u001b[0m \u001b[0mshell\u001b[0m\u001b[1;33m=\u001b[0m\u001b[1;32mTrue\u001b[0m\u001b[1;33m,\u001b[0m \u001b[0mstderr\u001b[0m\u001b[1;33m=\u001b[0m\u001b[0msubprocess\u001b[0m\u001b[1;33m.\u001b[0m\u001b[0mSTDOUT\u001b[0m\u001b[1;33m)\u001b[0m\u001b[1;33m\u001b[0m\u001b[0m\n",
      "\u001b[1;32m/home/benjamin/anaconda3/lib/python3.5/subprocess.py\u001b[0m in \u001b[0;36mcheck_output\u001b[1;34m(timeout, *popenargs, **kwargs)\u001b[0m\n\u001b[0;32m    624\u001b[0m \u001b[1;33m\u001b[0m\u001b[0m\n\u001b[0;32m    625\u001b[0m     return run(*popenargs, stdout=PIPE, timeout=timeout, check=True,\n\u001b[1;32m--> 626\u001b[1;33m                **kwargs).stdout\n\u001b[0m\u001b[0;32m    627\u001b[0m \u001b[1;33m\u001b[0m\u001b[0m\n\u001b[0;32m    628\u001b[0m \u001b[1;33m\u001b[0m\u001b[0m\n",
      "\u001b[1;32m/home/benjamin/anaconda3/lib/python3.5/subprocess.py\u001b[0m in \u001b[0;36mrun\u001b[1;34m(input, timeout, check, *popenargs, **kwargs)\u001b[0m\n\u001b[0;32m    706\u001b[0m         \u001b[1;32mif\u001b[0m \u001b[0mcheck\u001b[0m \u001b[1;32mand\u001b[0m \u001b[0mretcode\u001b[0m\u001b[1;33m:\u001b[0m\u001b[1;33m\u001b[0m\u001b[0m\n\u001b[0;32m    707\u001b[0m             raise CalledProcessError(retcode, process.args,\n\u001b[1;32m--> 708\u001b[1;33m                                      output=stdout, stderr=stderr)\n\u001b[0m\u001b[0;32m    709\u001b[0m     \u001b[1;32mreturn\u001b[0m \u001b[0mCompletedProcess\u001b[0m\u001b[1;33m(\u001b[0m\u001b[0mprocess\u001b[0m\u001b[1;33m.\u001b[0m\u001b[0margs\u001b[0m\u001b[1;33m,\u001b[0m \u001b[0mretcode\u001b[0m\u001b[1;33m,\u001b[0m \u001b[0mstdout\u001b[0m\u001b[1;33m,\u001b[0m \u001b[0mstderr\u001b[0m\u001b[1;33m)\u001b[0m\u001b[1;33m\u001b[0m\u001b[0m\n\u001b[0;32m    710\u001b[0m \u001b[1;33m\u001b[0m\u001b[0m\n",
      "\u001b[1;31mCalledProcessError\u001b[0m: Command '/home/benjamin/genome_assembly/PST79/FALCON/p_assemblies/v9_1/Pst_104E_v12/nucmer_analysis/Pst_104E_v12_ph_ctg_qmapping.sh' returned non-zero exit status 126"
     ]
    }
   ],
   "source": [
    "#run the scripts and check if they are errors\n",
    "bash_script_q_stderr = subprocess.check_output('bash %s' %os.path.join(OUT_PATH_NUCMER, bash_script_q), shell=True, stderr=subprocess.STDOUT)\n",
    "bash_script_g_stderr = subprocess.check_output('bash %s' %os.path.join(OUT_PATH_NUCMER, bash_script_g), shell=True, stdeorr=subprocess.STDOUT)\n",
    "bash_script_assembletics_stderr = subprocess.check_output('bash %s' %os.path.join(OUT_PATH_ASSEMBLETICS, bash_script_nucmer_assemlytics), shell=True, stderr=subprocess.STDOUT)"
   ]
  },
  {
   "cell_type": "code",
   "execution_count": 45,
   "metadata": {},
   "outputs": [],
   "source": [
    "bash_script_assembletics_stderr = subprocess.check_output('bash %s' %os.path.join(OUT_PATH_ASSEMBLETICS, bash_script_nucmer_assemlytics), shell=True, stderr=subprocess.STDOUT)"
   ]
  },
  {
   "cell_type": "code",
   "execution_count": 31,
   "metadata": {},
   "outputs": [],
   "source": [
    "#write the Assemblytics script\n",
    "outfnarun = open(os.path.join(OUT_PATH_ASSEMBLETICS, bash_script_assemlytics), 'w')\n",
    "outfnarun.write('#!/bin/bash\\n')\n",
    "delta_files = [x for x in os.listdir(OUT_PATH_ASSEMBLETICS) if x.endswith('delta')]\n",
    "outfnarun.write('export PATH=\"%s\":$PATH\\n'% ASSEMBLETICS_PATH)\n",
    "outfnarun.write('#Assemblytics delta_file output_prefix unique_anchor_length maximum_feature_length path_to_R_scripts\\n')\n",
    "outfnarun.write('source activate %s\\n' %py2_env)\n",
    "for delta in delta_files:\n",
    "    folder_name = delta[:-6] + '_8kbp'\n",
    "    output_prefix = delta[:-6] + '_8kbp_50kp'\n",
    "    outfnarun.write(\"mkdir %s\\ncp %s %s\\ncd %s\\n\" % (folder_name, delta, folder_name, folder_name))\n",
    "    outfnarun.write(\"Assemblytics %s %s 8000 50000 %s\\n\" % (delta, output_prefix, ASSEMBLETICS_PATH) )\n",
    "    output_prefix = delta[:-6] + '_8kbp_10kp'\n",
    "    outfnarun.write(\"Assemblytics %s %s 8000 10000 %s\\ncd ..\\n\" % (delta, output_prefix, ASSEMBLETICS_PATH) )\n",
    "    \n",
    "outfnarun.write('source deactivate\\n')\n",
    "outfnarun.close()"
   ]
  },
  {
   "cell_type": "code",
   "execution_count": null,
   "metadata": {
    "collapsed": true
   },
   "outputs": [],
   "source": [
    "bash_script_assemlytics_stderr = subprocess.check_output('bash %s' %os.path.join(OUT_PATH_ASSEMBLETICS, bash_script_assemlytics), shell=True, stderr=subprocess.STDOUT)"
   ]
  }
 ],
 "metadata": {
  "anaconda-cloud": {},
  "kernelspec": {
   "display_name": "Python 3",
   "language": "python",
   "name": "python3"
  },
  "language_info": {
   "codemirror_mode": {
    "name": "ipython",
    "version": 3
   },
   "file_extension": ".py",
   "mimetype": "text/x-python",
   "name": "python",
   "nbconvert_exporter": "python",
   "pygments_lexer": "ipython3",
   "version": "3.5.3"
  }
 },
 "nbformat": 4,
 "nbformat_minor": 1
}
