{
 "cells": [
  {
   "cell_type": "markdown",
   "metadata": {},
   "source": [
    "This notebook is aimed at summarzing the REPET output at different levels of the nomenclature and to plot this out. Parts of it are really slow.\n",
    "\n",
    "\n",
    "This notebook was only designed for the purpose of analyzing the Pst-104E genome. No gurantees it works in any other situtation. It will have spelling errors due to the lack of autocorrection."
   ]
  },
  {
   "cell_type": "code",
   "execution_count": 1,
   "metadata": {},
   "outputs": [
    {
     "name": "stderr",
     "output_type": "stream",
     "text": [
      "/home/benjamin/anaconda3/lib/python3.5/site-packages/Bio/SearchIO/__init__.py:211: BiopythonExperimentalWarning: Bio.SearchIO is an experimental submodule which may undergo significant changes prior to its future official release.\n",
      "  BiopythonExperimentalWarning)\n"
     ]
    }
   ],
   "source": [
    "%matplotlib inline\n",
    "import pandas as pd\n",
    "import os\n",
    "import re\n",
    "from Bio import SeqIO\n",
    "import pysam\n",
    "from Bio.SeqRecord import SeqRecord\n",
    "from Bio.Seq import Seq\n",
    "from Bio import SearchIO\n",
    "from pybedtools import BedTool\n",
    "import numpy as np\n",
    "import pybedtools\n",
    "import multiprocessing\n",
    "import re\n",
    "import time\n",
    "import matplotlib.pyplot as plt"
   ]
  },
  {
   "cell_type": "code",
   "execution_count": 2,
   "metadata": {
    "collapsed": true
   },
   "outputs": [],
   "source": [
    "def ID_filter_gff(_feature, _id):\n",
    "    \"\"\"\n",
    "    This filter parses out the top level id form the 9th gff column form a REPET gff file.\n",
    "    It has a specific search pattern for each feature type in column 2.\n",
    "    _type is defined by the feature '_'.join(feature.split(\"_\")[-2:])\n",
    "    This function expects that the variable genome either ends with p_ctg or h_ctg and adapts the\n",
    "    search pattern accordingly.\n",
    "    \"\"\"\n",
    "    _type = '_'.join(_feature.split(\"_\")[-2:])\n",
    "    if _type == 'REPET_TEs':\n",
    "        if genome.endswith('p_ctg'):\n",
    "            TE_pattern = r'ID=[A-Z,a-z,0-9,-]*_[A-Z,a-z,0-9]*_[0-9]*_([^;| ]*)'\n",
    "        elif genome.endswith('h_ctg'):\n",
    "            TE_pattern = r'ID=[A-Z,a-z,0-9,-]*_[A-Z,a-z,0-9]*_[0-9]*_[0-9]*_([^;| ]*)'\n",
    "        TE_prog = re.compile(TE_pattern)\n",
    "        TE_match = TE_prog.search(_id)\n",
    "\n",
    "        try:\n",
    "            return TE_match.group(1)\n",
    "        except AttributeError:\n",
    "            print(_id)\n",
    "\n",
    "    if _type == 'REPET_SSRs':\n",
    "        if genome.endswith('p_ctg'):\n",
    "            SSR_pattern = 'ID=[A-Z,a-z,0-9,-]*_[A-Z,a-z,0-9]*_[0-9]*_([A-Z,a-z,0-9,-]*)'\n",
    "        elif genome.endswith('h_ctg'):\n",
    "            SSR_pattern = 'ID=[A-Z,a-z,0-9,-]*_[A-Z,a-z,0-9]*_[0-9]*_[0-9]*_([A-Z,a-z,0-9,-]*)'\n",
    "        SSR_prog = re.compile(SSR_pattern)\n",
    "        SSR_match = SSR_prog.search(_id)\n",
    "        return SSR_match.group(1)\n",
    "    if _type == 'REPET_tblastx' or _type == 'REPET_blastx':\n",
    "        if genome.endswith('p_ctg'):\n",
    "            blast_prog = re.compile(r'ID=[A-Z,a-z,0-9,-]*_[A-Z,a-z,0-9]*_[0-9]*_([^;| ]*)')\n",
    "        elif genome.endswith('h_ctg'):\n",
    "             blast_prog = re.compile(r'ID=[A-Z,a-z,0-9,-]*_[A-Z,a-z,0-9]*_[0-9]*_[0-9]*_([^;| ]*)')\n",
    "        #blast_prog = re.compile(blast_pattern)\n",
    "        blast_match = blast_prog.search(_id)\n",
    "        return blast_match.group(1)\n"
   ]
  },
  {
   "cell_type": "code",
   "execution_count": 3,
   "metadata": {
    "collapsed": true
   },
   "outputs": [],
   "source": [
    "def blast_hit_gff(_feature, _row8, _id):\n",
    "    \"\"\"\n",
    "    This filter parses the blast hit for REPET_TEs from the new 'ID' column. If no blast hit available returns Pastec ids.\n",
    "    If the result is blast already the value is simple parse the blast hit.\n",
    "    SSRs also get SSR\n",
    "    !!!Requires the three_letter_dict to be defined previously.!!!\n",
    "    _type is defined by the feature '_'.join(feature.split(\"_\")[-2:])\n",
    "    \"\"\"\n",
    "    _type = '_'.join(_feature.split(\"_\")[-2:])\n",
    "    if _type == 'REPET_TEs':\n",
    "        #split the pastec_cat into the first three letter code\n",
    "        #the spliting of the 'ID' column needs to be done differently depending on the h or p contigs.\n",
    "        #h contigs contain one additional '_' in the contig id\n",
    "\n",
    "        pastec_cat = _id.split('_')[0]\n",
    "        if 'TE_BLR' in _row8:\n",
    "            #hit_list = [x.split(';')[3] for x in _row8]\n",
    "            blast_hit_pattern = r'TE_BLR\\w*: (\\S*)[ |;]'\n",
    "            blast_hit_prog = re.compile(blast_hit_pattern)\n",
    "            TE_match = blast_hit_prog.findall(_row8)\n",
    "            first_sub_class = ':'.join(TE_match[0][:-1].split(':')[1:])\n",
    "            if len([x for x in TE_match if first_sub_class in x]) == len(TE_match):\n",
    "                if ';' in first_sub_class:\n",
    "                    return first_sub_class.split(';')[0]\n",
    "                else:\n",
    "                    return first_sub_class\n",
    "#fix this here to include the there letter code of the first bit of the ID similar to the blast hits\n",
    "#e.g. ClassI:?:? and so on. a dict might be the easiest here.\n",
    "            \n",
    "            else:\n",
    "                return three_letter_dict[pastec_cat]\n",
    "        else:\n",
    "            return three_letter_dict[pastec_cat]\n",
    "    if _type == 'REPET_SSRs':\n",
    "        return 'SSR'\n",
    "        \n",
    "\n",
    "        return SSR_match.group(1)\n",
    "    if _type == 'REPET_tblastx' or _type == 'REPET_blastx':\n",
    "        return ':'.join(_id.split(':')[1:])"
   ]
  },
  {
   "cell_type": "code",
   "execution_count": 4,
   "metadata": {
    "collapsed": true
   },
   "outputs": [],
   "source": [
    "def TE_classification_filter(_id, level = 0):\n",
    "    \"\"\"\n",
    "    This function pulls out the class == level1, Order == level2, Superfamily == leve3.\n",
    "    If SSR or noCat return these values.\n",
    "    \n",
    "    \"\"\"\n",
    "    if len(_id.split(':')) == 1:\n",
    "        return _id\n",
    "    if level == 0:\n",
    "        _class = _id.split(':')[0]\n",
    "        if _class == 'ClassI':\n",
    "            return 'Retrotransposon'\n",
    "        if _class == 'ClassII':\n",
    "            return 'DNA_transposon'\n",
    "    elif level == 1:\n",
    "        _order = _id.split(':')[1]\n",
    "        if _order == '?':\n",
    "            return 'noCat'\n",
    "        else:\n",
    "            return _order\n",
    "    elif level == 2:\n",
    "        _superfamily = _id.split(':')[2]\n",
    "        if _superfamily == '?':\n",
    "            return 'noCat'\n",
    "        else:\n",
    "            return _superfamily\n",
    "    else:\n",
    "        print('Something wrong! Check if level is 0, 1 or 2')"
   ]
  },
  {
   "cell_type": "markdown",
   "metadata": {},
   "source": [
    "#### This needs to be updated here according to genome (either p_ctg or h_ctg)"
   ]
  },
  {
   "cell_type": "code",
   "execution_count": 5,
   "metadata": {
    "collapsed": true
   },
   "outputs": [],
   "source": [
    "source_dir = '/home/benjamin/genome_assembly/PST79/FALCON/p_assemblies/v9_1/032017_assembly'\n",
    "\n",
    "\n",
    "genome = 'Pst_104E_v12_h_ctg'\n",
    "\n",
    "out_dir = '/home/benjamin/genome_assembly/PST79/FALCON/p_assemblies/v9_1/Pst_104E_v12/TE_analysis'"
   ]
  },
  {
   "cell_type": "code",
   "execution_count": 6,
   "metadata": {},
   "outputs": [],
   "source": [
    "if not os.path.exists(out_dir):\n",
    "    os.mkdir(out_dir)"
   ]
  },
  {
   "cell_type": "code",
   "execution_count": 7,
   "metadata": {},
   "outputs": [],
   "source": [
    "#remove all commenting lines from the initial repet file\n",
    "!grep -v \"^#\" {source_dir}/{genome}.REPET.gff > {out_dir}/{genome}.REPET.gff"
   ]
  },
  {
   "cell_type": "code",
   "execution_count": 8,
   "metadata": {},
   "outputs": [],
   "source": [
    "p_repet_gff = pd.read_csv(out_dir+'/'+genome+'.REPET.gff', sep='\\t', header = None)"
   ]
  },
  {
   "cell_type": "markdown",
   "metadata": {},
   "source": [
    "#### This needs to be updated here according to genome"
   ]
  },
  {
   "cell_type": "code",
   "execution_count": 9,
   "metadata": {
    "collapsed": true
   },
   "outputs": [],
   "source": [
    "#This needs to be updated here according to genome\n",
    "TE_post_analysis_p = '/home/benjamin/genome_assembly/PST79/FALCON/p_assemblies/v9_1/REPET/Pst79_a/Pst79a_full_annotate/postanalysis/'"
   ]
  },
  {
   "cell_type": "code",
   "execution_count": 10,
   "metadata": {
    "collapsed": true
   },
   "outputs": [],
   "source": [
    "TE_post_analysis_p_header = 'TE      length  covg    frags   fullLgthFrags   copies  fullLgthCopies  meanId  sdId    minId   q25Id   medId   q75Id   maxId   meanLgth        sdLgth  minLgth q25Lgth medLgth q75Lgth maxLgth meanLgthPerc    sdLgthPerc      minLgthPerc  q25LgthPerc     medLgthPerc     q75LgthPerc     maxLgthPerc'.split(' ')"
   ]
  },
  {
   "cell_type": "code",
   "execution_count": 11,
   "metadata": {
    "collapsed": true
   },
   "outputs": [],
   "source": [
    "TE_post_analysis_p_header = [x for x in TE_post_analysis_p_header if x != '']"
   ]
  },
  {
   "cell_type": "code",
   "execution_count": 12,
   "metadata": {},
   "outputs": [
    {
     "name": "stdout",
     "output_type": "stream",
     "text": [
      "_blastclust.classifStatsPerCluster.tab\r\n",
      "blastclust.log\r\n",
      "error.log\r\n",
      "Pst79a_anno_chr_allTEs_nr_noSSR_join_path.annotStatsPerTE.tab\r\n",
      "Pst79a_anno_chr_allTEs_nr_noSSR_join_path.globalAnnotStatsPerTE.txt\r\n",
      "Pst79a_anno_chr_allTEs_path.annotStatsPerCluster.tab\r\n",
      "Pst79a_anno_chr_allTEs_path.annotStatsPerTE.tab\r\n",
      "Pst79a_anno_chr_allTEs_path.globalAnnotStatsPerTE.txt\r\n",
      "Pst79a_anno_refTEs.fa\r\n",
      "Pst79a_anno_refTEs.fa_blastclust.classifStatsPerCluster.tab\r\n",
      "Pst79a_anno_refTEs.fa_blastclust.globalStatsPerCluster.txt\r\n",
      "Pst79a_anno_refTEs.fa_blastclust.statsPerCluster.tab\r\n",
      "Pst79a_anno_refTEs.fa_blastclust.tab\r\n"
     ]
    }
   ],
   "source": [
    "!ls {TE_post_analysis_p}"
   ]
  },
  {
   "cell_type": "code",
   "execution_count": 13,
   "metadata": {},
   "outputs": [
    {
     "name": "stdout",
     "output_type": "stream",
     "text": [
      "Check the code dict anyway\n",
      "{'RIX-incomp-chim': 'Retrotransposon LINE', 'RYX-comp-chim': 'Retrotransposon DIRS', 'DTX-incomp': 'DNA_transposon TIR', 'RIX-incomp': 'Retrotransposon LINE', 'DMX-incomp': 'DNA_transposon Maverick', 'RSX-incomp-chim': 'Retrotransposon SINE', 'DTX-comp-chim': 'DNA_transposon TIR', 'RPX-incomp-chim': 'Retrotransposon PLE', 'PotentialHostGene': 'Potential Host Gene', 'RLX-incomp-chim': 'Retrotransposon LTR', 'XXX-chim': 'noCat', 'RYX-incomp-chim': 'Retrotransposon DIRS', 'RXX-TRIM': 'Retrotransposon TRIM', 'RXX-LARD-chim': 'Retrotransposon LARD', 'RYX-incomp': 'Retrotransposon DIRS', 'RLX-comp-chim': 'Retrotransposon LTR', 'DHX-comp': 'DNA_transposon Helitron', 'DHX-incomp': 'DNA_transposon Helitron', 'DTX-incomp-chim': 'DNA_transposon TIR', 'DXX-MITE-chim': 'DNA_transposon MITE', 'DXX-MITE': 'DNA_transposon MITE', 'DXX': 'DNA_transposon noCat', 'RSX-incomp': 'Retrotransposon SINE', 'DHX-incomp-chim': 'DNA_transposon Helitron', 'RXX-TRIM-chim': 'Retrotransposon TRIM', 'RLX-incomp': 'Retrotransposon LTR', 'RLX-comp': 'Retrotransposon LTR', 'RYX-comp': 'Retrotransposon DIRS', 'DTX-comp': 'DNA_transposon TIR', 'noCat': 'noCat', 'RXX-LARD': 'Retrotransposon LARD', 'RIX-comp': 'Retrotransposon LINE'}\n"
     ]
    }
   ],
   "source": [
    "#this needs to be fixed up to pick the proper summary table\n",
    "p_repet_summary_df = pd.read_csv(TE_post_analysis_p+'/'+'Pst79a_anno_chr_allTEs_nr_noSSR_join_path.annotStatsPerTE.tab' ,\\\n",
    "                                names = TE_post_analysis_p_header, header=None, sep='\\t', skiprows=1 )\n",
    "\n",
    "#check if I can filter the tab files for removing all TEs that are on the 2000 plus contigs\n",
    "#remove tRNAs TEs with infernal\n",
    "\n",
    "p_repet_summary_df['Code'] = p_repet_summary_df['TE'].apply(lambda x: x.split('_')[0])\n",
    "\n",
    "code_keys = p_repet_summary_df['Code'].unique()\n",
    "\n",
    "code_keys.sort()\n",
    "\n",
    "code_long = ['DNA_transposon Helitron', 'DNA_transposon Helitron', 'DNA_transposon Helitron', 'DNA_transposon Maverick',\\\n",
    "            'DNA_transposon TIR', 'DNA_transposon TIR', 'DNA_transposon TIR', 'DNA_transposon TIR', 'DNA_transposon noCat',\\\n",
    "             'DNA_transposon MITE','DNA_transposon MITE', 'Potential Host Gene', 'Retrotransposon LINE', 'Retrotransposon LINE',\\\n",
    "             'Retrotransposon LINE','Retrotransposon LTR','Retrotransposon LTR', 'Retrotransposon LTR', 'Retrotransposon LTR', 'Retrotransposon PLE', \\\n",
    "             'Retrotransposon SINE',  'Retrotransposon SINE', 'Retrotransposon LARD', 'Retrotransposon LARD',\\\n",
    "              'Retrotransposon TRIM', 'Retrotransposon TRIM', 'Retrotransposon DIRS',  \\\n",
    "             'Retrotransposon DIRS','Retrotransposon DIRS','Retrotransposon DIRS',\\\n",
    "             'noCat', 'noCat']\n",
    "if len(code_keys) != len(code_long):\n",
    "    print('Check the code_long list, because different length of keys and values!\\n\\n')\n",
    "else:\n",
    "    print('Check the code dict anyway')\n",
    "code_dict = dict(zip(code_keys, code_long))\n",
    "print(code_dict)"
   ]
  },
  {
   "cell_type": "code",
   "execution_count": 14,
   "metadata": {},
   "outputs": [
    {
     "data": {
      "text/html": [
       "<div>\n",
       "<table border=\"1\" class=\"dataframe\">\n",
       "  <thead>\n",
       "    <tr style=\"text-align: right;\">\n",
       "      <th></th>\n",
       "      <th>copies</th>\n",
       "      <th>covg</th>\n",
       "      <th>length</th>\n",
       "    </tr>\n",
       "    <tr>\n",
       "      <th>Code long</th>\n",
       "      <th></th>\n",
       "      <th></th>\n",
       "      <th></th>\n",
       "    </tr>\n",
       "  </thead>\n",
       "  <tbody>\n",
       "    <tr>\n",
       "      <th>DNA_transposon Helitron</th>\n",
       "      <td>1066</td>\n",
       "      <td>958602</td>\n",
       "      <td>5340.676471</td>\n",
       "    </tr>\n",
       "    <tr>\n",
       "      <th>DNA_transposon MITE</th>\n",
       "      <td>4657</td>\n",
       "      <td>1202450</td>\n",
       "      <td>474.118644</td>\n",
       "    </tr>\n",
       "    <tr>\n",
       "      <th>DNA_transposon Maverick</th>\n",
       "      <td>292</td>\n",
       "      <td>494044</td>\n",
       "      <td>11855.200000</td>\n",
       "    </tr>\n",
       "    <tr>\n",
       "      <th>DNA_transposon TIR</th>\n",
       "      <td>15967</td>\n",
       "      <td>10441285</td>\n",
       "      <td>3930.630588</td>\n",
       "    </tr>\n",
       "    <tr>\n",
       "      <th>DNA_transposon noCat</th>\n",
       "      <td>4938</td>\n",
       "      <td>2190119</td>\n",
       "      <td>3223.552000</td>\n",
       "    </tr>\n",
       "    <tr>\n",
       "      <th>Potential Host Gene</th>\n",
       "      <td>1156</td>\n",
       "      <td>820654</td>\n",
       "      <td>4680.804348</td>\n",
       "    </tr>\n",
       "    <tr>\n",
       "      <th>Retrotransposon DIRS</th>\n",
       "      <td>1248</td>\n",
       "      <td>967757</td>\n",
       "      <td>6579.875000</td>\n",
       "    </tr>\n",
       "    <tr>\n",
       "      <th>Retrotransposon LARD</th>\n",
       "      <td>7663</td>\n",
       "      <td>3867625</td>\n",
       "      <td>5396.531073</td>\n",
       "    </tr>\n",
       "    <tr>\n",
       "      <th>Retrotransposon LINE</th>\n",
       "      <td>393</td>\n",
       "      <td>234467</td>\n",
       "      <td>3518.909091</td>\n",
       "    </tr>\n",
       "    <tr>\n",
       "      <th>Retrotransposon LTR</th>\n",
       "      <td>15523</td>\n",
       "      <td>13767967</td>\n",
       "      <td>6155.305296</td>\n",
       "    </tr>\n",
       "    <tr>\n",
       "      <th>Retrotransposon PLE</th>\n",
       "      <td>71</td>\n",
       "      <td>74621</td>\n",
       "      <td>15280.000000</td>\n",
       "    </tr>\n",
       "    <tr>\n",
       "      <th>Retrotransposon SINE</th>\n",
       "      <td>130</td>\n",
       "      <td>19003</td>\n",
       "      <td>281.214286</td>\n",
       "    </tr>\n",
       "    <tr>\n",
       "      <th>Retrotransposon TRIM</th>\n",
       "      <td>397</td>\n",
       "      <td>178775</td>\n",
       "      <td>1429.608696</td>\n",
       "    </tr>\n",
       "    <tr>\n",
       "      <th>noCat</th>\n",
       "      <td>1070</td>\n",
       "      <td>723067</td>\n",
       "      <td>1892.511628</td>\n",
       "    </tr>\n",
       "  </tbody>\n",
       "</table>\n",
       "</div>"
      ],
      "text/plain": [
       "                         copies      covg        length\n",
       "Code long                                              \n",
       "DNA_transposon Helitron    1066    958602   5340.676471\n",
       "DNA_transposon MITE        4657   1202450    474.118644\n",
       "DNA_transposon Maverick     292    494044  11855.200000\n",
       "DNA_transposon TIR        15967  10441285   3930.630588\n",
       "DNA_transposon noCat       4938   2190119   3223.552000\n",
       "Potential Host Gene        1156    820654   4680.804348\n",
       "Retrotransposon DIRS       1248    967757   6579.875000\n",
       "Retrotransposon LARD       7663   3867625   5396.531073\n",
       "Retrotransposon LINE        393    234467   3518.909091\n",
       "Retrotransposon LTR       15523  13767967   6155.305296\n",
       "Retrotransposon PLE          71     74621  15280.000000\n",
       "Retrotransposon SINE        130     19003    281.214286\n",
       "Retrotransposon TRIM        397    178775   1429.608696\n",
       "noCat                      1070    723067   1892.511628"
      ]
     },
     "execution_count": 14,
     "metadata": {},
     "output_type": "execute_result"
    }
   ],
   "source": [
    "p_repet_summary_df['Code long'] = p_repet_summary_df['Code'].apply(lambda x: code_dict[x])\n",
    "p_repet_summary_sum_df = pd.pivot_table(p_repet_summary_df, values=['covg', 'copies'], index='Code long', aggfunc=np.sum)\n",
    "p_repet_summary_mean_df = pd.pivot_table(p_repet_summary_df, values='length', index='Code long', aggfunc=np.mean)\n",
    "pd.concat([p_repet_summary_sum_df,p_repet_summary_mean_df], axis=1 )"
   ]
  },
  {
   "cell_type": "markdown",
   "metadata": {},
   "source": [
    "#### This needs to be updated here according to genome"
   ]
  },
  {
   "cell_type": "code",
   "execution_count": 15,
   "metadata": {
    "collapsed": true
   },
   "outputs": [],
   "source": [
    "#now filter the gff dataframe to delete all the high coverage contigs\n",
    "#This might would have to be fixed as well. If we don't delete it as files should be already filtered\n",
    "contigs_smaller_2000 = pd.read_csv('/home/benjamin/genome_assembly/PST79/FALCON/p_assemblies/v9_1/032017_assembly/hcontig_smaller_2000.txt',\\\n",
    "                                  header=None)[0].tolist()\n",
    "\n",
    "p_repet_gff = pd.read_csv(out_dir+'/'+genome+'.REPET.gff', sep='\\t', header = None)\n",
    "\n",
    "p_repet_gff_filtered = p_repet_gff[p_repet_gff[0].isin(contigs_smaller_2000)].reset_index(drop=True)"
   ]
  },
  {
   "cell_type": "code",
   "execution_count": 16,
   "metadata": {},
   "outputs": [],
   "source": [
    "#filter out potential host genes\n",
    "p_repet_gff_filtered = p_repet_gff_filtered[~p_repet_gff_filtered[8].str.contains(\"Potential\")]"
   ]
  },
  {
   "cell_type": "code",
   "execution_count": 17,
   "metadata": {
    "collapsed": true
   },
   "outputs": [],
   "source": [
    "p_repet_gff_filtered['ID'] = p_repet_gff_filtered.apply(lambda row: ID_filter_gff(row[1], row[8]), axis=1)"
   ]
  },
  {
   "cell_type": "code",
   "execution_count": 24,
   "metadata": {},
   "outputs": [],
   "source": [
    "#re-generate the code dict using the gff ID as Code keys\n",
    "\n",
    "\n",
    "code_keys_gff = p_repet_gff_filtered[p_repet_gff_filtered[1].str.contains('REPET_TE')]['ID'].unique()\n",
    "\n",
    "code_keys_gff = list({x.split('_')[0] for x in code_keys_gff})\n",
    "\n",
    "code_keys_gff.sort()\n",
    "\n",
    "#remove Potential host genes from long code list as those were filtered out previously.\n",
    "#code_long.remove('Potential Host Gene')\n",
    "\n",
    "if len(code_keys_gff) != len(code_long):\n",
    "    print(\"Go and check something is wrong at the code key stage!\")\n",
    "\n",
    "code_dict = dict(zip(code_keys_gff, code_long))"
   ]
  },
  {
   "cell_type": "code",
   "execution_count": 25,
   "metadata": {},
   "outputs": [
    {
     "name": "stdout",
     "output_type": "stream",
     "text": [
      "Aas\n"
     ]
    }
   ],
   "source": [
    "three_letter_code = list({x for x in code_keys_gff})\n",
    "\n",
    "three_letter_code.sort()\n",
    "\n",
    "three_letter_values = []\n",
    "for x in three_letter_code:\n",
    "    if 'MITE' in x:\n",
    "        _value = \"ClassII:MITE:?\"\n",
    "        three_letter_values.append(_value)\n",
    "        continue\n",
    "    if 'LARD' in x:\n",
    "        _value = 'ClassI:LARD:?'\n",
    "        three_letter_values.append(_value)\n",
    "        continue\n",
    "    if 'TRIM' in x:\n",
    "        _value = 'ClassI:TRIM:?'\n",
    "        three_letter_values.append(_value)\n",
    "        continue\n",
    "    _value =''\n",
    "    if x[0] == 'D':\n",
    "        _value = _value + 'ClassII:'\n",
    "    if x[0] == 'R':\n",
    "        _value = _value + 'ClassI:'\n",
    "    if x[0] != 'D' and x[0] != 'R':\n",
    "        _value = 'noCat'\n",
    "        three_letter_values.append(_value)\n",
    "        continue\n",
    "    if x[1] == 'T':\n",
    "        _value = _value + 'TIR:?'\n",
    "    if x[1] == 'H':\n",
    "        _value = _value + 'Helitron:?'\n",
    "    if x[1] == 'M':\n",
    "        _value = _value + 'Maverick:?'\n",
    "    if x[0:2] == 'DY':\n",
    "        _value = _value + ':Crypton:?'\n",
    "    if x[1] == 'X':\n",
    "        _value = _value + '?:?'\n",
    "    if x[1] == 'I':\n",
    "        _value = _value + 'LINE:?'\n",
    "    if x[1] == 'L':\n",
    "        _value = _value + 'LTR:?'\n",
    "    if x[1] == 'P':\n",
    "        _value = _value + 'Penelope:?'\n",
    "    if x[1] == 'S':\n",
    "        _value = _value + 'SINE:?'\n",
    "    if x[0:2] == 'RY':\n",
    "        _value = _value + 'DIRS:?'    \n",
    "    three_letter_values.append(_value)\n",
    "\n",
    "if len(three_letter_code) == len(three_letter_values):\n",
    "    print(\"Aas\")\n",
    "    three_letter_dict = dict(zip(three_letter_code, three_letter_values))"
   ]
  },
  {
   "cell_type": "code",
   "execution_count": 26,
   "metadata": {},
   "outputs": [
    {
     "data": {
      "text/plain": [
       "{'DHX-comp': 'ClassII:Helitron:?',\n",
       " 'DHX-incomp': 'ClassII:Helitron:?',\n",
       " 'DHX-incomp-chim': 'ClassII:Helitron:?',\n",
       " 'DMX-incomp': 'ClassII:Maverick:?',\n",
       " 'DTX-comp': 'ClassII:TIR:?',\n",
       " 'DTX-comp-chim': 'ClassII:TIR:?',\n",
       " 'DTX-incomp': 'ClassII:TIR:?',\n",
       " 'DTX-incomp-chim': 'ClassII:TIR:?',\n",
       " 'DXX': 'ClassII:?:?',\n",
       " 'DXX-MITE': 'ClassII:MITE:?',\n",
       " 'DXX-MITE-chim': 'ClassII:MITE:?',\n",
       " 'RIX-comp': 'ClassI:LINE:?',\n",
       " 'RIX-incomp': 'ClassI:LINE:?',\n",
       " 'RIX-incomp-chim': 'ClassI:LINE:?',\n",
       " 'RLX-comp': 'ClassI:LTR:?',\n",
       " 'RLX-comp-chim': 'ClassI:LTR:?',\n",
       " 'RLX-incomp': 'ClassI:LTR:?',\n",
       " 'RLX-incomp-chim': 'ClassI:LTR:?',\n",
       " 'RPX-incomp-chim': 'ClassI:Penelope:?',\n",
       " 'RSX-incomp': 'ClassI:SINE:?',\n",
       " 'RSX-incomp-chim': 'ClassI:SINE:?',\n",
       " 'RXX-LARD': 'ClassI:LARD:?',\n",
       " 'RXX-LARD-chim': 'ClassI:LARD:?',\n",
       " 'RXX-TRIM': 'ClassI:TRIM:?',\n",
       " 'RXX-TRIM-chim': 'ClassI:TRIM:?',\n",
       " 'RYX-comp': 'ClassI:DIRS:?',\n",
       " 'RYX-comp-chim': 'ClassI:DIRS:?',\n",
       " 'RYX-incomp': 'ClassI:DIRS:?',\n",
       " 'RYX-incomp-chim': 'ClassI:DIRS:?',\n",
       " 'XXX-chim': 'noCat',\n",
       " 'noCat': 'noCat'}"
      ]
     },
     "execution_count": 26,
     "metadata": {},
     "output_type": "execute_result"
    }
   ],
   "source": [
    "three_letter_dict"
   ]
  },
  {
   "cell_type": "code",
   "execution_count": 27,
   "metadata": {},
   "outputs": [],
   "source": [
    "p_repet_gff_filtered['Class:Order:Superfamily'] = p_repet_gff_filtered.apply(lambda row: blast_hit_gff(row[1], row[8], row['ID']), axis=1)"
   ]
  },
  {
   "cell_type": "code",
   "execution_count": 28,
   "metadata": {},
   "outputs": [],
   "source": [
    "#generate a dict that can be used to rename the Class:Order:Superfamily column considering that partial matches ([2] == match_part) might contain different\n",
    "#IDs even though they are the same TE only partial.\n",
    "_tmp_subset = p_repet_gff_filtered[~p_repet_gff_filtered[1].str.contains('SSR')].loc[:, 'ID':].sort_values(by=['ID','Class:Order:Superfamily'])\\\n",
    ".drop_duplicates(subset='ID', keep ='last')\n",
    "\n",
    "TE_COS_dict = dict(zip(_tmp_subset.loc[:, 'ID'], _tmp_subset.loc[:, 'Class:Order:Superfamily' ]))\n",
    "\n",
    "_tmp_subset = p_repet_gff_filtered[p_repet_gff_filtered[1].str.contains('SSR')].loc[:, 'ID':].sort_values(by=['ID','Class:Order:Superfamily'])\\\n",
    ".drop_duplicates(subset='ID', keep ='last')\n",
    "\n",
    "_tmp_dict = dict(zip(_tmp_subset.loc[:, 'ID'], _tmp_subset.loc[:, 'Class:Order:Superfamily' ]))\n",
    "\n",
    "TE_COS_dict.update(_tmp_dict)\n",
    "#remove all backslashes from the values as this will conflict with the output later on\n",
    "for x in TE_COS_dict.keys():\n",
    "    if '/' in TE_COS_dict[x]:\n",
    "        value = TE_COS_dict[x]\n",
    "        print(value)\n",
    "        TE_COS_dict[x] = value.replace('/','_')\n",
    "        print(TE_COS_dict[x])"
   ]
  },
  {
   "cell_type": "code",
   "execution_count": 30,
   "metadata": {
    "collapsed": true
   },
   "outputs": [],
   "source": [
    "p_repet_gff_filtered.to_csv(out_dir+'/'+genome+'.REPET.long.df', sep='\\t', header = None, index=None)"
   ]
  },
  {
   "cell_type": "code",
   "execution_count": 31,
   "metadata": {},
   "outputs": [],
   "source": [
    "p_repet_gff_filtered['Class:Order:Superfamily'] = p_repet_gff_filtered['ID'].apply(lambda x: TE_COS_dict[x])"
   ]
  },
  {
   "cell_type": "code",
   "execution_count": 32,
   "metadata": {},
   "outputs": [
    {
     "name": "stdout",
     "output_type": "stream",
     "text": [
      "These are the unique Class:Order:Superfamily classifiers of this dataframe:\n",
      "['ClassII:TIR:MuDR' 'ClassII:TIR:PIF-Harbinger' 'ClassII:TIR:CACTA'\n",
      " 'ClassII:TIR:Tc1-Mariner' 'ClassII:?:?' 'ClassI:LTR:Copia'\n",
      " 'ClassI:LTR:Gypsy' 'ClassII:TIR:hAT' 'ClassI:LARD:?' 'ClassII:MITE:?'\n",
      " 'ClassI:LTR:?' 'ClassII:TIR:?' 'SSR' 'ClassII:Helitron:?' 'ClassII:TIR:P'\n",
      " 'ClassI:LINE:I' 'noCat' 'ClassI:DIRS:?' 'ClassI:TRIM:?' 'ClassI:DIRS:DIRS'\n",
      " 'ClassII:Helitron:Helitron' 'ClassII:Maverick:?' 'ClassI:Penelope:?'\n",
      " 'ClassI:LINE:Jockey' 'ClassI:LTR:ERV' 'ClassII:?:Academ'\n",
      " 'ClassII:?:Ginger1' 'ClassI:LTR:Retrovirus' 'ClassI:SINE:?' 'ClassI:?:?'\n",
      " 'ClassII:?:Sola' 'ClassI:LINE:?' 'ClassI:LTR:Bel-Pao' 'ClassI:LINE:L1'\n",
      " 'ClassI:LINE:RTE' 'ClassI:PLE:Penelope' 'ClassII:?:Novosib'\n",
      " 'ClassII:Maverick:Maverick' 'ClassI:LINE:R2' 'ClassII:TIR:PiggyBac'\n",
      " 'ClassII:Crypton:Crypton' 'ClassII:?:Kolobok' 'ClassII:TIR:Transib']\n"
     ]
    }
   ],
   "source": [
    "print('These are the unique Class:Order:Superfamily classifiers of this dataframe:')\n",
    "print(p_repet_gff_filtered['Class:Order:Superfamily'].unique())"
   ]
  },
  {
   "cell_type": "code",
   "execution_count": 33,
   "metadata": {},
   "outputs": [],
   "source": [
    "#have a rough summary of the coverage not considering overlaps.\n",
    "p_repet_gff_filtered.drop_duplicates(subset=[3,4,'ID'], inplace =True)\n",
    "p_repet_gff_filtered['Length'] = p_repet_gff_filtered[4] - p_repet_gff_filtered[3]\n",
    "p_repet_gff_filtered['Class'] = p_repet_gff_filtered.apply(lambda row: TE_classification_filter(row['Class:Order:Superfamily'], 0), axis=1)\n",
    "p_repet_gff_filtered['Order'] = p_repet_gff_filtered.apply(lambda row: TE_classification_filter(row['Class:Order:Superfamily'], 1), axis=1)\n",
    "p_repet_gff_filtered['Superfamily'] = p_repet_gff_filtered.apply(lambda row: TE_classification_filter(row['Class:Order:Superfamily'], 2), axis=1)\n",
    "p_repet_gff_len_COS = p_repet_gff_filtered.groupby(by=['Class','Order','Superfamily'])['Length'].sum()\n",
    "p_repet_gff_len_S = p_repet_gff_filtered.groupby(by=['Class:Order:Superfamily'])['Length'].sum()"
   ]
  },
  {
   "cell_type": "code",
   "execution_count": 34,
   "metadata": {
    "scrolled": true
   },
   "outputs": [
    {
     "name": "stdout",
     "output_type": "stream",
     "text": [
      "This is the summary of overlapping coverage according to Class, Order, Superfamily\n",
      "Class            Order     Superfamily  \n",
      "DNA_transposon   Crypton   Crypton               441\n",
      "                 Helitron  Helitron          1383771\n",
      "                           noCat              815935\n",
      "                 MITE      noCat             1472248\n",
      "                 Maverick  Maverick             5065\n",
      "                           noCat              648632\n",
      "                 TIR       CACTA             1531452\n",
      "                           MuDR              4277001\n",
      "                           P                  296641\n",
      "                           PIF-Harbinger     3896830\n",
      "                           PiggyBac              345\n",
      "                           Tc1-Mariner       3051914\n",
      "                           Transib               755\n",
      "                           hAT               7406408\n",
      "                           noCat             2943453\n",
      "                 noCat     Academ            1871539\n",
      "                           Ginger1              3049\n",
      "                           Kolobok              1238\n",
      "                           Novosib               460\n",
      "                           Sola                 5416\n",
      "                           noCat             6495090\n",
      "Retrotransposon  DIRS      DIRS               973658\n",
      "                           noCat              370767\n",
      "                 LARD      noCat             2679250\n",
      "                 LINE      I                  653747\n",
      "                           Jockey              63988\n",
      "                           L1                   1303\n",
      "                           R2                   4172\n",
      "                           RTE                  2131\n",
      "                           noCat               48642\n",
      "                 LTR       Bel-Pao              6194\n",
      "                           Copia            10996425\n",
      "                           ERV                112073\n",
      "                           Gypsy            23520311\n",
      "                           Retrovirus           4823\n",
      "                           noCat             2658233\n",
      "                 PLE       Penelope             5944\n",
      "                 Penelope  noCat               85719\n",
      "                 SINE      noCat               17558\n",
      "                 TRIM      noCat              114928\n",
      "                 noCat     noCat               46274\n",
      "SSR              SSR       SSR               1523661\n",
      "noCat            noCat     noCat              949214\n",
      "Name: Length, dtype: int64\n"
     ]
    }
   ],
   "source": [
    "print(\"This is the summary of overlapping coverage according to Class, Order, Superfamily\")\n",
    "print(p_repet_gff_len_COS)"
   ]
  },
  {
   "cell_type": "code",
   "execution_count": 35,
   "metadata": {},
   "outputs": [
    {
     "name": "stdout",
     "output_type": "stream",
     "text": [
      "This is the summary of overlapping coverage according to Superfamily\n",
      "Class:Order:Superfamily\n",
      "ClassI:?:?                      46274\n",
      "ClassI:DIRS:?                  370767\n",
      "ClassI:DIRS:DIRS               973658\n",
      "ClassI:LARD:?                 2679250\n",
      "ClassI:LINE:?                   48642\n",
      "ClassI:LINE:I                  653747\n",
      "ClassI:LINE:Jockey              63988\n",
      "ClassI:LINE:L1                   1303\n",
      "ClassI:LINE:R2                   4172\n",
      "ClassI:LINE:RTE                  2131\n",
      "ClassI:LTR:?                  2658233\n",
      "ClassI:LTR:Bel-Pao               6194\n",
      "ClassI:LTR:Copia             10996425\n",
      "ClassI:LTR:ERV                 112073\n",
      "ClassI:LTR:Gypsy             23520311\n",
      "ClassI:LTR:Retrovirus            4823\n",
      "ClassI:PLE:Penelope              5944\n",
      "ClassI:Penelope:?               85719\n",
      "ClassI:SINE:?                   17558\n",
      "ClassI:TRIM:?                  114928\n",
      "ClassII:?:?                   6495090\n",
      "ClassII:?:Academ              1871539\n",
      "ClassII:?:Ginger1                3049\n",
      "ClassII:?:Kolobok                1238\n",
      "ClassII:?:Novosib                 460\n",
      "ClassII:?:Sola                   5416\n",
      "ClassII:Crypton:Crypton           441\n",
      "ClassII:Helitron:?             815935\n",
      "ClassII:Helitron:Helitron     1383771\n",
      "ClassII:MITE:?                1472248\n",
      "ClassII:Maverick:?             648632\n",
      "ClassII:Maverick:Maverick        5065\n",
      "ClassII:TIR:?                 2943453\n",
      "ClassII:TIR:CACTA             1531452\n",
      "ClassII:TIR:MuDR              4277001\n",
      "ClassII:TIR:P                  296641\n",
      "ClassII:TIR:PIF-Harbinger     3896830\n",
      "ClassII:TIR:PiggyBac              345\n",
      "ClassII:TIR:Tc1-Mariner       3051914\n",
      "ClassII:TIR:Transib               755\n",
      "ClassII:TIR:hAT               7406408\n",
      "SSR                           1523661\n",
      "noCat                          949214\n",
      "Name: Length, dtype: int64\n"
     ]
    }
   ],
   "source": [
    "print(\"This is the summary of overlapping coverage according to Superfamily\")\n",
    "print(p_repet_gff_len_S)"
   ]
  },
  {
   "cell_type": "code",
   "execution_count": 36,
   "metadata": {},
   "outputs": [
    {
     "name": "stdout",
     "output_type": "stream",
     "text": [
      "This is the number of unique TEs: 12180\n",
      "This is the number of unique TE superfamilies: 42\n"
     ]
    }
   ],
   "source": [
    "num_unique_TEs = len(p_repet_gff_filtered[~p_repet_gff_filtered[1].str.contains('SSR')]['ID'].unique())\n",
    "num_unique_TE_super = len(p_repet_gff_filtered[~p_repet_gff_filtered[1].str.contains('SSR')]['Class:Order:Superfamily'].unique())\n",
    "\n",
    "print('This is the number of unique TEs: %i\\nThis is the number of unique TE superfamilies: %i' % (num_unique_TEs, num_unique_TE_super))"
   ]
  },
  {
   "cell_type": "code",
   "execution_count": 37,
   "metadata": {},
   "outputs": [
    {
     "data": {
      "text/plain": [
       "Class            Order     Superfamily  \n",
       "DNA_transposon   Crypton   Crypton              3\n",
       "                 Helitron  Helitron          2945\n",
       "                           noCat              813\n",
       "                 MITE      noCat             5028\n",
       "                 Maverick  Maverick             9\n",
       "                           noCat              352\n",
       "                 TIR       CACTA             2442\n",
       "                           MuDR              8394\n",
       "                           P                  852\n",
       "                           PIF-Harbinger     9335\n",
       "                           PiggyBac             3\n",
       "                           Tc1-Mariner       7699\n",
       "                           Transib              4\n",
       "                           hAT              17914\n",
       "                           noCat             4344\n",
       "                 noCat     Academ            2637\n",
       "                           Ginger1             35\n",
       "                           Kolobok              1\n",
       "                           Novosib              2\n",
       "                           Sola                14\n",
       "                           noCat            21417\n",
       "Retrotransposon  DIRS      DIRS              2278\n",
       "                           noCat              449\n",
       "                 LARD      noCat             4067\n",
       "                 LINE      I                 1514\n",
       "                           Jockey             290\n",
       "                           L1                  14\n",
       "                           R2                  11\n",
       "                           RTE                 24\n",
       "                           noCat              112\n",
       "                 LTR       Bel-Pao             39\n",
       "                           Copia            30203\n",
       "                           ERV               1256\n",
       "                           Gypsy            61896\n",
       "                           Retrovirus          47\n",
       "                           noCat             5741\n",
       "                 PLE       Penelope            27\n",
       "                 Penelope  noCat               86\n",
       "                 SINE      noCat              120\n",
       "                 TRIM      noCat              273\n",
       "                 noCat     noCat              129\n",
       "SSR              SSR       SSR              58084\n",
       "noCat            noCat     noCat             1287\n",
       "Name: Length, dtype: int64"
      ]
     },
     "execution_count": 37,
     "metadata": {},
     "output_type": "execute_result"
    }
   ],
   "source": [
    "p_repet_gff_filtered.groupby(by=['Class','Order','Superfamily'])['Length'].count() \n"
   ]
  },
  {
   "cell_type": "code",
   "execution_count": 38,
   "metadata": {},
   "outputs": [
    {
     "data": {
      "text/plain": [
       "Class:Order:Superfamily\n",
       "ClassI:?:?                     129\n",
       "ClassI:DIRS:?                  449\n",
       "ClassI:DIRS:DIRS              2278\n",
       "ClassI:LARD:?                 4067\n",
       "ClassI:LINE:?                  112\n",
       "ClassI:LINE:I                 1514\n",
       "ClassI:LINE:Jockey             290\n",
       "ClassI:LINE:L1                  14\n",
       "ClassI:LINE:R2                  11\n",
       "ClassI:LINE:RTE                 24\n",
       "ClassI:LTR:?                  5741\n",
       "ClassI:LTR:Bel-Pao              39\n",
       "ClassI:LTR:Copia             30203\n",
       "ClassI:LTR:ERV                1256\n",
       "ClassI:LTR:Gypsy             61896\n",
       "ClassI:LTR:Retrovirus           47\n",
       "ClassI:PLE:Penelope             27\n",
       "ClassI:Penelope:?               86\n",
       "ClassI:SINE:?                  120\n",
       "ClassI:TRIM:?                  273\n",
       "ClassII:?:?                  21417\n",
       "ClassII:?:Academ              2637\n",
       "ClassII:?:Ginger1               35\n",
       "ClassII:?:Kolobok                1\n",
       "ClassII:?:Novosib                2\n",
       "ClassII:?:Sola                  14\n",
       "ClassII:Crypton:Crypton          3\n",
       "ClassII:Helitron:?             813\n",
       "ClassII:Helitron:Helitron     2945\n",
       "ClassII:MITE:?                5028\n",
       "ClassII:Maverick:?             352\n",
       "ClassII:Maverick:Maverick        9\n",
       "ClassII:TIR:?                 4344\n",
       "ClassII:TIR:CACTA             2442\n",
       "ClassII:TIR:MuDR              8394\n",
       "ClassII:TIR:P                  852\n",
       "ClassII:TIR:PIF-Harbinger     9335\n",
       "ClassII:TIR:PiggyBac             3\n",
       "ClassII:TIR:Tc1-Mariner       7699\n",
       "ClassII:TIR:Transib              4\n",
       "ClassII:TIR:hAT              17914\n",
       "SSR                          58084\n",
       "noCat                         1287\n",
       "Name: Length, dtype: int64"
      ]
     },
     "execution_count": 38,
     "metadata": {},
     "output_type": "execute_result"
    }
   ],
   "source": [
    "p_repet_gff_filtered.groupby(by=['Class:Order:Superfamily'])['Length'].count()"
   ]
  },
  {
   "cell_type": "code",
   "execution_count": 39,
   "metadata": {
    "collapsed": true
   },
   "outputs": [],
   "source": [
    "p_repet_gff_filtered.to_csv(out_dir+'/'+genome+'.REPET.long_v2.df', sep='\\t', header = None, index=None)"
   ]
  },
  {
   "cell_type": "code",
   "execution_count": 40,
   "metadata": {
    "collapsed": true
   },
   "outputs": [],
   "source": [
    "#make new gff files where the ID column is the superfamily level\n",
    "p_repet_gff_superfamily = p_repet_gff_filtered.iloc[:,:]\n",
    "p_repet_gff_superfamily[8] = p_repet_gff_superfamily['Class:Order:Superfamily']\n",
    "p_repet_gff_superfamily.iloc[:,0:9].to_csv(out_dir+'/'+genome+'.REPET.superfamily.gff', sep='\\t', header = None, index=None,columns=None)"
   ]
  },
  {
   "cell_type": "code",
   "execution_count": 41,
   "metadata": {
    "collapsed": true
   },
   "outputs": [],
   "source": [
    "#make new gff file where the ID column is the TE level\n",
    "p_repet_gff_TE = p_repet_gff_filtered.iloc[:,:]\n",
    "p_repet_gff_TE[8] = p_repet_gff_TE['ID']\n",
    "p_repet_gff_TE.iloc[:,0:9].to_csv(out_dir+'/'+genome+'.REPET.TE.gff', sep='\\t', header = None, index=None,columns=None)"
   ]
  },
  {
   "cell_type": "code",
   "execution_count": 42,
   "metadata": {
    "collapsed": true
   },
   "outputs": [],
   "source": [
    "#generate the directory structure to safe specific coverage files\n",
    "os.chdir(out_dir)\n",
    "TE_types = ['Retrotransposon', 'DNA_transposon', 'noCat', 'SSR']\n",
    "TE_path = [os.path.join(out_dir, x) for x in TE_types]\n",
    "TE_path_dict = dict(zip(TE_types, TE_path))\n",
    "for TE_type in TE_types:\n",
    "    new_path = os.path.join(out_dir, TE_type)\n",
    "    if not os.path.exists(new_path):\n",
    "        os.mkdir(new_path)"
   ]
  },
  {
   "cell_type": "code",
   "execution_count": 43,
   "metadata": {},
   "outputs": [],
   "source": [
    "# subset the id and safe in specific folder\n",
    "# return the subsetted file as bedtool\n",
    "def subset_id(_id, bed_object, repet_prefix):\n",
    "    #ClassI are retrotransposon form blast\n",
    "    if 'ClassI:' in _id:\n",
    "        out_path = TE_path_dict['Retrotransposon']   \n",
    "    #ClassII are DNA_transponson\n",
    "    elif 'ClassII' in _id:\n",
    "        out_path = TE_path_dict['DNA_transposon'] \n",
    "    #The rest with '_' should be REPET_TEs\n",
    "    elif _id == 'noCat':\n",
    "        out_path = TE_path_dict['noCat']\n",
    "    #everything without '_' at the end should be SSR\n",
    "    elif _id == 'SSR':\n",
    "        out_path = TE_path_dict['SSR']\n",
    "    out_fn = out_path+'/'+repet_prefix+'.'+_id+'.gff'\n",
    "    result = bed_object.filter(id_filter, _id).saveas(out_fn)\n",
    "    cov_fn = out_fn.replace('gff','cov')\n",
    "    cov = result.genome_coverage(dz=True,g=p_genome_file)\n",
    "    cov.saveas(cov_fn)\n",
    "    #_len = len(pd.read_csv(cov_fn, header=None, sep='\\t'))\n",
    "    #_dict[_id] = _len\n",
    "    #return pybedtools.BedTool(result.fn)"
   ]
  },
  {
   "cell_type": "code",
   "execution_count": 44,
   "metadata": {
    "collapsed": true
   },
   "outputs": [],
   "source": [
    "# Next, we create a function to pass only features for a particular\n",
    "# featuretype.  This is similar to a \"grep\" operation when applied to every\n",
    "# feature in a BedTool\n",
    "def id_filter(feature, _id):\n",
    "    if feature[8] == _id:\n",
    "        return True\n",
    "    return False"
   ]
  },
  {
   "cell_type": "code",
   "execution_count": 51,
   "metadata": {
    "collapsed": true
   },
   "outputs": [],
   "source": [
    "repet_prefix_TE = genome+'.REPET.TE'\n",
    "repet_prefix_S = genome+'.REPET.superfamily'\n",
    "p_genome_file = genome+'.genome_file'\n",
    "genome_df = pd.read_csv(p_genome_file, sep='\\t', header=None,names=['contig', 'length'])\n",
    "\n",
    "genome_size = genome_df['length'].sum()"
   ]
  },
  {
   "cell_type": "code",
   "execution_count": 50,
   "metadata": {
    "collapsed": true
   },
   "outputs": [],
   "source": [
    "#pull in the classification gff, make classification array, loop over array to save all the cov_dataframes\n",
    "RE_TE_gff = pybedtools.BedTool(out_dir+'/'+genome+'.REPET.TE.gff')\n",
    "g_TE = RE_TE_gff.remove_invalid().saveas(out_dir+'/'+genome+'.REPET.TE.bedobject')\n",
    "#use the blast filtered dataframe as well\n",
    "RE_S_gff = pybedtools.BedTool(out_dir+'/'+genome+'.REPET.superfamily.gff')\n",
    "g_S = RE_S_gff.remove_invalid().saveas(out_dir+'/'+genome+'.REPET.superfamily.bedobject')"
   ]
  },
  {
   "cell_type": "code",
   "execution_count": 49,
   "metadata": {},
   "outputs": [
    {
     "name": "stdout",
     "output_type": "stream",
     "text": [
      "Doing ClassII:TIR:MuDR\n",
      "Doing ClassII:TIR:PIF-Harbinger\n",
      "Doing ClassII:TIR:CACTA\n",
      "Doing ClassII:TIR:Tc1-Mariner\n",
      "Doing ClassII:?:?\n",
      "Doing ClassI:LTR:Copia\n",
      "Doing ClassI:LTR:Gypsy\n",
      "Doing ClassII:TIR:hAT\n",
      "Doing ClassI:LARD:?\n",
      "Doing ClassII:MITE:?\n",
      "Doing ClassI:LTR:?\n",
      "Doing ClassII:TIR:?\n",
      "Doing SSR\n",
      "Doing ClassII:Helitron:?\n",
      "Doing ClassII:TIR:P\n",
      "Doing ClassI:LINE:I\n",
      "Doing noCat\n",
      "Doing ClassI:DIRS:?\n",
      "Doing ClassI:TRIM:?\n",
      "Doing ClassI:DIRS:DIRS\n",
      "Doing ClassII:Helitron:Helitron\n",
      "Doing ClassII:Maverick:?\n",
      "Doing ClassI:Penelope:?\n",
      "Doing ClassI:LINE:Jockey\n",
      "Doing ClassI:LTR:ERV\n",
      "Doing ClassII:?:Academ\n",
      "Doing ClassII:?:Ginger1\n",
      "Doing ClassI:LTR:Retrovirus\n",
      "Doing ClassI:SINE:?\n",
      "Doing ClassI:?:?\n",
      "Doing ClassII:?:Sola\n",
      "Doing ClassI:LINE:?\n",
      "Doing ClassI:LTR:Bel-Pao\n",
      "Doing ClassI:LINE:L1\n",
      "Doing ClassI:LINE:RTE\n",
      "Doing ClassI:PLE:Penelope\n",
      "Doing ClassII:?:Novosib\n",
      "Doing ClassII:Maverick:Maverick\n",
      "Doing ClassI:LINE:R2\n",
      "Doing ClassII:TIR:PiggyBac\n",
      "Doing ClassII:Crypton:Crypton\n",
      "Doing ClassII:?:Kolobok\n",
      "Doing ClassII:TIR:Transib\n"
     ]
    }
   ],
   "source": [
    "#use simple loop to loop over the bedcov genome coverage per classification. Keep track if everything is already done.\n",
    "jobs = []\n",
    "bed_file = g_S\n",
    "superfamilies = p_repet_gff_superfamily['Class:Order:Superfamily'].unique()\n",
    "for superfamily in superfamilies:\n",
    "    subset_id(superfamily, bed_file, repet_prefix_S)\n",
    "    print('Doing %s' % superfamily)"
   ]
  },
  {
   "cell_type": "code",
   "execution_count": 52,
   "metadata": {},
   "outputs": [
    {
     "name": "stdout",
     "output_type": "stream",
     "text": [
      "/home/benjamin/genome_assembly/PST79/FALCON/p_assemblies/v9_1/Pst_104E_v12/TE_analysis/DNA_transposon/Pst_104E_v12_h_ctg.REPET.superfamily.ClassII:?:?.cov\n",
      "ClassII:?:?\n",
      "/home/benjamin/genome_assembly/PST79/FALCON/p_assemblies/v9_1/Pst_104E_v12/TE_analysis/DNA_transposon/Pst_104E_v12_h_ctg.REPET.superfamily.ClassII:?:Academ.cov\n",
      "ClassII:?:Academ\n",
      "/home/benjamin/genome_assembly/PST79/FALCON/p_assemblies/v9_1/Pst_104E_v12/TE_analysis/DNA_transposon/Pst_104E_v12_h_ctg.REPET.superfamily.ClassII:?:Ginger1.cov\n",
      "ClassII:?:Ginger1\n",
      "/home/benjamin/genome_assembly/PST79/FALCON/p_assemblies/v9_1/Pst_104E_v12/TE_analysis/DNA_transposon/Pst_104E_v12_h_ctg.REPET.superfamily.ClassII:?:Kolobok.cov\n",
      "ClassII:?:Kolobok\n",
      "/home/benjamin/genome_assembly/PST79/FALCON/p_assemblies/v9_1/Pst_104E_v12/TE_analysis/DNA_transposon/Pst_104E_v12_h_ctg.REPET.superfamily.ClassII:?:Novosib.cov\n",
      "ClassII:?:Novosib\n",
      "/home/benjamin/genome_assembly/PST79/FALCON/p_assemblies/v9_1/Pst_104E_v12/TE_analysis/DNA_transposon/Pst_104E_v12_h_ctg.REPET.superfamily.ClassII:?:Sola.cov\n",
      "ClassII:?:Sola\n",
      "/home/benjamin/genome_assembly/PST79/FALCON/p_assemblies/v9_1/Pst_104E_v12/TE_analysis/DNA_transposon/Pst_104E_v12_h_ctg.REPET.superfamily.ClassII:Crypton:Crypton.cov\n",
      "ClassII:Crypton:Crypton\n",
      "/home/benjamin/genome_assembly/PST79/FALCON/p_assemblies/v9_1/Pst_104E_v12/TE_analysis/DNA_transposon/Pst_104E_v12_h_ctg.REPET.superfamily.ClassII:Helitron:?.cov\n",
      "ClassII:Helitron:?\n",
      "/home/benjamin/genome_assembly/PST79/FALCON/p_assemblies/v9_1/Pst_104E_v12/TE_analysis/DNA_transposon/Pst_104E_v12_h_ctg.REPET.superfamily.ClassII:Helitron:Helitron.cov\n",
      "ClassII:Helitron:Helitron\n",
      "/home/benjamin/genome_assembly/PST79/FALCON/p_assemblies/v9_1/Pst_104E_v12/TE_analysis/DNA_transposon/Pst_104E_v12_h_ctg.REPET.superfamily.ClassII:MITE:?.cov\n",
      "ClassII:MITE:?\n",
      "/home/benjamin/genome_assembly/PST79/FALCON/p_assemblies/v9_1/Pst_104E_v12/TE_analysis/DNA_transposon/Pst_104E_v12_h_ctg.REPET.superfamily.ClassII:Maverick:?.cov\n",
      "ClassII:Maverick:?\n",
      "/home/benjamin/genome_assembly/PST79/FALCON/p_assemblies/v9_1/Pst_104E_v12/TE_analysis/DNA_transposon/Pst_104E_v12_h_ctg.REPET.superfamily.ClassII:Maverick:Maverick.cov\n",
      "ClassII:Maverick:Maverick\n",
      "/home/benjamin/genome_assembly/PST79/FALCON/p_assemblies/v9_1/Pst_104E_v12/TE_analysis/DNA_transposon/Pst_104E_v12_h_ctg.REPET.superfamily.ClassII:TIR:?.cov\n",
      "ClassII:TIR:?\n",
      "/home/benjamin/genome_assembly/PST79/FALCON/p_assemblies/v9_1/Pst_104E_v12/TE_analysis/DNA_transposon/Pst_104E_v12_h_ctg.REPET.superfamily.ClassII:TIR:CACTA.cov\n",
      "ClassII:TIR:CACTA\n",
      "/home/benjamin/genome_assembly/PST79/FALCON/p_assemblies/v9_1/Pst_104E_v12/TE_analysis/DNA_transposon/Pst_104E_v12_h_ctg.REPET.superfamily.ClassII:TIR:MuDR.cov\n",
      "ClassII:TIR:MuDR\n",
      "/home/benjamin/genome_assembly/PST79/FALCON/p_assemblies/v9_1/Pst_104E_v12/TE_analysis/DNA_transposon/Pst_104E_v12_h_ctg.REPET.superfamily.ClassII:TIR:P.cov\n",
      "ClassII:TIR:P\n",
      "/home/benjamin/genome_assembly/PST79/FALCON/p_assemblies/v9_1/Pst_104E_v12/TE_analysis/DNA_transposon/Pst_104E_v12_h_ctg.REPET.superfamily.ClassII:TIR:PIF-Harbinger.cov\n",
      "ClassII:TIR:PIF-Harbinger\n",
      "/home/benjamin/genome_assembly/PST79/FALCON/p_assemblies/v9_1/Pst_104E_v12/TE_analysis/DNA_transposon/Pst_104E_v12_h_ctg.REPET.superfamily.ClassII:TIR:PiggyBac.cov\n",
      "ClassII:TIR:PiggyBac\n",
      "/home/benjamin/genome_assembly/PST79/FALCON/p_assemblies/v9_1/Pst_104E_v12/TE_analysis/DNA_transposon/Pst_104E_v12_h_ctg.REPET.superfamily.ClassII:TIR:Tc1-Mariner.cov\n",
      "ClassII:TIR:Tc1-Mariner\n",
      "/home/benjamin/genome_assembly/PST79/FALCON/p_assemblies/v9_1/Pst_104E_v12/TE_analysis/DNA_transposon/Pst_104E_v12_h_ctg.REPET.superfamily.ClassII:TIR:Transib.cov\n",
      "ClassII:TIR:Transib\n",
      "/home/benjamin/genome_assembly/PST79/FALCON/p_assemblies/v9_1/Pst_104E_v12/TE_analysis/DNA_transposon/Pst_104E_v12_h_ctg.REPET.superfamily.ClassII:TIR:hAT.cov\n",
      "ClassII:TIR:hAT\n",
      "/home/benjamin/genome_assembly/PST79/FALCON/p_assemblies/v9_1/Pst_104E_v12/TE_analysis/Retrotransposon/Pst_104E_v12_h_ctg.REPET.superfamily.ClassI:?:?.cov\n",
      "ClassI:?:?\n",
      "/home/benjamin/genome_assembly/PST79/FALCON/p_assemblies/v9_1/Pst_104E_v12/TE_analysis/Retrotransposon/Pst_104E_v12_h_ctg.REPET.superfamily.ClassI:DIRS:?.cov\n",
      "ClassI:DIRS:?\n",
      "/home/benjamin/genome_assembly/PST79/FALCON/p_assemblies/v9_1/Pst_104E_v12/TE_analysis/Retrotransposon/Pst_104E_v12_h_ctg.REPET.superfamily.ClassI:DIRS:DIRS.cov\n",
      "ClassI:DIRS:DIRS\n",
      "/home/benjamin/genome_assembly/PST79/FALCON/p_assemblies/v9_1/Pst_104E_v12/TE_analysis/Retrotransposon/Pst_104E_v12_h_ctg.REPET.superfamily.ClassI:LARD:?.cov\n",
      "ClassI:LARD:?\n",
      "/home/benjamin/genome_assembly/PST79/FALCON/p_assemblies/v9_1/Pst_104E_v12/TE_analysis/Retrotransposon/Pst_104E_v12_h_ctg.REPET.superfamily.ClassI:LINE:?.cov\n",
      "ClassI:LINE:?\n",
      "/home/benjamin/genome_assembly/PST79/FALCON/p_assemblies/v9_1/Pst_104E_v12/TE_analysis/Retrotransposon/Pst_104E_v12_h_ctg.REPET.superfamily.ClassI:LINE:I.cov\n",
      "ClassI:LINE:I\n",
      "/home/benjamin/genome_assembly/PST79/FALCON/p_assemblies/v9_1/Pst_104E_v12/TE_analysis/Retrotransposon/Pst_104E_v12_h_ctg.REPET.superfamily.ClassI:LINE:Jockey.cov\n",
      "ClassI:LINE:Jockey\n",
      "/home/benjamin/genome_assembly/PST79/FALCON/p_assemblies/v9_1/Pst_104E_v12/TE_analysis/Retrotransposon/Pst_104E_v12_h_ctg.REPET.superfamily.ClassI:LINE:L1.cov\n",
      "ClassI:LINE:L1\n",
      "/home/benjamin/genome_assembly/PST79/FALCON/p_assemblies/v9_1/Pst_104E_v12/TE_analysis/Retrotransposon/Pst_104E_v12_h_ctg.REPET.superfamily.ClassI:LINE:R2.cov\n",
      "ClassI:LINE:R2\n",
      "/home/benjamin/genome_assembly/PST79/FALCON/p_assemblies/v9_1/Pst_104E_v12/TE_analysis/Retrotransposon/Pst_104E_v12_h_ctg.REPET.superfamily.ClassI:LINE:RTE.cov\n",
      "ClassI:LINE:RTE\n",
      "/home/benjamin/genome_assembly/PST79/FALCON/p_assemblies/v9_1/Pst_104E_v12/TE_analysis/Retrotransposon/Pst_104E_v12_h_ctg.REPET.superfamily.ClassI:LTR:?.cov\n",
      "ClassI:LTR:?\n",
      "/home/benjamin/genome_assembly/PST79/FALCON/p_assemblies/v9_1/Pst_104E_v12/TE_analysis/Retrotransposon/Pst_104E_v12_h_ctg.REPET.superfamily.ClassI:LTR:Bel-Pao.cov\n",
      "ClassI:LTR:Bel-Pao\n",
      "/home/benjamin/genome_assembly/PST79/FALCON/p_assemblies/v9_1/Pst_104E_v12/TE_analysis/Retrotransposon/Pst_104E_v12_h_ctg.REPET.superfamily.ClassI:LTR:Copia.cov\n",
      "ClassI:LTR:Copia\n",
      "/home/benjamin/genome_assembly/PST79/FALCON/p_assemblies/v9_1/Pst_104E_v12/TE_analysis/Retrotransposon/Pst_104E_v12_h_ctg.REPET.superfamily.ClassI:LTR:ERV.cov\n",
      "ClassI:LTR:ERV\n",
      "/home/benjamin/genome_assembly/PST79/FALCON/p_assemblies/v9_1/Pst_104E_v12/TE_analysis/Retrotransposon/Pst_104E_v12_h_ctg.REPET.superfamily.ClassI:LTR:Gypsy.cov\n",
      "ClassI:LTR:Gypsy\n",
      "/home/benjamin/genome_assembly/PST79/FALCON/p_assemblies/v9_1/Pst_104E_v12/TE_analysis/Retrotransposon/Pst_104E_v12_h_ctg.REPET.superfamily.ClassI:LTR:Retrovirus.cov\n",
      "ClassI:LTR:Retrovirus\n",
      "/home/benjamin/genome_assembly/PST79/FALCON/p_assemblies/v9_1/Pst_104E_v12/TE_analysis/Retrotransposon/Pst_104E_v12_h_ctg.REPET.superfamily.ClassI:PLE:Penelope.cov\n",
      "ClassI:PLE:Penelope\n",
      "/home/benjamin/genome_assembly/PST79/FALCON/p_assemblies/v9_1/Pst_104E_v12/TE_analysis/Retrotransposon/Pst_104E_v12_h_ctg.REPET.superfamily.ClassI:Penelope:?.cov\n",
      "ClassI:Penelope:?\n",
      "/home/benjamin/genome_assembly/PST79/FALCON/p_assemblies/v9_1/Pst_104E_v12/TE_analysis/Retrotransposon/Pst_104E_v12_h_ctg.REPET.superfamily.ClassI:SINE:?.cov\n",
      "ClassI:SINE:?\n",
      "/home/benjamin/genome_assembly/PST79/FALCON/p_assemblies/v9_1/Pst_104E_v12/TE_analysis/Retrotransposon/Pst_104E_v12_h_ctg.REPET.superfamily.ClassI:TRIM:?.cov\n",
      "ClassI:TRIM:?\n",
      "/home/benjamin/genome_assembly/PST79/FALCON/p_assemblies/v9_1/Pst_104E_v12/TE_analysis/SSR/Pst_104E_v12_h_ctg.REPET.superfamily.SSR.cov\n",
      "SSR\n",
      "/home/benjamin/genome_assembly/PST79/FALCON/p_assemblies/v9_1/Pst_104E_v12/TE_analysis/noCat/Pst_104E_v12_h_ctg.REPET.superfamily.noCat.cov\n",
      "noCat\n"
     ]
    }
   ],
   "source": [
    "cur_dir = os.path.abspath(os.path.curdir)\n",
    "#this caputures all REPET classifications add the superfamily level\n",
    "class_cov_files = []\n",
    "for dirpath, dirname, filenames in os.walk(cur_dir, topdown=True):\n",
    "    if dirpath == cur_dir:\n",
    "        continue\n",
    "    cov_files = [dirpath +'/'+x for x in os.listdir(dirpath) if x.endswith('.cov') and repet_prefix_S in x]\n",
    "    for file in cov_files:\n",
    "        class_cov_files.append(file)\n",
    "\n",
    "#make a large summary dataframe from all the cov files where the last \n",
    "df_list =[]\n",
    "class_cov_files.sort()\n",
    "for file in class_cov_files:\n",
    "    print(file)\n",
    "    tmp_df = pd.read_csv(file, sep='\\t', header = None)\n",
    "    tmp_df[\"Class:Order:Superfamily\"] = file.split('.')[-2]\n",
    "    tmp_df.drop_duplicates(inplace=True) #drop all the duplicates meaning same position in the genome and same superfamily\n",
    "    df_list.append(tmp_df)\n",
    "    print(file.split('.')[-2])\n",
    "\n",
    "df_REPET_classification = pd.concat(df_list)\n",
    "df_REPET_classification.to_csv(out_dir+'/'+ repet_prefix_S +'.cov', sep='\\t', header =None, index=None)\n",
    "\n",
    "cov_per_superfamily = df_REPET_classification.pivot_table(values=1, columns= \"Class:Order:Superfamily\", aggfunc='count')\n",
    "cov_per_contig_per_superfamily = df_REPET_classification.groupby([0, \"Class:Order:Superfamily\"])[1].count()"
   ]
  },
  {
   "cell_type": "code",
   "execution_count": 53,
   "metadata": {
    "collapsed": true
   },
   "outputs": [],
   "source": [
    "cov_all_TEs = df_REPET_classification.drop_duplicates([0,1]) #this gets ride of the overlap between different TE families and classes\n",
    "cov_all_TEs = len(cov_all_TEs)"
   ]
  },
  {
   "cell_type": "code",
   "execution_count": 57,
   "metadata": {},
   "outputs": [],
   "source": [
    "\n",
    "#make superfamily df and add columns for Class, order and superfamily\n",
    "cov_per_superfamily_df = cov_per_superfamily.append(pd.DataFrame.from_dict({'cov_all_TEs': cov_all_TEs}, orient='index'))\n",
    "cov_per_superfamily_df.rename(columns={0: 'bp'}, inplace=True)\n",
    "cov_per_superfamily_df['%'] = cov_per_superfamily_df['bp']/genome_size*100\n",
    "cov_per_superfamily_df['Class:Order:Superfamily'] = cov_per_superfamily_df.index\n",
    "\n",
    "cov_per_superfamily_df['Class'] = cov_per_superfamily_df.apply(lambda row: TE_classification_filter(row['Class:Order:Superfamily'], 0), axis=1)\n",
    "cov_per_superfamily_df['Order'] = cov_per_superfamily_df.apply(lambda row: TE_classification_filter(row['Class:Order:Superfamily'], 1), axis=1)\n",
    "cov_per_superfamily_df['Superfamily'] = cov_per_superfamily_df.apply(lambda row: TE_classification_filter(row['Class:Order:Superfamily'], 2), axis=1)\n",
    "cov_per_superfamily_df.to_csv(out_dir+'/'+genome+'.REPET.summary.tab', sep='\\t')"
   ]
  },
  {
   "cell_type": "code",
   "execution_count": null,
   "metadata": {
    "collapsed": true
   },
   "outputs": [],
   "source": [
    "#consider combining these cov data frames into classes and orders as well and simply using those as id column, drop duplicats \n",
    "#use those as real coverage analysis at those level"
   ]
  },
  {
   "cell_type": "code",
   "execution_count": 60,
   "metadata": {},
   "outputs": [
    {
     "name": "stdout",
     "output_type": "stream",
     "text": [
      "ClassII\n",
      "ClassII\n",
      "ClassII\n",
      "ClassII\n",
      "ClassII\n",
      "ClassII\n",
      "ClassII\n",
      "ClassII\n",
      "ClassII\n",
      "ClassII\n",
      "ClassII\n",
      "ClassII\n",
      "ClassII\n",
      "ClassII\n",
      "ClassII\n",
      "ClassII\n",
      "ClassII\n",
      "ClassII\n",
      "ClassII\n",
      "ClassII\n",
      "ClassII\n",
      "ClassI\n",
      "ClassI\n",
      "ClassI\n",
      "ClassI\n",
      "ClassI\n",
      "ClassI\n",
      "ClassI\n",
      "ClassI\n",
      "ClassI\n",
      "ClassI\n",
      "ClassI\n",
      "ClassI\n",
      "ClassI\n",
      "ClassI\n",
      "ClassI\n",
      "ClassI\n",
      "ClassI\n",
      "ClassI\n",
      "ClassI\n",
      "ClassI\n",
      "SSR\n",
      "noCat\n"
     ]
    }
   ],
   "source": [
    "cur_dir = os.path.abspath(os.path.curdir)\n",
    "#this caputures all REPET classifications add the superfamily level\n",
    "class_cov_files = []\n",
    "for dirpath, dirname, filenames in os.walk(cur_dir, topdown=True):\n",
    "    if dirpath == cur_dir:\n",
    "        continue\n",
    "    cov_files = [dirpath +'/'+x for x in os.listdir(dirpath) if x.endswith('.cov') and repet_prefix_S in x]\n",
    "    for file in cov_files:\n",
    "        class_cov_files.append(file)\n",
    "\n",
    "#make a large summary dataframe from all the cov files where the last \n",
    "df_list =[]\n",
    "class_cov_files.sort()\n",
    "for file in class_cov_files:\n",
    "    tmp_df = pd.read_csv(file, sep='\\t', header = None)\n",
    "    tmp_df[\"Class\"] = file.split('.')[-2].split(':')[0] #parse out the Class from the file name\n",
    "    tmp_df.drop_duplicates(inplace=True) #drop all the duplicates meaning same position in the genome and same Class\n",
    "    df_list.append(tmp_df)\n",
    "    print(file.split('.')[-2].split(':')[0])\n",
    "\n",
    "df_REPET_classification_class = pd.concat(df_list)\n",
    "df_REPET_classification_class.drop_duplicates(inplace=True)\n",
    "df_REPET_classification_class.to_csv(out_dir+'/'+ repet_prefix_S.replace('superfamily', 'Class') +'.cov', sep='\\t', header =None, index=None)\n",
    "\n",
    "cov_per_class = df_REPET_classification_class.pivot_table(values=1, columns= \"Class\", aggfunc='count')\n",
    "cov_per_contig_per_class = df_REPET_classification_class.groupby([0, \"Class\"])[1].count()"
   ]
  },
  {
   "cell_type": "code",
   "execution_count": 61,
   "metadata": {},
   "outputs": [
    {
     "name": "stdout",
     "output_type": "stream",
     "text": [
      "ClassII:?\n",
      "ClassII:?\n",
      "ClassII:?\n",
      "ClassII:?\n",
      "ClassII:?\n",
      "ClassII:?\n",
      "ClassII:Crypton\n",
      "ClassII:Helitron\n",
      "ClassII:Helitron\n",
      "ClassII:MITE\n",
      "ClassII:Maverick\n",
      "ClassII:Maverick\n",
      "ClassII:TIR\n",
      "ClassII:TIR\n",
      "ClassII:TIR\n",
      "ClassII:TIR\n",
      "ClassII:TIR\n",
      "ClassII:TIR\n",
      "ClassII:TIR\n",
      "ClassII:TIR\n",
      "ClassII:TIR\n",
      "ClassI:?\n",
      "ClassI:DIRS\n",
      "ClassI:DIRS\n",
      "ClassI:LARD\n",
      "ClassI:LINE\n",
      "ClassI:LINE\n",
      "ClassI:LINE\n",
      "ClassI:LINE\n",
      "ClassI:LINE\n",
      "ClassI:LINE\n",
      "ClassI:LTR\n",
      "ClassI:LTR\n",
      "ClassI:LTR\n",
      "ClassI:LTR\n",
      "ClassI:LTR\n",
      "ClassI:LTR\n",
      "ClassI:PLE\n",
      "ClassI:Penelope\n",
      "ClassI:SINE\n",
      "ClassI:TRIM\n",
      "SSR\n",
      "noCat\n"
     ]
    }
   ],
   "source": [
    "#this parsing of of the order is neccessary to eliminate any overlap at the order level. See drop duplicates line 23.\n",
    "cur_dir = os.path.abspath(os.path.curdir)\n",
    "#this caputures all REPET classifications add the superfamily level\n",
    "class_cov_files = []\n",
    "for dirpath, dirname, filenames in os.walk(cur_dir, topdown=True):\n",
    "    if dirpath == cur_dir:\n",
    "        continue\n",
    "    cov_files = [dirpath +'/'+x for x in os.listdir(dirpath) if x.endswith('.cov') and repet_prefix_S in x]\n",
    "    for file in cov_files:\n",
    "        class_cov_files.append(file)\n",
    "\n",
    "#make a large summary dataframe from all the cov files where the last \n",
    "df_list =[]\n",
    "class_cov_files.sort()\n",
    "for file in class_cov_files:\n",
    "    tmp_df = pd.read_csv(file, sep='\\t', header = None)\n",
    "    if ':' in file:\n",
    "        tmp_df[\"Order\"] = ':'.join(file.split('.')[-2].split(':')[0:2]) #parse out the order from the file name\n",
    "        print(':'.join(file.split('.')[-2].split(':')[0:2]))\n",
    "    else:\n",
    "        tmp_df[\"Order\"] = file.split('.')[-2].split(':')[0]\n",
    "        print(file.split('.')[-2].split(':')[0])\n",
    "    tmp_df.drop_duplicates(inplace=True) #drop all the duplicates meaning same position in the genome and same Order\n",
    "    df_list.append(tmp_df)\n",
    "\n",
    "df_REPET_orderification_order = pd.concat(df_list)\n",
    "df_REPET_orderification_order.drop_duplicates(inplace=True)\n",
    "df_REPET_orderification_order.to_csv(out_dir+'/'+ repet_prefix_S.replace('superfamily', 'Order') +'.cov', sep='\\t', header =None, index=None)\n",
    "\n",
    "cov_per_order = df_REPET_orderification_order.pivot_table(values=1, columns= \"Order\", aggfunc='count')\n",
    "cov_per_contig_per_order = df_REPET_orderification_order.groupby([0, \"Order\"])[1].count()"
   ]
  },
  {
   "cell_type": "code",
   "execution_count": 62,
   "metadata": {
    "collapsed": true
   },
   "outputs": [],
   "source": [
    "cov_per_order_df = cov_per_order.append(pd.DataFrame.from_dict({'cov_all_TEs': cov_all_TEs}, orient='index'))\n",
    "\n",
    "cov_per_order_df.rename(columns={0: 'bp'}, inplace=True)\n",
    "\n",
    "cov_per_order_df['%'] = round(cov_per_order_df['bp']/genome_size*100, 3)"
   ]
  },
  {
   "cell_type": "code",
   "execution_count": 63,
   "metadata": {
    "collapsed": true
   },
   "outputs": [],
   "source": [
    "cov_per_class_df = cov_per_class.append(pd.DataFrame.from_dict({'Total RE coverage': cov_all_TEs}, orient='index'))\n",
    "\n",
    "cov_per_class_df.rename(columns={0: 'bp'}, inplace=True)\n",
    "\n",
    "cov_per_class_df['%'] = round(cov_per_class_df['bp']/genome_size*100, 3)\n",
    "\n",
    "cov_per_class_df.sort_values('%', inplace=True)"
   ]
  },
  {
   "cell_type": "code",
   "execution_count": 64,
   "metadata": {},
   "outputs": [
    {
     "data": {
      "text/plain": [
       "['seaborn-dark',\n",
       " 'seaborn-dark-palette',\n",
       " 'ggplot',\n",
       " 'seaborn-notebook',\n",
       " 'seaborn-pastel',\n",
       " 'seaborn-whitegrid',\n",
       " 'seaborn-talk',\n",
       " 'seaborn-white',\n",
       " 'grayscale',\n",
       " 'seaborn-poster',\n",
       " 'seaborn-ticks',\n",
       " 'seaborn-bright',\n",
       " 'seaborn-muted',\n",
       " 'bmh',\n",
       " 'fivethirtyeight',\n",
       " 'seaborn-darkgrid',\n",
       " 'seaborn-colorblind',\n",
       " 'seaborn-paper',\n",
       " 'classic',\n",
       " 'dark_background',\n",
       " 'seaborn-deep']"
      ]
     },
     "execution_count": 64,
     "metadata": {},
     "output_type": "execute_result"
    }
   ],
   "source": [
    "plt.style.available"
   ]
  },
  {
   "cell_type": "code",
   "execution_count": 66,
   "metadata": {},
   "outputs": [
    {
     "data": {
      "image/png": "[encoded data removed]",
      "text/plain": [
       "<matplotlib.figure.Figure at 0x7fa8e57287b8>"
      ]
     },
     "metadata": {},
     "output_type": "display_data"
    }
   ],
   "source": [
    "plt.style.use('seaborn-talk')\n",
    "fig, (ax0, ax1, ax2) = plt.subplots(nrows=3, ncols=1, figsize=(12,15))\n",
    "fig.suptitle(\"Repetitive elements in P. striformis f. sp. tritici %s\" % genome, fontsize=14, fontweight = 'bold')\n",
    "\n",
    "#color cycle from color blind people \n",
    "CB_color_cycle = ['#377eb8', '#ff7f00', '#4daf4a',\n",
    "                  '#f781bf', '#a65628', '#984ea3',\n",
    "'#999999', '#e41a1c', '#dede00']\n",
    "\n",
    "#plot the overall genome coverage by repetitive element category\n",
    "cov_per_class_df.plot(kind='barh', y='%', ax=ax0,  color='r')\n",
    "ax0.set_xlim([-5,60])\n",
    "ax0.legend().set_visible(False)\n",
    "ax0.set_yticklabels(list(cov_per_class_df.index),fontsize=10, fontweight='bold')\n",
    "ax0.set_ylabel(ylabel='RE categories', fontsize=14, fontweight='bold')\n",
    "\n",
    "#plot class I \n",
    "classI_df = classI_df = cov_per_superfamily_df[cov_per_superfamily_df['Class'] == 'Retrotransposon'].sort_values('%')\n",
    "\n",
    "#pick out the colors to do color matching on the order level\n",
    "tmp_cn = len(classI_df['Order'].unique())\n",
    "tmp_colors = CB_color_cycle[0:tmp_cn]\n",
    "tmp_col_dict = dict(zip(classI_df['Order'].unique(), tmp_colors))\n",
    "classI_df['Color'] = classI_df['Order'].apply(lambda x: tmp_col_dict[x])\n",
    "classI_df.plot(kind='barh', y = '%', ax=ax1, color=classI_df['Color'])\n",
    "ax1.set_xlim([-2,25])\n",
    "ax1.legend().set_visible(False)\n",
    "ax1.set_yticklabels(list(classI_df.index),fontsize=10, fontweight='bold')\n",
    "ax1.set_ylabel(ylabel='Class:Order:Superfamily', fontsize=14, fontweight='bold')\n",
    "ax1.set_title('ClassI: Retrotransposons', fontsize=14, fontweight='bold')\n",
    "\n",
    "#add tick lables\n",
    "\n",
    "for p, value in zip(ax1.patches, classI_df['%']):\n",
    "    ax1.annotate('{0:.3f}'.format(value), (18,p.get_y() * 1.005),fontsize=10, fontweight='bold' )\n",
    "\n",
    "#plot class II\n",
    "classII_df = classII_df = cov_per_superfamily_df[cov_per_superfamily_df['Class'] == 'DNA_transposon'].sort_values('%')\n",
    "\n",
    "#pick out the colors to do color matching on the order level\n",
    "tmp_cn = len(classII_df['Order'].unique())\n",
    "tmp_colors = CB_color_cycle[0:tmp_cn]\n",
    "tmp_col_dict = dict(zip(classII_df['Order'].unique(), tmp_colors))\n",
    "classII_df['Color'] = classII_df['Order'].apply(lambda x: tmp_col_dict[x])\n",
    "\n",
    "#plot the class II out\n",
    "classII_df.plot(kind='barh', y = '%', ax=ax2, color=classII_df['Color'])\n",
    "ax2.set_xlim([-2,25])\n",
    "ax2.legend().set_visible(False)\n",
    "ax2.set_yticklabels(list(classII_df.index),fontsize=10, fontweight='bold')\n",
    "ax2.set_ylabel(ylabel='Class:Order:Superfamily', fontsize=14, fontweight='bold')\n",
    "ax2.set_title('ClassII: DNA transposons', fontsize=14, fontweight='bold')\n",
    "ax2.set_xlabel('% genome coverage', fontsize=14, fontweight='bold')\n",
    "\n",
    "#add tick lables\n",
    "\n",
    "for p, value in zip(ax2.patches, classII_df['%']):\n",
    "    ax2.annotate('{0:.3f}'.format(value), (18 ,p.get_y() * 1.005),fontsize=10, fontweight='bold' )\n",
    "    \n",
    "fig.savefig(genome+'.REPET_summary.seaborn-talk.png', dpi=600, bbox_inches=\"tight\")"
   ]
  },
  {
   "cell_type": "markdown",
   "metadata": {},
   "source": [
    "## Thats how far we got ##"
   ]
  },
  {
   "cell_type": "code",
   "execution_count": null,
   "metadata": {
    "collapsed": true
   },
   "outputs": [],
   "source": []
  }
 ],
 "metadata": {
  "kernelspec": {
   "display_name": "Python 3",
   "language": "python",
   "name": "python3"
  },
  "language_info": {
   "codemirror_mode": {
    "name": "ipython",
    "version": 3
   },
   "file_extension": ".py",
   "mimetype": "text/x-python",
   "name": "python",
   "nbconvert_exporter": "python",
   "pygments_lexer": "ipython3",
   "version": "3.5.3"
  }
 },
 "nbformat": 4,
 "nbformat_minor": 1
}
