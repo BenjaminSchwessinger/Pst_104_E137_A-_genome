{
 "cells": [
  {
   "cell_type": "markdown",
   "metadata": {},
   "source": [
    "This notebook is aimed at summarzing the REPET output at different levels of the nomenclature and to plot this out. Parts of it are really slow.\n",
    "\n",
    "\n",
    "This notebook was only designed for the purpose of analyzing the Pst-104E genome. No gurantees it works in any other situtation. It will have spelling errors due to the lack of autocorrection."
   ]
  },
  {
   "cell_type": "code",
   "execution_count": 29,
   "metadata": {},
   "outputs": [],
   "source": [
    "%matplotlib inline\n",
    "import pandas as pd\n",
    "import os\n",
    "import re\n",
    "from Bio import SeqIO\n",
    "import pysam\n",
    "from Bio.SeqRecord import SeqRecord\n",
    "from Bio.Seq import Seq\n",
    "from Bio import SearchIO\n",
    "from pybedtools import BedTool\n",
    "import numpy as np\n",
    "import pybedtools\n",
    "import multiprocessing\n",
    "import re\n",
    "import time\n",
    "import matplotlib.pyplot as plt"
   ]
  },
  {
   "cell_type": "code",
   "execution_count": 30,
   "metadata": {
    "collapsed": true
   },
   "outputs": [],
   "source": [
    "def ID_filter_gff(_feature, _id):\n",
    "    \"\"\"\n",
    "    This filter parses out the top level id form the 9th gff column form a REPET gff file.\n",
    "    It has a specific search pattern for each feature type in column 2.\n",
    "    _type is defined by the feature '_'.join(feature.split(\"_\")[-2:])\n",
    "    This function expects that the variable genome either ends with p_ctg or h_ctg and adapts the\n",
    "    search pattern accordingly.\n",
    "    \"\"\"\n",
    "    _type = '_'.join(_feature.split(\"_\")[-2:])\n",
    "    if _type == 'REPET_TEs':\n",
    "        if genome.endswith('p_ctg'):\n",
    "            TE_pattern = r'ID=[A-Z,a-z,0-9,-]*_[A-Z,a-z,0-9]*_[0-9]*_([^;| ]*)'\n",
    "        elif genome.endswith('h_ctg'):\n",
    "            TE_pattern = r'ID=[A-Z,a-z,0-9,-]*_[A-Z,a-z,0-9]*_[0-9]*_[0-9]*_([^;| ]*)'\n",
    "        TE_prog = re.compile(TE_pattern)\n",
    "        TE_match = TE_prog.search(_id)\n",
    "\n",
    "        try:\n",
    "            return TE_match.group(1)\n",
    "        except AttributeError:\n",
    "            print(_id)\n",
    "\n",
    "    if _type == 'REPET_SSRs':\n",
    "        if genome.endswith('p_ctg'):\n",
    "            SSR_pattern = 'ID=[A-Z,a-z,0-9,-]*_[A-Z,a-z,0-9]*_[0-9]*_([A-Z,a-z,0-9,-]*)'\n",
    "        elif genome.endswith('h_ctg'):\n",
    "            SSR_pattern = 'ID=[A-Z,a-z,0-9,-]*_[A-Z,a-z,0-9]*_[0-9]*_[0-9]*_([A-Z,a-z,0-9,-]*)'\n",
    "        SSR_prog = re.compile(SSR_pattern)\n",
    "        SSR_match = SSR_prog.search(_id)\n",
    "        return SSR_match.group(1)\n",
    "    if _type == 'REPET_tblastx' or _type == 'REPET_blastx':\n",
    "        if genome.endswith('p_ctg'):\n",
    "            blast_prog = re.compile(r'ID=[A-Z,a-z,0-9,-]*_[A-Z,a-z,0-9]*_[0-9]*_([^;| ]*)')\n",
    "        elif genome.endswith('h_ctg'):\n",
    "             blast_prog = re.compile(r'ID=[A-Z,a-z,0-9,-]*_[A-Z,a-z,0-9]*_[0-9]*_[0-9]*_([^;| ]*)')\n",
    "        #blast_prog = re.compile(blast_pattern)\n",
    "        blast_match = blast_prog.search(_id)\n",
    "        return blast_match.group(1)\n"
   ]
  },
  {
   "cell_type": "code",
   "execution_count": 31,
   "metadata": {
    "collapsed": true
   },
   "outputs": [],
   "source": [
    "def blast_hit_gff(_feature, _row8, _id):\n",
    "    \"\"\"\n",
    "    This filter parses the blast hit for REPET_TEs from the new 'ID' column. If no blast hit available returns Pastec ids.\n",
    "    If the result is blast already the value is simple parse the blast hit.\n",
    "    SSRs also get SSR\n",
    "    !!!Requires the three_letter_dict to be defined previously.!!!\n",
    "    _type is defined by the feature '_'.join(feature.split(\"_\")[-2:])\n",
    "    \"\"\"\n",
    "    _type = '_'.join(_feature.split(\"_\")[-2:])\n",
    "    if _type == 'REPET_TEs':\n",
    "        #split the pastec_cat into the first three letter code\n",
    "        #the spliting of the 'ID' column needs to be done differently depending on the h or p contigs.\n",
    "        #h contigs contain one additional '_' in the contig id\n",
    "\n",
    "        pastec_cat = _id.split('_')[0]\n",
    "        if 'TE_BLR' in _row8:\n",
    "            #hit_list = [x.split(';')[3] for x in _row8]\n",
    "            blast_hit_pattern = r'TE_BLR\\w*: (\\S*)[ |;]'\n",
    "            blast_hit_prog = re.compile(blast_hit_pattern)\n",
    "            TE_match = blast_hit_prog.findall(_row8)\n",
    "            first_sub_class = ':'.join(TE_match[0][:-1].split(':')[1:])\n",
    "            if len([x for x in TE_match if first_sub_class in x]) == len(TE_match):\n",
    "                if ';' in first_sub_class:\n",
    "                    return first_sub_class.split(';')[0]\n",
    "                else:\n",
    "                    return first_sub_class\n",
    "#fix this here to include the there letter code of the first bit of the ID similar to the blast hits\n",
    "#e.g. ClassI:?:? and so on. a dict might be the easiest here.\n",
    "            \n",
    "            else:\n",
    "                return three_letter_dict[pastec_cat]\n",
    "        else:\n",
    "            return three_letter_dict[pastec_cat]\n",
    "    if _type == 'REPET_SSRs':\n",
    "        return 'SSR'\n",
    "        \n",
    "\n",
    "        return SSR_match.group(1)\n",
    "    if _type == 'REPET_tblastx' or _type == 'REPET_blastx':\n",
    "        return ':'.join(_id.split(':')[1:])"
   ]
  },
  {
   "cell_type": "code",
   "execution_count": 32,
   "metadata": {
    "collapsed": true
   },
   "outputs": [],
   "source": [
    "def TE_classification_filter(_id, level = 0):\n",
    "    \"\"\"\n",
    "    This function pulls out the class == level1, Order == level2, Superfamily == leve3.\n",
    "    If SSR or noCat return these values.\n",
    "    \n",
    "    \"\"\"\n",
    "    if len(_id.split(':')) == 1:\n",
    "        return _id\n",
    "    if level == 0:\n",
    "        _class = _id.split(':')[0]\n",
    "        if _class == 'ClassI':\n",
    "            return 'Retrotransposon'\n",
    "        if _class == 'ClassII':\n",
    "            return 'DNA_transposon'\n",
    "    elif level == 1:\n",
    "        _order = _id.split(':')[1]\n",
    "        if _order == '?':\n",
    "            return 'noCat'\n",
    "        else:\n",
    "            return _order\n",
    "    elif level == 2:\n",
    "        _superfamily = _id.split(':')[2]\n",
    "        if _superfamily == '?':\n",
    "            return 'noCat'\n",
    "        else:\n",
    "            return _superfamily\n",
    "    else:\n",
    "        print('Something wrong! Check if level is 0, 1 or 2')"
   ]
  },
  {
   "cell_type": "markdown",
   "metadata": {},
   "source": [
    "#### This needs to be updated here according to genome (either p_ctg or h_ctg)"
   ]
  },
  {
   "cell_type": "code",
   "execution_count": 33,
   "metadata": {
    "collapsed": true
   },
   "outputs": [],
   "source": [
    "source_dir = '/home/benjamin/genome_assembly/PST79/FALCON/p_assemblies/v9_1/032017_assembly'\n",
    "\n",
    "\n",
    "genome = 'Pst_104E_v12_p_ctg'\n",
    "\n",
    "out_dir = '/home/benjamin/genome_assembly/PST79/FALCON/p_assemblies/v9_1/Pst_104E_v12/TE_analysis'"
   ]
  },
  {
   "cell_type": "code",
   "execution_count": 34,
   "metadata": {},
   "outputs": [],
   "source": [
    "if not os.path.exists(out_dir):\n",
    "    os.mkdir(out_dir)"
   ]
  },
  {
   "cell_type": "code",
   "execution_count": 35,
   "metadata": {},
   "outputs": [],
   "source": [
    "#remove all commenting lines from the initial repet file\n",
    "!grep -v \"^#\" {source_dir}/{genome}.REPET.gff > {out_dir}/{genome}.REPET.gff"
   ]
  },
  {
   "cell_type": "code",
   "execution_count": 36,
   "metadata": {},
   "outputs": [],
   "source": [
    "p_repet_gff = pd.read_csv(out_dir+'/'+genome+'.REPET.gff', sep='\\t', header = None)"
   ]
  },
  {
   "cell_type": "markdown",
   "metadata": {},
   "source": [
    "#### This needs to be updated here according to genome"
   ]
  },
  {
   "cell_type": "code",
   "execution_count": 37,
   "metadata": {
    "collapsed": true
   },
   "outputs": [],
   "source": [
    "#This needs to be updated here according to genome\n",
    "TE_post_analysis_p = '/home/benjamin/genome_assembly/PST79/FALCON/p_assemblies/v9_1/REPET/Pst79_p/Pst79_p_full_annotate/postanalysis/'"
   ]
  },
  {
   "cell_type": "code",
   "execution_count": 38,
   "metadata": {
    "collapsed": true
   },
   "outputs": [],
   "source": [
    "TE_post_analysis_p_header = 'TE      length  covg    frags   fullLgthFrags   copies  fullLgthCopies  meanId  sdId    minId   q25Id   medId   q75Id   maxId   meanLgth        sdLgth  minLgth q25Lgth medLgth q75Lgth maxLgth meanLgthPerc    sdLgthPerc      minLgthPerc  q25LgthPerc     medLgthPerc     q75LgthPerc     maxLgthPerc'.split(' ')"
   ]
  },
  {
   "cell_type": "code",
   "execution_count": 39,
   "metadata": {
    "collapsed": true
   },
   "outputs": [],
   "source": [
    "TE_post_analysis_p_header = [x for x in TE_post_analysis_p_header if x != '']"
   ]
  },
  {
   "cell_type": "code",
   "execution_count": 40,
   "metadata": {},
   "outputs": [
    {
     "name": "stdout",
     "output_type": "stream",
     "text": [
      "blastclust.log\r\n",
      "error.log\r\n",
      "Pst79p_anno_chr_allTEs_nr_noSSR_join_path.annotStatsPerTE.tab\r\n",
      "Pst79p_anno_chr_allTEs_nr_noSSR_join_path.globalAnnotStatsPerTE.txt\r\n",
      "Pst79p_anno_chr_allTEs_path.annotStatsPerCluster.tab\r\n",
      "Pst79p_anno_chr_allTEs_path.annotStatsPerTE.tab\r\n",
      "Pst79p_anno_chr_allTEs_path.globalAnnotStatsPerTE.txt\r\n",
      "Pst79p_anno_refTEs.fa\r\n",
      "Pst79p_anno_refTEs.fa_blastclust.classifStatsPerCluster.tab\r\n",
      "Pst79p_anno_refTEs.fa_blastclust.globalStatsPerCluster.txt\r\n",
      "Pst79p_anno_refTEs.fa_blastclust.statsPerCluster.tab\r\n",
      "Pst79p_anno_refTEs.fa_blastclust.tab\r\n"
     ]
    }
   ],
   "source": [
    "!ls {TE_post_analysis_p}"
   ]
  },
  {
   "cell_type": "markdown",
   "metadata": {},
   "source": [
    "#### This needs to be updated here according to genome"
   ]
  },
  {
   "cell_type": "code",
   "execution_count": 41,
   "metadata": {},
   "outputs": [
    {
     "name": "stdout",
     "output_type": "stream",
     "text": [
      "Check the code dict anyway\n",
      "{'DHX-incomp': 'DNA_transposon Helitron', 'RIX-incomp-chim': 'Retrotransposon LINE', 'RYX-comp': 'Retrotransposon DIRS', 'RLX-comp': 'Retrotransposon LTR', 'RSX-incomp': 'Retrotransposon SINE', 'RXX': 'Retrotransposon noCat', 'RPX-incomp-chim': 'Retrotransposon PLE', 'RYX-incomp': 'Retrotransposon DIRS', 'RLX-comp-chim': 'Retrotransposon LTR', 'DTX-comp': 'DNA_transposon TIR', 'DHX-comp': 'DNA_transposon Helitron', 'RYX-incomp-chim': 'Retrotransposon DIRS', 'DMX-incomp': 'DNA_transposon Maverick', 'RXX-LARD-chim': 'Retrotransposon LARD', 'RLX-incomp-chim': 'Retrotransposon LTR', 'RLX-incomp': 'Retrotransposon LTR', 'PotentialHostGene': 'Potential Host Gene', 'DXX-MITE-chim': 'DNA_transposon MITE', 'RYX-comp-chim': 'Retrotransposon DIRS', 'RSX-incomp-chim': 'Retrotransposon SINE', 'DTX-incomp-chim': 'DNA_transposon TIR', 'DXX': 'DNA_transposon noCat', 'XXX-chim': 'noCat', 'RXX-LARD': 'Retrotransposon LARD', 'DTX-incomp': 'DNA_transposon TIR', 'noCat': 'noCat', 'RXX-TRIM': 'Retrotransposon TRIM', 'RIX-comp': 'Retrotransposon LINE', 'RXX-TRIM-chim': 'Retrotransposon TRIM', 'DHX-incomp-chim': 'DNA_transposon Helitron', 'DTX-comp-chim': 'DNA_transposon TIR', 'DXX-MITE': 'DNA_transposon MITE', 'RXX-chim': 'Retrotransposon noCat', 'RIX-incomp': 'Retrotransposon LINE'}\n"
     ]
    }
   ],
   "source": [
    "#this needs to be fixed up to pick the proper summary table\n",
    "p_repet_summary_df = pd.read_csv(TE_post_analysis_p+'/'+'Pst79p_anno_chr_allTEs_nr_noSSR_join_path.annotStatsPerTE.tab' ,\\\n",
    "                                names = TE_post_analysis_p_header, header=None, sep='\\t', skiprows=1 )\n",
    "\n",
    "#check if I can filter the tab files for removing all TEs that are on the 2000 plus contigs\n",
    "#remove tRNAs TEs with infernal\n",
    "\n",
    "p_repet_summary_df['Code'] = p_repet_summary_df['TE'].apply(lambda x: x.split('_')[0])\n",
    "\n",
    "code_keys = p_repet_summary_df['Code'].unique()\n",
    "\n",
    "code_keys.sort()\n",
    "\n",
    "code_long = ['DNA_transposon Helitron', 'DNA_transposon Helitron', 'DNA_transposon Helitron', 'DNA_transposon Maverick',\\\n",
    "            'DNA_transposon TIR', 'DNA_transposon TIR', 'DNA_transposon TIR', 'DNA_transposon TIR', 'DNA_transposon noCat',\\\n",
    "             'DNA_transposon MITE','DNA_transposon MITE', 'Potential Host Gene', 'Retrotransposon LINE', 'Retrotransposon LINE',\\\n",
    "             'Retrotransposon LINE','Retrotransposon LTR','Retrotransposon LTR', 'Retrotransposon LTR', 'Retrotransposon LTR', 'Retrotransposon PLE', \\\n",
    "             'Retrotransposon SINE',  'Retrotransposon SINE', 'Retrotransposon noCat', 'Retrotransposon LARD',\\\n",
    "             'Retrotransposon LARD', 'Retrotransposon TRIM', 'Retrotransposon TRIM', 'Retrotransposon noCat',  \\\n",
    "             'Retrotransposon DIRS','Retrotransposon DIRS','Retrotransposon DIRS','Retrotransposon DIRS',\\\n",
    "             'noCat', 'noCat']\n",
    "if len(code_keys) != len(code_long):\n",
    "    print('Check the code_long list, because different length of keys and values!\\n\\n')\n",
    "else:\n",
    "    print('Check the code dict anyway')\n",
    "code_dict = dict(zip(code_keys, code_long))\n",
    "print(code_dict)"
   ]
  },
  {
   "cell_type": "code",
   "execution_count": 42,
   "metadata": {},
   "outputs": [
    {
     "data": {
      "text/html": [
       "<div>\n",
       "<table border=\"1\" class=\"dataframe\">\n",
       "  <thead>\n",
       "    <tr style=\"text-align: right;\">\n",
       "      <th></th>\n",
       "      <th>copies</th>\n",
       "      <th>covg</th>\n",
       "      <th>length</th>\n",
       "    </tr>\n",
       "    <tr>\n",
       "      <th>Code long</th>\n",
       "      <th></th>\n",
       "      <th></th>\n",
       "      <th></th>\n",
       "    </tr>\n",
       "  </thead>\n",
       "  <tbody>\n",
       "    <tr>\n",
       "      <th>DNA_transposon Helitron</th>\n",
       "      <td>1075</td>\n",
       "      <td>817566</td>\n",
       "      <td>2989.764706</td>\n",
       "    </tr>\n",
       "    <tr>\n",
       "      <th>DNA_transposon MITE</th>\n",
       "      <td>3789</td>\n",
       "      <td>886304</td>\n",
       "      <td>490.240741</td>\n",
       "    </tr>\n",
       "    <tr>\n",
       "      <th>DNA_transposon Maverick</th>\n",
       "      <td>268</td>\n",
       "      <td>345406</td>\n",
       "      <td>8562.666667</td>\n",
       "    </tr>\n",
       "    <tr>\n",
       "      <th>DNA_transposon TIR</th>\n",
       "      <td>19166</td>\n",
       "      <td>12711595</td>\n",
       "      <td>4020.474359</td>\n",
       "    </tr>\n",
       "    <tr>\n",
       "      <th>DNA_transposon noCat</th>\n",
       "      <td>5286</td>\n",
       "      <td>2376456</td>\n",
       "      <td>3034.734513</td>\n",
       "    </tr>\n",
       "    <tr>\n",
       "      <th>Potential Host Gene</th>\n",
       "      <td>1372</td>\n",
       "      <td>1375304</td>\n",
       "      <td>6120.490566</td>\n",
       "    </tr>\n",
       "    <tr>\n",
       "      <th>Retrotransposon DIRS</th>\n",
       "      <td>1337</td>\n",
       "      <td>1049299</td>\n",
       "      <td>6874.526316</td>\n",
       "    </tr>\n",
       "    <tr>\n",
       "      <th>Retrotransposon LARD</th>\n",
       "      <td>10752</td>\n",
       "      <td>4947564</td>\n",
       "      <td>5407.736111</td>\n",
       "    </tr>\n",
       "    <tr>\n",
       "      <th>Retrotransposon LINE</th>\n",
       "      <td>323</td>\n",
       "      <td>237992</td>\n",
       "      <td>4446.625000</td>\n",
       "    </tr>\n",
       "    <tr>\n",
       "      <th>Retrotransposon LTR</th>\n",
       "      <td>18893</td>\n",
       "      <td>16276421</td>\n",
       "      <td>6384.627841</td>\n",
       "    </tr>\n",
       "    <tr>\n",
       "      <th>Retrotransposon PLE</th>\n",
       "      <td>75</td>\n",
       "      <td>41843</td>\n",
       "      <td>8954.000000</td>\n",
       "    </tr>\n",
       "    <tr>\n",
       "      <th>Retrotransposon SINE</th>\n",
       "      <td>163</td>\n",
       "      <td>31138</td>\n",
       "      <td>317.923077</td>\n",
       "    </tr>\n",
       "    <tr>\n",
       "      <th>Retrotransposon TRIM</th>\n",
       "      <td>507</td>\n",
       "      <td>238695</td>\n",
       "      <td>1583.434783</td>\n",
       "    </tr>\n",
       "    <tr>\n",
       "      <th>Retrotransposon noCat</th>\n",
       "      <td>112</td>\n",
       "      <td>101098</td>\n",
       "      <td>4365.857143</td>\n",
       "    </tr>\n",
       "    <tr>\n",
       "      <th>noCat</th>\n",
       "      <td>1218</td>\n",
       "      <td>850828</td>\n",
       "      <td>1679.829268</td>\n",
       "    </tr>\n",
       "  </tbody>\n",
       "</table>\n",
       "</div>"
      ],
      "text/plain": [
       "                         copies      covg       length\n",
       "Code long                                             \n",
       "DNA_transposon Helitron    1075    817566  2989.764706\n",
       "DNA_transposon MITE        3789    886304   490.240741\n",
       "DNA_transposon Maverick     268    345406  8562.666667\n",
       "DNA_transposon TIR        19166  12711595  4020.474359\n",
       "DNA_transposon noCat       5286   2376456  3034.734513\n",
       "Potential Host Gene        1372   1375304  6120.490566\n",
       "Retrotransposon DIRS       1337   1049299  6874.526316\n",
       "Retrotransposon LARD      10752   4947564  5407.736111\n",
       "Retrotransposon LINE        323    237992  4446.625000\n",
       "Retrotransposon LTR       18893  16276421  6384.627841\n",
       "Retrotransposon PLE          75     41843  8954.000000\n",
       "Retrotransposon SINE        163     31138   317.923077\n",
       "Retrotransposon TRIM        507    238695  1583.434783\n",
       "Retrotransposon noCat       112    101098  4365.857143\n",
       "noCat                      1218    850828  1679.829268"
      ]
     },
     "execution_count": 42,
     "metadata": {},
     "output_type": "execute_result"
    }
   ],
   "source": [
    "p_repet_summary_df['Code long'] = p_repet_summary_df['Code'].apply(lambda x: code_dict[x])\n",
    "p_repet_summary_sum_df = pd.pivot_table(p_repet_summary_df, values=['covg', 'copies'], index='Code long', aggfunc=np.sum)\n",
    "p_repet_summary_mean_df = pd.pivot_table(p_repet_summary_df, values='length', index='Code long', aggfunc=np.mean)\n",
    "pd.concat([p_repet_summary_sum_df,p_repet_summary_mean_df], axis=1 )"
   ]
  },
  {
   "cell_type": "markdown",
   "metadata": {},
   "source": [
    "#### This needs to be updated here according to genome"
   ]
  },
  {
   "cell_type": "code",
   "execution_count": 43,
   "metadata": {
    "collapsed": true
   },
   "outputs": [],
   "source": [
    "#now filter the gff dataframe to delete all the high coverage contigs\n",
    "#This might would have to be fixed as well. If we don't delete it as files should be already filtered\n",
    "contigs_smaller_2000 = pd.read_csv('/home/benjamin/genome_assembly/PST79/FALCON/p_assemblies/v9_1/032017_assembly/pcontig_smaller_2000.txt',\\\n",
    "                                  header=None)[0].tolist()\n",
    "\n",
    "p_repet_gff = pd.read_csv(out_dir+'/'+genome+'.REPET.gff', sep='\\t', header = None)\n",
    "\n",
    "p_repet_gff_filtered = p_repet_gff[p_repet_gff[0].isin(contigs_smaller_2000)].reset_index(drop=True)"
   ]
  },
  {
   "cell_type": "code",
   "execution_count": 44,
   "metadata": {},
   "outputs": [],
   "source": [
    "#filter out potential host genes\n",
    "p_repet_gff_filtered = p_repet_gff_filtered[~p_repet_gff_filtered[8].str.contains(\"Potential\")]"
   ]
  },
  {
   "cell_type": "code",
   "execution_count": 45,
   "metadata": {
    "collapsed": true
   },
   "outputs": [],
   "source": [
    "p_repet_gff_filtered['ID'] = p_repet_gff_filtered.apply(lambda row: ID_filter_gff(row[1], row[8]), axis=1)"
   ]
  },
  {
   "cell_type": "code",
   "execution_count": 46,
   "metadata": {},
   "outputs": [],
   "source": [
    "#re-generate the code dict using the gff ID as Code keys\n",
    "\n",
    "\n",
    "code_keys_gff = p_repet_gff_filtered[p_repet_gff_filtered[1].str.contains('REPET_TE')]['ID'].unique()\n",
    "\n",
    "code_keys_gff = list({x.split('_')[0] for x in code_keys_gff})\n",
    "\n",
    "code_keys_gff.sort()\n",
    "\n",
    "#remove Potential host genes from long code list as those were filtered out previously.\n",
    "code_long.remove('Potential Host Gene')\n",
    "\n",
    "if len(code_keys_gff) != len(code_long):\n",
    "    print(\"Go and check something is wrong at the code key stage!\")\n",
    "\n",
    "code_dict = dict(zip(code_keys_gff, code_long))"
   ]
  },
  {
   "cell_type": "code",
   "execution_count": 47,
   "metadata": {},
   "outputs": [
    {
     "name": "stdout",
     "output_type": "stream",
     "text": [
      "Aas\n"
     ]
    }
   ],
   "source": [
    "three_letter_code = list({x for x in code_keys_gff})\n",
    "\n",
    "three_letter_code.sort()\n",
    "\n",
    "three_letter_values = []\n",
    "for x in three_letter_code:\n",
    "    if 'MITE' in x:\n",
    "        _value = \"ClassII:MITE:?\"\n",
    "        three_letter_values.append(_value)\n",
    "        continue\n",
    "    if 'LARD' in x:\n",
    "        _value = 'ClassI:LARD:?'\n",
    "        three_letter_values.append(_value)\n",
    "        continue\n",
    "    if 'TRIM' in x:\n",
    "        _value = 'ClassI:TRIM:?'\n",
    "        three_letter_values.append(_value)\n",
    "        continue\n",
    "    _value =''\n",
    "    if x[0] == 'D':\n",
    "        _value = _value + 'ClassII:'\n",
    "    if x[0] == 'R':\n",
    "        _value = _value + 'ClassI:'\n",
    "    if x[0] != 'D' and x[0] != 'R':\n",
    "        _value = 'noCat'\n",
    "        three_letter_values.append(_value)\n",
    "        continue\n",
    "    if x[1] == 'T':\n",
    "        _value = _value + 'TIR:?'\n",
    "    if x[1] == 'H':\n",
    "        _value = _value + 'Helitron:?'\n",
    "    if x[1] == 'M':\n",
    "        _value = _value + 'Maverick:?'\n",
    "    if x[0:2] == 'DY':\n",
    "        _value = _value + ':Crypton:?'\n",
    "    if x[1] == 'X':\n",
    "        _value = _value + '?:?'\n",
    "    if x[1] == 'I':\n",
    "        _value = _value + 'LINE:?'\n",
    "    if x[1] == 'L':\n",
    "        _value = _value + 'LTR:?'\n",
    "    if x[1] == 'P':\n",
    "        _value = _value + 'Penelope:?'\n",
    "    if x[1] == 'S':\n",
    "        _value = _value + 'SINE:?'\n",
    "    if x[0:2] == 'RY':\n",
    "        _value = _value + 'DIRS:?'    \n",
    "    three_letter_values.append(_value)\n",
    "\n",
    "if len(three_letter_code) == len(three_letter_values):\n",
    "    print(\"Aas\")\n",
    "    three_letter_dict = dict(zip(three_letter_code, three_letter_values))"
   ]
  },
  {
   "cell_type": "code",
   "execution_count": 48,
   "metadata": {},
   "outputs": [
    {
     "data": {
      "text/plain": [
       "{'DHX-comp': 'ClassII:Helitron:?',\n",
       " 'DHX-incomp': 'ClassII:Helitron:?',\n",
       " 'DHX-incomp-chim': 'ClassII:Helitron:?',\n",
       " 'DMX-incomp': 'ClassII:Maverick:?',\n",
       " 'DTX-comp': 'ClassII:TIR:?',\n",
       " 'DTX-comp-chim': 'ClassII:TIR:?',\n",
       " 'DTX-incomp': 'ClassII:TIR:?',\n",
       " 'DTX-incomp-chim': 'ClassII:TIR:?',\n",
       " 'DXX': 'ClassII:?:?',\n",
       " 'DXX-MITE': 'ClassII:MITE:?',\n",
       " 'DXX-MITE-chim': 'ClassII:MITE:?',\n",
       " 'RIX-comp': 'ClassI:LINE:?',\n",
       " 'RIX-incomp': 'ClassI:LINE:?',\n",
       " 'RIX-incomp-chim': 'ClassI:LINE:?',\n",
       " 'RLX-comp': 'ClassI:LTR:?',\n",
       " 'RLX-comp-chim': 'ClassI:LTR:?',\n",
       " 'RLX-incomp': 'ClassI:LTR:?',\n",
       " 'RLX-incomp-chim': 'ClassI:LTR:?',\n",
       " 'RPX-incomp-chim': 'ClassI:Penelope:?',\n",
       " 'RSX-incomp': 'ClassI:SINE:?',\n",
       " 'RSX-incomp-chim': 'ClassI:SINE:?',\n",
       " 'RXX': 'ClassI:?:?',\n",
       " 'RXX-LARD': 'ClassI:LARD:?',\n",
       " 'RXX-LARD-chim': 'ClassI:LARD:?',\n",
       " 'RXX-TRIM': 'ClassI:TRIM:?',\n",
       " 'RXX-TRIM-chim': 'ClassI:TRIM:?',\n",
       " 'RXX-chim': 'ClassI:?:?',\n",
       " 'RYX-comp': 'ClassI:DIRS:?',\n",
       " 'RYX-comp-chim': 'ClassI:DIRS:?',\n",
       " 'RYX-incomp': 'ClassI:DIRS:?',\n",
       " 'RYX-incomp-chim': 'ClassI:DIRS:?',\n",
       " 'XXX-chim': 'noCat',\n",
       " 'noCat': 'noCat'}"
      ]
     },
     "execution_count": 48,
     "metadata": {},
     "output_type": "execute_result"
    }
   ],
   "source": [
    "three_letter_dict"
   ]
  },
  {
   "cell_type": "code",
   "execution_count": 49,
   "metadata": {},
   "outputs": [],
   "source": [
    "p_repet_gff_filtered['Class:Order:Superfamily'] = p_repet_gff_filtered.apply(lambda row: blast_hit_gff(row[1], row[8], row['ID']), axis=1)"
   ]
  },
  {
   "cell_type": "code",
   "execution_count": 50,
   "metadata": {},
   "outputs": [
    {
     "name": "stdout",
     "output_type": "stream",
     "text": [
      "ClassII:?:Ginger2/TDD\n",
      "ClassII:?:Ginger2_TDD\n"
     ]
    }
   ],
   "source": [
    "#generate a dict that can be used to rename the Class:Order:Superfamily column considering that partial matches ([2] == match_part) might contain different\n",
    "#IDs even though they are the same TE only partial.\n",
    "_tmp_subset = p_repet_gff_filtered[~p_repet_gff_filtered[1].str.contains('SSR')].loc[:, 'ID':].sort_values(by=['ID','Class:Order:Superfamily'])\\\n",
    ".drop_duplicates(subset='ID', keep ='last')\n",
    "\n",
    "TE_COS_dict = dict(zip(_tmp_subset.loc[:, 'ID'], _tmp_subset.loc[:, 'Class:Order:Superfamily' ]))\n",
    "\n",
    "_tmp_subset = p_repet_gff_filtered[p_repet_gff_filtered[1].str.contains('SSR')].loc[:, 'ID':].sort_values(by=['ID','Class:Order:Superfamily'])\\\n",
    ".drop_duplicates(subset='ID', keep ='last')\n",
    "\n",
    "_tmp_dict = dict(zip(_tmp_subset.loc[:, 'ID'], _tmp_subset.loc[:, 'Class:Order:Superfamily' ]))\n",
    "\n",
    "TE_COS_dict.update(_tmp_dict)\n",
    "#remove all backslashes from the values as this will conflict with the output later on\n",
    "for x in TE_COS_dict.keys():\n",
    "    if '/' in TE_COS_dict[x]:\n",
    "        value = TE_COS_dict[x]\n",
    "        print(value)\n",
    "        TE_COS_dict[x] = value.replace('/','_')\n",
    "        print(TE_COS_dict[x])"
   ]
  },
  {
   "cell_type": "code",
   "execution_count": 51,
   "metadata": {
    "collapsed": true
   },
   "outputs": [],
   "source": [
    "p_repet_gff_filtered.to_csv(out_dir+'/'+genome+'.REPET.long.df', sep='\\t', header = None, index=None)"
   ]
  },
  {
   "cell_type": "code",
   "execution_count": 52,
   "metadata": {},
   "outputs": [],
   "source": [
    "p_repet_gff_filtered['Class:Order:Superfamily'] = p_repet_gff_filtered['ID'].apply(lambda x: TE_COS_dict[x])"
   ]
  },
  {
   "cell_type": "code",
   "execution_count": 53,
   "metadata": {},
   "outputs": [
    {
     "name": "stdout",
     "output_type": "stream",
     "text": [
      "These are the unique Class:Order:Superfamily classifiers of this dataframe:\n",
      "['ClassII:TIR:hAT' 'ClassII:TIR:CACTA' 'ClassI:LTR:Gypsy'\n",
      " 'ClassII:TIR:PIF-Harbinger' 'ClassI:LTR:Copia' 'SSR' 'ClassII:?:?'\n",
      " 'ClassII:MITE:?' 'ClassI:LTR:?' 'ClassI:LARD:?' 'ClassI:SINE:?'\n",
      " 'ClassII:TIR:Tc1-Mariner' 'ClassII:TIR:?' 'ClassII:TIR:MuDR' 'noCat'\n",
      " 'ClassII:Helitron:?' 'ClassII:TIR:P' 'ClassII:Helitron:Helitron'\n",
      " 'ClassI:LTR:ERV' 'ClassII:Maverick:?' 'ClassI:LINE:I' 'ClassII:?:Academ'\n",
      " 'ClassI:DIRS:DIRS' 'ClassII:?:Ginger2_TDD' 'ClassI:TRIM:?'\n",
      " 'ClassI:LINE:Jockey' 'ClassI:?:?' 'ClassII:?:Ginger1'\n",
      " 'ClassI:LTR:Retrovirus' 'ClassI:LTR:Bel-Pao' 'ClassII:Maverick:Maverick'\n",
      " 'ClassI:PLE:Penelope' 'ClassI:Penelope:?' 'ClassI:LINE:RTE'\n",
      " 'ClassI:LINE:?' 'ClassI:LINE:L1' 'ClassII:Crypton:Crypton'\n",
      " 'ClassII:?:Sola' 'ClassII:TIR:PiggyBac' 'ClassI:LINE:R2' 'ClassI:DIRS:?'\n",
      " 'ClassII:?:Kolobok' 'ClassII:TIR:Transib']\n"
     ]
    }
   ],
   "source": [
    "print('These are the unique Class:Order:Superfamily classifiers of this dataframe:')\n",
    "print(p_repet_gff_filtered['Class:Order:Superfamily'].unique())"
   ]
  },
  {
   "cell_type": "code",
   "execution_count": 54,
   "metadata": {},
   "outputs": [],
   "source": [
    "#have a rough summary of the coverage not considering overlaps.\n",
    "p_repet_gff_filtered.drop_duplicates(subset=[3,4,'ID'], inplace =True)\n",
    "p_repet_gff_filtered['Length'] = p_repet_gff_filtered[4] - p_repet_gff_filtered[3]\n",
    "p_repet_gff_filtered['Class'] = p_repet_gff_filtered.apply(lambda row: TE_classification_filter(row['Class:Order:Superfamily'], 0), axis=1)\n",
    "p_repet_gff_filtered['Order'] = p_repet_gff_filtered.apply(lambda row: TE_classification_filter(row['Class:Order:Superfamily'], 1), axis=1)\n",
    "p_repet_gff_filtered['Superfamily'] = p_repet_gff_filtered.apply(lambda row: TE_classification_filter(row['Class:Order:Superfamily'], 2), axis=1)\n",
    "p_repet_gff_len_COS = p_repet_gff_filtered.groupby(by=['Class','Order','Superfamily'])['Length'].sum()\n",
    "p_repet_gff_len_S = p_repet_gff_filtered.groupby(by=['Class:Order:Superfamily'])['Length'].sum()"
   ]
  },
  {
   "cell_type": "code",
   "execution_count": 55,
   "metadata": {
    "scrolled": true
   },
   "outputs": [
    {
     "name": "stdout",
     "output_type": "stream",
     "text": [
      "This is the summary of overlapping coverage according to Class, Order, Superfamily\n",
      "Class            Order     Superfamily  \n",
      "DNA_transposon   Crypton   Crypton              1980\n",
      "                 Helitron  Helitron          1402086\n",
      "                           noCat              773416\n",
      "                 MITE      noCat             1089424\n",
      "                 Maverick  Maverick            32983\n",
      "                           noCat              411043\n",
      "                 TIR       CACTA             2468455\n",
      "                           MuDR              4269984\n",
      "                           P                  273240\n",
      "                           PIF-Harbinger     4470021\n",
      "                           PiggyBac              345\n",
      "                           Tc1-Mariner       3164294\n",
      "                           Transib              1257\n",
      "                           hAT               8656260\n",
      "                           noCat             5176762\n",
      "                 noCat     Academ            2069193\n",
      "                           Ginger1              5331\n",
      "                           Ginger2_TDD            34\n",
      "                           Kolobok              1317\n",
      "                           Sola                 7549\n",
      "                           noCat             8367989\n",
      "Retrotransposon  DIRS      DIRS              1288040\n",
      "                           noCat                5222\n",
      "                 LARD      noCat             3354762\n",
      "                 LINE      I                  886166\n",
      "                           Jockey              40186\n",
      "                           L1                   2500\n",
      "                           R2                   3941\n",
      "                           RTE                  2767\n",
      "                           noCat                5056\n",
      "                 LTR       Bel-Pao              4378\n",
      "                           Copia            12553952\n",
      "                           ERV                140257\n",
      "                           Gypsy            29374783\n",
      "                           Retrovirus          29929\n",
      "                           noCat             3003699\n",
      "                 PLE       Penelope              730\n",
      "                 Penelope  noCat               74409\n",
      "                 SINE      noCat               32459\n",
      "                 TRIM      noCat              207950\n",
      "                 noCat     noCat              151904\n",
      "SSR              SSR       SSR               1923327\n",
      "noCat            noCat     noCat             1176049\n",
      "Name: Length, dtype: int64\n"
     ]
    }
   ],
   "source": [
    "print(\"This is the summary of overlapping coverage according to Class, Order, Superfamily\")\n",
    "print(p_repet_gff_len_COS)"
   ]
  },
  {
   "cell_type": "code",
   "execution_count": 56,
   "metadata": {},
   "outputs": [
    {
     "name": "stdout",
     "output_type": "stream",
     "text": [
      "This is the summary of overlapping coverage according to Superfamily\n",
      "Class:Order:Superfamily\n",
      "ClassI:?:?                     151904\n",
      "ClassI:DIRS:?                    5222\n",
      "ClassI:DIRS:DIRS              1288040\n",
      "ClassI:LARD:?                 3354762\n",
      "ClassI:LINE:?                    5056\n",
      "ClassI:LINE:I                  886166\n",
      "ClassI:LINE:Jockey              40186\n",
      "ClassI:LINE:L1                   2500\n",
      "ClassI:LINE:R2                   3941\n",
      "ClassI:LINE:RTE                  2767\n",
      "ClassI:LTR:?                  3003699\n",
      "ClassI:LTR:Bel-Pao               4378\n",
      "ClassI:LTR:Copia             12553952\n",
      "ClassI:LTR:ERV                 140257\n",
      "ClassI:LTR:Gypsy             29374783\n",
      "ClassI:LTR:Retrovirus           29929\n",
      "ClassI:PLE:Penelope               730\n",
      "ClassI:Penelope:?               74409\n",
      "ClassI:SINE:?                   32459\n",
      "ClassI:TRIM:?                  207950\n",
      "ClassII:?:?                   8367989\n",
      "ClassII:?:Academ              2069193\n",
      "ClassII:?:Ginger1                5331\n",
      "ClassII:?:Ginger2_TDD              34\n",
      "ClassII:?:Kolobok                1317\n",
      "ClassII:?:Sola                   7549\n",
      "ClassII:Crypton:Crypton          1980\n",
      "ClassII:Helitron:?             773416\n",
      "ClassII:Helitron:Helitron     1402086\n",
      "ClassII:MITE:?                1089424\n",
      "ClassII:Maverick:?             411043\n",
      "ClassII:Maverick:Maverick       32983\n",
      "ClassII:TIR:?                 5176762\n",
      "ClassII:TIR:CACTA             2468455\n",
      "ClassII:TIR:MuDR              4269984\n",
      "ClassII:TIR:P                  273240\n",
      "ClassII:TIR:PIF-Harbinger     4470021\n",
      "ClassII:TIR:PiggyBac              345\n",
      "ClassII:TIR:Tc1-Mariner       3164294\n",
      "ClassII:TIR:Transib              1257\n",
      "ClassII:TIR:hAT               8656260\n",
      "SSR                           1923327\n",
      "noCat                         1176049\n",
      "Name: Length, dtype: int64\n"
     ]
    }
   ],
   "source": [
    "print(\"This is the summary of overlapping coverage according to Superfamily\")\n",
    "print(p_repet_gff_len_S)"
   ]
  },
  {
   "cell_type": "code",
   "execution_count": 57,
   "metadata": {},
   "outputs": [
    {
     "name": "stdout",
     "output_type": "stream",
     "text": [
      "This is the number of unique TEs: 12807\n",
      "This is the number of unique TE superfamilies: 42\n"
     ]
    }
   ],
   "source": [
    "num_unique_TEs = len(p_repet_gff_filtered[~p_repet_gff_filtered[1].str.contains('SSR')]['ID'].unique())\n",
    "num_unique_TE_super = len(p_repet_gff_filtered[~p_repet_gff_filtered[1].str.contains('SSR')]['Class:Order:Superfamily'].unique())\n",
    "\n",
    "print('This is the number of unique TEs: %i\\nThis is the number of unique TE superfamilies: %i' % (num_unique_TEs, num_unique_TE_super))"
   ]
  },
  {
   "cell_type": "code",
   "execution_count": 58,
   "metadata": {},
   "outputs": [
    {
     "data": {
      "text/plain": [
       "Class            Order     Superfamily  \n",
       "DNA_transposon   Crypton   Crypton             11\n",
       "                 Helitron  Helitron          3199\n",
       "                           noCat              992\n",
       "                 MITE      noCat             4084\n",
       "                 Maverick  Maverick            42\n",
       "                           noCat              281\n",
       "                 TIR       CACTA             3584\n",
       "                           MuDR              8939\n",
       "                           P                  957\n",
       "                           PIF-Harbinger    10660\n",
       "                           PiggyBac             3\n",
       "                           Tc1-Mariner       8122\n",
       "                           Transib              7\n",
       "                           hAT              20443\n",
       "                           noCat             7366\n",
       "                 noCat     Academ            2767\n",
       "                           Ginger1             53\n",
       "                           Ginger2_TDD          1\n",
       "                           Kolobok              3\n",
       "                           Sola                20\n",
       "                           noCat            26106\n",
       "Retrotransposon  DIRS      DIRS              2875\n",
       "                           noCat                8\n",
       "                 LARD      noCat             5628\n",
       "                 LINE      I                 1889\n",
       "                           Jockey             239\n",
       "                           L1                  28\n",
       "                           R2                  11\n",
       "                           RTE                 36\n",
       "                           noCat               13\n",
       "                 LTR       Bel-Pao             25\n",
       "                           Copia            34361\n",
       "                           ERV               1547\n",
       "                           Gypsy            76311\n",
       "                           Retrovirus          88\n",
       "                           noCat             6974\n",
       "                 PLE       Penelope             6\n",
       "                 Penelope  noCat              114\n",
       "                 SINE      noCat              171\n",
       "                 TRIM      noCat              418\n",
       "                 noCat     noCat              261\n",
       "SSR              SSR       SSR              72926\n",
       "noCat            noCat     noCat             1489\n",
       "Name: Length, dtype: int64"
      ]
     },
     "execution_count": 58,
     "metadata": {},
     "output_type": "execute_result"
    }
   ],
   "source": [
    "p_repet_gff_filtered.groupby(by=['Class','Order','Superfamily'])['Length'].count() \n"
   ]
  },
  {
   "cell_type": "code",
   "execution_count": 59,
   "metadata": {},
   "outputs": [
    {
     "data": {
      "text/plain": [
       "Class:Order:Superfamily\n",
       "ClassI:?:?                     261\n",
       "ClassI:DIRS:?                    8\n",
       "ClassI:DIRS:DIRS              2875\n",
       "ClassI:LARD:?                 5628\n",
       "ClassI:LINE:?                   13\n",
       "ClassI:LINE:I                 1889\n",
       "ClassI:LINE:Jockey             239\n",
       "ClassI:LINE:L1                  28\n",
       "ClassI:LINE:R2                  11\n",
       "ClassI:LINE:RTE                 36\n",
       "ClassI:LTR:?                  6974\n",
       "ClassI:LTR:Bel-Pao              25\n",
       "ClassI:LTR:Copia             34361\n",
       "ClassI:LTR:ERV                1547\n",
       "ClassI:LTR:Gypsy             76311\n",
       "ClassI:LTR:Retrovirus           88\n",
       "ClassI:PLE:Penelope              6\n",
       "ClassI:Penelope:?              114\n",
       "ClassI:SINE:?                  171\n",
       "ClassI:TRIM:?                  418\n",
       "ClassII:?:?                  26106\n",
       "ClassII:?:Academ              2767\n",
       "ClassII:?:Ginger1               53\n",
       "ClassII:?:Ginger2_TDD            1\n",
       "ClassII:?:Kolobok                3\n",
       "ClassII:?:Sola                  20\n",
       "ClassII:Crypton:Crypton         11\n",
       "ClassII:Helitron:?             992\n",
       "ClassII:Helitron:Helitron     3199\n",
       "ClassII:MITE:?                4084\n",
       "ClassII:Maverick:?             281\n",
       "ClassII:Maverick:Maverick       42\n",
       "ClassII:TIR:?                 7366\n",
       "ClassII:TIR:CACTA             3584\n",
       "ClassII:TIR:MuDR              8939\n",
       "ClassII:TIR:P                  957\n",
       "ClassII:TIR:PIF-Harbinger    10660\n",
       "ClassII:TIR:PiggyBac             3\n",
       "ClassII:TIR:Tc1-Mariner       8122\n",
       "ClassII:TIR:Transib              7\n",
       "ClassII:TIR:hAT              20443\n",
       "SSR                          72926\n",
       "noCat                         1489\n",
       "Name: Length, dtype: int64"
      ]
     },
     "execution_count": 59,
     "metadata": {},
     "output_type": "execute_result"
    }
   ],
   "source": [
    "p_repet_gff_filtered.groupby(by=['Class:Order:Superfamily'])['Length'].count()"
   ]
  },
  {
   "cell_type": "code",
   "execution_count": 60,
   "metadata": {
    "collapsed": true
   },
   "outputs": [],
   "source": [
    "p_repet_gff_filtered.to_csv(out_dir+'/'+genome+'.REPET.long_v2.df', sep='\\t', header = None, index=None)"
   ]
  },
  {
   "cell_type": "code",
   "execution_count": 61,
   "metadata": {
    "collapsed": true
   },
   "outputs": [],
   "source": [
    "#make new gff files where the ID column is the superfamily level\n",
    "p_repet_gff_superfamily = p_repet_gff_filtered.iloc[:,:]\n",
    "p_repet_gff_superfamily[8] = p_repet_gff_superfamily['Class:Order:Superfamily']\n",
    "p_repet_gff_superfamily.iloc[:,0:9].to_csv(out_dir+'/'+genome+'.REPET.superfamily.gff', sep='\\t', header = None, index=None,columns=None)"
   ]
  },
  {
   "cell_type": "code",
   "execution_count": 62,
   "metadata": {
    "collapsed": true
   },
   "outputs": [],
   "source": [
    "#make new gff file where the ID column is the TE level\n",
    "p_repet_gff_TE = p_repet_gff_filtered.iloc[:,:]\n",
    "p_repet_gff_TE[8] = p_repet_gff_TE['ID']\n",
    "p_repet_gff_TE.iloc[:,0:9].to_csv(out_dir+'/'+genome+'.REPET.TE.gff', sep='\\t', header = None, index=None,columns=None)"
   ]
  },
  {
   "cell_type": "code",
   "execution_count": 63,
   "metadata": {
    "collapsed": true
   },
   "outputs": [],
   "source": [
    "#generate the directory structure to safe specific coverage files\n",
    "os.chdir(out_dir)\n",
    "TE_types = ['Retrotransposon', 'DNA_transposon', 'noCat', 'SSR']\n",
    "TE_path = [os.path.join(out_dir, x) for x in TE_types]\n",
    "TE_path_dict = dict(zip(TE_types, TE_path))\n",
    "for TE_type in TE_types:\n",
    "    new_path = os.path.join(out_dir, TE_type)\n",
    "    if not os.path.exists(new_path):\n",
    "        os.mkdir(new_path)"
   ]
  },
  {
   "cell_type": "code",
   "execution_count": 64,
   "metadata": {},
   "outputs": [],
   "source": [
    "# subset the id and safe in specific folder\n",
    "# return the subsetted file as bedtool\n",
    "def subset_id(_id, bed_object, repet_prefix):\n",
    "    #ClassI are retrotransposon form blast\n",
    "    if 'ClassI:' in _id:\n",
    "        out_path = TE_path_dict['Retrotransposon']   \n",
    "    #ClassII are DNA_transponson\n",
    "    elif 'ClassII' in _id:\n",
    "        out_path = TE_path_dict['DNA_transposon'] \n",
    "    #The rest with '_' should be REPET_TEs\n",
    "    elif _id == 'noCat':\n",
    "        out_path = TE_path_dict['noCat']\n",
    "    #everything without '_' at the end should be SSR\n",
    "    elif _id == 'SSR':\n",
    "        out_path = TE_path_dict['SSR']\n",
    "    out_fn = out_path+'/'+repet_prefix+'.'+_id+'.gff'\n",
    "    result = bed_object.filter(id_filter, _id).saveas(out_fn)\n",
    "    cov_fn = out_fn.replace('gff','cov')\n",
    "    cov = result.genome_coverage(dz=True,g=p_genome_file)\n",
    "    cov.saveas(cov_fn)\n",
    "    #_len = len(pd.read_csv(cov_fn, header=None, sep='\\t'))\n",
    "    #_dict[_id] = _len\n",
    "    #return pybedtools.BedTool(result.fn)"
   ]
  },
  {
   "cell_type": "code",
   "execution_count": 65,
   "metadata": {
    "collapsed": true
   },
   "outputs": [],
   "source": [
    "# Next, we create a function to pass only features for a particular\n",
    "# featuretype.  This is similar to a \"grep\" operation when applied to every\n",
    "# feature in a BedTool\n",
    "def id_filter(feature, _id):\n",
    "    if feature[8] == _id:\n",
    "        return True\n",
    "    return False"
   ]
  },
  {
   "cell_type": "code",
   "execution_count": 66,
   "metadata": {
    "collapsed": true
   },
   "outputs": [],
   "source": [
    "repet_prefix_TE = genome+'.REPET.TE'\n",
    "repet_prefix_S = genome+'.REPET.superfamily'\n",
    "p_genome_file = genome+'.genome_file'\n",
    "genome_df = pd.read_csv(p_genome_file, sep='\\t', header=None,names=['contig', 'length'])\n",
    "\n",
    "genome_size = genome_df['length'].sum()"
   ]
  },
  {
   "cell_type": "code",
   "execution_count": 67,
   "metadata": {
    "collapsed": true
   },
   "outputs": [],
   "source": [
    "#pull in the classification gff, make classification array, loop over array to save all the cov_dataframes\n",
    "RE_TE_gff = pybedtools.BedTool(out_dir+'/'+genome+'.REPET.TE.gff')\n",
    "g_TE = RE_TE_gff.remove_invalid().saveas(out_dir+'/'+genome+'.REPET.TE.bedobject')\n",
    "#use the blast filtered dataframe as well\n",
    "RE_S_gff = pybedtools.BedTool(out_dir+'/'+genome+'.REPET.superfamily.gff')\n",
    "g_S = RE_S_gff.remove_invalid().saveas(out_dir+'/'+genome+'.REPET.superfamily.bedobject')"
   ]
  },
  {
   "cell_type": "code",
   "execution_count": 68,
   "metadata": {},
   "outputs": [
    {
     "name": "stdout",
     "output_type": "stream",
     "text": [
      "Doing ClassII:TIR:hAT\n",
      "Doing ClassII:TIR:CACTA\n",
      "Doing ClassI:LTR:Gypsy\n",
      "Doing ClassII:TIR:PIF-Harbinger\n",
      "Doing ClassI:LTR:Copia\n",
      "Doing SSR\n",
      "Doing ClassII:?:?\n",
      "Doing ClassII:MITE:?\n",
      "Doing ClassI:LTR:?\n",
      "Doing ClassI:LARD:?\n",
      "Doing ClassI:SINE:?\n",
      "Doing ClassII:TIR:Tc1-Mariner\n",
      "Doing ClassII:TIR:?\n",
      "Doing ClassII:TIR:MuDR\n",
      "Doing noCat\n",
      "Doing ClassII:Helitron:?\n",
      "Doing ClassII:TIR:P\n",
      "Doing ClassII:Helitron:Helitron\n",
      "Doing ClassI:LTR:ERV\n",
      "Doing ClassII:Maverick:?\n",
      "Doing ClassI:LINE:I\n",
      "Doing ClassII:?:Academ\n",
      "Doing ClassI:DIRS:DIRS\n",
      "Doing ClassII:?:Ginger2_TDD\n",
      "Doing ClassI:TRIM:?\n",
      "Doing ClassI:LINE:Jockey\n",
      "Doing ClassI:?:?\n",
      "Doing ClassII:?:Ginger1\n",
      "Doing ClassI:LTR:Retrovirus\n",
      "Doing ClassI:LTR:Bel-Pao\n",
      "Doing ClassII:Maverick:Maverick\n",
      "Doing ClassI:PLE:Penelope\n",
      "Doing ClassI:Penelope:?\n",
      "Doing ClassI:LINE:RTE\n",
      "Doing ClassI:LINE:?\n",
      "Doing ClassI:LINE:L1\n",
      "Doing ClassII:Crypton:Crypton\n",
      "Doing ClassII:?:Sola\n",
      "Doing ClassII:TIR:PiggyBac\n",
      "Doing ClassI:LINE:R2\n",
      "Doing ClassI:DIRS:?\n",
      "Doing ClassII:?:Kolobok\n",
      "Doing ClassII:TIR:Transib\n"
     ]
    }
   ],
   "source": [
    "#use simple loop to loop over the bedcov genome coverage per classification. Keep track if everything is already done.\n",
    "jobs = []\n",
    "bed_file = g_S\n",
    "superfamilies = p_repet_gff_superfamily['Class:Order:Superfamily'].unique()\n",
    "for superfamily in superfamilies:\n",
    "    subset_id(superfamily, bed_file, repet_prefix_S)\n",
    "    print('Doing %s' % superfamily)"
   ]
  },
  {
   "cell_type": "code",
   "execution_count": 69,
   "metadata": {},
   "outputs": [
    {
     "name": "stdout",
     "output_type": "stream",
     "text": [
      "/home/benjamin/genome_assembly/PST79/FALCON/p_assemblies/v9_1/Pst_104E_v12/TE_analysis/DNA_transposon/Pst_104E_v12_p_ctg.REPET.superfamily.ClassII:?:?.cov\n",
      "ClassII:?:?\n",
      "/home/benjamin/genome_assembly/PST79/FALCON/p_assemblies/v9_1/Pst_104E_v12/TE_analysis/DNA_transposon/Pst_104E_v12_p_ctg.REPET.superfamily.ClassII:?:Academ.cov\n",
      "ClassII:?:Academ\n",
      "/home/benjamin/genome_assembly/PST79/FALCON/p_assemblies/v9_1/Pst_104E_v12/TE_analysis/DNA_transposon/Pst_104E_v12_p_ctg.REPET.superfamily.ClassII:?:Ginger1.cov\n",
      "ClassII:?:Ginger1\n",
      "/home/benjamin/genome_assembly/PST79/FALCON/p_assemblies/v9_1/Pst_104E_v12/TE_analysis/DNA_transposon/Pst_104E_v12_p_ctg.REPET.superfamily.ClassII:?:Ginger2_TDD.cov\n",
      "ClassII:?:Ginger2_TDD\n",
      "/home/benjamin/genome_assembly/PST79/FALCON/p_assemblies/v9_1/Pst_104E_v12/TE_analysis/DNA_transposon/Pst_104E_v12_p_ctg.REPET.superfamily.ClassII:?:Kolobok.cov\n",
      "ClassII:?:Kolobok\n",
      "/home/benjamin/genome_assembly/PST79/FALCON/p_assemblies/v9_1/Pst_104E_v12/TE_analysis/DNA_transposon/Pst_104E_v12_p_ctg.REPET.superfamily.ClassII:?:Sola.cov\n",
      "ClassII:?:Sola\n",
      "/home/benjamin/genome_assembly/PST79/FALCON/p_assemblies/v9_1/Pst_104E_v12/TE_analysis/DNA_transposon/Pst_104E_v12_p_ctg.REPET.superfamily.ClassII:Crypton:Crypton.cov\n",
      "ClassII:Crypton:Crypton\n",
      "/home/benjamin/genome_assembly/PST79/FALCON/p_assemblies/v9_1/Pst_104E_v12/TE_analysis/DNA_transposon/Pst_104E_v12_p_ctg.REPET.superfamily.ClassII:Helitron:?.cov\n",
      "ClassII:Helitron:?\n",
      "/home/benjamin/genome_assembly/PST79/FALCON/p_assemblies/v9_1/Pst_104E_v12/TE_analysis/DNA_transposon/Pst_104E_v12_p_ctg.REPET.superfamily.ClassII:Helitron:Helitron.cov\n",
      "ClassII:Helitron:Helitron\n",
      "/home/benjamin/genome_assembly/PST79/FALCON/p_assemblies/v9_1/Pst_104E_v12/TE_analysis/DNA_transposon/Pst_104E_v12_p_ctg.REPET.superfamily.ClassII:MITE:?.cov\n",
      "ClassII:MITE:?\n",
      "/home/benjamin/genome_assembly/PST79/FALCON/p_assemblies/v9_1/Pst_104E_v12/TE_analysis/DNA_transposon/Pst_104E_v12_p_ctg.REPET.superfamily.ClassII:Maverick:?.cov\n",
      "ClassII:Maverick:?\n",
      "/home/benjamin/genome_assembly/PST79/FALCON/p_assemblies/v9_1/Pst_104E_v12/TE_analysis/DNA_transposon/Pst_104E_v12_p_ctg.REPET.superfamily.ClassII:Maverick:Maverick.cov\n",
      "ClassII:Maverick:Maverick\n",
      "/home/benjamin/genome_assembly/PST79/FALCON/p_assemblies/v9_1/Pst_104E_v12/TE_analysis/DNA_transposon/Pst_104E_v12_p_ctg.REPET.superfamily.ClassII:TIR:?.cov\n",
      "ClassII:TIR:?\n",
      "/home/benjamin/genome_assembly/PST79/FALCON/p_assemblies/v9_1/Pst_104E_v12/TE_analysis/DNA_transposon/Pst_104E_v12_p_ctg.REPET.superfamily.ClassII:TIR:CACTA.cov\n",
      "ClassII:TIR:CACTA\n",
      "/home/benjamin/genome_assembly/PST79/FALCON/p_assemblies/v9_1/Pst_104E_v12/TE_analysis/DNA_transposon/Pst_104E_v12_p_ctg.REPET.superfamily.ClassII:TIR:MuDR.cov\n",
      "ClassII:TIR:MuDR\n",
      "/home/benjamin/genome_assembly/PST79/FALCON/p_assemblies/v9_1/Pst_104E_v12/TE_analysis/DNA_transposon/Pst_104E_v12_p_ctg.REPET.superfamily.ClassII:TIR:P.cov\n",
      "ClassII:TIR:P\n",
      "/home/benjamin/genome_assembly/PST79/FALCON/p_assemblies/v9_1/Pst_104E_v12/TE_analysis/DNA_transposon/Pst_104E_v12_p_ctg.REPET.superfamily.ClassII:TIR:PIF-Harbinger.cov\n",
      "ClassII:TIR:PIF-Harbinger\n",
      "/home/benjamin/genome_assembly/PST79/FALCON/p_assemblies/v9_1/Pst_104E_v12/TE_analysis/DNA_transposon/Pst_104E_v12_p_ctg.REPET.superfamily.ClassII:TIR:PiggyBac.cov\n",
      "ClassII:TIR:PiggyBac\n",
      "/home/benjamin/genome_assembly/PST79/FALCON/p_assemblies/v9_1/Pst_104E_v12/TE_analysis/DNA_transposon/Pst_104E_v12_p_ctg.REPET.superfamily.ClassII:TIR:Tc1-Mariner.cov\n",
      "ClassII:TIR:Tc1-Mariner\n",
      "/home/benjamin/genome_assembly/PST79/FALCON/p_assemblies/v9_1/Pst_104E_v12/TE_analysis/DNA_transposon/Pst_104E_v12_p_ctg.REPET.superfamily.ClassII:TIR:Transib.cov\n",
      "ClassII:TIR:Transib\n",
      "/home/benjamin/genome_assembly/PST79/FALCON/p_assemblies/v9_1/Pst_104E_v12/TE_analysis/DNA_transposon/Pst_104E_v12_p_ctg.REPET.superfamily.ClassII:TIR:hAT.cov\n",
      "ClassII:TIR:hAT\n",
      "/home/benjamin/genome_assembly/PST79/FALCON/p_assemblies/v9_1/Pst_104E_v12/TE_analysis/Retrotransposon/Pst_104E_v12_p_ctg.REPET.superfamily.ClassI:?:?.cov\n",
      "ClassI:?:?\n",
      "/home/benjamin/genome_assembly/PST79/FALCON/p_assemblies/v9_1/Pst_104E_v12/TE_analysis/Retrotransposon/Pst_104E_v12_p_ctg.REPET.superfamily.ClassI:DIRS:?.cov\n",
      "ClassI:DIRS:?\n",
      "/home/benjamin/genome_assembly/PST79/FALCON/p_assemblies/v9_1/Pst_104E_v12/TE_analysis/Retrotransposon/Pst_104E_v12_p_ctg.REPET.superfamily.ClassI:DIRS:DIRS.cov\n",
      "ClassI:DIRS:DIRS\n",
      "/home/benjamin/genome_assembly/PST79/FALCON/p_assemblies/v9_1/Pst_104E_v12/TE_analysis/Retrotransposon/Pst_104E_v12_p_ctg.REPET.superfamily.ClassI:LARD:?.cov\n",
      "ClassI:LARD:?\n",
      "/home/benjamin/genome_assembly/PST79/FALCON/p_assemblies/v9_1/Pst_104E_v12/TE_analysis/Retrotransposon/Pst_104E_v12_p_ctg.REPET.superfamily.ClassI:LINE:?.cov\n",
      "ClassI:LINE:?\n",
      "/home/benjamin/genome_assembly/PST79/FALCON/p_assemblies/v9_1/Pst_104E_v12/TE_analysis/Retrotransposon/Pst_104E_v12_p_ctg.REPET.superfamily.ClassI:LINE:I.cov\n",
      "ClassI:LINE:I\n",
      "/home/benjamin/genome_assembly/PST79/FALCON/p_assemblies/v9_1/Pst_104E_v12/TE_analysis/Retrotransposon/Pst_104E_v12_p_ctg.REPET.superfamily.ClassI:LINE:Jockey.cov\n",
      "ClassI:LINE:Jockey\n",
      "/home/benjamin/genome_assembly/PST79/FALCON/p_assemblies/v9_1/Pst_104E_v12/TE_analysis/Retrotransposon/Pst_104E_v12_p_ctg.REPET.superfamily.ClassI:LINE:L1.cov\n",
      "ClassI:LINE:L1\n",
      "/home/benjamin/genome_assembly/PST79/FALCON/p_assemblies/v9_1/Pst_104E_v12/TE_analysis/Retrotransposon/Pst_104E_v12_p_ctg.REPET.superfamily.ClassI:LINE:R2.cov\n",
      "ClassI:LINE:R2\n",
      "/home/benjamin/genome_assembly/PST79/FALCON/p_assemblies/v9_1/Pst_104E_v12/TE_analysis/Retrotransposon/Pst_104E_v12_p_ctg.REPET.superfamily.ClassI:LINE:RTE.cov\n",
      "ClassI:LINE:RTE\n",
      "/home/benjamin/genome_assembly/PST79/FALCON/p_assemblies/v9_1/Pst_104E_v12/TE_analysis/Retrotransposon/Pst_104E_v12_p_ctg.REPET.superfamily.ClassI:LTR:?.cov\n",
      "ClassI:LTR:?\n",
      "/home/benjamin/genome_assembly/PST79/FALCON/p_assemblies/v9_1/Pst_104E_v12/TE_analysis/Retrotransposon/Pst_104E_v12_p_ctg.REPET.superfamily.ClassI:LTR:Bel-Pao.cov\n",
      "ClassI:LTR:Bel-Pao\n",
      "/home/benjamin/genome_assembly/PST79/FALCON/p_assemblies/v9_1/Pst_104E_v12/TE_analysis/Retrotransposon/Pst_104E_v12_p_ctg.REPET.superfamily.ClassI:LTR:Copia.cov\n",
      "ClassI:LTR:Copia\n",
      "/home/benjamin/genome_assembly/PST79/FALCON/p_assemblies/v9_1/Pst_104E_v12/TE_analysis/Retrotransposon/Pst_104E_v12_p_ctg.REPET.superfamily.ClassI:LTR:ERV.cov\n",
      "ClassI:LTR:ERV\n",
      "/home/benjamin/genome_assembly/PST79/FALCON/p_assemblies/v9_1/Pst_104E_v12/TE_analysis/Retrotransposon/Pst_104E_v12_p_ctg.REPET.superfamily.ClassI:LTR:Gypsy.cov\n",
      "ClassI:LTR:Gypsy\n",
      "/home/benjamin/genome_assembly/PST79/FALCON/p_assemblies/v9_1/Pst_104E_v12/TE_analysis/Retrotransposon/Pst_104E_v12_p_ctg.REPET.superfamily.ClassI:LTR:Retrovirus.cov\n",
      "ClassI:LTR:Retrovirus\n",
      "/home/benjamin/genome_assembly/PST79/FALCON/p_assemblies/v9_1/Pst_104E_v12/TE_analysis/Retrotransposon/Pst_104E_v12_p_ctg.REPET.superfamily.ClassI:PLE:Penelope.cov\n",
      "ClassI:PLE:Penelope\n",
      "/home/benjamin/genome_assembly/PST79/FALCON/p_assemblies/v9_1/Pst_104E_v12/TE_analysis/Retrotransposon/Pst_104E_v12_p_ctg.REPET.superfamily.ClassI:Penelope:?.cov\n",
      "ClassI:Penelope:?\n",
      "/home/benjamin/genome_assembly/PST79/FALCON/p_assemblies/v9_1/Pst_104E_v12/TE_analysis/Retrotransposon/Pst_104E_v12_p_ctg.REPET.superfamily.ClassI:SINE:?.cov\n",
      "ClassI:SINE:?\n",
      "/home/benjamin/genome_assembly/PST79/FALCON/p_assemblies/v9_1/Pst_104E_v12/TE_analysis/Retrotransposon/Pst_104E_v12_p_ctg.REPET.superfamily.ClassI:TRIM:?.cov\n",
      "ClassI:TRIM:?\n",
      "/home/benjamin/genome_assembly/PST79/FALCON/p_assemblies/v9_1/Pst_104E_v12/TE_analysis/SSR/Pst_104E_v12_p_ctg.REPET.superfamily.SSR.cov\n",
      "SSR\n",
      "/home/benjamin/genome_assembly/PST79/FALCON/p_assemblies/v9_1/Pst_104E_v12/TE_analysis/noCat/Pst_104E_v12_p_ctg.REPET.superfamily.noCat.cov\n",
      "noCat\n"
     ]
    }
   ],
   "source": [
    "cur_dir = os.path.abspath(os.path.curdir)\n",
    "#this caputures all REPET classifications add the superfamily level\n",
    "class_cov_files = []\n",
    "for dirpath, dirname, filenames in os.walk(cur_dir, topdown=True):\n",
    "    if dirpath == cur_dir:\n",
    "        continue\n",
    "    cov_files = [dirpath +'/'+x for x in os.listdir(dirpath) if x.endswith('.cov') and repet_prefix_S in x]\n",
    "    for file in cov_files:\n",
    "        class_cov_files.append(file)\n",
    "\n",
    "#make a large summary dataframe from all the cov files where the last \n",
    "df_list =[]\n",
    "class_cov_files.sort()\n",
    "for file in class_cov_files:\n",
    "    print(file)\n",
    "    tmp_df = pd.read_csv(file, sep='\\t', header = None)\n",
    "    tmp_df[\"Class:Order:Superfamily\"] = file.split('.')[-2]\n",
    "    tmp_df.drop_duplicates(inplace=True) #drop all the duplicates meaning same position in the genome and same superfamily\n",
    "    df_list.append(tmp_df)\n",
    "    print(file.split('.')[-2])\n",
    "\n",
    "df_REPET_classification = pd.concat(df_list)\n",
    "df_REPET_classification.to_csv(out_dir+'/'+ repet_prefix_S +'.cov', sep='\\t', header =None, index=None)\n",
    "\n",
    "cov_per_superfamily = df_REPET_classification.pivot_table(values=1, columns= \"Class:Order:Superfamily\", aggfunc='count')\n",
    "cov_per_contig_per_superfamily = df_REPET_classification.groupby([0, \"Class:Order:Superfamily\"])[1].count()"
   ]
  },
  {
   "cell_type": "code",
   "execution_count": 70,
   "metadata": {
    "collapsed": true
   },
   "outputs": [],
   "source": [
    "cov_all_TEs = df_REPET_classification.drop_duplicates([0,1]) #this gets ride of the overlap between different TE families and classes\n",
    "cov_all_TEs = len(cov_all_TEs)"
   ]
  },
  {
   "cell_type": "code",
   "execution_count": 71,
   "metadata": {},
   "outputs": [],
   "source": [
    "\n",
    "#make superfamily df and add columns for Class, order and superfamily\n",
    "cov_per_superfamily_df = cov_per_superfamily.append(pd.DataFrame.from_dict({'cov_all_TEs': cov_all_TEs}, orient='index'))\n",
    "cov_per_superfamily_df.rename(columns={0: 'bp'}, inplace=True)\n",
    "cov_per_superfamily_df['%'] = cov_per_superfamily_df['bp']/genome_size*100\n",
    "cov_per_superfamily_df['Class:Order:Superfamily'] = cov_per_superfamily_df.index\n",
    "\n",
    "cov_per_superfamily_df['Class'] = cov_per_superfamily_df.apply(lambda row: TE_classification_filter(row['Class:Order:Superfamily'], 0), axis=1)\n",
    "cov_per_superfamily_df['Order'] = cov_per_superfamily_df.apply(lambda row: TE_classification_filter(row['Class:Order:Superfamily'], 1), axis=1)\n",
    "cov_per_superfamily_df['Superfamily'] = cov_per_superfamily_df.apply(lambda row: TE_classification_filter(row['Class:Order:Superfamily'], 2), axis=1)\n",
    "cov_per_superfamily_df.to_csv(out_dir+'/'+genome+'.REPET.summary.tab', sep='\\t')"
   ]
  },
  {
   "cell_type": "code",
   "execution_count": 72,
   "metadata": {
    "collapsed": true
   },
   "outputs": [],
   "source": [
    "#consider combining these cov data frames into classes and orders as well and simply using those as id column, drop duplicats \n",
    "#use those as real coverage analysis at those level"
   ]
  },
  {
   "cell_type": "code",
   "execution_count": 73,
   "metadata": {},
   "outputs": [
    {
     "name": "stdout",
     "output_type": "stream",
     "text": [
      "ClassII\n",
      "ClassII\n",
      "ClassII\n",
      "ClassII\n",
      "ClassII\n",
      "ClassII\n",
      "ClassII\n",
      "ClassII\n",
      "ClassII\n",
      "ClassII\n",
      "ClassII\n",
      "ClassII\n",
      "ClassII\n",
      "ClassII\n",
      "ClassII\n",
      "ClassII\n",
      "ClassII\n",
      "ClassII\n",
      "ClassII\n",
      "ClassII\n",
      "ClassII\n",
      "ClassI\n",
      "ClassI\n",
      "ClassI\n",
      "ClassI\n",
      "ClassI\n",
      "ClassI\n",
      "ClassI\n",
      "ClassI\n",
      "ClassI\n",
      "ClassI\n",
      "ClassI\n",
      "ClassI\n",
      "ClassI\n",
      "ClassI\n",
      "ClassI\n",
      "ClassI\n",
      "ClassI\n",
      "ClassI\n",
      "ClassI\n",
      "ClassI\n",
      "SSR\n",
      "noCat\n"
     ]
    }
   ],
   "source": [
    "cur_dir = os.path.abspath(os.path.curdir)\n",
    "#this caputures all REPET classifications add the superfamily level\n",
    "class_cov_files = []\n",
    "for dirpath, dirname, filenames in os.walk(cur_dir, topdown=True):\n",
    "    if dirpath == cur_dir:\n",
    "        continue\n",
    "    cov_files = [dirpath +'/'+x for x in os.listdir(dirpath) if x.endswith('.cov') and repet_prefix_S in x]\n",
    "    for file in cov_files:\n",
    "        class_cov_files.append(file)\n",
    "\n",
    "#make a large summary dataframe from all the cov files where the last \n",
    "df_list =[]\n",
    "class_cov_files.sort()\n",
    "for file in class_cov_files:\n",
    "    tmp_df = pd.read_csv(file, sep='\\t', header = None)\n",
    "    tmp_df[\"Class\"] = file.split('.')[-2].split(':')[0] #parse out the Class from the file name\n",
    "    tmp_df.drop_duplicates(inplace=True) #drop all the duplicates meaning same position in the genome and same Class\n",
    "    df_list.append(tmp_df)\n",
    "    print(file.split('.')[-2].split(':')[0])\n",
    "\n",
    "df_REPET_classification_class = pd.concat(df_list)\n",
    "df_REPET_classification_class.drop_duplicates(inplace=True)\n",
    "df_REPET_classification_class.to_csv(out_dir+'/'+ repet_prefix_S.replace('superfamily', 'Class') +'.cov', sep='\\t', header =None, index=None)\n",
    "\n",
    "cov_per_class = df_REPET_classification_class.pivot_table(values=1, columns= \"Class\", aggfunc='count')\n",
    "cov_per_contig_per_class = df_REPET_classification_class.groupby([0, \"Class\"])[1].count()"
   ]
  },
  {
   "cell_type": "code",
   "execution_count": 74,
   "metadata": {},
   "outputs": [
    {
     "name": "stdout",
     "output_type": "stream",
     "text": [
      "ClassII:?\n",
      "ClassII:?\n",
      "ClassII:?\n",
      "ClassII:?\n",
      "ClassII:?\n",
      "ClassII:?\n",
      "ClassII:Crypton\n",
      "ClassII:Helitron\n",
      "ClassII:Helitron\n",
      "ClassII:MITE\n",
      "ClassII:Maverick\n",
      "ClassII:Maverick\n",
      "ClassII:TIR\n",
      "ClassII:TIR\n",
      "ClassII:TIR\n",
      "ClassII:TIR\n",
      "ClassII:TIR\n",
      "ClassII:TIR\n",
      "ClassII:TIR\n",
      "ClassII:TIR\n",
      "ClassII:TIR\n",
      "ClassI:?\n",
      "ClassI:DIRS\n",
      "ClassI:DIRS\n",
      "ClassI:LARD\n",
      "ClassI:LINE\n",
      "ClassI:LINE\n",
      "ClassI:LINE\n",
      "ClassI:LINE\n",
      "ClassI:LINE\n",
      "ClassI:LINE\n",
      "ClassI:LTR\n",
      "ClassI:LTR\n",
      "ClassI:LTR\n",
      "ClassI:LTR\n",
      "ClassI:LTR\n",
      "ClassI:LTR\n",
      "ClassI:PLE\n",
      "ClassI:Penelope\n",
      "ClassI:SINE\n",
      "ClassI:TRIM\n",
      "SSR\n",
      "noCat\n"
     ]
    }
   ],
   "source": [
    "#this parsing of of the order is neccessary to eliminate any overlap at the order level. See drop duplicates line 23.\n",
    "cur_dir = os.path.abspath(os.path.curdir)\n",
    "#this caputures all REPET classifications add the superfamily level\n",
    "class_cov_files = []\n",
    "for dirpath, dirname, filenames in os.walk(cur_dir, topdown=True):\n",
    "    if dirpath == cur_dir:\n",
    "        continue\n",
    "    cov_files = [dirpath +'/'+x for x in os.listdir(dirpath) if x.endswith('.cov') and repet_prefix_S in x]\n",
    "    for file in cov_files:\n",
    "        class_cov_files.append(file)\n",
    "\n",
    "#make a large summary dataframe from all the cov files where the last \n",
    "df_list =[]\n",
    "class_cov_files.sort()\n",
    "for file in class_cov_files:\n",
    "    tmp_df = pd.read_csv(file, sep='\\t', header = None)\n",
    "    if ':' in file:\n",
    "        tmp_df[\"Order\"] = ':'.join(file.split('.')[-2].split(':')[0:2]) #parse out the order from the file name\n",
    "        print(':'.join(file.split('.')[-2].split(':')[0:2]))\n",
    "    else:\n",
    "        tmp_df[\"Order\"] = file.split('.')[-2].split(':')[0]\n",
    "        print(file.split('.')[-2].split(':')[0])\n",
    "    tmp_df.drop_duplicates(inplace=True) #drop all the duplicates meaning same position in the genome and same Order\n",
    "    df_list.append(tmp_df)\n",
    "\n",
    "df_REPET_orderification_order = pd.concat(df_list)\n",
    "df_REPET_orderification_order.drop_duplicates(inplace=True)\n",
    "df_REPET_orderification_order.to_csv(out_dir+'/'+ repet_prefix_S.replace('superfamily', 'Order') +'.cov', sep='\\t', header =None, index=None)\n",
    "\n",
    "cov_per_order = df_REPET_orderification_order.pivot_table(values=1, columns= \"Order\", aggfunc='count')\n",
    "cov_per_contig_per_order = df_REPET_orderification_order.groupby([0, \"Order\"])[1].count()"
   ]
  },
  {
   "cell_type": "code",
   "execution_count": 75,
   "metadata": {
    "collapsed": true
   },
   "outputs": [],
   "source": [
    "cov_per_order_df = cov_per_order.append(pd.DataFrame.from_dict({'cov_all_TEs': cov_all_TEs}, orient='index'))\n",
    "\n",
    "cov_per_order_df.rename(columns={0: 'bp'}, inplace=True)\n",
    "\n",
    "cov_per_order_df['%'] = round(cov_per_order_df['bp']/genome_size*100, 3)"
   ]
  },
  {
   "cell_type": "code",
   "execution_count": 76,
   "metadata": {
    "collapsed": true
   },
   "outputs": [],
   "source": [
    "cov_per_class_df = cov_per_class.append(pd.DataFrame.from_dict({'Total RE coverage': cov_all_TEs}, orient='index'))\n",
    "\n",
    "cov_per_class_df.rename(columns={0: 'bp'}, inplace=True)\n",
    "\n",
    "cov_per_class_df['%'] = round(cov_per_class_df['bp']/genome_size*100, 3)\n",
    "\n",
    "cov_per_class_df.sort_values('%', inplace=True)"
   ]
  },
  {
   "cell_type": "code",
   "execution_count": 77,
   "metadata": {},
   "outputs": [
    {
     "data": {
      "text/plain": [
       "['seaborn-darkgrid',\n",
       " 'seaborn-whitegrid',\n",
       " 'seaborn-dark',\n",
       " 'seaborn-paper',\n",
       " 'seaborn-colorblind',\n",
       " 'bmh',\n",
       " 'seaborn-poster',\n",
       " 'dark_background',\n",
       " 'classic',\n",
       " 'seaborn-bright',\n",
       " 'seaborn-white',\n",
       " 'seaborn-talk',\n",
       " 'seaborn-muted',\n",
       " 'fivethirtyeight',\n",
       " 'seaborn-pastel',\n",
       " 'seaborn-dark-palette',\n",
       " 'seaborn-deep',\n",
       " 'seaborn-notebook',\n",
       " 'seaborn-ticks',\n",
       " 'grayscale',\n",
       " 'ggplot']"
      ]
     },
     "execution_count": 77,
     "metadata": {},
     "output_type": "execute_result"
    }
   ],
   "source": [
    "plt.style.available"
   ]
  },
  {
   "cell_type": "code",
   "execution_count": 78,
   "metadata": {},
   "outputs": [
    {
     "data": {
      "image/png": "[encoded data removed]",
      "text/plain": [
       "<matplotlib.figure.Figure at 0x7fb9cdeeac18>"
      ]
     },
     "metadata": {},
     "output_type": "display_data"
    }
   ],
   "source": [
    "plt.style.use('seaborn-talk')\n",
    "fig, (ax0, ax1, ax2) = plt.subplots(nrows=3, ncols=1, figsize=(12,15))\n",
    "fig.suptitle(\"Repetitive elements in P. striformis f. sp. tritici %s\" % genome, fontsize=14, fontweight = 'bold')\n",
    "\n",
    "#color cycle from color blind people \n",
    "CB_color_cycle = ['#377eb8', '#ff7f00', '#4daf4a',\n",
    "                  '#f781bf', '#a65628', '#984ea3',\n",
    "'#999999', '#e41a1c', '#dede00']\n",
    "\n",
    "#plot the overall genome coverage by repetitive element category\n",
    "cov_per_class_df.plot(kind='barh', y='%', ax=ax0,  color='r')\n",
    "ax0.set_xlim([-5,60])\n",
    "ax0.legend().set_visible(False)\n",
    "ax0.set_yticklabels(list(cov_per_class_df.index),fontsize=10, fontweight='bold')\n",
    "ax0.set_ylabel(ylabel='RE categories', fontsize=14, fontweight='bold')\n",
    "\n",
    "#plot class I \n",
    "classI_df = classI_df = cov_per_superfamily_df[cov_per_superfamily_df['Class'] == 'Retrotransposon'].sort_values('%')\n",
    "\n",
    "#pick out the colors to do color matching on the order level\n",
    "tmp_cn = len(classI_df['Order'].unique())\n",
    "tmp_colors = CB_color_cycle[0:tmp_cn]\n",
    "tmp_col_dict = dict(zip(classI_df['Order'].unique(), tmp_colors))\n",
    "classI_df['Color'] = classI_df['Order'].apply(lambda x: tmp_col_dict[x])\n",
    "classI_df.plot(kind='barh', y = '%', ax=ax1, color=classI_df['Color'])\n",
    "ax1.set_xlim([-2,25])\n",
    "ax1.legend().set_visible(False)\n",
    "ax1.set_yticklabels(list(classI_df.index),fontsize=10, fontweight='bold')\n",
    "ax1.set_ylabel(ylabel='Class:Order:Superfamily', fontsize=14, fontweight='bold')\n",
    "ax1.set_title('ClassI: Retrotransposons', fontsize=14, fontweight='bold')\n",
    "\n",
    "#add tick lables\n",
    "\n",
    "for p, value in zip(ax1.patches, classI_df['%']):\n",
    "    ax1.annotate('{0:.3f}'.format(value), (18,p.get_y() * 1.005),fontsize=10, fontweight='bold' )\n",
    "\n",
    "#plot class II\n",
    "classII_df = classII_df = cov_per_superfamily_df[cov_per_superfamily_df['Class'] == 'DNA_transposon'].sort_values('%')\n",
    "\n",
    "#pick out the colors to do color matching on the order level\n",
    "tmp_cn = len(classII_df['Order'].unique())\n",
    "tmp_colors = CB_color_cycle[0:tmp_cn]\n",
    "tmp_col_dict = dict(zip(classII_df['Order'].unique(), tmp_colors))\n",
    "classII_df['Color'] = classII_df['Order'].apply(lambda x: tmp_col_dict[x])\n",
    "\n",
    "#plot the class II out\n",
    "classII_df.plot(kind='barh', y = '%', ax=ax2, color=classII_df['Color'])\n",
    "ax2.set_xlim([-2,25])\n",
    "ax2.legend().set_visible(False)\n",
    "ax2.set_yticklabels(list(classII_df.index),fontsize=10, fontweight='bold')\n",
    "ax2.set_ylabel(ylabel='Class:Order:Superfamily', fontsize=14, fontweight='bold')\n",
    "ax2.set_title('ClassII: DNA transposons', fontsize=14, fontweight='bold')\n",
    "ax2.set_xlabel('% genome coverage', fontsize=14, fontweight='bold')\n",
    "\n",
    "#add tick lables\n",
    "\n",
    "for p, value in zip(ax2.patches, classII_df['%']):\n",
    "    ax2.annotate('{0:.3f}'.format(value), (18 ,p.get_y() * 1.005),fontsize=10, fontweight='bold' )\n",
    "    \n",
    "fig.savefig(genome+'.REPET_summary.seaborn-talk.png', dpi=600, bbox_inches=\"tight\")"
   ]
  },
  {
   "cell_type": "markdown",
   "metadata": {},
   "source": [
    "## Thats how far we got ##"
   ]
  },
  {
   "cell_type": "code",
   "execution_count": null,
   "metadata": {
    "collapsed": true
   },
   "outputs": [],
   "source": []
  }
 ],
 "metadata": {
  "kernelspec": {
   "display_name": "Python 3",
   "language": "python",
   "name": "python3"
  },
  "language_info": {
   "codemirror_mode": {
    "name": "ipython",
    "version": 3
   },
   "file_extension": ".py",
   "mimetype": "text/x-python",
   "name": "python",
   "nbconvert_exporter": "python",
   "pygments_lexer": "ipython3",
   "version": "3.5.3"
  }
 },
 "nbformat": 4,
 "nbformat_minor": 1
}
