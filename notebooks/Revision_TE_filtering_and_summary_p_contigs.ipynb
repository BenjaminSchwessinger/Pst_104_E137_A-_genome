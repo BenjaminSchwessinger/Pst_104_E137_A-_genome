{
 "cells": [
  {
   "cell_type": "code",
   "execution_count": 1,
   "metadata": {},
   "outputs": [
    {
     "name": "stderr",
     "output_type": "stream",
     "text": [
      "/home/benjamin/anaconda3/lib/python3.5/site-packages/Bio/SearchIO/__init__.py:211: BiopythonExperimentalWarning: Bio.SearchIO is an experimental submodule which may undergo significant changes prior to its future official release.\n",
      "  BiopythonExperimentalWarning)\n"
     ]
    }
   ],
   "source": [
    "%matplotlib inline\n",
    "import pandas as pd\n",
    "import os\n",
    "import re\n",
    "from Bio import SeqIO\n",
    "import pysam\n",
    "from Bio.SeqRecord import SeqRecord\n",
    "from Bio.Seq import Seq\n",
    "from Bio import SearchIO\n",
    "from pybedtools import BedTool\n",
    "import numpy as np\n",
    "import pybedtools\n",
    "import multiprocessing\n",
    "import re\n",
    "import time\n",
    "import matplotlib.pyplot as plt"
   ]
  },
  {
   "cell_type": "markdown",
   "metadata": {},
   "source": [
    "This notebook is a restart of the TE_filtering_and_summary_p_contigs notebook. It is aimed at adding two columns to the TE summary dataframe.\n",
    "* age of TE\n",
    "* classification\n",
    "\n",
    "The age should be plotted out by superfamily and the new dataframe provided for the paper as well."
   ]
  },
  {
   "cell_type": "code",
   "execution_count": 2,
   "metadata": {
    "collapsed": true
   },
   "outputs": [],
   "source": [
    "def ID_filter_gff(_feature, _id):\n",
    "    \"\"\"\n",
    "    This filter parses out the top level id form the 9th gff column form a REPET gff file.\n",
    "    It has a specific search pattern for each feature type in column 2.\n",
    "    _type is defined by the feature '_'.join(feature.split(\"_\")[-2:])\n",
    "    This function expects that the variable genome either ends with p_ctg or h_ctg and adapts the\n",
    "    search pattern accordingly.\n",
    "    \"\"\"\n",
    "    _type = '_'.join(_feature.split(\"_\")[-2:])\n",
    "    if _type == 'REPET_TEs':\n",
    "        if genome.endswith('p_ctg'):\n",
    "            TE_pattern = r'ID=[A-Z,a-z,0-9,-]*_[A-Z,a-z,0-9]*_[0-9]*_([^;| ]*)'\n",
    "        elif genome.endswith('h_ctg'):\n",
    "            TE_pattern = r'ID=[A-Z,a-z,0-9,-]*_[A-Z,a-z,0-9]*_[0-9]*_[0-9]*_([^;| ]*)'\n",
    "        TE_prog = re.compile(TE_pattern)\n",
    "        TE_match = TE_prog.search(_id)\n",
    "\n",
    "        try:\n",
    "            return TE_match.group(1)\n",
    "        except AttributeError:\n",
    "            print(_id)\n",
    "\n",
    "    if _type == 'REPET_SSRs':\n",
    "        if genome.endswith('p_ctg'):\n",
    "            SSR_pattern = 'ID=[A-Z,a-z,0-9,-]*_[A-Z,a-z,0-9]*_[0-9]*_([A-Z,a-z,0-9,-]*)'\n",
    "        elif genome.endswith('h_ctg'):\n",
    "            SSR_pattern = 'ID=[A-Z,a-z,0-9,-]*_[A-Z,a-z,0-9]*_[0-9]*_[0-9]*_([A-Z,a-z,0-9,-]*)'\n",
    "        SSR_prog = re.compile(SSR_pattern)\n",
    "        SSR_match = SSR_prog.search(_id)\n",
    "        return SSR_match.group(1)\n",
    "    if _type == 'REPET_tblastx' or _type == 'REPET_blastx':\n",
    "        if genome.endswith('p_ctg'):\n",
    "            blast_prog = re.compile(r'ID=[A-Z,a-z,0-9,-]*_[A-Z,a-z,0-9]*_[0-9]*_([^;| ]*)')\n",
    "        elif genome.endswith('h_ctg'):\n",
    "             blast_prog = re.compile(r'ID=[A-Z,a-z,0-9,-]*_[A-Z,a-z,0-9]*_[0-9]*_[0-9]*_([^;| ]*)')\n",
    "        #blast_prog = re.compile(blast_pattern)\n",
    "        blast_match = blast_prog.search(_id)\n",
    "        return blast_match.group(1)\n"
   ]
  },
  {
   "cell_type": "code",
   "execution_count": 3,
   "metadata": {
    "collapsed": true
   },
   "outputs": [],
   "source": [
    "def blast_hit_gff(_feature, _row8, _id):\n",
    "    \"\"\"\n",
    "    This filter parses the blast hit for REPET_TEs from the new 'ID' column. If no blast hit available returns Pastec ids.\n",
    "    If the result is blast already the value is simple parse the blast hit.\n",
    "    SSRs also get SSR\n",
    "    !!!Requires the three_letter_dict to be defined previously.!!!\n",
    "    _type is defined by the feature '_'.join(feature.split(\"_\")[-2:])\n",
    "    \"\"\"\n",
    "    _type = '_'.join(_feature.split(\"_\")[-2:])\n",
    "    if _type == 'REPET_TEs':\n",
    "        #split the pastec_cat into the first three letter code\n",
    "        #the spliting of the 'ID' column needs to be done differently depending on the h or p contigs.\n",
    "        #h contigs contain one additional '_' in the contig id\n",
    "\n",
    "        pastec_cat = _id.split('_')[0]\n",
    "        if 'TE_BLR' in _row8:\n",
    "            #hit_list = [x.split(';')[3] for x in _row8]\n",
    "            blast_hit_pattern = r'TE_BLR\\w*: (\\S*)[ |;]'\n",
    "            blast_hit_prog = re.compile(blast_hit_pattern)\n",
    "            TE_match = blast_hit_prog.findall(_row8)\n",
    "            first_sub_class = ':'.join(TE_match[0][:-1].split(':')[1:])\n",
    "            if len([x for x in TE_match if first_sub_class in x]) == len(TE_match):\n",
    "                if ';' in first_sub_class:\n",
    "                    return first_sub_class.split(';')[0]\n",
    "                else:\n",
    "                    return first_sub_class\n",
    "#fix this here to include the there letter code of the first bit of the ID similar to the blast hits\n",
    "#e.g. ClassI:?:? and so on. a dict might be the easiest here.\n",
    "            \n",
    "            else:\n",
    "                return three_letter_dict[pastec_cat]\n",
    "        else:\n",
    "            return three_letter_dict[pastec_cat]\n",
    "    if _type == 'REPET_SSRs':\n",
    "        return 'SSR'\n",
    "        \n",
    "\n",
    "        return SSR_match.group(1)\n",
    "    if _type == 'REPET_tblastx' or _type == 'REPET_blastx':\n",
    "        return ':'.join(_id.split(':')[1:])"
   ]
  },
  {
   "cell_type": "code",
   "execution_count": 4,
   "metadata": {
    "collapsed": true
   },
   "outputs": [],
   "source": [
    "def TE_classification_filter(_id, level = 0):\n",
    "    \"\"\"\n",
    "    This function pulls out the class == level1, Order == level2, Superfamily == leve3.\n",
    "    If SSR or noCat return these values.\n",
    "    \n",
    "    \"\"\"\n",
    "    if len(_id.split(':')) == 1:\n",
    "        return _id\n",
    "    if level == 0:\n",
    "        _class = _id.split(':')[0]\n",
    "        if _class == 'ClassI':\n",
    "            return 'Retrotransposon'\n",
    "        if _class == 'ClassII':\n",
    "            return 'DNA_transposon'\n",
    "    elif level == 1:\n",
    "        _order = _id.split(':')[1]\n",
    "        if _order == '?':\n",
    "            return 'noCat'\n",
    "        else:\n",
    "            return _order\n",
    "    elif level == 2:\n",
    "        _superfamily = _id.split(':')[2]\n",
    "        if _superfamily == '?':\n",
    "            return 'noCat'\n",
    "        else:\n",
    "            return _superfamily\n",
    "    else:\n",
    "        print('Something wrong! Check if level is 0, 1 or 2')"
   ]
  },
  {
   "cell_type": "markdown",
   "metadata": {},
   "source": [
    "#### This needs to be updated here according to genome (either p_ctg or h_ctg)"
   ]
  },
  {
   "cell_type": "code",
   "execution_count": 5,
   "metadata": {
    "collapsed": true
   },
   "outputs": [],
   "source": [
    "source_dir = '/home/benjamin/genome_assembly/PST79/FALCON/p_assemblies/v9_1/032017_assembly'\n",
    "genome = 'Pst_104E_v12_p_ctg'\n",
    "out_dir = '/home/benjamin/genome_assembly/PST79/FALCON/p_assemblies/v9_1/Pst_104E_v12/revision/TE_dating'"
   ]
  },
  {
   "cell_type": "code",
   "execution_count": 6,
   "metadata": {
    "collapsed": true
   },
   "outputs": [],
   "source": [
    "if not os.path.exists(out_dir):\n",
    "    os.mkdir(out_dir)"
   ]
  },
  {
   "cell_type": "code",
   "execution_count": 7,
   "metadata": {
    "collapsed": true
   },
   "outputs": [],
   "source": [
    "#remove all commenting lines from the initial repet file\n",
    "!grep -v \"^#\" {source_dir}/{genome}.REPET.gff > {out_dir}/{genome}.REPET.gff"
   ]
  },
  {
   "cell_type": "code",
   "execution_count": 8,
   "metadata": {
    "collapsed": true
   },
   "outputs": [],
   "source": [
    "p_repet_gff = pd.read_csv(out_dir+'/'+genome+'.REPET.gff', sep='\\t', header = None)"
   ]
  },
  {
   "cell_type": "markdown",
   "metadata": {},
   "source": [
    "#### This needs to be updated here according to genome"
   ]
  },
  {
   "cell_type": "code",
   "execution_count": 9,
   "metadata": {
    "collapsed": true
   },
   "outputs": [],
   "source": [
    "#This needs to be updated here according to genome\n",
    "TE_post_analysis_p = '/home/benjamin/genome_assembly/PST79/FALCON/p_assemblies/v9_1/REPET/Pst79_p/Pst79_p_full_annotate/postanalysis/'"
   ]
  },
  {
   "cell_type": "code",
   "execution_count": 10,
   "metadata": {
    "collapsed": true
   },
   "outputs": [],
   "source": [
    "TE_post_analysis_p_header = 'TE      length  covg    frags   fullLgthFrags   copies  fullLgthCopies  meanId  sdId    minId   q25Id   medId   q75Id   maxId   meanLgth        sdLgth  minLgth q25Lgth medLgth q75Lgth maxLgth meanLgthPerc    sdLgthPerc      minLgthPerc  q25LgthPerc     medLgthPerc     q75LgthPerc     maxLgthPerc'.split(' ')"
   ]
  },
  {
   "cell_type": "code",
   "execution_count": 11,
   "metadata": {
    "collapsed": true
   },
   "outputs": [],
   "source": [
    "TE_post_analysis_p_header = [x for x in TE_post_analysis_p_header if x != '']"
   ]
  },
  {
   "cell_type": "code",
   "execution_count": 12,
   "metadata": {},
   "outputs": [
    {
     "name": "stdout",
     "output_type": "stream",
     "text": [
      "blastclust.log\r\n",
      "error.log\r\n",
      "Pst79p_anno_chr_allTEs_nr_noSSR_join_path.annotStatsPerTE.tab\r\n",
      "Pst79p_anno_chr_allTEs_nr_noSSR_join_path.globalAnnotStatsPerTE.txt\r\n",
      "Pst79p_anno_chr_allTEs_path.annotStatsPerCluster.tab\r\n",
      "Pst79p_anno_chr_allTEs_path.annotStatsPerTE.tab\r\n",
      "Pst79p_anno_chr_allTEs_path.globalAnnotStatsPerTE.txt\r\n",
      "Pst79p_anno_chr_bankBLRtx_path.annotStatsPerTE.tab\r\n",
      "Pst79p_anno_chr_bankBLRtx_path.globalAnnotStatsPerTE.txt\r\n",
      "Pst79p_anno_chr_bankBLRx_path.annotStatsPerTE.tab\r\n",
      "Pst79p_anno_chr_bankBLRx_path.globalAnnotStatsPerTE.txt\r\n",
      "Pst79p_anno_refTEs.fa\r\n",
      "Pst79p_anno_refTEs.fa_blastclust.classifStatsPerCluster.tab\r\n",
      "Pst79p_anno_refTEs.fa_blastclust.globalStatsPerCluster.txt\r\n",
      "Pst79p_anno_refTEs.fa_blastclust.statsPerCluster.tab\r\n",
      "Pst79p_anno_refTEs.fa_blastclust.tab\r\n"
     ]
    }
   ],
   "source": [
    "!ls {TE_post_analysis_p}"
   ]
  },
  {
   "cell_type": "markdown",
   "metadata": {},
   "source": [
    "#### This needs to be updated here according to genome"
   ]
  },
  {
   "cell_type": "code",
   "execution_count": 13,
   "metadata": {
    "collapsed": true
   },
   "outputs": [],
   "source": [
    "#now get the summary of allTEs == TEs specificaly identified by TEdenovo from REPET\n",
    "p_repet_summary_denovoTEs_df = pd.read_csv(TE_post_analysis_p+'/'+'Pst79p_anno_chr_allTEs_nr_noSSR_join_path.annotStatsPerTE.tab' ,\\\n",
    "                                names = TE_post_analysis_p_header, header=None, sep='\\t', skiprows=1 )\n",
    "\n",
    "#now get in the summary of all bankBLRx TEs == TEs identified by repbase20.05_ntSeq_cleaned_TE\n",
    "p_repet_summary_nt_repbase_df = pd.read_csv(\\\n",
    "    os.path.join(TE_post_analysis_p, 'Pst79p_anno_chr_bankBLRx_path.annotStatsPerTE.tab') ,\\\n",
    "    names = TE_post_analysis_p_header, header=None, sep='\\t', skiprows=1 )\n",
    "\n",
    "#now get in the summary of all bankBLRtx TEs == TEs identified by repbase20.05_aaSeq_cleaned_TE\n",
    "p_repet_summary_aa_repbase_df = pd.read_csv(\\\n",
    "    os.path.join(TE_post_analysis_p, 'Pst79p_anno_chr_bankBLRtx_path.annotStatsPerTE.tab') ,\\\n",
    "    names = TE_post_analysis_p_header, header=None, sep='\\t', skiprows=1 )"
   ]
  },
  {
   "cell_type": "code",
   "execution_count": 14,
   "metadata": {
    "collapsed": true
   },
   "outputs": [],
   "source": [
    "#generate a df that contains all TEs: TEdenovo, blastx, blastn\n",
    "p_repet_summary_all_TEs_df = pd.concat([p_repet_summary_denovoTEs_df ,p_repet_summary_nt_repbase_df,\\\n",
    "                                       p_repet_summary_aa_repbase_df], axis=0)\n",
    "#subset to remove every TE wo hit and all potential host genes\n",
    "p_repet_summary_all_TEs_df =  p_repet_summary_all_TEs_df[p_repet_summary_all_TEs_df.copies > 0]\n",
    "p_repet_summary_all_TEs_df =  p_repet_summary_all_TEs_df[\\\n",
    "                               ~p_repet_summary_all_TEs_df.TE.str.startswith(\"Potential\")]"
   ]
  },
  {
   "cell_type": "code",
   "execution_count": 15,
   "metadata": {},
   "outputs": [
    {
     "name": "stdout",
     "output_type": "stream",
     "text": [
      "Check the code dict anyway\n",
      "{'DTX-incomp-chim': 'DNA_transposon TIR', 'RSX-incomp': 'Retrotransposon SINE', 'DXX-MITE': 'DNA_transposon MITE', 'DXX-MITE-chim': 'DNA_transposon MITE', 'DHX-incomp': 'DNA_transposon Helitron', 'RXX-TRIM-chim': 'Retrotransposon TRIM', 'RLX-comp-chim': 'Retrotransposon LTR', 'RLX-comp': 'Retrotransposon LTR', 'RXX-chim': 'Retrotransposon noCat', 'RIX-incomp': 'Retrotransposon LINE', 'RIX-comp': 'Retrotransposon LINE', 'PotentialHostGene': 'Potential Host Gene', 'RYX-comp': 'Retrotransposon DIRS', 'RXX-LARD-chim': 'Retrotransposon LARD', 'RLX-incomp-chim': 'Retrotransposon LTR', 'XXX-chim': 'noCat', 'DTX-comp': 'DNA_transposon TIR', 'DHX-incomp-chim': 'DNA_transposon Helitron', 'RPX-incomp-chim': 'Retrotransposon PLE', 'noCat': 'noCat', 'DHX-comp': 'DNA_transposon Helitron', 'RYX-incomp-chim': 'Retrotransposon DIRS', 'RXX-LARD': 'Retrotransposon LARD', 'DTX-comp-chim': 'DNA_transposon TIR', 'DTX-incomp': 'DNA_transposon TIR', 'RXX': 'Retrotransposon noCat', 'RLX-incomp': 'Retrotransposon LTR', 'RIX-incomp-chim': 'Retrotransposon LINE', 'RXX-TRIM': 'Retrotransposon TRIM', 'RSX-incomp-chim': 'Retrotransposon SINE', 'DXX': 'DNA_transposon noCat', 'RYX-comp-chim': 'Retrotransposon DIRS', 'DMX-incomp': 'DNA_transposon Maverick', 'RYX-incomp': 'Retrotransposon DIRS'}\n"
     ]
    }
   ],
   "source": [
    "#this needs to be fixed up to pick the proper summary table\n",
    "p_repet_summary_df = pd.read_csv(TE_post_analysis_p+'/'+'Pst79p_anno_chr_allTEs_nr_noSSR_join_path.annotStatsPerTE.tab' ,\\\n",
    "                                names = TE_post_analysis_p_header, header=None, sep='\\t', skiprows=1 )\n",
    "#\n",
    "\n",
    "\n",
    "#check if I can filter the tab files for removing all TEs that are on the 2000 plus contigs\n",
    "#remove tRNAs TEs with infernal\n",
    "\n",
    "p_repet_summary_df['Code'] = p_repet_summary_df['TE'].apply(lambda x: x.split('_')[0])\n",
    "\n",
    "code_keys = p_repet_summary_df['Code'].unique()\n",
    "\n",
    "code_keys.sort()\n",
    "\n",
    "code_long = ['DNA_transposon Helitron', 'DNA_transposon Helitron', 'DNA_transposon Helitron', 'DNA_transposon Maverick',\\\n",
    "            'DNA_transposon TIR', 'DNA_transposon TIR', 'DNA_transposon TIR', 'DNA_transposon TIR', 'DNA_transposon noCat',\\\n",
    "             'DNA_transposon MITE','DNA_transposon MITE', 'Potential Host Gene', 'Retrotransposon LINE', 'Retrotransposon LINE',\\\n",
    "             'Retrotransposon LINE','Retrotransposon LTR','Retrotransposon LTR', 'Retrotransposon LTR', 'Retrotransposon LTR', 'Retrotransposon PLE', \\\n",
    "             'Retrotransposon SINE',  'Retrotransposon SINE', 'Retrotransposon noCat', 'Retrotransposon LARD',\\\n",
    "             'Retrotransposon LARD', 'Retrotransposon TRIM', 'Retrotransposon TRIM', 'Retrotransposon noCat',  \\\n",
    "             'Retrotransposon DIRS','Retrotransposon DIRS','Retrotransposon DIRS','Retrotransposon DIRS',\\\n",
    "             'noCat', 'noCat']\n",
    "if len(code_keys) != len(code_long):\n",
    "    print('Check the code_long list, because different length of keys and values!\\n\\n')\n",
    "else:\n",
    "    print('Check the code dict anyway')\n",
    "code_dict = dict(zip(code_keys, code_long))\n",
    "print(code_dict)"
   ]
  },
  {
   "cell_type": "code",
   "execution_count": 16,
   "metadata": {},
   "outputs": [
    {
     "data": {
      "text/html": [
       "<div>\n",
       "<style>\n",
       "    .dataframe thead tr:only-child th {\n",
       "        text-align: right;\n",
       "    }\n",
       "\n",
       "    .dataframe thead th {\n",
       "        text-align: left;\n",
       "    }\n",
       "\n",
       "    .dataframe tbody tr th {\n",
       "        vertical-align: top;\n",
       "    }\n",
       "</style>\n",
       "<table border=\"1\" class=\"dataframe\">\n",
       "  <thead>\n",
       "    <tr style=\"text-align: right;\">\n",
       "      <th></th>\n",
       "      <th>copies</th>\n",
       "      <th>covg</th>\n",
       "      <th>length</th>\n",
       "    </tr>\n",
       "    <tr>\n",
       "      <th>Code long</th>\n",
       "      <th></th>\n",
       "      <th></th>\n",
       "      <th></th>\n",
       "    </tr>\n",
       "  </thead>\n",
       "  <tbody>\n",
       "    <tr>\n",
       "      <th>DNA_transposon Helitron</th>\n",
       "      <td>1075</td>\n",
       "      <td>817566</td>\n",
       "      <td>2989.764706</td>\n",
       "    </tr>\n",
       "    <tr>\n",
       "      <th>DNA_transposon MITE</th>\n",
       "      <td>3789</td>\n",
       "      <td>886304</td>\n",
       "      <td>490.240741</td>\n",
       "    </tr>\n",
       "    <tr>\n",
       "      <th>DNA_transposon Maverick</th>\n",
       "      <td>268</td>\n",
       "      <td>345406</td>\n",
       "      <td>8562.666667</td>\n",
       "    </tr>\n",
       "    <tr>\n",
       "      <th>DNA_transposon TIR</th>\n",
       "      <td>19166</td>\n",
       "      <td>12711595</td>\n",
       "      <td>4020.474359</td>\n",
       "    </tr>\n",
       "    <tr>\n",
       "      <th>DNA_transposon noCat</th>\n",
       "      <td>5286</td>\n",
       "      <td>2376456</td>\n",
       "      <td>3034.734513</td>\n",
       "    </tr>\n",
       "    <tr>\n",
       "      <th>Potential Host Gene</th>\n",
       "      <td>1372</td>\n",
       "      <td>1375304</td>\n",
       "      <td>6120.490566</td>\n",
       "    </tr>\n",
       "    <tr>\n",
       "      <th>Retrotransposon DIRS</th>\n",
       "      <td>1337</td>\n",
       "      <td>1049299</td>\n",
       "      <td>6874.526316</td>\n",
       "    </tr>\n",
       "    <tr>\n",
       "      <th>Retrotransposon LARD</th>\n",
       "      <td>10752</td>\n",
       "      <td>4947564</td>\n",
       "      <td>5407.736111</td>\n",
       "    </tr>\n",
       "    <tr>\n",
       "      <th>Retrotransposon LINE</th>\n",
       "      <td>323</td>\n",
       "      <td>237992</td>\n",
       "      <td>4446.625000</td>\n",
       "    </tr>\n",
       "    <tr>\n",
       "      <th>Retrotransposon LTR</th>\n",
       "      <td>18893</td>\n",
       "      <td>16276421</td>\n",
       "      <td>6384.627841</td>\n",
       "    </tr>\n",
       "    <tr>\n",
       "      <th>Retrotransposon PLE</th>\n",
       "      <td>75</td>\n",
       "      <td>41843</td>\n",
       "      <td>8954.000000</td>\n",
       "    </tr>\n",
       "    <tr>\n",
       "      <th>Retrotransposon SINE</th>\n",
       "      <td>163</td>\n",
       "      <td>31138</td>\n",
       "      <td>317.923077</td>\n",
       "    </tr>\n",
       "    <tr>\n",
       "      <th>Retrotransposon TRIM</th>\n",
       "      <td>507</td>\n",
       "      <td>238695</td>\n",
       "      <td>1583.434783</td>\n",
       "    </tr>\n",
       "    <tr>\n",
       "      <th>Retrotransposon noCat</th>\n",
       "      <td>112</td>\n",
       "      <td>101098</td>\n",
       "      <td>4365.857143</td>\n",
       "    </tr>\n",
       "    <tr>\n",
       "      <th>noCat</th>\n",
       "      <td>1218</td>\n",
       "      <td>850828</td>\n",
       "      <td>1679.829268</td>\n",
       "    </tr>\n",
       "  </tbody>\n",
       "</table>\n",
       "</div>"
      ],
      "text/plain": [
       "                         copies      covg       length\n",
       "Code long                                             \n",
       "DNA_transposon Helitron    1075    817566  2989.764706\n",
       "DNA_transposon MITE        3789    886304   490.240741\n",
       "DNA_transposon Maverick     268    345406  8562.666667\n",
       "DNA_transposon TIR        19166  12711595  4020.474359\n",
       "DNA_transposon noCat       5286   2376456  3034.734513\n",
       "Potential Host Gene        1372   1375304  6120.490566\n",
       "Retrotransposon DIRS       1337   1049299  6874.526316\n",
       "Retrotransposon LARD      10752   4947564  5407.736111\n",
       "Retrotransposon LINE        323    237992  4446.625000\n",
       "Retrotransposon LTR       18893  16276421  6384.627841\n",
       "Retrotransposon PLE          75     41843  8954.000000\n",
       "Retrotransposon SINE        163     31138   317.923077\n",
       "Retrotransposon TRIM        507    238695  1583.434783\n",
       "Retrotransposon noCat       112    101098  4365.857143\n",
       "noCat                      1218    850828  1679.829268"
      ]
     },
     "execution_count": 16,
     "metadata": {},
     "output_type": "execute_result"
    }
   ],
   "source": [
    "p_repet_summary_df['Code long'] = p_repet_summary_df['Code'].apply(lambda x: code_dict[x])\n",
    "p_repet_summary_sum_df = pd.pivot_table(p_repet_summary_df, values=['covg', 'copies'], index='Code long', aggfunc=np.sum)\n",
    "p_repet_summary_mean_df = pd.pivot_table(p_repet_summary_df, values='length', index='Code long', aggfunc=np.mean)\n",
    "pd.concat([p_repet_summary_sum_df,p_repet_summary_mean_df], axis=1 )"
   ]
  },
  {
   "cell_type": "markdown",
   "metadata": {},
   "source": [
    "#### This needs to be updated here according to genome"
   ]
  },
  {
   "cell_type": "code",
   "execution_count": 17,
   "metadata": {
    "collapsed": true
   },
   "outputs": [],
   "source": [
    "#now filter the gff dataframe to delete all the high coverage contigs\n",
    "#This might would have to be fixed as well. If we don't delete it as files should be already filtered\n",
    "contigs_smaller_2000 = pd.read_csv('/home/benjamin/genome_assembly/PST79/FALCON/p_assemblies/v9_1/032017_assembly/pcontig_smaller_2000.txt',\\\n",
    "                                  header=None)[0].tolist()\n",
    "\n",
    "p_repet_gff = pd.read_csv(out_dir+'/'+genome+'.REPET.gff', sep='\\t', header = None)\n",
    "\n",
    "p_repet_gff_filtered = p_repet_gff[p_repet_gff[0].isin(contigs_smaller_2000)].reset_index(drop=True)"
   ]
  },
  {
   "cell_type": "code",
   "execution_count": 18,
   "metadata": {
    "collapsed": true
   },
   "outputs": [],
   "source": [
    "#filter out potential host genes\n",
    "p_repet_gff_filtered = p_repet_gff_filtered[~p_repet_gff_filtered[8].str.contains(\"Potential\")]"
   ]
  },
  {
   "cell_type": "code",
   "execution_count": 19,
   "metadata": {
    "collapsed": true
   },
   "outputs": [],
   "source": [
    "p_repet_gff_filtered['ID'] = p_repet_gff_filtered.apply(lambda row: ID_filter_gff(row[1], row[8]), axis=1)"
   ]
  },
  {
   "cell_type": "code",
   "execution_count": 20,
   "metadata": {
    "collapsed": true
   },
   "outputs": [],
   "source": [
    "#re-generate the code dict using the gff ID as Code keys\n",
    "\n",
    "\n",
    "code_keys_gff = p_repet_gff_filtered[p_repet_gff_filtered[1].str.contains('REPET_TE')]['ID'].unique()\n",
    "\n",
    "code_keys_gff = list({x.split('_')[0] for x in code_keys_gff})\n",
    "\n",
    "code_keys_gff.sort()\n",
    "\n",
    "#remove Potential host genes from long code list as those were filtered out previously.\n",
    "code_long.remove('Potential Host Gene')\n",
    "\n",
    "if len(code_keys_gff) != len(code_long):\n",
    "    print(\"Go and check something is wrong at the code key stage!\")\n",
    "\n",
    "code_dict = dict(zip(code_keys_gff, code_long))"
   ]
  },
  {
   "cell_type": "code",
   "execution_count": 21,
   "metadata": {},
   "outputs": [
    {
     "name": "stdout",
     "output_type": "stream",
     "text": [
      "Aas\n"
     ]
    }
   ],
   "source": [
    "three_letter_code = list({x for x in code_keys_gff})\n",
    "\n",
    "three_letter_code.sort()\n",
    "\n",
    "three_letter_values = []\n",
    "for x in three_letter_code:\n",
    "    if 'MITE' in x:\n",
    "        _value = \"ClassII:MITE:?\"\n",
    "        three_letter_values.append(_value)\n",
    "        continue\n",
    "    if 'LARD' in x:\n",
    "        _value = 'ClassI:LARD:?'\n",
    "        three_letter_values.append(_value)\n",
    "        continue\n",
    "    if 'TRIM' in x:\n",
    "        _value = 'ClassI:TRIM:?'\n",
    "        three_letter_values.append(_value)\n",
    "        continue\n",
    "    _value =''\n",
    "    if x[0] == 'D':\n",
    "        _value = _value + 'ClassII:'\n",
    "    if x[0] == 'R':\n",
    "        _value = _value + 'ClassI:'\n",
    "    if x[0] != 'D' and x[0] != 'R':\n",
    "        _value = 'noCat'\n",
    "        three_letter_values.append(_value)\n",
    "        continue\n",
    "    if x[1] == 'T':\n",
    "        _value = _value + 'TIR:?'\n",
    "    if x[1] == 'H':\n",
    "        _value = _value + 'Helitron:?'\n",
    "    if x[1] == 'M':\n",
    "        _value = _value + 'Maverick:?'\n",
    "    if x[0:2] == 'DY':\n",
    "        _value = _value + ':Crypton:?'\n",
    "    if x[1] == 'X':\n",
    "        _value = _value + '?:?'\n",
    "    if x[1] == 'I':\n",
    "        _value = _value + 'LINE:?'\n",
    "    if x[1] == 'L':\n",
    "        _value = _value + 'LTR:?'\n",
    "    if x[1] == 'P':\n",
    "        _value = _value + 'Penelope:?'\n",
    "    if x[1] == 'S':\n",
    "        _value = _value + 'SINE:?'\n",
    "    if x[0:2] == 'RY':\n",
    "        _value = _value + 'DIRS:?'    \n",
    "    three_letter_values.append(_value)\n",
    "\n",
    "if len(three_letter_code) == len(three_letter_values):\n",
    "    print(\"Aas\")\n",
    "    three_letter_dict = dict(zip(three_letter_code, three_letter_values))"
   ]
  },
  {
   "cell_type": "code",
   "execution_count": 22,
   "metadata": {
    "collapsed": true
   },
   "outputs": [],
   "source": [
    "p_repet_gff_filtered['Class:Order:Superfamily'] = p_repet_gff_filtered.apply(lambda row: blast_hit_gff(row[1], row[8], row['ID']), axis=1)"
   ]
  },
  {
   "cell_type": "code",
   "execution_count": 23,
   "metadata": {},
   "outputs": [
    {
     "name": "stdout",
     "output_type": "stream",
     "text": [
      "ClassII:?:Ginger2/TDD\n",
      "ClassII:?:Ginger2_TDD\n"
     ]
    }
   ],
   "source": [
    "#generate a dict that can be used to rename the Class:Order:Superfamily column considering that partial matches ([2] == match_part) might contain different\n",
    "#IDs even though they are the same TE only partial.\n",
    "_tmp_subset = p_repet_gff_filtered[~p_repet_gff_filtered[1].str.contains('SSR')].loc[:, 'ID':].sort_values(by=['ID','Class:Order:Superfamily'])\\\n",
    ".drop_duplicates(subset='ID', keep ='last')\n",
    "\n",
    "TE_COS_dict = dict(zip(_tmp_subset.loc[:, 'ID'], _tmp_subset.loc[:, 'Class:Order:Superfamily' ]))\n",
    "\n",
    "_tmp_subset = p_repet_gff_filtered[p_repet_gff_filtered[1].str.contains('SSR')].loc[:, 'ID':].sort_values(by=['ID','Class:Order:Superfamily'])\\\n",
    ".drop_duplicates(subset='ID', keep ='last')\n",
    "\n",
    "_tmp_dict = dict(zip(_tmp_subset.loc[:, 'ID'], _tmp_subset.loc[:, 'Class:Order:Superfamily' ]))\n",
    "\n",
    "TE_COS_dict.update(_tmp_dict)\n",
    "#remove all backslashes from the values as this will conflict with the output later on\n",
    "for x in TE_COS_dict.keys():\n",
    "    if '/' in TE_COS_dict[x]:\n",
    "        value = TE_COS_dict[x]\n",
    "        print(value)\n",
    "        TE_COS_dict[x] = value.replace('/','_')\n",
    "        print(TE_COS_dict[x])"
   ]
  },
  {
   "cell_type": "code",
   "execution_count": 24,
   "metadata": {
    "collapsed": true
   },
   "outputs": [],
   "source": [
    "#drop zeros from p_repet_summary_df\n",
    "p_repet_summary_df = p_repet_summary_df[p_repet_summary_df.copies > 0]"
   ]
  },
  {
   "cell_type": "code",
   "execution_count": 25,
   "metadata": {
    "collapsed": true
   },
   "outputs": [],
   "source": [
    "#remove Potential host genes\n",
    "p_repet_summary_df = p_repet_summary_df[~p_repet_summary_df.TE.str.startswith(\"Potential\")]"
   ]
  },
  {
   "cell_type": "code",
   "execution_count": 26,
   "metadata": {
    "collapsed": true
   },
   "outputs": [],
   "source": [
    "p_repet_summary_df[\"COS\"] = p_repet_summary_df[\"TE\"].apply(lambda x: TE_COS_dict[x])"
   ]
  },
  {
   "cell_type": "code",
   "execution_count": 27,
   "metadata": {},
   "outputs": [
    {
     "data": {
      "text/plain": [
       "COS\n",
       "ClassI:?:?                      77923\n",
       "ClassI:DIRS:?                    5230\n",
       "ClassI:DIRS:DIRS               411921\n",
       "ClassI:LARD:?                 2580686\n",
       "ClassI:LINE:?                    4187\n",
       "ClassI:LINE:I                  207662\n",
       "ClassI:LINE:Jockey               9239\n",
       "ClassI:LTR:?                  1660264\n",
       "ClassI:LTR:Copia              4399303\n",
       "ClassI:LTR:Gypsy             10817418\n",
       "ClassI:LTR:Retrovirus           18586\n",
       "ClassI:Penelope:?               41843\n",
       "ClassI:SINE:?                   31138\n",
       "ClassI:TRIM:?                  183085\n",
       "ClassII:?:?                   4053567\n",
       "ClassII:?:Academ               267214\n",
       "ClassII:Helitron:?             563604\n",
       "ClassII:Helitron:Helitron      253962\n",
       "ClassII:MITE:?                 886304\n",
       "ClassII:Maverick:?             324099\n",
       "ClassII:Maverick:Maverick       21307\n",
       "ClassII:TIR:?                 3786988\n",
       "ClassII:TIR:CACTA             1092698\n",
       "ClassII:TIR:MuDR              1506387\n",
       "ClassII:TIR:P                   53627\n",
       "ClassII:TIR:PIF-Harbinger     1816676\n",
       "ClassII:TIR:Tc1-Mariner       1281300\n",
       "ClassII:TIR:hAT               3705159\n",
       "noCat                          850828\n",
       "Name: covg, dtype: int64"
      ]
     },
     "execution_count": 27,
     "metadata": {},
     "output_type": "execute_result"
    }
   ],
   "source": [
    "p_repet_summary_df.groupby(\"COS\")[\"covg\"].sum()"
   ]
  },
  {
   "cell_type": "code",
   "execution_count": 28,
   "metadata": {},
   "outputs": [
    {
     "data": {
      "text/plain": [
       "{'ClassI:LINE:L1',\n",
       " 'ClassI:LINE:R2',\n",
       " 'ClassI:LINE:RTE',\n",
       " 'ClassI:LTR:Bel-Pao',\n",
       " 'ClassI:LTR:ERV',\n",
       " 'ClassI:PLE:Penelope',\n",
       " 'ClassII:?:Ginger1',\n",
       " 'ClassII:?:Ginger2/TDD',\n",
       " 'ClassII:?:Kolobok',\n",
       " 'ClassII:?:Sola',\n",
       " 'ClassII:Crypton:Crypton',\n",
       " 'ClassII:TIR:PiggyBac',\n",
       " 'ClassII:TIR:Transib',\n",
       " 'SSR'}"
      ]
     },
     "execution_count": 28,
     "metadata": {},
     "output_type": "execute_result"
    }
   ],
   "source": [
    "set(p_repet_gff_filtered['Class:Order:Superfamily'].unique()) \\\n",
    "    - set(p_repet_summary_df[\"COS\"].unique())"
   ]
  },
  {
   "cell_type": "code",
   "execution_count": 29,
   "metadata": {
    "collapsed": true
   },
   "outputs": [],
   "source": [
    "p_repet_summary_all_TEs_df[\"COS\"] = p_repet_summary_all_TEs_df[\"TE\"].apply(lambda x: TE_COS_dict[x])"
   ]
  },
  {
   "cell_type": "code",
   "execution_count": 30,
   "metadata": {},
   "outputs": [
    {
     "data": {
      "text/plain": [
       "{'ClassII:?:Ginger2/TDD', 'SSR'}"
      ]
     },
     "execution_count": 30,
     "metadata": {},
     "output_type": "execute_result"
    }
   ],
   "source": [
    "set(p_repet_gff_filtered['Class:Order:Superfamily'].unique()) \\\n",
    "    - set(p_repet_summary_all_TEs_df[\"COS\"].unique())"
   ]
  },
  {
   "cell_type": "code",
   "execution_count": 31,
   "metadata": {
    "collapsed": true
   },
   "outputs": [],
   "source": [
    "#using the formula T=D/t in arXiv:1209.0176 [q-bio] to approximate TE age\n",
    "# where D = (100-meanId)/100 and \n",
    "# t the substitution rate per site per year\n",
    "# generations per year are estimate at 15 10.1111/j.1365-294X.2007.03513.x\n",
    "# estimate of subsitution rate per year = 2 * 10-9 10.1093/oxfordjournals.molbev.a004056 and\n",
    "# 10.1016/j.fbr.2010.03.001\n",
    "p_repet_summary_all_TEs_df['TE_age_Mya'] = (((100-p_repet_summary_all_TEs_df.meanId)/100)\\\n",
    "                                        /(2*10**-9))/10**6\n",
    "p_repet_summary_all_TEs_df['TE_age'] = (((100-p_repet_summary_all_TEs_df.meanId)/100)\\\n",
    "                                        /(2*10**-9))\n",
    "p_repet_summary_all_TEs_df = p_repet_summary_all_TEs_df[p_repet_summary_all_TEs_df.copies > 5]"
   ]
  },
  {
   "cell_type": "code",
   "execution_count": 32,
   "metadata": {
    "collapsed": true
   },
   "outputs": [],
   "source": [
    "p_repet_summary_all_TEs_df_ClassI = p_repet_summary_all_TEs_df[\\\n",
    "                                    p_repet_summary_all_TEs_df.COS.str.startswith('ClassI:')]\n",
    "p_repet_summary_all_TEs_df_ClassII = p_repet_summary_all_TEs_df[\\\n",
    "                                    p_repet_summary_all_TEs_df.COS.str.startswith('ClassII:')]"
   ]
  },
  {
   "cell_type": "code",
   "execution_count": 33,
   "metadata": {
    "collapsed": true
   },
   "outputs": [],
   "source": [
    "import numpy as np\n",
    "import seaborn as sns\n",
    "import matplotlib.pyplot as plt"
   ]
  },
  {
   "cell_type": "code",
   "execution_count": 34,
   "metadata": {
    "collapsed": true
   },
   "outputs": [],
   "source": [
    "#histogram of \n",
    "import matplotlib\n",
    "font = {'family' : 'normal',\n",
    "        'weight' : 'bold',\n",
    "        'size'   : 20}\n",
    "label_config_x = {'fontsize'            : 'large',\n",
    "      'verticalalignment'   : 'top',\n",
    "      'horizontalalignment' : 'center'\n",
    "      }\n",
    "label_config_y = {'fontsize'            : 'large',\n",
    "      'verticalalignment'   : 'bottom',\n",
    "      'horizontalalignment' : 'center'\n",
    "      }\n",
    "matplotlib.rc('font', **font)"
   ]
  },
  {
   "cell_type": "code",
   "execution_count": 52,
   "metadata": {},
   "outputs": [
    {
     "name": "stderr",
     "output_type": "stream",
     "text": [
      "/home/benjamin/anaconda3/lib/python3.5/site-packages/ipykernel_launcher.py:7: SettingWithCopyWarning: \n",
      "A value is trying to be set on a copy of a slice from a DataFrame\n",
      "\n",
      "See the caveats in the documentation: http://pandas.pydata.org/pandas-docs/stable/indexing.html#indexing-view-versus-copy\n",
      "  import sys\n"
     ]
    },
    {
     "data": {
      "image/png": "[encoded data removed]",
      "text/plain": [
       "<matplotlib.figure.Figure at 0x7fa921349588>"
      ]
     },
     "metadata": {},
     "output_type": "display_data"
    }
   ],
   "source": [
    "sns.set(style=\"ticks\")\n",
    "\n",
    "# Initialize the figure with a logarithmic x axis\n",
    "f, ax = plt.subplots(figsize=(7, 6))\n",
    "ax.set_xscale(\"log\")\n",
    "\n",
    "p_repet_summary_all_TEs_df_ClassI.sort_values(by='COS', inplace=True)\n",
    "sns.boxplot(x='TE_age', y='COS', data=p_repet_summary_all_TEs_df_ClassI,palette=\"vlag\")\n",
    "\n",
    "plt.xlim(5*10**6, 10**9)\n",
    "plt.ylabel(\"Class:Order:Superfamily\",fontsize = 12, weight= 'bold')\n",
    "plt.xlabel(\"Age [years]\",fontsize = 12, weight= 'bold')\n",
    "\n",
    "ax.xaxis.grid(True)\n",
    "sns.despine(trim=True, left=True)\n",
    "out_fn = os.path.join(out_dir, 'ClassI_age.png')\n",
    "f.savefig(out_fn, dpi=600,bbox_inches=\"tight\")"
   ]
  },
  {
   "cell_type": "code",
   "execution_count": 53,
   "metadata": {},
   "outputs": [
    {
     "name": "stderr",
     "output_type": "stream",
     "text": [
      "/home/benjamin/anaconda3/lib/python3.5/site-packages/ipykernel_launcher.py:7: SettingWithCopyWarning: \n",
      "A value is trying to be set on a copy of a slice from a DataFrame\n",
      "\n",
      "See the caveats in the documentation: http://pandas.pydata.org/pandas-docs/stable/indexing.html#indexing-view-versus-copy\n",
      "  import sys\n"
     ]
    },
    {
     "data": {
      "image/png": "[encoded data removed]",
      "text/plain": [
       "<matplotlib.figure.Figure at 0x7fa9135e4ef0>"
      ]
     },
     "metadata": {},
     "output_type": "display_data"
    }
   ],
   "source": [
    "sns.set(style=\"ticks\")\n",
    "\n",
    "# Initialize the figure with a logarithmic x axis\n",
    "f, ax = plt.subplots(figsize=(7, 6))\n",
    "ax.set_xscale(\"log\")\n",
    "\n",
    "p_repet_summary_all_TEs_df_ClassII.sort_values(by='COS', inplace=True)\n",
    "sns.boxplot(x='TE_age', y='COS', data=p_repet_summary_all_TEs_df_ClassII,palette=\"vlag\")\n",
    "\n",
    "plt.xlim(5*10**6, 10**9)\n",
    "plt.ylabel(\"Class:Order:Superfamily\",fontsize = 12, weight= 'bold')\n",
    "plt.xlabel(\"Age [years]\",fontsize = 12, weight= 'bold')\n",
    "\n",
    "ax.xaxis.grid(True)\n",
    "sns.despine(trim=True, left=True)\n",
    "\n",
    "out_fn = os.path.join(out_dir, 'ClassII_age.png')\n",
    "f.savefig(out_fn, dpi=600,bbox_inches=\"tight\")"
   ]
  },
  {
   "cell_type": "code",
   "execution_count": 37,
   "metadata": {
    "collapsed": true
   },
   "outputs": [],
   "source": [
    "sub_df_young_many = p_repet_summary_all_TEs_df[(p_repet_summary_all_TEs_df.copies > 50) &( p_repet_summary_all_TEs_df.TE_age_Mya < 100)]"
   ]
  },
  {
   "cell_type": "code",
   "execution_count": 38,
   "metadata": {
    "collapsed": true
   },
   "outputs": [],
   "source": [
    "sub_df_young_many_by_COS_sum = sub_df_young_many.groupby('COS').sum()"
   ]
  },
  {
   "cell_type": "code",
   "execution_count": 39,
   "metadata": {
    "collapsed": true
   },
   "outputs": [],
   "source": [
    "sub_df_young_many_by_COS_sum['Class'] = 'noCat'\n",
    "sub_df_young_many_by_COS_sum[\"Index\"] = sub_df_young_many_by_COS_sum.index\n",
    "sub_df_young_many_by_COS_sum['Order'] = 'noCat'\n",
    "sub_df_young_many_by_COS_sum['Class:Order'] = 'noCat'"
   ]
  },
  {
   "cell_type": "code",
   "execution_count": 40,
   "metadata": {
    "collapsed": true
   },
   "outputs": [],
   "source": [
    "#generate Class column or noCat\n",
    "sub_df_young_many_by_COS_sum.loc[\\\n",
    "sub_df_young_many_by_COS_sum[sub_df_young_many_by_COS_sum.index.str.contains(':')].index\\\n",
    "                                 , \"Class\"] =\\\n",
    "sub_df_young_many_by_COS_sum[sub_df_young_many_by_COS_sum.index.str.contains(':')].Index.apply\\\n",
    "(lambda x: x.split(':')[0])\n",
    "\n",
    "#generate Order column or noCat\n",
    "sub_df_young_many_by_COS_sum.loc[\\\n",
    "sub_df_young_many_by_COS_sum[sub_df_young_many_by_COS_sum.index.str.contains(':')].index\\\n",
    "                                 , \"Order\"] =\\\n",
    "sub_df_young_many_by_COS_sum[sub_df_young_many_by_COS_sum.index.str.contains(':')].Index.apply\\\n",
    "(lambda x: x.split(':')[1])\n",
    "\n",
    "\n",
    "#generate Class order column\n",
    "sub_df_young_many_by_COS_sum.loc[\\\n",
    "sub_df_young_many_by_COS_sum[sub_df_young_many_by_COS_sum.index.str.contains(':')].index\\\n",
    "                                 , \"Class:Order\"] =\\\n",
    "sub_df_young_many_by_COS_sum[sub_df_young_many_by_COS_sum.index.str.contains(':')]['Class']\\\n",
    "+ ':' +\\\n",
    "sub_df_young_many_by_COS_sum[sub_df_young_many_by_COS_sum.index.str.contains(':')]['Order']\n"
   ]
  },
  {
   "cell_type": "code",
   "execution_count": 41,
   "metadata": {},
   "outputs": [
    {
     "data": {
      "text/html": [
       "<div>\n",
       "<style>\n",
       "    .dataframe thead tr:only-child th {\n",
       "        text-align: right;\n",
       "    }\n",
       "\n",
       "    .dataframe thead th {\n",
       "        text-align: left;\n",
       "    }\n",
       "\n",
       "    .dataframe tbody tr th {\n",
       "        vertical-align: top;\n",
       "    }\n",
       "</style>\n",
       "<table border=\"1\" class=\"dataframe\">\n",
       "  <thead>\n",
       "    <tr style=\"text-align: right;\">\n",
       "      <th></th>\n",
       "      <th>length</th>\n",
       "      <th>covg</th>\n",
       "      <th>frags</th>\n",
       "      <th>fullLgthFrags</th>\n",
       "      <th>copies</th>\n",
       "      <th>fullLgthCopies</th>\n",
       "      <th>meanId</th>\n",
       "      <th>sdId</th>\n",
       "      <th>minId</th>\n",
       "      <th>q25Id</th>\n",
       "      <th>...</th>\n",
       "      <th>q25LgthPerc</th>\n",
       "      <th>medLgthPerc</th>\n",
       "      <th>q75LgthPerc</th>\n",
       "      <th>maxLgthPerc</th>\n",
       "      <th>TE_age_Mya</th>\n",
       "      <th>TE_age</th>\n",
       "      <th>Class</th>\n",
       "      <th>Index</th>\n",
       "      <th>Order</th>\n",
       "      <th>Class:Order</th>\n",
       "    </tr>\n",
       "    <tr>\n",
       "      <th>COS</th>\n",
       "      <th></th>\n",
       "      <th></th>\n",
       "      <th></th>\n",
       "      <th></th>\n",
       "      <th></th>\n",
       "      <th></th>\n",
       "      <th></th>\n",
       "      <th></th>\n",
       "      <th></th>\n",
       "      <th></th>\n",
       "      <th></th>\n",
       "      <th></th>\n",
       "      <th></th>\n",
       "      <th></th>\n",
       "      <th></th>\n",
       "      <th></th>\n",
       "      <th></th>\n",
       "      <th></th>\n",
       "      <th></th>\n",
       "      <th></th>\n",
       "      <th></th>\n",
       "    </tr>\n",
       "  </thead>\n",
       "  <tbody>\n",
       "    <tr>\n",
       "      <th>ClassI:LARD:?</th>\n",
       "      <td>75597</td>\n",
       "      <td>384719</td>\n",
       "      <td>970</td>\n",
       "      <td>10</td>\n",
       "      <td>879</td>\n",
       "      <td>10</td>\n",
       "      <td>830.38</td>\n",
       "      <td>88.38</td>\n",
       "      <td>625.10</td>\n",
       "      <td>766.60</td>\n",
       "      <td>...</td>\n",
       "      <td>9.44</td>\n",
       "      <td>19.96</td>\n",
       "      <td>59.27</td>\n",
       "      <td>1000.00</td>\n",
       "      <td>848.10</td>\n",
       "      <td>8.481000e+08</td>\n",
       "      <td>ClassI</td>\n",
       "      <td>ClassI:LARD:?</td>\n",
       "      <td>LARD</td>\n",
       "      <td>ClassI:LARD</td>\n",
       "    </tr>\n",
       "    <tr>\n",
       "      <th>ClassI:LINE:I</th>\n",
       "      <td>15043</td>\n",
       "      <td>47936</td>\n",
       "      <td>176</td>\n",
       "      <td>1</td>\n",
       "      <td>164</td>\n",
       "      <td>1</td>\n",
       "      <td>82.96</td>\n",
       "      <td>7.59</td>\n",
       "      <td>56.50</td>\n",
       "      <td>78.00</td>\n",
       "      <td>...</td>\n",
       "      <td>0.70</td>\n",
       "      <td>1.02</td>\n",
       "      <td>1.44</td>\n",
       "      <td>100.00</td>\n",
       "      <td>85.20</td>\n",
       "      <td>8.520000e+07</td>\n",
       "      <td>ClassI</td>\n",
       "      <td>ClassI:LINE:I</td>\n",
       "      <td>LINE</td>\n",
       "      <td>ClassI:LINE</td>\n",
       "    </tr>\n",
       "    <tr>\n",
       "      <th>ClassI:LTR:?</th>\n",
       "      <td>125116</td>\n",
       "      <td>699897</td>\n",
       "      <td>1944</td>\n",
       "      <td>248</td>\n",
       "      <td>1673</td>\n",
       "      <td>268</td>\n",
       "      <td>1341.04</td>\n",
       "      <td>134.64</td>\n",
       "      <td>970.15</td>\n",
       "      <td>1253.96</td>\n",
       "      <td>...</td>\n",
       "      <td>279.60</td>\n",
       "      <td>337.27</td>\n",
       "      <td>385.54</td>\n",
       "      <td>1638.73</td>\n",
       "      <td>1294.80</td>\n",
       "      <td>1.294800e+09</td>\n",
       "      <td>ClassI</td>\n",
       "      <td>ClassI:LTR:?</td>\n",
       "      <td>LTR</td>\n",
       "      <td>ClassI:LTR</td>\n",
       "    </tr>\n",
       "    <tr>\n",
       "      <th>ClassI:LTR:Copia</th>\n",
       "      <td>174682</td>\n",
       "      <td>872398</td>\n",
       "      <td>1901</td>\n",
       "      <td>25</td>\n",
       "      <td>1712</td>\n",
       "      <td>26</td>\n",
       "      <td>1766.35</td>\n",
       "      <td>182.55</td>\n",
       "      <td>1334.24</td>\n",
       "      <td>1645.93</td>\n",
       "      <td>...</td>\n",
       "      <td>49.25</td>\n",
       "      <td>89.93</td>\n",
       "      <td>179.44</td>\n",
       "      <td>2100.22</td>\n",
       "      <td>1668.25</td>\n",
       "      <td>1.668250e+09</td>\n",
       "      <td>ClassI</td>\n",
       "      <td>ClassI:LTR:Copia</td>\n",
       "      <td>LTR</td>\n",
       "      <td>ClassI:LTR</td>\n",
       "    </tr>\n",
       "    <tr>\n",
       "      <th>ClassI:LTR:Gypsy</th>\n",
       "      <td>368354</td>\n",
       "      <td>2230888</td>\n",
       "      <td>3767</td>\n",
       "      <td>50</td>\n",
       "      <td>3178</td>\n",
       "      <td>49</td>\n",
       "      <td>3151.79</td>\n",
       "      <td>334.64</td>\n",
       "      <td>2304.02</td>\n",
       "      <td>2949.23</td>\n",
       "      <td>...</td>\n",
       "      <td>140.72</td>\n",
       "      <td>299.04</td>\n",
       "      <td>587.57</td>\n",
       "      <td>3903.99</td>\n",
       "      <td>2741.05</td>\n",
       "      <td>2.741050e+09</td>\n",
       "      <td>ClassI</td>\n",
       "      <td>ClassI:LTR:Gypsy</td>\n",
       "      <td>LTR</td>\n",
       "      <td>ClassI:LTR</td>\n",
       "    </tr>\n",
       "  </tbody>\n",
       "</table>\n",
       "<p>5 rows × 33 columns</p>\n",
       "</div>"
      ],
      "text/plain": [
       "                  length     covg  frags  fullLgthFrags  copies  \\\n",
       "COS                                                               \n",
       "ClassI:LARD:?      75597   384719    970             10     879   \n",
       "ClassI:LINE:I      15043    47936    176              1     164   \n",
       "ClassI:LTR:?      125116   699897   1944            248    1673   \n",
       "ClassI:LTR:Copia  174682   872398   1901             25    1712   \n",
       "ClassI:LTR:Gypsy  368354  2230888   3767             50    3178   \n",
       "\n",
       "                  fullLgthCopies   meanId    sdId    minId    q25Id  \\\n",
       "COS                                                                   \n",
       "ClassI:LARD:?                 10   830.38   88.38   625.10   766.60   \n",
       "ClassI:LINE:I                  1    82.96    7.59    56.50    78.00   \n",
       "ClassI:LTR:?                 268  1341.04  134.64   970.15  1253.96   \n",
       "ClassI:LTR:Copia              26  1766.35  182.55  1334.24  1645.93   \n",
       "ClassI:LTR:Gypsy              49  3151.79  334.64  2304.02  2949.23   \n",
       "\n",
       "                     ...       q25LgthPerc  medLgthPerc  q75LgthPerc  \\\n",
       "COS                  ...                                               \n",
       "ClassI:LARD:?        ...              9.44        19.96        59.27   \n",
       "ClassI:LINE:I        ...              0.70         1.02         1.44   \n",
       "ClassI:LTR:?         ...            279.60       337.27       385.54   \n",
       "ClassI:LTR:Copia     ...             49.25        89.93       179.44   \n",
       "ClassI:LTR:Gypsy     ...            140.72       299.04       587.57   \n",
       "\n",
       "                  maxLgthPerc  TE_age_Mya        TE_age   Class  \\\n",
       "COS                                                               \n",
       "ClassI:LARD:?         1000.00      848.10  8.481000e+08  ClassI   \n",
       "ClassI:LINE:I          100.00       85.20  8.520000e+07  ClassI   \n",
       "ClassI:LTR:?          1638.73     1294.80  1.294800e+09  ClassI   \n",
       "ClassI:LTR:Copia      2100.22     1668.25  1.668250e+09  ClassI   \n",
       "ClassI:LTR:Gypsy      3903.99     2741.05  2.741050e+09  ClassI   \n",
       "\n",
       "                             Index  Order  Class:Order  \n",
       "COS                                                     \n",
       "ClassI:LARD:?        ClassI:LARD:?   LARD  ClassI:LARD  \n",
       "ClassI:LINE:I        ClassI:LINE:I   LINE  ClassI:LINE  \n",
       "ClassI:LTR:?          ClassI:LTR:?    LTR   ClassI:LTR  \n",
       "ClassI:LTR:Copia  ClassI:LTR:Copia    LTR   ClassI:LTR  \n",
       "ClassI:LTR:Gypsy  ClassI:LTR:Gypsy    LTR   ClassI:LTR  \n",
       "\n",
       "[5 rows x 33 columns]"
      ]
     },
     "execution_count": 41,
     "metadata": {},
     "output_type": "execute_result"
    }
   ],
   "source": [
    "sub_df_young_many_by_COS_sum.head()"
   ]
  },
  {
   "cell_type": "code",
   "execution_count": 42,
   "metadata": {
    "collapsed": true
   },
   "outputs": [],
   "source": [
    "#get color column sorted\n",
    "colors = sns.color_palette('cubehelix', n_colors=\\\n",
    "                           len(sub_df_young_many_by_COS_sum['Class:Order'].unique()))\n",
    "color_dict = dict(zip(sub_df_young_many_by_COS_sum['Class:Order'].unique(), colors))\n"
   ]
  },
  {
   "cell_type": "code",
   "execution_count": 43,
   "metadata": {},
   "outputs": [
    {
     "data": {
      "image/png": "[encoded data removed]",
      "text/plain": [
       "<matplotlib.figure.Figure at 0x7fa91ccfdf28>"
      ]
     },
     "metadata": {},
     "output_type": "display_data"
    }
   ],
   "source": [
    "sns.palplot(colors)"
   ]
  },
  {
   "cell_type": "code",
   "execution_count": 44,
   "metadata": {
    "collapsed": true
   },
   "outputs": [],
   "source": [
    "sub_df_young_many_by_COS_sum['color'] = sub_df_young_many_by_COS_sum['Class:Order'].apply(\\\n",
    "        lambda x: color_dict[x])\n",
    "color_index_dict = dict(zip(sub_df_young_many_by_COS_sum.Index, sub_df_young_many_by_COS_sum.color))"
   ]
  },
  {
   "cell_type": "code",
   "execution_count": 51,
   "metadata": {},
   "outputs": [
    {
     "data": {
      "image/png": "[encoded data removed]",
      "text/plain": [
       "<matplotlib.figure.Figure at 0x7fa92139bba8>"
      ]
     },
     "metadata": {},
     "output_type": "display_data"
    }
   ],
   "source": [
    "sns.set(style=\"ticks\")\n",
    "\n",
    "# Initialize the figure with a logarithmic x axis\n",
    "f, ax = plt.subplots(figsize=(7, 6))\n",
    "sns.barplot(sub_df_young_many_by_COS_sum.index, sub_df_young_many_by_COS_sum.covg/10**6,\\\n",
    "           palette=color_index_dict)\n",
    "\n",
    "plt.ylabel(\"Coverage [Mb]\",fontsize = 12, weight= 'bold')\n",
    "plt.xlabel(\"\",fontsize = 12, weight= 'bold'\"\")\n",
    "sns.despine(trim=True)\n",
    "\n",
    "#change the colors of the legend\n",
    "key_list = list(color_dict.keys())\n",
    "key_list.sort()\n",
    "plt.legend(key_list, loc=(1, 0.1))\n",
    "leg = ax.get_legend()\n",
    "for (x,y) in zip(key_list, leg.legendHandles):\n",
    "    y.set_color(color_dict[x])\n",
    "    \n",
    "\n",
    "\n",
    "for l in ax.get_xticklabels():\n",
    "    l.set_rotation(90)\n",
    "\n",
    "out_fn = os.path.join(out_dir, 'TEs_young_and_plenty.png')\n",
    "f.savefig(out_fn, dpi=600, bbox_inches=\"tight\")"
   ]
  },
  {
   "cell_type": "code",
   "execution_count": 46,
   "metadata": {
    "collapsed": true
   },
   "outputs": [],
   "source": [
    "#now save out REPET summary dataframe\n",
    "fn = os.path.join(out_dir, \"Pst_104E_REPET_summary_all_TEs.df\")\n",
    "p_repet_summary_all_TEs_df.to_csv(fn, sep='\\t', index= None)"
   ]
  },
  {
   "cell_type": "code",
   "execution_count": null,
   "metadata": {
    "collapsed": true
   },
   "outputs": [],
   "source": []
  }
 ],
 "metadata": {
  "kernelspec": {
   "display_name": "Python 3",
   "language": "python",
   "name": "python3"
  },
  "language_info": {
   "codemirror_mode": {
    "name": "ipython",
    "version": 3
   },
   "file_extension": ".py",
   "mimetype": "text/x-python",
   "name": "python",
   "nbconvert_exporter": "python",
   "pygments_lexer": "ipython3",
   "version": "3.5.3"
  }
 },
 "nbformat": 4,
 "nbformat_minor": 1
}
